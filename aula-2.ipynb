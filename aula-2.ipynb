{
 "cells": [
  {
   "attachments": {},
   "cell_type": "markdown",
   "metadata": {},
   "source": [
    "# Aula 2\n",
    "\n",
    "---\n",
    "\n",
    "**Saulo Martiello Mastelini**<br>\n",
    "Candidato a Ph.D. pelo ICMC-USP<br>\n",
    "Online Machine Learning\n",
    "\n",
    "Página pessoal: [smastelini](https://smastelini.github.io/)</br>\n",
    "e-mail: saulomastelini@gmail.com\n",
    "\n",
    "---\n",
    "\n",
    "## Sumário:\n",
    "\n",
    "- Algoritmos baseados em distância\n",
    "- Particionamento de dados para avaliação: Holdout e Holdout repetido\n",
    "- Métricas de avaliação para classificação\n",
    "\n",
    "---"
   ]
  },
  {
   "cell_type": "code",
   "execution_count": 1,
   "metadata": {},
   "outputs": [],
   "source": [
    "import abc  # Classes abstratas (mais sobre isso depois)\n",
    "\n",
    "import numpy as np   # Math\n",
    "import pandas as pd  # Dados\n",
    "\n",
    "import plotly.express as px  # Plots\n",
    "import matplotlib.pyplot as plt\n",
    "\n",
    "from sklearn.datasets import make_classification  # Geração de datasets\n",
    "from sklearn import metrics\n",
    "from sklearn.model_selection import train_test_split  # Split dos dados"
   ]
  },
  {
   "attachments": {},
   "cell_type": "markdown",
   "metadata": {},
   "source": [
    "## 1. Contextualização"
   ]
  },
  {
   "attachments": {},
   "cell_type": "markdown",
   "metadata": {},
   "source": [
    "Vamos definir alguns vetores para teste:"
   ]
  },
  {
   "cell_type": "code",
   "execution_count": 2,
   "metadata": {},
   "outputs": [],
   "source": [
    "a = np.array([1, 2])\n",
    "b = np.array([2, 3])\n",
    "c = np.array([3, 5])"
   ]
  },
  {
   "attachments": {},
   "cell_type": "markdown",
   "metadata": {},
   "source": [
    "- Precisamos definir a nossa noção de distância\n",
    "- Exemplos\n",
    "- Com o que estamos lidando aqui?"
   ]
  },
  {
   "cell_type": "code",
   "execution_count": 3,
   "metadata": {},
   "outputs": [
    {
     "data": {
      "application/vnd.plotly.v1+json": {
       "config": {
        "plotlyServerURL": "https://plot.ly"
       },
       "data": [
        {
         "hovertemplate": "x=%{x}<br>y=%{y}<extra></extra>",
         "legendgroup": "",
         "marker": {
          "color": "#636efa",
          "symbol": "circle"
         },
         "mode": "markers",
         "name": "",
         "orientation": "v",
         "showlegend": false,
         "type": "scatter",
         "x": [
          1,
          2,
          3
         ],
         "xaxis": "x",
         "y": [
          2,
          3,
          5
         ],
         "yaxis": "y"
        }
       ],
       "layout": {
        "autosize": false,
        "height": 500,
        "legend": {
         "tracegroupgap": 0
        },
        "margin": {
         "t": 60
        },
        "template": {
         "data": {
          "bar": [
           {
            "error_x": {
             "color": "#2a3f5f"
            },
            "error_y": {
             "color": "#2a3f5f"
            },
            "marker": {
             "line": {
              "color": "#E5ECF6",
              "width": 0.5
             },
             "pattern": {
              "fillmode": "overlay",
              "size": 10,
              "solidity": 0.2
             }
            },
            "type": "bar"
           }
          ],
          "barpolar": [
           {
            "marker": {
             "line": {
              "color": "#E5ECF6",
              "width": 0.5
             },
             "pattern": {
              "fillmode": "overlay",
              "size": 10,
              "solidity": 0.2
             }
            },
            "type": "barpolar"
           }
          ],
          "carpet": [
           {
            "aaxis": {
             "endlinecolor": "#2a3f5f",
             "gridcolor": "white",
             "linecolor": "white",
             "minorgridcolor": "white",
             "startlinecolor": "#2a3f5f"
            },
            "baxis": {
             "endlinecolor": "#2a3f5f",
             "gridcolor": "white",
             "linecolor": "white",
             "minorgridcolor": "white",
             "startlinecolor": "#2a3f5f"
            },
            "type": "carpet"
           }
          ],
          "choropleth": [
           {
            "colorbar": {
             "outlinewidth": 0,
             "ticks": ""
            },
            "type": "choropleth"
           }
          ],
          "contour": [
           {
            "colorbar": {
             "outlinewidth": 0,
             "ticks": ""
            },
            "colorscale": [
             [
              0,
              "#0d0887"
             ],
             [
              0.1111111111111111,
              "#46039f"
             ],
             [
              0.2222222222222222,
              "#7201a8"
             ],
             [
              0.3333333333333333,
              "#9c179e"
             ],
             [
              0.4444444444444444,
              "#bd3786"
             ],
             [
              0.5555555555555556,
              "#d8576b"
             ],
             [
              0.6666666666666666,
              "#ed7953"
             ],
             [
              0.7777777777777778,
              "#fb9f3a"
             ],
             [
              0.8888888888888888,
              "#fdca26"
             ],
             [
              1,
              "#f0f921"
             ]
            ],
            "type": "contour"
           }
          ],
          "contourcarpet": [
           {
            "colorbar": {
             "outlinewidth": 0,
             "ticks": ""
            },
            "type": "contourcarpet"
           }
          ],
          "heatmap": [
           {
            "colorbar": {
             "outlinewidth": 0,
             "ticks": ""
            },
            "colorscale": [
             [
              0,
              "#0d0887"
             ],
             [
              0.1111111111111111,
              "#46039f"
             ],
             [
              0.2222222222222222,
              "#7201a8"
             ],
             [
              0.3333333333333333,
              "#9c179e"
             ],
             [
              0.4444444444444444,
              "#bd3786"
             ],
             [
              0.5555555555555556,
              "#d8576b"
             ],
             [
              0.6666666666666666,
              "#ed7953"
             ],
             [
              0.7777777777777778,
              "#fb9f3a"
             ],
             [
              0.8888888888888888,
              "#fdca26"
             ],
             [
              1,
              "#f0f921"
             ]
            ],
            "type": "heatmap"
           }
          ],
          "heatmapgl": [
           {
            "colorbar": {
             "outlinewidth": 0,
             "ticks": ""
            },
            "colorscale": [
             [
              0,
              "#0d0887"
             ],
             [
              0.1111111111111111,
              "#46039f"
             ],
             [
              0.2222222222222222,
              "#7201a8"
             ],
             [
              0.3333333333333333,
              "#9c179e"
             ],
             [
              0.4444444444444444,
              "#bd3786"
             ],
             [
              0.5555555555555556,
              "#d8576b"
             ],
             [
              0.6666666666666666,
              "#ed7953"
             ],
             [
              0.7777777777777778,
              "#fb9f3a"
             ],
             [
              0.8888888888888888,
              "#fdca26"
             ],
             [
              1,
              "#f0f921"
             ]
            ],
            "type": "heatmapgl"
           }
          ],
          "histogram": [
           {
            "marker": {
             "pattern": {
              "fillmode": "overlay",
              "size": 10,
              "solidity": 0.2
             }
            },
            "type": "histogram"
           }
          ],
          "histogram2d": [
           {
            "colorbar": {
             "outlinewidth": 0,
             "ticks": ""
            },
            "colorscale": [
             [
              0,
              "#0d0887"
             ],
             [
              0.1111111111111111,
              "#46039f"
             ],
             [
              0.2222222222222222,
              "#7201a8"
             ],
             [
              0.3333333333333333,
              "#9c179e"
             ],
             [
              0.4444444444444444,
              "#bd3786"
             ],
             [
              0.5555555555555556,
              "#d8576b"
             ],
             [
              0.6666666666666666,
              "#ed7953"
             ],
             [
              0.7777777777777778,
              "#fb9f3a"
             ],
             [
              0.8888888888888888,
              "#fdca26"
             ],
             [
              1,
              "#f0f921"
             ]
            ],
            "type": "histogram2d"
           }
          ],
          "histogram2dcontour": [
           {
            "colorbar": {
             "outlinewidth": 0,
             "ticks": ""
            },
            "colorscale": [
             [
              0,
              "#0d0887"
             ],
             [
              0.1111111111111111,
              "#46039f"
             ],
             [
              0.2222222222222222,
              "#7201a8"
             ],
             [
              0.3333333333333333,
              "#9c179e"
             ],
             [
              0.4444444444444444,
              "#bd3786"
             ],
             [
              0.5555555555555556,
              "#d8576b"
             ],
             [
              0.6666666666666666,
              "#ed7953"
             ],
             [
              0.7777777777777778,
              "#fb9f3a"
             ],
             [
              0.8888888888888888,
              "#fdca26"
             ],
             [
              1,
              "#f0f921"
             ]
            ],
            "type": "histogram2dcontour"
           }
          ],
          "mesh3d": [
           {
            "colorbar": {
             "outlinewidth": 0,
             "ticks": ""
            },
            "type": "mesh3d"
           }
          ],
          "parcoords": [
           {
            "line": {
             "colorbar": {
              "outlinewidth": 0,
              "ticks": ""
             }
            },
            "type": "parcoords"
           }
          ],
          "pie": [
           {
            "automargin": true,
            "type": "pie"
           }
          ],
          "scatter": [
           {
            "fillpattern": {
             "fillmode": "overlay",
             "size": 10,
             "solidity": 0.2
            },
            "type": "scatter"
           }
          ],
          "scatter3d": [
           {
            "line": {
             "colorbar": {
              "outlinewidth": 0,
              "ticks": ""
             }
            },
            "marker": {
             "colorbar": {
              "outlinewidth": 0,
              "ticks": ""
             }
            },
            "type": "scatter3d"
           }
          ],
          "scattercarpet": [
           {
            "marker": {
             "colorbar": {
              "outlinewidth": 0,
              "ticks": ""
             }
            },
            "type": "scattercarpet"
           }
          ],
          "scattergeo": [
           {
            "marker": {
             "colorbar": {
              "outlinewidth": 0,
              "ticks": ""
             }
            },
            "type": "scattergeo"
           }
          ],
          "scattergl": [
           {
            "marker": {
             "colorbar": {
              "outlinewidth": 0,
              "ticks": ""
             }
            },
            "type": "scattergl"
           }
          ],
          "scattermapbox": [
           {
            "marker": {
             "colorbar": {
              "outlinewidth": 0,
              "ticks": ""
             }
            },
            "type": "scattermapbox"
           }
          ],
          "scatterpolar": [
           {
            "marker": {
             "colorbar": {
              "outlinewidth": 0,
              "ticks": ""
             }
            },
            "type": "scatterpolar"
           }
          ],
          "scatterpolargl": [
           {
            "marker": {
             "colorbar": {
              "outlinewidth": 0,
              "ticks": ""
             }
            },
            "type": "scatterpolargl"
           }
          ],
          "scatterternary": [
           {
            "marker": {
             "colorbar": {
              "outlinewidth": 0,
              "ticks": ""
             }
            },
            "type": "scatterternary"
           }
          ],
          "surface": [
           {
            "colorbar": {
             "outlinewidth": 0,
             "ticks": ""
            },
            "colorscale": [
             [
              0,
              "#0d0887"
             ],
             [
              0.1111111111111111,
              "#46039f"
             ],
             [
              0.2222222222222222,
              "#7201a8"
             ],
             [
              0.3333333333333333,
              "#9c179e"
             ],
             [
              0.4444444444444444,
              "#bd3786"
             ],
             [
              0.5555555555555556,
              "#d8576b"
             ],
             [
              0.6666666666666666,
              "#ed7953"
             ],
             [
              0.7777777777777778,
              "#fb9f3a"
             ],
             [
              0.8888888888888888,
              "#fdca26"
             ],
             [
              1,
              "#f0f921"
             ]
            ],
            "type": "surface"
           }
          ],
          "table": [
           {
            "cells": {
             "fill": {
              "color": "#EBF0F8"
             },
             "line": {
              "color": "white"
             }
            },
            "header": {
             "fill": {
              "color": "#C8D4E3"
             },
             "line": {
              "color": "white"
             }
            },
            "type": "table"
           }
          ]
         },
         "layout": {
          "annotationdefaults": {
           "arrowcolor": "#2a3f5f",
           "arrowhead": 0,
           "arrowwidth": 1
          },
          "autotypenumbers": "strict",
          "coloraxis": {
           "colorbar": {
            "outlinewidth": 0,
            "ticks": ""
           }
          },
          "colorscale": {
           "diverging": [
            [
             0,
             "#8e0152"
            ],
            [
             0.1,
             "#c51b7d"
            ],
            [
             0.2,
             "#de77ae"
            ],
            [
             0.3,
             "#f1b6da"
            ],
            [
             0.4,
             "#fde0ef"
            ],
            [
             0.5,
             "#f7f7f7"
            ],
            [
             0.6,
             "#e6f5d0"
            ],
            [
             0.7,
             "#b8e186"
            ],
            [
             0.8,
             "#7fbc41"
            ],
            [
             0.9,
             "#4d9221"
            ],
            [
             1,
             "#276419"
            ]
           ],
           "sequential": [
            [
             0,
             "#0d0887"
            ],
            [
             0.1111111111111111,
             "#46039f"
            ],
            [
             0.2222222222222222,
             "#7201a8"
            ],
            [
             0.3333333333333333,
             "#9c179e"
            ],
            [
             0.4444444444444444,
             "#bd3786"
            ],
            [
             0.5555555555555556,
             "#d8576b"
            ],
            [
             0.6666666666666666,
             "#ed7953"
            ],
            [
             0.7777777777777778,
             "#fb9f3a"
            ],
            [
             0.8888888888888888,
             "#fdca26"
            ],
            [
             1,
             "#f0f921"
            ]
           ],
           "sequentialminus": [
            [
             0,
             "#0d0887"
            ],
            [
             0.1111111111111111,
             "#46039f"
            ],
            [
             0.2222222222222222,
             "#7201a8"
            ],
            [
             0.3333333333333333,
             "#9c179e"
            ],
            [
             0.4444444444444444,
             "#bd3786"
            ],
            [
             0.5555555555555556,
             "#d8576b"
            ],
            [
             0.6666666666666666,
             "#ed7953"
            ],
            [
             0.7777777777777778,
             "#fb9f3a"
            ],
            [
             0.8888888888888888,
             "#fdca26"
            ],
            [
             1,
             "#f0f921"
            ]
           ]
          },
          "colorway": [
           "#636efa",
           "#EF553B",
           "#00cc96",
           "#ab63fa",
           "#FFA15A",
           "#19d3f3",
           "#FF6692",
           "#B6E880",
           "#FF97FF",
           "#FECB52"
          ],
          "font": {
           "color": "#2a3f5f"
          },
          "geo": {
           "bgcolor": "white",
           "lakecolor": "white",
           "landcolor": "#E5ECF6",
           "showlakes": true,
           "showland": true,
           "subunitcolor": "white"
          },
          "hoverlabel": {
           "align": "left"
          },
          "hovermode": "closest",
          "mapbox": {
           "style": "light"
          },
          "paper_bgcolor": "white",
          "plot_bgcolor": "#E5ECF6",
          "polar": {
           "angularaxis": {
            "gridcolor": "white",
            "linecolor": "white",
            "ticks": ""
           },
           "bgcolor": "#E5ECF6",
           "radialaxis": {
            "gridcolor": "white",
            "linecolor": "white",
            "ticks": ""
           }
          },
          "scene": {
           "xaxis": {
            "backgroundcolor": "#E5ECF6",
            "gridcolor": "white",
            "gridwidth": 2,
            "linecolor": "white",
            "showbackground": true,
            "ticks": "",
            "zerolinecolor": "white"
           },
           "yaxis": {
            "backgroundcolor": "#E5ECF6",
            "gridcolor": "white",
            "gridwidth": 2,
            "linecolor": "white",
            "showbackground": true,
            "ticks": "",
            "zerolinecolor": "white"
           },
           "zaxis": {
            "backgroundcolor": "#E5ECF6",
            "gridcolor": "white",
            "gridwidth": 2,
            "linecolor": "white",
            "showbackground": true,
            "ticks": "",
            "zerolinecolor": "white"
           }
          },
          "shapedefaults": {
           "line": {
            "color": "#2a3f5f"
           }
          },
          "ternary": {
           "aaxis": {
            "gridcolor": "white",
            "linecolor": "white",
            "ticks": ""
           },
           "baxis": {
            "gridcolor": "white",
            "linecolor": "white",
            "ticks": ""
           },
           "bgcolor": "#E5ECF6",
           "caxis": {
            "gridcolor": "white",
            "linecolor": "white",
            "ticks": ""
           }
          },
          "title": {
           "x": 0.05
          },
          "xaxis": {
           "automargin": true,
           "gridcolor": "white",
           "linecolor": "white",
           "ticks": "",
           "title": {
            "standoff": 15
           },
           "zerolinecolor": "white",
           "zerolinewidth": 2
          },
          "yaxis": {
           "automargin": true,
           "gridcolor": "white",
           "linecolor": "white",
           "ticks": "",
           "title": {
            "standoff": 15
           },
           "zerolinecolor": "white",
           "zerolinewidth": 2
          }
         }
        },
        "width": 600,
        "xaxis": {
         "anchor": "y",
         "domain": [
          0,
          1
         ],
         "title": {
          "text": "x"
         }
        },
        "yaxis": {
         "anchor": "x",
         "domain": [
          0,
          1
         ],
         "title": {
          "text": "y"
         }
        }
       }
      }
     },
     "metadata": {},
     "output_type": "display_data"
    }
   ],
   "source": [
    "fig = px.scatter(x=[a[0], b[0], c[0]], y=[a[1], b[1], c[1]])\n",
    "fig.update_layout(\n",
    "    autosize=False,\n",
    "    width=600,\n",
    "    height=500\n",
    ")\n",
    "fig.show()"
   ]
  },
  {
   "attachments": {},
   "cell_type": "markdown",
   "metadata": {},
   "source": [
    "- Espaço 2D\n",
    "    - Tipicamente lidamos com espaços N-dimensionais\n",
    "- Precisamos de medidas para calcular distâncias\n",
    "- Vamos começar com uma métrica de distância muito famosa: Distância Euclidiana\n",
    "    - $dist_{l2}(\\vec{u}, \\vec{v}) = \\sqrt{\\sum_i^n (u_i - v_i) ^2}$\n",
    "- Vamos usar o numpy para nos ajudar com as funções matemáticas necessárias"
   ]
  },
  {
   "cell_type": "code",
   "execution_count": 4,
   "metadata": {},
   "outputs": [],
   "source": [
    "def euclidean_dist(v1, v2):\n",
    "    sq_diff = (v1 - v2) ** 2\n",
    "\n",
    "    # Condicional para tratar tanto vetores quanto matrizes\n",
    "    if len(v1.shape) > 1:\n",
    "        sq_diff = np.sum(sq_diff, axis=1)\n",
    "    else:\n",
    "        sq_diff = np.sum(sq_diff)\n",
    "    return sq_diff ** 0.5\n"
   ]
  },
  {
   "cell_type": "code",
   "execution_count": 5,
   "metadata": {},
   "outputs": [
    {
     "data": {
      "text/plain": [
       "1.4142135623730951"
      ]
     },
     "execution_count": 5,
     "metadata": {},
     "output_type": "execute_result"
    }
   ],
   "source": [
    "euclidean_dist(a, b)"
   ]
  },
  {
   "cell_type": "code",
   "execution_count": 6,
   "metadata": {},
   "outputs": [
    {
     "data": {
      "text/plain": [
       "3.605551275463989"
      ]
     },
     "execution_count": 6,
     "metadata": {},
     "output_type": "execute_result"
    }
   ],
   "source": [
    "euclidean_dist(a, c)"
   ]
  },
  {
   "cell_type": "code",
   "execution_count": 7,
   "metadata": {},
   "outputs": [
    {
     "data": {
      "text/plain": [
       "2.23606797749979"
      ]
     },
     "execution_count": 7,
     "metadata": {},
     "output_type": "execute_result"
    }
   ],
   "source": [
    "euclidean_dist(b, c)"
   ]
  },
  {
   "attachments": {},
   "cell_type": "markdown",
   "metadata": {},
   "source": [
    "- Podemos tirar proveito da vetorização!"
   ]
  },
  {
   "cell_type": "code",
   "execution_count": 8,
   "metadata": {},
   "outputs": [
    {
     "data": {
      "text/plain": [
       "(2, 2)"
      ]
     },
     "execution_count": 8,
     "metadata": {},
     "output_type": "execute_result"
    }
   ],
   "source": [
    "d = np.array([[1, 2], [3, 4]])\n",
    "d.shape"
   ]
  },
  {
   "cell_type": "code",
   "execution_count": 9,
   "metadata": {},
   "outputs": [
    {
     "data": {
      "text/plain": [
       "array([0.        , 2.82842712])"
      ]
     },
     "execution_count": 9,
     "metadata": {},
     "output_type": "execute_result"
    }
   ],
   "source": [
    "euclidean_dist(d, a)"
   ]
  },
  {
   "attachments": {},
   "cell_type": "markdown",
   "metadata": {},
   "source": [
    "**Cenário mais realístico - parte 1**\n",
    "\n",
    "- Vamos imaginar um cenário mais prático\n",
    "- Vários pontos num espaço N-dimensional (o nosso dataset)\n"
   ]
  },
  {
   "cell_type": "code",
   "execution_count": 10,
   "metadata": {},
   "outputs": [
    {
     "data": {
      "text/plain": [
       "array([[1, 2, 3],\n",
       "       [2, 3, 4],\n",
       "       [3, 4, 7],\n",
       "       [3, 5, 2]])"
      ]
     },
     "execution_count": 10,
     "metadata": {},
     "output_type": "execute_result"
    }
   ],
   "source": [
    "e = np.array(\n",
    "    [\n",
    "        [1, 2, 3],\n",
    "        [2, 3, 4],\n",
    "        [3, 4, 7],\n",
    "        [3, 5, 2]\n",
    "    ]\n",
    ")\n",
    "e"
   ]
  },
  {
   "cell_type": "code",
   "execution_count": 11,
   "metadata": {},
   "outputs": [
    {
     "data": {
      "application/vnd.plotly.v1+json": {
       "config": {
        "plotlyServerURL": "https://plot.ly"
       },
       "data": [
        {
         "hovertemplate": "x=%{x}<br>y=%{y}<br>z=%{z}<extra></extra>",
         "legendgroup": "",
         "marker": {
          "color": "#636efa",
          "symbol": "circle"
         },
         "mode": "markers",
         "name": "",
         "scene": "scene",
         "showlegend": false,
         "type": "scatter3d",
         "x": [
          1,
          2,
          3,
          3
         ],
         "y": [
          2,
          3,
          4,
          5
         ],
         "z": [
          3,
          4,
          7,
          2
         ]
        }
       ],
       "layout": {
        "autosize": false,
        "height": 500,
        "legend": {
         "tracegroupgap": 0
        },
        "margin": {
         "t": 60
        },
        "scene": {
         "domain": {
          "x": [
           0,
           1
          ],
          "y": [
           0,
           1
          ]
         },
         "xaxis": {
          "title": {
           "text": "x"
          }
         },
         "yaxis": {
          "title": {
           "text": "y"
          }
         },
         "zaxis": {
          "title": {
           "text": "z"
          }
         }
        },
        "template": {
         "data": {
          "bar": [
           {
            "error_x": {
             "color": "#2a3f5f"
            },
            "error_y": {
             "color": "#2a3f5f"
            },
            "marker": {
             "line": {
              "color": "#E5ECF6",
              "width": 0.5
             },
             "pattern": {
              "fillmode": "overlay",
              "size": 10,
              "solidity": 0.2
             }
            },
            "type": "bar"
           }
          ],
          "barpolar": [
           {
            "marker": {
             "line": {
              "color": "#E5ECF6",
              "width": 0.5
             },
             "pattern": {
              "fillmode": "overlay",
              "size": 10,
              "solidity": 0.2
             }
            },
            "type": "barpolar"
           }
          ],
          "carpet": [
           {
            "aaxis": {
             "endlinecolor": "#2a3f5f",
             "gridcolor": "white",
             "linecolor": "white",
             "minorgridcolor": "white",
             "startlinecolor": "#2a3f5f"
            },
            "baxis": {
             "endlinecolor": "#2a3f5f",
             "gridcolor": "white",
             "linecolor": "white",
             "minorgridcolor": "white",
             "startlinecolor": "#2a3f5f"
            },
            "type": "carpet"
           }
          ],
          "choropleth": [
           {
            "colorbar": {
             "outlinewidth": 0,
             "ticks": ""
            },
            "type": "choropleth"
           }
          ],
          "contour": [
           {
            "colorbar": {
             "outlinewidth": 0,
             "ticks": ""
            },
            "colorscale": [
             [
              0,
              "#0d0887"
             ],
             [
              0.1111111111111111,
              "#46039f"
             ],
             [
              0.2222222222222222,
              "#7201a8"
             ],
             [
              0.3333333333333333,
              "#9c179e"
             ],
             [
              0.4444444444444444,
              "#bd3786"
             ],
             [
              0.5555555555555556,
              "#d8576b"
             ],
             [
              0.6666666666666666,
              "#ed7953"
             ],
             [
              0.7777777777777778,
              "#fb9f3a"
             ],
             [
              0.8888888888888888,
              "#fdca26"
             ],
             [
              1,
              "#f0f921"
             ]
            ],
            "type": "contour"
           }
          ],
          "contourcarpet": [
           {
            "colorbar": {
             "outlinewidth": 0,
             "ticks": ""
            },
            "type": "contourcarpet"
           }
          ],
          "heatmap": [
           {
            "colorbar": {
             "outlinewidth": 0,
             "ticks": ""
            },
            "colorscale": [
             [
              0,
              "#0d0887"
             ],
             [
              0.1111111111111111,
              "#46039f"
             ],
             [
              0.2222222222222222,
              "#7201a8"
             ],
             [
              0.3333333333333333,
              "#9c179e"
             ],
             [
              0.4444444444444444,
              "#bd3786"
             ],
             [
              0.5555555555555556,
              "#d8576b"
             ],
             [
              0.6666666666666666,
              "#ed7953"
             ],
             [
              0.7777777777777778,
              "#fb9f3a"
             ],
             [
              0.8888888888888888,
              "#fdca26"
             ],
             [
              1,
              "#f0f921"
             ]
            ],
            "type": "heatmap"
           }
          ],
          "heatmapgl": [
           {
            "colorbar": {
             "outlinewidth": 0,
             "ticks": ""
            },
            "colorscale": [
             [
              0,
              "#0d0887"
             ],
             [
              0.1111111111111111,
              "#46039f"
             ],
             [
              0.2222222222222222,
              "#7201a8"
             ],
             [
              0.3333333333333333,
              "#9c179e"
             ],
             [
              0.4444444444444444,
              "#bd3786"
             ],
             [
              0.5555555555555556,
              "#d8576b"
             ],
             [
              0.6666666666666666,
              "#ed7953"
             ],
             [
              0.7777777777777778,
              "#fb9f3a"
             ],
             [
              0.8888888888888888,
              "#fdca26"
             ],
             [
              1,
              "#f0f921"
             ]
            ],
            "type": "heatmapgl"
           }
          ],
          "histogram": [
           {
            "marker": {
             "pattern": {
              "fillmode": "overlay",
              "size": 10,
              "solidity": 0.2
             }
            },
            "type": "histogram"
           }
          ],
          "histogram2d": [
           {
            "colorbar": {
             "outlinewidth": 0,
             "ticks": ""
            },
            "colorscale": [
             [
              0,
              "#0d0887"
             ],
             [
              0.1111111111111111,
              "#46039f"
             ],
             [
              0.2222222222222222,
              "#7201a8"
             ],
             [
              0.3333333333333333,
              "#9c179e"
             ],
             [
              0.4444444444444444,
              "#bd3786"
             ],
             [
              0.5555555555555556,
              "#d8576b"
             ],
             [
              0.6666666666666666,
              "#ed7953"
             ],
             [
              0.7777777777777778,
              "#fb9f3a"
             ],
             [
              0.8888888888888888,
              "#fdca26"
             ],
             [
              1,
              "#f0f921"
             ]
            ],
            "type": "histogram2d"
           }
          ],
          "histogram2dcontour": [
           {
            "colorbar": {
             "outlinewidth": 0,
             "ticks": ""
            },
            "colorscale": [
             [
              0,
              "#0d0887"
             ],
             [
              0.1111111111111111,
              "#46039f"
             ],
             [
              0.2222222222222222,
              "#7201a8"
             ],
             [
              0.3333333333333333,
              "#9c179e"
             ],
             [
              0.4444444444444444,
              "#bd3786"
             ],
             [
              0.5555555555555556,
              "#d8576b"
             ],
             [
              0.6666666666666666,
              "#ed7953"
             ],
             [
              0.7777777777777778,
              "#fb9f3a"
             ],
             [
              0.8888888888888888,
              "#fdca26"
             ],
             [
              1,
              "#f0f921"
             ]
            ],
            "type": "histogram2dcontour"
           }
          ],
          "mesh3d": [
           {
            "colorbar": {
             "outlinewidth": 0,
             "ticks": ""
            },
            "type": "mesh3d"
           }
          ],
          "parcoords": [
           {
            "line": {
             "colorbar": {
              "outlinewidth": 0,
              "ticks": ""
             }
            },
            "type": "parcoords"
           }
          ],
          "pie": [
           {
            "automargin": true,
            "type": "pie"
           }
          ],
          "scatter": [
           {
            "fillpattern": {
             "fillmode": "overlay",
             "size": 10,
             "solidity": 0.2
            },
            "type": "scatter"
           }
          ],
          "scatter3d": [
           {
            "line": {
             "colorbar": {
              "outlinewidth": 0,
              "ticks": ""
             }
            },
            "marker": {
             "colorbar": {
              "outlinewidth": 0,
              "ticks": ""
             }
            },
            "type": "scatter3d"
           }
          ],
          "scattercarpet": [
           {
            "marker": {
             "colorbar": {
              "outlinewidth": 0,
              "ticks": ""
             }
            },
            "type": "scattercarpet"
           }
          ],
          "scattergeo": [
           {
            "marker": {
             "colorbar": {
              "outlinewidth": 0,
              "ticks": ""
             }
            },
            "type": "scattergeo"
           }
          ],
          "scattergl": [
           {
            "marker": {
             "colorbar": {
              "outlinewidth": 0,
              "ticks": ""
             }
            },
            "type": "scattergl"
           }
          ],
          "scattermapbox": [
           {
            "marker": {
             "colorbar": {
              "outlinewidth": 0,
              "ticks": ""
             }
            },
            "type": "scattermapbox"
           }
          ],
          "scatterpolar": [
           {
            "marker": {
             "colorbar": {
              "outlinewidth": 0,
              "ticks": ""
             }
            },
            "type": "scatterpolar"
           }
          ],
          "scatterpolargl": [
           {
            "marker": {
             "colorbar": {
              "outlinewidth": 0,
              "ticks": ""
             }
            },
            "type": "scatterpolargl"
           }
          ],
          "scatterternary": [
           {
            "marker": {
             "colorbar": {
              "outlinewidth": 0,
              "ticks": ""
             }
            },
            "type": "scatterternary"
           }
          ],
          "surface": [
           {
            "colorbar": {
             "outlinewidth": 0,
             "ticks": ""
            },
            "colorscale": [
             [
              0,
              "#0d0887"
             ],
             [
              0.1111111111111111,
              "#46039f"
             ],
             [
              0.2222222222222222,
              "#7201a8"
             ],
             [
              0.3333333333333333,
              "#9c179e"
             ],
             [
              0.4444444444444444,
              "#bd3786"
             ],
             [
              0.5555555555555556,
              "#d8576b"
             ],
             [
              0.6666666666666666,
              "#ed7953"
             ],
             [
              0.7777777777777778,
              "#fb9f3a"
             ],
             [
              0.8888888888888888,
              "#fdca26"
             ],
             [
              1,
              "#f0f921"
             ]
            ],
            "type": "surface"
           }
          ],
          "table": [
           {
            "cells": {
             "fill": {
              "color": "#EBF0F8"
             },
             "line": {
              "color": "white"
             }
            },
            "header": {
             "fill": {
              "color": "#C8D4E3"
             },
             "line": {
              "color": "white"
             }
            },
            "type": "table"
           }
          ]
         },
         "layout": {
          "annotationdefaults": {
           "arrowcolor": "#2a3f5f",
           "arrowhead": 0,
           "arrowwidth": 1
          },
          "autotypenumbers": "strict",
          "coloraxis": {
           "colorbar": {
            "outlinewidth": 0,
            "ticks": ""
           }
          },
          "colorscale": {
           "diverging": [
            [
             0,
             "#8e0152"
            ],
            [
             0.1,
             "#c51b7d"
            ],
            [
             0.2,
             "#de77ae"
            ],
            [
             0.3,
             "#f1b6da"
            ],
            [
             0.4,
             "#fde0ef"
            ],
            [
             0.5,
             "#f7f7f7"
            ],
            [
             0.6,
             "#e6f5d0"
            ],
            [
             0.7,
             "#b8e186"
            ],
            [
             0.8,
             "#7fbc41"
            ],
            [
             0.9,
             "#4d9221"
            ],
            [
             1,
             "#276419"
            ]
           ],
           "sequential": [
            [
             0,
             "#0d0887"
            ],
            [
             0.1111111111111111,
             "#46039f"
            ],
            [
             0.2222222222222222,
             "#7201a8"
            ],
            [
             0.3333333333333333,
             "#9c179e"
            ],
            [
             0.4444444444444444,
             "#bd3786"
            ],
            [
             0.5555555555555556,
             "#d8576b"
            ],
            [
             0.6666666666666666,
             "#ed7953"
            ],
            [
             0.7777777777777778,
             "#fb9f3a"
            ],
            [
             0.8888888888888888,
             "#fdca26"
            ],
            [
             1,
             "#f0f921"
            ]
           ],
           "sequentialminus": [
            [
             0,
             "#0d0887"
            ],
            [
             0.1111111111111111,
             "#46039f"
            ],
            [
             0.2222222222222222,
             "#7201a8"
            ],
            [
             0.3333333333333333,
             "#9c179e"
            ],
            [
             0.4444444444444444,
             "#bd3786"
            ],
            [
             0.5555555555555556,
             "#d8576b"
            ],
            [
             0.6666666666666666,
             "#ed7953"
            ],
            [
             0.7777777777777778,
             "#fb9f3a"
            ],
            [
             0.8888888888888888,
             "#fdca26"
            ],
            [
             1,
             "#f0f921"
            ]
           ]
          },
          "colorway": [
           "#636efa",
           "#EF553B",
           "#00cc96",
           "#ab63fa",
           "#FFA15A",
           "#19d3f3",
           "#FF6692",
           "#B6E880",
           "#FF97FF",
           "#FECB52"
          ],
          "font": {
           "color": "#2a3f5f"
          },
          "geo": {
           "bgcolor": "white",
           "lakecolor": "white",
           "landcolor": "#E5ECF6",
           "showlakes": true,
           "showland": true,
           "subunitcolor": "white"
          },
          "hoverlabel": {
           "align": "left"
          },
          "hovermode": "closest",
          "mapbox": {
           "style": "light"
          },
          "paper_bgcolor": "white",
          "plot_bgcolor": "#E5ECF6",
          "polar": {
           "angularaxis": {
            "gridcolor": "white",
            "linecolor": "white",
            "ticks": ""
           },
           "bgcolor": "#E5ECF6",
           "radialaxis": {
            "gridcolor": "white",
            "linecolor": "white",
            "ticks": ""
           }
          },
          "scene": {
           "xaxis": {
            "backgroundcolor": "#E5ECF6",
            "gridcolor": "white",
            "gridwidth": 2,
            "linecolor": "white",
            "showbackground": true,
            "ticks": "",
            "zerolinecolor": "white"
           },
           "yaxis": {
            "backgroundcolor": "#E5ECF6",
            "gridcolor": "white",
            "gridwidth": 2,
            "linecolor": "white",
            "showbackground": true,
            "ticks": "",
            "zerolinecolor": "white"
           },
           "zaxis": {
            "backgroundcolor": "#E5ECF6",
            "gridcolor": "white",
            "gridwidth": 2,
            "linecolor": "white",
            "showbackground": true,
            "ticks": "",
            "zerolinecolor": "white"
           }
          },
          "shapedefaults": {
           "line": {
            "color": "#2a3f5f"
           }
          },
          "ternary": {
           "aaxis": {
            "gridcolor": "white",
            "linecolor": "white",
            "ticks": ""
           },
           "baxis": {
            "gridcolor": "white",
            "linecolor": "white",
            "ticks": ""
           },
           "bgcolor": "#E5ECF6",
           "caxis": {
            "gridcolor": "white",
            "linecolor": "white",
            "ticks": ""
           }
          },
          "title": {
           "x": 0.05
          },
          "xaxis": {
           "automargin": true,
           "gridcolor": "white",
           "linecolor": "white",
           "ticks": "",
           "title": {
            "standoff": 15
           },
           "zerolinecolor": "white",
           "zerolinewidth": 2
          },
          "yaxis": {
           "automargin": true,
           "gridcolor": "white",
           "linecolor": "white",
           "ticks": "",
           "title": {
            "standoff": 15
           },
           "zerolinecolor": "white",
           "zerolinewidth": 2
          }
         }
        },
        "width": 600
       }
      }
     },
     "metadata": {},
     "output_type": "display_data"
    }
   ],
   "source": [
    "fig = px.scatter_3d(x=e[:, 0], y=e[:, 1], z=e[:, 2])\n",
    "fig.update_layout(\n",
    "    autosize=False,\n",
    "    width=600,\n",
    "    height=500\n",
    ")\n",
    "fig.show()"
   ]
  },
  {
   "cell_type": "code",
   "execution_count": 12,
   "metadata": {},
   "outputs": [
    {
     "data": {
      "text/plain": [
       "array([5.10489961, 4.03236903, 2.11187121, 6.53146232])"
      ]
     },
     "execution_count": 12,
     "metadata": {},
     "output_type": "execute_result"
    }
   ],
   "source": [
    "euclidean_dist(e, np.array([1.5, 2.9, 8.0]))"
   ]
  },
  {
   "cell_type": "code",
   "execution_count": 13,
   "metadata": {},
   "outputs": [],
   "source": [
    "def manhattan_dist(v1, v2):\n",
    "    abs_diff = np.abs(v1 - v2)\n",
    "\n",
    "    # Condicional para tratar tanto vetores quanto matrizes\n",
    "    if len(v1.shape) > 1:\n",
    "        abs_diff = np.sum(abs_diff, axis=1)\n",
    "    else:\n",
    "        abs_diff = np.sum(abs_diff)\n",
    "    return abs_diff\n"
   ]
  },
  {
   "attachments": {},
   "cell_type": "markdown",
   "metadata": {},
   "source": [
    "- Outra alternativa é a distância Manhattan:\n",
    "    - $dist_{l1}(\\vec{u}, \\vec{v}) = \\sum_i^n |u_i - v_i|$\n",
    "- Podemos generalizar várias medidas de distância através da distância Minkowski:\n",
    "    - $dist_{lp}(\\vec{u}, \\vec{v}) = (\\sum_i^n |u_i - v_i| ^ p) ^ \\frac{1}{p}$\n",
    "- A distância cosseno é útil em aplicações que utilizam dados textuais:\n",
    "    - $dist_{\\cos} = \\cos(\\theta) = \\dfrac{\\vec{u} \\cdot \\vec{v}}{\\|\\vec{u}\\|\\|\\vec{u}\\|} = \\dfrac{\\sum_i^n u_i v_i}{\\sqrt{\\sum_i^n u_i ^ 2}\\sqrt{\\sum_i^n v_i ^ 2}}$"
   ]
  },
  {
   "cell_type": "code",
   "execution_count": 14,
   "metadata": {},
   "outputs": [
    {
     "data": {
      "text/plain": [
       "array([6.4, 4.6, 3.6, 9.6])"
      ]
     },
     "execution_count": 14,
     "metadata": {},
     "output_type": "execute_result"
    }
   ],
   "source": [
    "manhattan_dist(e, np.array([1.5, 2.9, 8.0]))"
   ]
  },
  {
   "attachments": {},
   "cell_type": "markdown",
   "metadata": {},
   "source": [
    "**Cenário mais realístico - parte 2**\n",
    "\n",
    "- Cada ponto tem uma medida de interesse que queremos prever para observações futuras\n",
    "    - Classificação\n",
    "    - Regressão\n",
    "\n",
    "\n",
    "## 2. k-Nearest Neighbors\n",
    "\n",
    "- k-Vizinhos mais próximos:\n",
    "    - Calcula a distância de novos pontos para a base de dados\n",
    "    - Utiliza a informação dos $k$ vizinhos mais próximos para obter a resposta final \n",
    "- Algoritmo _lazy_ ou preguiçoso\n",
    "    - Por quê?\n"
   ]
  },
  {
   "cell_type": "code",
   "execution_count": 15,
   "metadata": {},
   "outputs": [],
   "source": [
    "class BaseKNN(abc.ABC):\n",
    "    def __init__(self, k, p, verbose):\n",
    "        self.k = k\n",
    "        self.p = p\n",
    "        self.verbose = verbose\n",
    "\n",
    "        assert isinstance(k, int) and k >= 1\n",
    "\n",
    "    def _minkowski_dist(self, x_new):\n",
    "        return np.sum(np.abs(self._X - x_new) ** self.p, axis=1) ** (1 / self.p)\n",
    "    \n",
    "    def fit(self, X, y):\n",
    "        if self.verbose:\n",
    "            print(\"Vou fingir que trabalho.\")\n",
    "\n",
    "        self._X = X\n",
    "        self._y = y\n",
    "\n",
    "        if self.verbose:\n",
    "            print(\"\\tUfa, que canseira!\")\n",
    "\n",
    "        return self\n",
    "\n",
    "    abc.abstractmethod\n",
    "    def predict(self, X_new):\n",
    "        pass\n",
    "\n",
    "\n",
    "class KNNClassifier(BaseKNN):\n",
    "    def __init__(self, k=3, p=2, verbose=False):\n",
    "        super().__init__(k, p, verbose)\n",
    "    \n",
    "    def predict(self, X_new):\n",
    "        y_pred = np.zeros(len(X_new), dtype=int)\n",
    "\n",
    "        if self.verbose:\n",
    "            print(\"Hora de predizer:\")\n",
    "\n",
    "        for i in range(len(X_new)):\n",
    "            dists = self._minkowski_dist(X_new[i, :])\n",
    "            order = np.argsort(dists)\n",
    "            top_k = order[:self.k]\n",
    "\n",
    "            # A classificação acontece aqui\n",
    "            y_pred[i] = np.argmax(np.bincount(self._y[top_k]))\n",
    "\n",
    "            if self.verbose:\n",
    "                print(f\"Instância de predição {i} | Vizinhos mais próximos: {top_k} | R: {y_pred[i]}\")\n",
    "\n",
    "        return y_pred\n",
    "    \n",
    "\n",
    "class KNNRegressor(BaseKNN):\n",
    "    def __init__(self, k=3, p=2, verbose=False):\n",
    "        super().__init__(k, p, verbose)\n",
    "    \n",
    "    def predict(self, X_new):\n",
    "        y_pred = np.zeros(len(X_new))\n",
    "\n",
    "        if self.verbose:\n",
    "            print(\"Hora de predizer:\")\n",
    "\n",
    "        for i in range(len(X_new)):\n",
    "            dists = self._minkowski_dist(X_new[i, :])\n",
    "            order = np.argsort(dists)\n",
    "            top_k = order[:self.k]\n",
    "\n",
    "            # A regressão acontece aqui\n",
    "            y_pred[i] = np.mean(self._y[top_k])\n",
    "\n",
    "            if self.verbose:\n",
    "                print(f\"Instância de predição {i} | Vizinhos mais próximos: {top_k} | R: {y_pred[i]}\")\n",
    "\n",
    "        return y_pred\n"
   ]
  },
  {
   "cell_type": "code",
   "execution_count": 16,
   "metadata": {},
   "outputs": [],
   "source": [
    "X, y = make_classification(\n",
    "    n_samples=200,\n",
    "    n_features=2,\n",
    "    n_redundant=0,\n",
    "    n_classes=3,\n",
    "    n_clusters_per_class=1,\n",
    "    random_state=0\n",
    ")"
   ]
  },
  {
   "cell_type": "code",
   "execution_count": 17,
   "metadata": {},
   "outputs": [
    {
     "data": {
      "application/vnd.plotly.v1+json": {
       "config": {
        "plotlyServerURL": "https://plot.ly"
       },
       "data": [
        {
         "hovertemplate": "Classe=1<br>x1=%{x}<br>x2=%{y}<extra></extra>",
         "legendgroup": "1",
         "marker": {
          "color": "#636efa",
          "symbol": "circle"
         },
         "mode": "markers",
         "name": "1",
         "orientation": "v",
         "showlegend": true,
         "type": "scatter",
         "x": [
          1.201204241719141,
          1.5696804163244873,
          1.0067151668208505,
          0.7625322262750939,
          0.13738715817952551,
          1.0069466981774913,
          1.2957402492835888,
          1.1275329615620873,
          1.3021112541990552,
          1.3062196473610101,
          0.3913587843944989,
          0.3357181318844348,
          1.2954182071656533,
          0.8093096961965385,
          0.1786713734660058,
          0.6859605628592521,
          1.3658179874107872,
          0.26077969329729567,
          0.8039185498593208,
          0.526554981127902,
          1.5262244359699197,
          1.9611922004350388,
          0.8444162174081589,
          0.5221316079965972,
          1.1410303386785081,
          0.2694813985854695,
          1.2955981505955165,
          0.6656887193427201,
          0.8330090686176657,
          1.1149733245712132,
          1.2098394477733991,
          1.113999921603083,
          1.0199306648846993,
          0.31469876922219076,
          0.5639711785813104,
          0.2959692218908354,
          0.897147111689839,
          1.1777002039872406,
          0.38812682440143853,
          1.681031165892021,
          1.0312521007419306,
          1.142750102842812,
          1.2967871111684126,
          0.9056508848935331,
          1.0470226677579457,
          2.155795117761238,
          0.5350037761921655,
          1.1978711886208913,
          0.6823720473258712,
          1.2809202544986285,
          1.7489418228775357,
          0.8376149559566358,
          1.6709693433925021,
          0.6287774753048192,
          1.7620222162254775,
          0.9725991369882083,
          0.8962920569413978,
          1.2638115838249544,
          0.6289348865606226,
          0.9084095625053864,
          1.3771021127988288,
          1.4495572866668576,
          -0.021806049958962848,
          0.2991512353858815,
          1.4449288084563738,
          1.4190659821732825,
          0.7071121555035014,
          0.33156062971485667
         ],
         "xaxis": "x",
         "y": [
          2.6858584935601675,
          -2.347877255217885,
          0.624437535588561,
          1.6119930250998773,
          2.633390070044194,
          -0.06671705437584241,
          -0.6780940092522205,
          1.7455154728622901,
          -0.16735617256166613,
          -0.17887590486203253,
          1.3008546486442856,
          2.3853597579319827,
          3.7930425369369556,
          1.795366188700504,
          1.8864625049344688,
          2.238664776470011,
          1.0771530114092749,
          1.9686171946104383,
          1.4107826739423583,
          2.823488324299685,
          0.8357424643056149,
          -1.081096540466811,
          1.196222384191302,
          1.9862581795260597,
          1.180923998271937,
          1.3202839144748597,
          0.6632901852722074,
          1.1005446794363771,
          1.989898429810443,
          -0.5356389483133879,
          -1.1452444230221208,
          -0.33351524128473997,
          1.4179404716598873,
          1.317387475244637,
          2.690640053584106,
          0.17615721853988153,
          2.513126198351482,
          1.7492485961484374,
          1.95183722930559,
          1.9900371042680005,
          3.207481148171569,
          0.8336053198856291,
          2.9399030267051387,
          1.5824618188481967,
          3.0432709167376575,
          1.633232779703207,
          -0.6222113786863677,
          0.420761107439809,
          0.9616727126179656,
          2.1865821235926166,
          1.0043952582363864,
          2.4335038813184404,
          1.989372696283498,
          2.5089970385350124,
          -2.1686215195130525,
          3.460144635539759,
          0.6428179881544624,
          0.6772075023061688,
          2.6157930941047915,
          0.21838720716520132,
          0.02182044389509208,
          0.7202861993763748,
          1.2398681154937037,
          -0.4311906215384549,
          1.7037659061758657,
          -0.4281340129787179,
          2.2909190482302275,
          0.75822045042043
         ],
         "yaxis": "y"
        },
        {
         "hovertemplate": "Classe=0<br>x1=%{x}<br>x2=%{y}<extra></extra>",
         "legendgroup": "0",
         "marker": {
          "color": "#EF553B",
          "symbol": "diamond"
         },
         "mode": "markers",
         "name": "0",
         "orientation": "v",
         "showlegend": true,
         "type": "scatter",
         "x": [
          -0.4756561244021579,
          -0.9888730094503341,
          -1.8473321939432448,
          -2.270398690013881,
          -0.8743265591727647,
          0.022718918604457183,
          1.3536080514206819,
          -0.2136069398517514,
          -2.1316352612539378,
          -0.6671681127575027,
          -0.18493983444745576,
          -2.2881049544080656,
          -1.2607125983288423,
          0.841211472524269,
          -0.02773615807901919,
          -1.046826794484767,
          -1.1781546836408479,
          -2.1337420155234295,
          -1.2664777831435852,
          -3.2204280735338133,
          0.40085686076964655,
          -1.1623946011904762,
          -0.39721718250609617,
          -1.5252943563845984,
          -2.4833289992266594,
          -1.0367841397917326,
          -2.275230467636231,
          -1.768176617643841,
          -1.2315508138163023,
          -0.8839433271730985,
          -1.5520204995637736,
          -0.39135708415092696,
          -0.23669235469710992,
          -1.408904632629959,
          -2.437581258935383,
          -0.8083583598408224,
          -1.4617772797011868,
          -1.5227756222166628,
          -1.207528691326231,
          0.22237537117341155,
          -1.3502436700181595,
          -1.7762482559246975,
          -0.8665030510552247,
          -1.3537787021077148,
          -1.2567347491854872,
          -1.0784459031808962,
          -0.5030630899077415,
          -0.5894171321429564,
          -0.6951608233501956,
          1.014049445555953,
          -1.8370729088781546,
          -3.1419622914396412,
          -0.476018022897991,
          -0.9350311742722777,
          -0.21417075426952248,
          -1.0810032117800754,
          -1.3234664137944145,
          -2.3849246407811533,
          -1.1961682514461722,
          -2.7344774772324265,
          -0.8125029073483755,
          -0.6908134026107022,
          -1.8183159550826562,
          0.02084334848905356,
          -1.7107336657077257,
          -1.331830134132047
         ],
         "xaxis": "x",
         "y": [
          1.2788834114132155,
          0.7889107852512997,
          0.7181597971729687,
          0.7146885987358149,
          0.7168134370110012,
          1.7374349886798144,
          1.6730066537429331,
          1.3216699055929588,
          0.41254111158708495,
          1.2725680736284581,
          1.8071401615522433,
          0.6263270031439285,
          0.8950888024384541,
          1.5729149202777823,
          1.399784542031034,
          1.0876514436285583,
          0.5063536054804356,
          1.008159397095178,
          1.1587291830774094,
          0.15720705164601445,
          1.2937520326056462,
          0.8370651288707642,
          1.0819970351012116,
          0.7650884696853268,
          0.863286734602937,
          1.187337278624137,
          0.667994895244219,
          1.1597077945572565,
          1.5407461311915385,
          0.9997775367947292,
          0.9756323085901905,
          1.035741178368575,
          1.0366449661873873,
          0.642491044104184,
          0.4658064499872594,
          1.1856036063257194,
          0.7421037815676504,
          1.1778128661108103,
          1.027483593237603,
          1.5087185817681328,
          1.2209923814485923,
          0.8349643973358096,
          0.5625768327412966,
          0.7315586382134454,
          0.9994851936229466,
          1.0798508306079457,
          1.268260906004413,
          1.538694190502611,
          1.6902040207443663,
          1.5460473210636918,
          0.9646742313089022,
          0.5689775577753317,
          1.6686390899326446,
          1.2970141303729719,
          1.3203509979054742,
          1.0498690884359516,
          0.7447233429451547,
          0.6368558635405991,
          0.7820868029269706,
          0.7562788196662136,
          0.5140342026910604,
          1.0274420287458175,
          0.7757228701968767,
          1.0299387397183755,
          0.6847287157770418,
          0.8910242357535247
         ],
         "yaxis": "y"
        },
        {
         "hovertemplate": "Classe=2<br>x1=%{x}<br>x2=%{y}<extra></extra>",
         "legendgroup": "2",
         "marker": {
          "color": "#00cc96",
          "symbol": "square"
         },
         "mode": "markers",
         "name": "2",
         "orientation": "v",
         "showlegend": true,
         "type": "scatter",
         "x": [
          1.8544523235209949,
          0.12692665564181138,
          0.5227660526159219,
          0.9681593489129062,
          -1.1027131878713852,
          1.9873489608401413,
          2.2816650449001017,
          0.6805021801144453,
          1.7574513959242415,
          -0.5671907786001824,
          0.9728391189112598,
          1.0183657804482456,
          1.5096202595852324,
          0.5931627776069173,
          1.5208080626812837,
          1.127205031462886,
          0.647698324072076,
          -0.4660473139513108,
          0.9861694640182412,
          2.5778434627528837,
          0.7045199820295576,
          0.6597520041732389,
          0.5602426718292262,
          0.6573266594640949,
          0.11035533125229624,
          1.5889441742397485,
          0.6843859186092195,
          2.3604995281484147,
          -1.3589921741561608,
          3.144424544022562,
          0.6253628375978166,
          1.005708433359764,
          1.4386690605766126,
          0.9564877422156425,
          -0.11026188001595072,
          0.7147688902711743,
          -0.50643326387721,
          0.4783646442281497,
          0.08168112753436108,
          1.7227351247086684,
          -0.7118497889976929,
          1.423577118028112,
          1.8584513461361172,
          0.8968725869889085,
          0.18615952706517824,
          1.3442663487812307,
          -0.41491976164424327,
          0.22763404576287394,
          1.8755040173810618,
          1.6157174133688827,
          0.44236954643827264,
          0.6713614227582763,
          1.3374630405562264,
          0.9133232071905425,
          1.8385592002040287,
          0.9488865171016106,
          0.547362503120068,
          1.4226257374637283,
          0.1267395376647985,
          0.4448840103533944,
          1.0281951693963634,
          0.5454299448275555,
          1.649244340556904,
          1.3993478101357018,
          0.6626389482284606,
          2.0777412592010176
         ],
         "xaxis": "x",
         "y": [
          0.021770880494324407,
          0.024180690412296535,
          -0.7188684954212865,
          -0.9156649947984961,
          -2.818994057261178,
          -0.5625067070501995,
          -0.35061669399275497,
          -0.7967541778493239,
          -0.743789635123642,
          -1.4774621277983744,
          -1.4726428344492426,
          -0.7670380824404628,
          -1.8844598679628306,
          -1.3282160426351903,
          -0.7825343832380295,
          -1.482379153217713,
          -0.045238495979814,
          -0.7201425486323538,
          -0.09024206325728845,
          -1.2008146461731954,
          -0.12039884760516817,
          -1.735273013418032,
          -0.6434315769154604,
          -1.100969998826651,
          -2.404284884356837,
          -0.9604380694295798,
          -1.8930051692504666,
          -1.0341738788626311,
          -1.6602023707873648,
          0.01099495222116742,
          0.13377283227911407,
          0.3055573022193361,
          -0.8745224021794071,
          -1.1330815579021776,
          -2.0582017489739135,
          -1.8443241338714667,
          -1.4216723390204729,
          -1.5386156360255319,
          -0.814289466488445,
          -1.222202853215824,
          -0.29826802355956716,
          -0.1675068634583744,
          1.3007004295854285,
          -0.39263038660006855,
          -0.4689258362455434,
          0.36254051255952313,
          -2.441138759670096,
          -1.8174665131649446,
          0.019204905823104967,
          -0.8266166671030124,
          -2.8624240349908288,
          -1.9417032624654909,
          -2.0266997069301604,
          -0.6874682944775987,
          0.32878901758804124,
          -1.4024225033045403,
          -0.6119363476979752,
          -1.251737253687857,
          -2.3036488726882327,
          0.14820309304951662,
          -0.4487830754185309,
          -0.3764733139241435,
          -0.5810450618174,
          -0.25178306720211996,
          -1.1509290248368613,
          -1.6103839857618376
         ],
         "yaxis": "y"
        }
       ],
       "layout": {
        "autosize": false,
        "height": 500,
        "legend": {
         "title": {
          "text": "Classe"
         },
         "tracegroupgap": 0
        },
        "margin": {
         "t": 60
        },
        "template": {
         "data": {
          "bar": [
           {
            "error_x": {
             "color": "#2a3f5f"
            },
            "error_y": {
             "color": "#2a3f5f"
            },
            "marker": {
             "line": {
              "color": "#E5ECF6",
              "width": 0.5
             },
             "pattern": {
              "fillmode": "overlay",
              "size": 10,
              "solidity": 0.2
             }
            },
            "type": "bar"
           }
          ],
          "barpolar": [
           {
            "marker": {
             "line": {
              "color": "#E5ECF6",
              "width": 0.5
             },
             "pattern": {
              "fillmode": "overlay",
              "size": 10,
              "solidity": 0.2
             }
            },
            "type": "barpolar"
           }
          ],
          "carpet": [
           {
            "aaxis": {
             "endlinecolor": "#2a3f5f",
             "gridcolor": "white",
             "linecolor": "white",
             "minorgridcolor": "white",
             "startlinecolor": "#2a3f5f"
            },
            "baxis": {
             "endlinecolor": "#2a3f5f",
             "gridcolor": "white",
             "linecolor": "white",
             "minorgridcolor": "white",
             "startlinecolor": "#2a3f5f"
            },
            "type": "carpet"
           }
          ],
          "choropleth": [
           {
            "colorbar": {
             "outlinewidth": 0,
             "ticks": ""
            },
            "type": "choropleth"
           }
          ],
          "contour": [
           {
            "colorbar": {
             "outlinewidth": 0,
             "ticks": ""
            },
            "colorscale": [
             [
              0,
              "#0d0887"
             ],
             [
              0.1111111111111111,
              "#46039f"
             ],
             [
              0.2222222222222222,
              "#7201a8"
             ],
             [
              0.3333333333333333,
              "#9c179e"
             ],
             [
              0.4444444444444444,
              "#bd3786"
             ],
             [
              0.5555555555555556,
              "#d8576b"
             ],
             [
              0.6666666666666666,
              "#ed7953"
             ],
             [
              0.7777777777777778,
              "#fb9f3a"
             ],
             [
              0.8888888888888888,
              "#fdca26"
             ],
             [
              1,
              "#f0f921"
             ]
            ],
            "type": "contour"
           }
          ],
          "contourcarpet": [
           {
            "colorbar": {
             "outlinewidth": 0,
             "ticks": ""
            },
            "type": "contourcarpet"
           }
          ],
          "heatmap": [
           {
            "colorbar": {
             "outlinewidth": 0,
             "ticks": ""
            },
            "colorscale": [
             [
              0,
              "#0d0887"
             ],
             [
              0.1111111111111111,
              "#46039f"
             ],
             [
              0.2222222222222222,
              "#7201a8"
             ],
             [
              0.3333333333333333,
              "#9c179e"
             ],
             [
              0.4444444444444444,
              "#bd3786"
             ],
             [
              0.5555555555555556,
              "#d8576b"
             ],
             [
              0.6666666666666666,
              "#ed7953"
             ],
             [
              0.7777777777777778,
              "#fb9f3a"
             ],
             [
              0.8888888888888888,
              "#fdca26"
             ],
             [
              1,
              "#f0f921"
             ]
            ],
            "type": "heatmap"
           }
          ],
          "heatmapgl": [
           {
            "colorbar": {
             "outlinewidth": 0,
             "ticks": ""
            },
            "colorscale": [
             [
              0,
              "#0d0887"
             ],
             [
              0.1111111111111111,
              "#46039f"
             ],
             [
              0.2222222222222222,
              "#7201a8"
             ],
             [
              0.3333333333333333,
              "#9c179e"
             ],
             [
              0.4444444444444444,
              "#bd3786"
             ],
             [
              0.5555555555555556,
              "#d8576b"
             ],
             [
              0.6666666666666666,
              "#ed7953"
             ],
             [
              0.7777777777777778,
              "#fb9f3a"
             ],
             [
              0.8888888888888888,
              "#fdca26"
             ],
             [
              1,
              "#f0f921"
             ]
            ],
            "type": "heatmapgl"
           }
          ],
          "histogram": [
           {
            "marker": {
             "pattern": {
              "fillmode": "overlay",
              "size": 10,
              "solidity": 0.2
             }
            },
            "type": "histogram"
           }
          ],
          "histogram2d": [
           {
            "colorbar": {
             "outlinewidth": 0,
             "ticks": ""
            },
            "colorscale": [
             [
              0,
              "#0d0887"
             ],
             [
              0.1111111111111111,
              "#46039f"
             ],
             [
              0.2222222222222222,
              "#7201a8"
             ],
             [
              0.3333333333333333,
              "#9c179e"
             ],
             [
              0.4444444444444444,
              "#bd3786"
             ],
             [
              0.5555555555555556,
              "#d8576b"
             ],
             [
              0.6666666666666666,
              "#ed7953"
             ],
             [
              0.7777777777777778,
              "#fb9f3a"
             ],
             [
              0.8888888888888888,
              "#fdca26"
             ],
             [
              1,
              "#f0f921"
             ]
            ],
            "type": "histogram2d"
           }
          ],
          "histogram2dcontour": [
           {
            "colorbar": {
             "outlinewidth": 0,
             "ticks": ""
            },
            "colorscale": [
             [
              0,
              "#0d0887"
             ],
             [
              0.1111111111111111,
              "#46039f"
             ],
             [
              0.2222222222222222,
              "#7201a8"
             ],
             [
              0.3333333333333333,
              "#9c179e"
             ],
             [
              0.4444444444444444,
              "#bd3786"
             ],
             [
              0.5555555555555556,
              "#d8576b"
             ],
             [
              0.6666666666666666,
              "#ed7953"
             ],
             [
              0.7777777777777778,
              "#fb9f3a"
             ],
             [
              0.8888888888888888,
              "#fdca26"
             ],
             [
              1,
              "#f0f921"
             ]
            ],
            "type": "histogram2dcontour"
           }
          ],
          "mesh3d": [
           {
            "colorbar": {
             "outlinewidth": 0,
             "ticks": ""
            },
            "type": "mesh3d"
           }
          ],
          "parcoords": [
           {
            "line": {
             "colorbar": {
              "outlinewidth": 0,
              "ticks": ""
             }
            },
            "type": "parcoords"
           }
          ],
          "pie": [
           {
            "automargin": true,
            "type": "pie"
           }
          ],
          "scatter": [
           {
            "fillpattern": {
             "fillmode": "overlay",
             "size": 10,
             "solidity": 0.2
            },
            "type": "scatter"
           }
          ],
          "scatter3d": [
           {
            "line": {
             "colorbar": {
              "outlinewidth": 0,
              "ticks": ""
             }
            },
            "marker": {
             "colorbar": {
              "outlinewidth": 0,
              "ticks": ""
             }
            },
            "type": "scatter3d"
           }
          ],
          "scattercarpet": [
           {
            "marker": {
             "colorbar": {
              "outlinewidth": 0,
              "ticks": ""
             }
            },
            "type": "scattercarpet"
           }
          ],
          "scattergeo": [
           {
            "marker": {
             "colorbar": {
              "outlinewidth": 0,
              "ticks": ""
             }
            },
            "type": "scattergeo"
           }
          ],
          "scattergl": [
           {
            "marker": {
             "colorbar": {
              "outlinewidth": 0,
              "ticks": ""
             }
            },
            "type": "scattergl"
           }
          ],
          "scattermapbox": [
           {
            "marker": {
             "colorbar": {
              "outlinewidth": 0,
              "ticks": ""
             }
            },
            "type": "scattermapbox"
           }
          ],
          "scatterpolar": [
           {
            "marker": {
             "colorbar": {
              "outlinewidth": 0,
              "ticks": ""
             }
            },
            "type": "scatterpolar"
           }
          ],
          "scatterpolargl": [
           {
            "marker": {
             "colorbar": {
              "outlinewidth": 0,
              "ticks": ""
             }
            },
            "type": "scatterpolargl"
           }
          ],
          "scatterternary": [
           {
            "marker": {
             "colorbar": {
              "outlinewidth": 0,
              "ticks": ""
             }
            },
            "type": "scatterternary"
           }
          ],
          "surface": [
           {
            "colorbar": {
             "outlinewidth": 0,
             "ticks": ""
            },
            "colorscale": [
             [
              0,
              "#0d0887"
             ],
             [
              0.1111111111111111,
              "#46039f"
             ],
             [
              0.2222222222222222,
              "#7201a8"
             ],
             [
              0.3333333333333333,
              "#9c179e"
             ],
             [
              0.4444444444444444,
              "#bd3786"
             ],
             [
              0.5555555555555556,
              "#d8576b"
             ],
             [
              0.6666666666666666,
              "#ed7953"
             ],
             [
              0.7777777777777778,
              "#fb9f3a"
             ],
             [
              0.8888888888888888,
              "#fdca26"
             ],
             [
              1,
              "#f0f921"
             ]
            ],
            "type": "surface"
           }
          ],
          "table": [
           {
            "cells": {
             "fill": {
              "color": "#EBF0F8"
             },
             "line": {
              "color": "white"
             }
            },
            "header": {
             "fill": {
              "color": "#C8D4E3"
             },
             "line": {
              "color": "white"
             }
            },
            "type": "table"
           }
          ]
         },
         "layout": {
          "annotationdefaults": {
           "arrowcolor": "#2a3f5f",
           "arrowhead": 0,
           "arrowwidth": 1
          },
          "autotypenumbers": "strict",
          "coloraxis": {
           "colorbar": {
            "outlinewidth": 0,
            "ticks": ""
           }
          },
          "colorscale": {
           "diverging": [
            [
             0,
             "#8e0152"
            ],
            [
             0.1,
             "#c51b7d"
            ],
            [
             0.2,
             "#de77ae"
            ],
            [
             0.3,
             "#f1b6da"
            ],
            [
             0.4,
             "#fde0ef"
            ],
            [
             0.5,
             "#f7f7f7"
            ],
            [
             0.6,
             "#e6f5d0"
            ],
            [
             0.7,
             "#b8e186"
            ],
            [
             0.8,
             "#7fbc41"
            ],
            [
             0.9,
             "#4d9221"
            ],
            [
             1,
             "#276419"
            ]
           ],
           "sequential": [
            [
             0,
             "#0d0887"
            ],
            [
             0.1111111111111111,
             "#46039f"
            ],
            [
             0.2222222222222222,
             "#7201a8"
            ],
            [
             0.3333333333333333,
             "#9c179e"
            ],
            [
             0.4444444444444444,
             "#bd3786"
            ],
            [
             0.5555555555555556,
             "#d8576b"
            ],
            [
             0.6666666666666666,
             "#ed7953"
            ],
            [
             0.7777777777777778,
             "#fb9f3a"
            ],
            [
             0.8888888888888888,
             "#fdca26"
            ],
            [
             1,
             "#f0f921"
            ]
           ],
           "sequentialminus": [
            [
             0,
             "#0d0887"
            ],
            [
             0.1111111111111111,
             "#46039f"
            ],
            [
             0.2222222222222222,
             "#7201a8"
            ],
            [
             0.3333333333333333,
             "#9c179e"
            ],
            [
             0.4444444444444444,
             "#bd3786"
            ],
            [
             0.5555555555555556,
             "#d8576b"
            ],
            [
             0.6666666666666666,
             "#ed7953"
            ],
            [
             0.7777777777777778,
             "#fb9f3a"
            ],
            [
             0.8888888888888888,
             "#fdca26"
            ],
            [
             1,
             "#f0f921"
            ]
           ]
          },
          "colorway": [
           "#636efa",
           "#EF553B",
           "#00cc96",
           "#ab63fa",
           "#FFA15A",
           "#19d3f3",
           "#FF6692",
           "#B6E880",
           "#FF97FF",
           "#FECB52"
          ],
          "font": {
           "color": "#2a3f5f"
          },
          "geo": {
           "bgcolor": "white",
           "lakecolor": "white",
           "landcolor": "#E5ECF6",
           "showlakes": true,
           "showland": true,
           "subunitcolor": "white"
          },
          "hoverlabel": {
           "align": "left"
          },
          "hovermode": "closest",
          "mapbox": {
           "style": "light"
          },
          "paper_bgcolor": "white",
          "plot_bgcolor": "#E5ECF6",
          "polar": {
           "angularaxis": {
            "gridcolor": "white",
            "linecolor": "white",
            "ticks": ""
           },
           "bgcolor": "#E5ECF6",
           "radialaxis": {
            "gridcolor": "white",
            "linecolor": "white",
            "ticks": ""
           }
          },
          "scene": {
           "xaxis": {
            "backgroundcolor": "#E5ECF6",
            "gridcolor": "white",
            "gridwidth": 2,
            "linecolor": "white",
            "showbackground": true,
            "ticks": "",
            "zerolinecolor": "white"
           },
           "yaxis": {
            "backgroundcolor": "#E5ECF6",
            "gridcolor": "white",
            "gridwidth": 2,
            "linecolor": "white",
            "showbackground": true,
            "ticks": "",
            "zerolinecolor": "white"
           },
           "zaxis": {
            "backgroundcolor": "#E5ECF6",
            "gridcolor": "white",
            "gridwidth": 2,
            "linecolor": "white",
            "showbackground": true,
            "ticks": "",
            "zerolinecolor": "white"
           }
          },
          "shapedefaults": {
           "line": {
            "color": "#2a3f5f"
           }
          },
          "ternary": {
           "aaxis": {
            "gridcolor": "white",
            "linecolor": "white",
            "ticks": ""
           },
           "baxis": {
            "gridcolor": "white",
            "linecolor": "white",
            "ticks": ""
           },
           "bgcolor": "#E5ECF6",
           "caxis": {
            "gridcolor": "white",
            "linecolor": "white",
            "ticks": ""
           }
          },
          "title": {
           "x": 0.05
          },
          "xaxis": {
           "automargin": true,
           "gridcolor": "white",
           "linecolor": "white",
           "ticks": "",
           "title": {
            "standoff": 15
           },
           "zerolinecolor": "white",
           "zerolinewidth": 2
          },
          "yaxis": {
           "automargin": true,
           "gridcolor": "white",
           "linecolor": "white",
           "ticks": "",
           "title": {
            "standoff": 15
           },
           "zerolinecolor": "white",
           "zerolinewidth": 2
          }
         }
        },
        "width": 600,
        "xaxis": {
         "anchor": "y",
         "domain": [
          0,
          1
         ],
         "title": {
          "text": "x1"
         }
        },
        "yaxis": {
         "anchor": "x",
         "domain": [
          0,
          1
         ],
         "title": {
          "text": "x2"
         }
        }
       }
      }
     },
     "metadata": {},
     "output_type": "display_data"
    }
   ],
   "source": [
    "vis = pd.DataFrame(X, columns=[\"x1\", \"x2\"])\n",
    "vis[\"Classe\"] = y\n",
    "vis[\"Classe\"] = vis[\"Classe\"].astype(\"category\")\n",
    "\n",
    "fig = px.scatter(\n",
    "    vis, x=\"x1\", y=\"x2\", color=\"Classe\", symbol=\"Classe\")\n",
    "fig.update_layout(\n",
    "    autosize=False,\n",
    "    width=600,\n",
    "    height=500\n",
    ")\n",
    "fig.show()"
   ]
  },
  {
   "attachments": {},
   "cell_type": "markdown",
   "metadata": {},
   "source": [
    "## 3. Notas sobre avaliação de modelos de ML, _overfitting_, _undefitting_.\n",
    "\n",
    "- Não podemos utilizar todos os dados disponíveis num primeiro momento\n",
    "- Precisamos ter uma estimativa de performance do nosso modelo treinado\n",
    "\n",
    "- > **Desafio:** Por que utilizar todos os dados os dados para treinar e testar é uma má ideia?\n",
    "\n",
    "\n",
    "### 3.1. Sobre e subajuste de modelos\n",
    "\n",
    "- Queremos que o modelo seja capaz de generalizar os dados de treinamento\n",
    "    - Aprender os padrões que governam a relação entre X e y\n",
    "    - Na vida é assim:\n",
    "        - Não podemos focar demais nos detalhes insignificantes\n",
    "        - Tampouco sermos superficiais demais\n",
    "\n",
    "\n",
    "<img src=\"img/a2/tradeoff.jpg\" width=\"700\">\n",
    "    <figcaption>Overfitting, underfitting e o dilema do Viés e Variância. Fonte: <a href=\"https://stats.stackexchange.com/questions/543509/why-test-error-and-variance-has-different-curve-in-bias-variance-trade-off-graph)\">stats.stackexchange.com</a></figcaption>\n",
    "</img>\n",
    "\n",
    "Os dois desafios a se evitar durante a modelagem:\n",
    "\n",
    "1. Overfitting: O modelo está focando demais em excesso nos dados de treinamento e não está aprendendo, de fato, o problema\n",
    "    - O modelo demasiadamente complexo e sem estratégias de regularização (algo como um sistema de frenagem, que limita a \"velocidade\")\n",
    "    - Ex: estudante que decora toda a matéria, mas se na prova algum detalhe é diferente, não sabe resolver\n",
    "    - Alta variância: pequenas alterações nos dados acarretam grandes mudanças no modelo\n",
    "    - *Sintomas:*\n",
    "        - Erro de treinamento muito baixo\n",
    "        - Erro de teste muito alto\n",
    "    - Observação: se o seu erro de testes está bom demais para ser verdade:\n",
    "        - Pode ser que exista _\"data leakage\"_\n",
    "        - Dados de teste estão vazando para o treinamento\n",
    "2. Undefitting: O modelo não está conseguindo aprender os padrões\n",
    "    - Modelo demasiadamente simples para o problema\n",
    "    - Ex: uma reta para explicar o comportamento de uma parábola\n",
    "    - Alto viés: o modelo é \"teimoso\" e insensível a variações dos dados\n",
    "    - *Sintomas:*\n",
    "        - Erros de validação e treinamento são parecidos (e altos)\n",
    "\n",
    "\n",
    "- Queremos um balanço:\n",
    "- Em geral:\n",
    "    - Erro de treino ligeiramente inferior que o erro de validação\n",
    "    - Baixo erro de validação\n",
    "\n",
    "### 3.2. Particionamento de dados: _Holdout_\n",
    "\n",
    "- Em geral, utilizamos alguma estratégia de avaliação para separar os dados entre treinamento e teste/validação\n",
    "    - Obter medidas de avaliação mais fidedignas com a realidade que o modelo vai enfrentar na \"vida real\"\n",
    "- Holdout: Aplica uma partição (aleatória) entre os dados para criar conjuntos de treino e teste\n",
    "    - Normalmente baseada em porcentagem. Por exemplo: 30% dos dados serão utilizados para testes"
   ]
  },
  {
   "cell_type": "code",
   "execution_count": 18,
   "metadata": {},
   "outputs": [],
   "source": [
    "X_train, X_test, y_train, y_test = train_test_split(X, y, test_size=0.3, shuffle=True, random_state=42)"
   ]
  },
  {
   "attachments": {},
   "cell_type": "markdown",
   "metadata": {},
   "source": [
    "> **Para pensar:** quais as limitações dessa abordagem?\n",
    "\n",
    "Possível solução:\n",
    "\n",
    "- Holdout repetido:\n",
    "    - Aplica várias partições holdout, variando a seed aleatória\n",
    "    - Modelos treinados para cada partição\n",
    "    - Agrega os resultados obtidos: média, desvio padrão, etc.\n",
    "- Qual a limitação dessa abordagem? (Ela resolve o problema parcialmente, mas o que ainda falta?)\n",
    "- No decorrer do curso veremos abordagens mais adequadas para avaliação\n"
   ]
  },
  {
   "attachments": {},
   "cell_type": "markdown",
   "metadata": {},
   "source": [
    "### 3.2. Aplicando o Holdout no nosso modelo k-NN para classificação"
   ]
  },
  {
   "cell_type": "code",
   "execution_count": 19,
   "metadata": {},
   "outputs": [
    {
     "name": "stdout",
     "output_type": "stream",
     "text": [
      "Vou fingir que trabalho.\n",
      "\tUfa, que canseira!\n"
     ]
    }
   ],
   "source": [
    "knn_c = KNNClassifier(verbose=True)\n",
    "knn_c.fit(X_train, y_train)\n",
    "\n",
    "pass"
   ]
  },
  {
   "cell_type": "code",
   "execution_count": 20,
   "metadata": {},
   "outputs": [
    {
     "name": "stdout",
     "output_type": "stream",
     "text": [
      "Hora de predizer:\n",
      "Instância de predição 0 | Vizinhos mais próximos: [23  1  2] | R: 1\n",
      "Instância de predição 1 | Vizinhos mais próximos: [47 25 37] | R: 0\n",
      "Instância de predição 2 | Vizinhos mais próximos: [ 81 136 114] | R: 0\n",
      "Instância de predição 3 | Vizinhos mais próximos: [ 17  65 120] | R: 0\n",
      "Instância de predição 4 | Vizinhos mais próximos: [ 54  92 138] | R: 2\n",
      "Instância de predição 5 | Vizinhos mais próximos: [ 58  89 128] | R: 0\n",
      "Instância de predição 6 | Vizinhos mais próximos: [85 82 26] | R: 0\n",
      "Instância de predição 7 | Vizinhos mais próximos: [47 37 25] | R: 0\n",
      "Instância de predição 8 | Vizinhos mais próximos: [83 64 58] | R: 0\n",
      "Instância de predição 9 | Vizinhos mais próximos: [60 77 61] | R: 1\n",
      "Instância de predição 10 | Vizinhos mais próximos: [44 36 95] | R: 0\n",
      "Instância de predição 11 | Vizinhos mais próximos: [15 40  4] | R: 0\n",
      "Instância de predição 12 | Vizinhos mais próximos: [13 34 30] | R: 2\n",
      "Instância de predição 13 | Vizinhos mais próximos: [ 10 120  79] | R: 0\n",
      "Instância de predição 14 | Vizinhos mais próximos: [19 52 53] | R: 0\n",
      "Instância de predição 15 | Vizinhos mais próximos: [ 88   0 105] | R: 1\n",
      "Instância de predição 16 | Vizinhos mais próximos: [37 91 47] | R: 0\n",
      "Instância de predição 17 | Vizinhos mais próximos: [14  7 67] | R: 1\n",
      "Instância de predição 18 | Vizinhos mais próximos: [105 125 129] | R: 1\n",
      "Instância de predição 19 | Vizinhos mais próximos: [ 88 105   0] | R: 1\n",
      "Instância de predição 20 | Vizinhos mais próximos: [ 97 102  11] | R: 1\n",
      "Instância de predição 21 | Vizinhos mais próximos: [ 38 116  71] | R: 1\n",
      "Instância de predição 22 | Vizinhos mais próximos: [  9 105  88] | R: 1\n",
      "Instância de predição 23 | Vizinhos mais próximos: [134  54 132] | R: 2\n",
      "Instância de predição 24 | Vizinhos mais próximos: [16  1 99] | R: 1\n",
      "Instância de predição 25 | Vizinhos mais próximos: [ 38 116 125] | R: 1\n",
      "Instância de predição 26 | Vizinhos mais próximos: [77 60 61] | R: 1\n",
      "Instância de predição 27 | Vizinhos mais próximos: [135  96  63] | R: 1\n",
      "Instância de predição 28 | Vizinhos mais próximos: [75 66 46] | R: 2\n",
      "Instância de predição 29 | Vizinhos mais próximos: [ 9 14  7] | R: 1\n",
      "Instância de predição 30 | Vizinhos mais próximos: [40 15 83] | R: 0\n",
      "Instância de predição 31 | Vizinhos mais próximos: [ 57 135  96] | R: 1\n",
      "Instância de predição 32 | Vizinhos mais próximos: [128  89  52] | R: 0\n",
      "Instância de predição 33 | Vizinhos mais próximos: [101  46  30] | R: 2\n",
      "Instância de predição 34 | Vizinhos mais próximos: [20 50 90] | R: 2\n",
      "Instância de predição 35 | Vizinhos mais próximos: [107  92 124] | R: 2\n",
      "Instância de predição 36 | Vizinhos mais próximos: [24 69 27] | R: 1\n",
      "Instância de predição 37 | Vizinhos mais próximos: [23  1 99] | R: 2\n",
      "Instância de predição 38 | Vizinhos mais próximos: [ 6 86 12] | R: 1\n",
      "Instância de predição 39 | Vizinhos mais próximos: [109  78  72] | R: 1\n",
      "Instância de predição 40 | Vizinhos mais próximos: [ 10 114 136] | R: 0\n",
      "Instância de predição 41 | Vizinhos mais próximos: [54  6 12] | R: 1\n",
      "Instância de predição 42 | Vizinhos mais próximos: [ 44 126   5] | R: 0\n",
      "Instância de predição 43 | Vizinhos mais próximos: [47 37 25] | R: 0\n",
      "Instância de predição 44 | Vizinhos mais próximos: [110  45  39] | R: 2\n",
      "Instância de predição 45 | Vizinhos mais próximos: [ 81 114 136] | R: 0\n",
      "Instância de predição 46 | Vizinhos mais próximos: [130 127 104] | R: 2\n",
      "Instância de predição 47 | Vizinhos mais próximos: [ 42 127  68] | R: 2\n",
      "Instância de predição 48 | Vizinhos mais próximos: [116 125  38] | R: 1\n",
      "Instância de predição 49 | Vizinhos mais próximos: [98 36 82] | R: 0\n",
      "Instância de predição 50 | Vizinhos mais próximos: [33 94  7] | R: 1\n",
      "Instância de predição 51 | Vizinhos mais próximos: [101  46  30] | R: 2\n",
      "Instância de predição 52 | Vizinhos mais próximos: [19 52 53] | R: 0\n",
      "Instância de predição 53 | Vizinhos mais próximos: [ 0 88 93] | R: 1\n",
      "Instância de predição 54 | Vizinhos mais próximos: [109 121  78] | R: 1\n",
      "Instância de predição 55 | Vizinhos mais próximos: [ 39   8 118] | R: 2\n",
      "Instância de predição 56 | Vizinhos mais próximos: [17 98 36] | R: 0\n",
      "Instância de predição 57 | Vizinhos mais próximos: [130  42 104] | R: 2\n",
      "Instância de predição 58 | Vizinhos mais próximos: [ 41 113 106] | R: 2\n",
      "Instância de predição 59 | Vizinhos mais próximos: [138 106  34] | R: 2\n"
     ]
    }
   ],
   "source": [
    "y_pred = knn_c.predict(X_test)"
   ]
  },
  {
   "attachments": {},
   "cell_type": "markdown",
   "metadata": {},
   "source": [
    "## 4. Métricas de avaliação para classificação\n",
    "\n",
    "- Permitem avaliar o modelo preditivo\n",
    "- Várias métricas, a depender da necessidade\n",
    "- **Acurácia:** percentual de acerto"
   ]
  },
  {
   "cell_type": "code",
   "execution_count": 21,
   "metadata": {},
   "outputs": [],
   "source": [
    "def acuracia(y_true, y_pred):\n",
    "    return sum(y_true == y_pred) / len(y_true)"
   ]
  },
  {
   "cell_type": "code",
   "execution_count": 22,
   "metadata": {},
   "outputs": [
    {
     "data": {
      "text/plain": [
       "0.8833333333333333"
      ]
     },
     "execution_count": 22,
     "metadata": {},
     "output_type": "execute_result"
    }
   ],
   "source": [
    "acuracia(y_test, y_pred)"
   ]
  },
  {
   "attachments": {},
   "cell_type": "markdown",
   "metadata": {},
   "source": [
    "- A acurácia pode ser problemática\n",
    "- Suponha que tenhamos um cenário altamente desbalanceado\n",
    "    - A proporção de exemplos de cada classe é altamente desigual"
   ]
  },
  {
   "cell_type": "code",
   "execution_count": 23,
   "metadata": {},
   "outputs": [
    {
     "data": {
      "text/plain": [
       "0.97"
      ]
     },
     "execution_count": 23,
     "metadata": {},
     "output_type": "execute_result"
    }
   ],
   "source": [
    "ex = np.zeros(100, dtype=int)\n",
    "ex[3] = 1\n",
    "ex[10] = 1\n",
    "ex[39] = 1\n",
    "\n",
    "acuracia(ex, np.zeros(100))\n"
   ]
  },
  {
   "attachments": {},
   "cell_type": "markdown",
   "metadata": {},
   "source": [
    "- E se o label \"1\" for o que mais estamos interessados?\n",
    "- Exemplos: fraude, ataque hacker, anomalia, etc.\n",
    "- Precisamos de mais métricas para avaliar nossos modelos!\n",
    "- Matriz de confusão: a raiz de (quase) todas as métricas de classificação\n",
    "\n",
    "<img src=\"img/a2/matriz-confusao.png\" width=\"500\">\n",
    "    <figcaption>Matriz de Confusão: contagem de erros e acertos do classificador por tipo</figcaption>\n",
    "</img>\n",
    "\n",
    "- A matriz é organizada da seguinte forma:\n",
    "    - TP: Verdadeiro positivo\n",
    "    - FP: Falso positivo\n",
    "    - TN: Verdadeiro negativo\n",
    "    - FN: Falso negativo\n",
    "- No caso em que temos mais do que duas classes, a matriz de confusão tem linhas e colunas correspondentes a cada classe\n",
    "    - Em geral, calculamos as métricas considerando cada classe como o \"Positivo\" e as demais como \"Negativo\"\n",
    "    - Podemos, por exemplo, tirar a média das métricas por classe para obter um valor final\n",
    "\n",
    "**Populares métricas derivadas da matriz de confusão:**\n",
    "\n",
    "1. Acurácia: mede o desempenho geral\n",
    "    $$Acc = \\dfrac{TP + TN}{TP + TN + FP + FN}$$\n",
    "2. Precisão\n",
    "3. Recall ou Revocação\n",
    "4. F1-score\n",
    "\n",
    "- Existem outras medidas que são focadas em tarefas específicas\n",
    "- Por exemplo: tarefas de classificação desbalanceadas\n",
    "    - Acurácia balanceada\n",
    "\n"
   ]
  },
  {
   "attachments": {},
   "cell_type": "markdown",
   "metadata": {},
   "source": [
    "## 5. Fronteiras de decisão"
   ]
  },
  {
   "cell_type": "code",
   "execution_count": 24,
   "metadata": {},
   "outputs": [],
   "source": [
    "# Adaptado de: https://github.com/tirthajyoti/Machine-Learning-with-Python/blob/master/Utilities/ML-Python-utils.py\n",
    "\n",
    "def plot_decision_boundaries(X, y, model_class, **model_params):\n",
    "    \"\"\"\n",
    "    Function to plot the decision boundaries of a classification model.\n",
    "    This uses just the first two columns of the data for fitting \n",
    "    the model as we need to find the predicted value for every point in \n",
    "    scatter plot.\n",
    "    Arguments:\n",
    "            X: Feature data as a NumPy-type array.\n",
    "            y: Label data as a NumPy-type array.\n",
    "            model_class: A Scikit-learn ML estimator class \n",
    "            e.g. GaussianNB (imported from sklearn.naive_bayes) or\n",
    "            LogisticRegression (imported from sklearn.linear_model)\n",
    "            **model_params: Model parameters to be passed on to the ML estimator\n",
    "    \n",
    "    Typical code example:\n",
    "            plt.figure()\n",
    "            plt.title(\"KNN decision boundary with neighbros: 5\",fontsize=16)\n",
    "            plot_decision_boundaries(X_train,y_train,KNeighborsClassifier,n_neighbors=5)\n",
    "            plt.show()\n",
    "    \"\"\"\n",
    "    try:\n",
    "        X = np.array(X)\n",
    "        y = np.array(y).flatten()\n",
    "    except:\n",
    "        print(\"Coercing input data to NumPy arrays failed\")\n",
    "    \n",
    "    classes = np.unique(y)\n",
    "\n",
    "    # Reduces to the first two columns of data\n",
    "    reduced_data = X[:, :2]\n",
    "    # Instantiate the model object\n",
    "    model = model_class(**model_params)\n",
    "    # Fits the model with the reduced data\n",
    "    model.fit(reduced_data, y)\n",
    "\n",
    "    # Step size of the mesh. Decrease to increase the quality of the VQ.\n",
    "    h = .02     # point in the mesh [x_min, m_max]x[y_min, y_max].    \n",
    "\n",
    "    # Plot the decision boundary. For that, we will assign a color to each\n",
    "    x_min, x_max = reduced_data[:, 0].min() - 1, reduced_data[:, 0].max() + 1\n",
    "    y_min, y_max = reduced_data[:, 1].min() - 1, reduced_data[:, 1].max() + 1\n",
    "    # Meshgrid creation\n",
    "    xx, yy = np.meshgrid(np.arange(x_min, x_max, h), np.arange(y_min, y_max, h))\n",
    "\n",
    "    # Obtain labels for each point in mesh using the model.\n",
    "    Z = model.predict(np.c_[xx.ravel(), yy.ravel()])    \n",
    "\n",
    "    x_min, x_max = X[:, 0].min() - 1, X[:, 0].max() + 1\n",
    "    y_min, y_max = X[:, 1].min() - 1, X[:, 1].max() + 1\n",
    "    xx, yy = np.meshgrid(np.arange(x_min, x_max, 0.1),\n",
    "                         np.arange(y_min, y_max, 0.1))\n",
    "\n",
    "    # Predictions to obtain the classification results\n",
    "    Z = model.predict(np.c_[xx.ravel(), yy.ravel()]).reshape(xx.shape)\n",
    "    \n",
    "    # Right now it only works with binary tasks: expand both dictionaries or use cmap for multiclass tasks\n",
    "    colors = {0:\"red\", 1:\"green\", 2: \"blue\", 3: \"black\", 4: \"purple\"}\n",
    "    markers = {0: \"o\", 1: \"^\", 2: \"s\", 3: \"D\", 4: \"+\"}\n",
    "    \n",
    "    # Plotting\n",
    "    plt.contourf(xx, yy, Z, alpha=0.5, cmap='RdYlGn')\n",
    "    for class_v in classes:\n",
    "        imask = y == class_v\n",
    "        plt.scatter(X[imask, 0], X[imask, 1], c=colors[class_v], alpha=0.8, marker=markers[class_v])\n",
    "    \n",
    "    plt.xlabel(\"x1\",fontsize=15)\n",
    "    plt.ylabel(\"x2\",fontsize=15)\n",
    "    plt.xticks(fontsize=14)\n",
    "    plt.yticks(fontsize=14)\n",
    "\n",
    "    return plt"
   ]
  },
  {
   "cell_type": "code",
   "execution_count": 25,
   "metadata": {},
   "outputs": [
    {
     "data": {
      "image/png": "[encoded data removed]",
      "text/plain": [
       "<Figure size 640x480 with 1 Axes>"
      ]
     },
     "metadata": {},
     "output_type": "display_data"
    }
   ],
   "source": [
    "plot_decision_boundaries(X_train, y_train, KNNClassifier, k=3, p=2, verbose=False)\n",
    "plt.show()"
   ]
  },
  {
   "attachments": {},
   "cell_type": "markdown",
   "metadata": {},
   "source": [
    "# Tarefa:"
   ]
  }
 ],
 "metadata": {
  "kernelspec": {
   "display_name": "uel",
   "language": "python",
   "name": "python3"
  },
  "language_info": {
   "codemirror_mode": {
    "name": "ipython",
    "version": 3
   },
   "file_extension": ".py",
   "mimetype": "text/x-python",
   "name": "python",
   "nbconvert_exporter": "python",
   "pygments_lexer": "ipython3",
   "version": "3.9.16"
  },
  "orig_nbformat": 4,
  "vscode": {
   "interpreter": {
    "hash": "ecc03869faa965a79c0f9cb0e2d41545d4cdd523e34946938b45eb81f66572dd"
   }
  }
 },
 "nbformat": 4,
 "nbformat_minor": 2
}
