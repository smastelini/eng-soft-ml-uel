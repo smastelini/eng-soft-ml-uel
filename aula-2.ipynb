{
 "cells": [
  {
   "cell_type": "markdown",
   "metadata": {},
   "source": [
    "# Aula 2\n",
    "\n",
    "---\n",
    "\n",
    "**Saulo Martiello Mastelini**<br>\n",
    "Candidato a Ph.D. pelo ICMC-USP<br>\n",
    "Online Machine Learning\n",
    "\n",
    "Página pessoal: [smastelini](https://smastelini.github.io/)</br>\n",
    "e-mail: saulomastelini@gmail.com\n",
    "\n",
    "---\n",
    "\n",
    "## Sumário:\n",
    "\n",
    "- Algoritmos baseados em distância\n",
    "- Particionamento de dados para avaliação: Holdout e Holdout repetido\n",
    "- Métricas de avaliação para classificação\n",
    "\n",
    "---"
   ]
  },
  {
   "cell_type": "code",
   "execution_count": 1,
   "metadata": {},
   "outputs": [],
   "source": [
    "import abc  # Classes abstratas (mais sobre isso depois)\n",
    "\n",
    "import numpy as np   # Math\n",
    "import pandas as pd  # Dados\n",
    "\n",
    "import plotly.express as px  # Plots\n",
    "import matplotlib.pyplot as plt\n",
    "\n",
    "from sklearn.datasets import make_classification  # Geração de datasets\n",
    "from sklearn import metrics  # Metrics\n",
    "from sklearn.model_selection import train_test_split  # Split dos dados"
   ]
  },
  {
   "cell_type": "markdown",
   "metadata": {},
   "source": [
    "## 1. Contextualização"
   ]
  },
  {
   "cell_type": "markdown",
   "metadata": {},
   "source": [
    "Vamos definir alguns vetores para teste:"
   ]
  },
  {
   "cell_type": "code",
   "execution_count": 2,
   "metadata": {},
   "outputs": [],
   "source": [
    "a = np.array([1, 2])\n",
    "b = np.array([2, 3])\n",
    "c = np.array([3, 5])"
   ]
  },
  {
   "cell_type": "markdown",
   "metadata": {},
   "source": [
    "- Precisamos definir a nossa noção de distância\n",
    "- Exemplos\n",
    "- Com o que estamos lidando aqui?"
   ]
  },
  {
   "cell_type": "code",
   "execution_count": 3,
   "metadata": {},
   "outputs": [
    {
     "data": {
      "application/vnd.plotly.v1+json": {
       "config": {
        "plotlyServerURL": "https://plot.ly"
       },
       "data": [
        {
         "hovertemplate": "x=%{x}<br>y=%{y}<extra></extra>",
         "legendgroup": "",
         "marker": {
          "color": "#636efa",
          "symbol": "circle"
         },
         "mode": "markers",
         "name": "",
         "orientation": "v",
         "showlegend": false,
         "type": "scatter",
         "x": [
          1,
          2,
          3
         ],
         "xaxis": "x",
         "y": [
          2,
          3,
          5
         ],
         "yaxis": "y"
        }
       ],
       "layout": {
        "autosize": false,
        "height": 500,
        "legend": {
         "tracegroupgap": 0
        },
        "margin": {
         "t": 60
        },
        "template": {
         "data": {
          "bar": [
           {
            "error_x": {
             "color": "#2a3f5f"
            },
            "error_y": {
             "color": "#2a3f5f"
            },
            "marker": {
             "line": {
              "color": "#E5ECF6",
              "width": 0.5
             },
             "pattern": {
              "fillmode": "overlay",
              "size": 10,
              "solidity": 0.2
             }
            },
            "type": "bar"
           }
          ],
          "barpolar": [
           {
            "marker": {
             "line": {
              "color": "#E5ECF6",
              "width": 0.5
             },
             "pattern": {
              "fillmode": "overlay",
              "size": 10,
              "solidity": 0.2
             }
            },
            "type": "barpolar"
           }
          ],
          "carpet": [
           {
            "aaxis": {
             "endlinecolor": "#2a3f5f",
             "gridcolor": "white",
             "linecolor": "white",
             "minorgridcolor": "white",
             "startlinecolor": "#2a3f5f"
            },
            "baxis": {
             "endlinecolor": "#2a3f5f",
             "gridcolor": "white",
             "linecolor": "white",
             "minorgridcolor": "white",
             "startlinecolor": "#2a3f5f"
            },
            "type": "carpet"
           }
          ],
          "choropleth": [
           {
            "colorbar": {
             "outlinewidth": 0,
             "ticks": ""
            },
            "type": "choropleth"
           }
          ],
          "contour": [
           {
            "colorbar": {
             "outlinewidth": 0,
             "ticks": ""
            },
            "colorscale": [
             [
              0,
              "#0d0887"
             ],
             [
              0.1111111111111111,
              "#46039f"
             ],
             [
              0.2222222222222222,
              "#7201a8"
             ],
             [
              0.3333333333333333,
              "#9c179e"
             ],
             [
              0.4444444444444444,
              "#bd3786"
             ],
             [
              0.5555555555555556,
              "#d8576b"
             ],
             [
              0.6666666666666666,
              "#ed7953"
             ],
             [
              0.7777777777777778,
              "#fb9f3a"
             ],
             [
              0.8888888888888888,
              "#fdca26"
             ],
             [
              1,
              "#f0f921"
             ]
            ],
            "type": "contour"
           }
          ],
          "contourcarpet": [
           {
            "colorbar": {
             "outlinewidth": 0,
             "ticks": ""
            },
            "type": "contourcarpet"
           }
          ],
          "heatmap": [
           {
            "colorbar": {
             "outlinewidth": 0,
             "ticks": ""
            },
            "colorscale": [
             [
              0,
              "#0d0887"
             ],
             [
              0.1111111111111111,
              "#46039f"
             ],
             [
              0.2222222222222222,
              "#7201a8"
             ],
             [
              0.3333333333333333,
              "#9c179e"
             ],
             [
              0.4444444444444444,
              "#bd3786"
             ],
             [
              0.5555555555555556,
              "#d8576b"
             ],
             [
              0.6666666666666666,
              "#ed7953"
             ],
             [
              0.7777777777777778,
              "#fb9f3a"
             ],
             [
              0.8888888888888888,
              "#fdca26"
             ],
             [
              1,
              "#f0f921"
             ]
            ],
            "type": "heatmap"
           }
          ],
          "heatmapgl": [
           {
            "colorbar": {
             "outlinewidth": 0,
             "ticks": ""
            },
            "colorscale": [
             [
              0,
              "#0d0887"
             ],
             [
              0.1111111111111111,
              "#46039f"
             ],
             [
              0.2222222222222222,
              "#7201a8"
             ],
             [
              0.3333333333333333,
              "#9c179e"
             ],
             [
              0.4444444444444444,
              "#bd3786"
             ],
             [
              0.5555555555555556,
              "#d8576b"
             ],
             [
              0.6666666666666666,
              "#ed7953"
             ],
             [
              0.7777777777777778,
              "#fb9f3a"
             ],
             [
              0.8888888888888888,
              "#fdca26"
             ],
             [
              1,
              "#f0f921"
             ]
            ],
            "type": "heatmapgl"
           }
          ],
          "histogram": [
           {
            "marker": {
             "pattern": {
              "fillmode": "overlay",
              "size": 10,
              "solidity": 0.2
             }
            },
            "type": "histogram"
           }
          ],
          "histogram2d": [
           {
            "colorbar": {
             "outlinewidth": 0,
             "ticks": ""
            },
            "colorscale": [
             [
              0,
              "#0d0887"
             ],
             [
              0.1111111111111111,
              "#46039f"
             ],
             [
              0.2222222222222222,
              "#7201a8"
             ],
             [
              0.3333333333333333,
              "#9c179e"
             ],
             [
              0.4444444444444444,
              "#bd3786"
             ],
             [
              0.5555555555555556,
              "#d8576b"
             ],
             [
              0.6666666666666666,
              "#ed7953"
             ],
             [
              0.7777777777777778,
              "#fb9f3a"
             ],
             [
              0.8888888888888888,
              "#fdca26"
             ],
             [
              1,
              "#f0f921"
             ]
            ],
            "type": "histogram2d"
           }
          ],
          "histogram2dcontour": [
           {
            "colorbar": {
             "outlinewidth": 0,
             "ticks": ""
            },
            "colorscale": [
             [
              0,
              "#0d0887"
             ],
             [
              0.1111111111111111,
              "#46039f"
             ],
             [
              0.2222222222222222,
              "#7201a8"
             ],
             [
              0.3333333333333333,
              "#9c179e"
             ],
             [
              0.4444444444444444,
              "#bd3786"
             ],
             [
              0.5555555555555556,
              "#d8576b"
             ],
             [
              0.6666666666666666,
              "#ed7953"
             ],
             [
              0.7777777777777778,
              "#fb9f3a"
             ],
             [
              0.8888888888888888,
              "#fdca26"
             ],
             [
              1,
              "#f0f921"
             ]
            ],
            "type": "histogram2dcontour"
           }
          ],
          "mesh3d": [
           {
            "colorbar": {
             "outlinewidth": 0,
             "ticks": ""
            },
            "type": "mesh3d"
           }
          ],
          "parcoords": [
           {
            "line": {
             "colorbar": {
              "outlinewidth": 0,
              "ticks": ""
             }
            },
            "type": "parcoords"
           }
          ],
          "pie": [
           {
            "automargin": true,
            "type": "pie"
           }
          ],
          "scatter": [
           {
            "fillpattern": {
             "fillmode": "overlay",
             "size": 10,
             "solidity": 0.2
            },
            "type": "scatter"
           }
          ],
          "scatter3d": [
           {
            "line": {
             "colorbar": {
              "outlinewidth": 0,
              "ticks": ""
             }
            },
            "marker": {
             "colorbar": {
              "outlinewidth": 0,
              "ticks": ""
             }
            },
            "type": "scatter3d"
           }
          ],
          "scattercarpet": [
           {
            "marker": {
             "colorbar": {
              "outlinewidth": 0,
              "ticks": ""
             }
            },
            "type": "scattercarpet"
           }
          ],
          "scattergeo": [
           {
            "marker": {
             "colorbar": {
              "outlinewidth": 0,
              "ticks": ""
             }
            },
            "type": "scattergeo"
           }
          ],
          "scattergl": [
           {
            "marker": {
             "colorbar": {
              "outlinewidth": 0,
              "ticks": ""
             }
            },
            "type": "scattergl"
           }
          ],
          "scattermapbox": [
           {
            "marker": {
             "colorbar": {
              "outlinewidth": 0,
              "ticks": ""
             }
            },
            "type": "scattermapbox"
           }
          ],
          "scatterpolar": [
           {
            "marker": {
             "colorbar": {
              "outlinewidth": 0,
              "ticks": ""
             }
            },
            "type": "scatterpolar"
           }
          ],
          "scatterpolargl": [
           {
            "marker": {
             "colorbar": {
              "outlinewidth": 0,
              "ticks": ""
             }
            },
            "type": "scatterpolargl"
           }
          ],
          "scatterternary": [
           {
            "marker": {
             "colorbar": {
              "outlinewidth": 0,
              "ticks": ""
             }
            },
            "type": "scatterternary"
           }
          ],
          "surface": [
           {
            "colorbar": {
             "outlinewidth": 0,
             "ticks": ""
            },
            "colorscale": [
             [
              0,
              "#0d0887"
             ],
             [
              0.1111111111111111,
              "#46039f"
             ],
             [
              0.2222222222222222,
              "#7201a8"
             ],
             [
              0.3333333333333333,
              "#9c179e"
             ],
             [
              0.4444444444444444,
              "#bd3786"
             ],
             [
              0.5555555555555556,
              "#d8576b"
             ],
             [
              0.6666666666666666,
              "#ed7953"
             ],
             [
              0.7777777777777778,
              "#fb9f3a"
             ],
             [
              0.8888888888888888,
              "#fdca26"
             ],
             [
              1,
              "#f0f921"
             ]
            ],
            "type": "surface"
           }
          ],
          "table": [
           {
            "cells": {
             "fill": {
              "color": "#EBF0F8"
             },
             "line": {
              "color": "white"
             }
            },
            "header": {
             "fill": {
              "color": "#C8D4E3"
             },
             "line": {
              "color": "white"
             }
            },
            "type": "table"
           }
          ]
         },
         "layout": {
          "annotationdefaults": {
           "arrowcolor": "#2a3f5f",
           "arrowhead": 0,
           "arrowwidth": 1
          },
          "autotypenumbers": "strict",
          "coloraxis": {
           "colorbar": {
            "outlinewidth": 0,
            "ticks": ""
           }
          },
          "colorscale": {
           "diverging": [
            [
             0,
             "#8e0152"
            ],
            [
             0.1,
             "#c51b7d"
            ],
            [
             0.2,
             "#de77ae"
            ],
            [
             0.3,
             "#f1b6da"
            ],
            [
             0.4,
             "#fde0ef"
            ],
            [
             0.5,
             "#f7f7f7"
            ],
            [
             0.6,
             "#e6f5d0"
            ],
            [
             0.7,
             "#b8e186"
            ],
            [
             0.8,
             "#7fbc41"
            ],
            [
             0.9,
             "#4d9221"
            ],
            [
             1,
             "#276419"
            ]
           ],
           "sequential": [
            [
             0,
             "#0d0887"
            ],
            [
             0.1111111111111111,
             "#46039f"
            ],
            [
             0.2222222222222222,
             "#7201a8"
            ],
            [
             0.3333333333333333,
             "#9c179e"
            ],
            [
             0.4444444444444444,
             "#bd3786"
            ],
            [
             0.5555555555555556,
             "#d8576b"
            ],
            [
             0.6666666666666666,
             "#ed7953"
            ],
            [
             0.7777777777777778,
             "#fb9f3a"
            ],
            [
             0.8888888888888888,
             "#fdca26"
            ],
            [
             1,
             "#f0f921"
            ]
           ],
           "sequentialminus": [
            [
             0,
             "#0d0887"
            ],
            [
             0.1111111111111111,
             "#46039f"
            ],
            [
             0.2222222222222222,
             "#7201a8"
            ],
            [
             0.3333333333333333,
             "#9c179e"
            ],
            [
             0.4444444444444444,
             "#bd3786"
            ],
            [
             0.5555555555555556,
             "#d8576b"
            ],
            [
             0.6666666666666666,
             "#ed7953"
            ],
            [
             0.7777777777777778,
             "#fb9f3a"
            ],
            [
             0.8888888888888888,
             "#fdca26"
            ],
            [
             1,
             "#f0f921"
            ]
           ]
          },
          "colorway": [
           "#636efa",
           "#EF553B",
           "#00cc96",
           "#ab63fa",
           "#FFA15A",
           "#19d3f3",
           "#FF6692",
           "#B6E880",
           "#FF97FF",
           "#FECB52"
          ],
          "font": {
           "color": "#2a3f5f"
          },
          "geo": {
           "bgcolor": "white",
           "lakecolor": "white",
           "landcolor": "#E5ECF6",
           "showlakes": true,
           "showland": true,
           "subunitcolor": "white"
          },
          "hoverlabel": {
           "align": "left"
          },
          "hovermode": "closest",
          "mapbox": {
           "style": "light"
          },
          "paper_bgcolor": "white",
          "plot_bgcolor": "#E5ECF6",
          "polar": {
           "angularaxis": {
            "gridcolor": "white",
            "linecolor": "white",
            "ticks": ""
           },
           "bgcolor": "#E5ECF6",
           "radialaxis": {
            "gridcolor": "white",
            "linecolor": "white",
            "ticks": ""
           }
          },
          "scene": {
           "xaxis": {
            "backgroundcolor": "#E5ECF6",
            "gridcolor": "white",
            "gridwidth": 2,
            "linecolor": "white",
            "showbackground": true,
            "ticks": "",
            "zerolinecolor": "white"
           },
           "yaxis": {
            "backgroundcolor": "#E5ECF6",
            "gridcolor": "white",
            "gridwidth": 2,
            "linecolor": "white",
            "showbackground": true,
            "ticks": "",
            "zerolinecolor": "white"
           },
           "zaxis": {
            "backgroundcolor": "#E5ECF6",
            "gridcolor": "white",
            "gridwidth": 2,
            "linecolor": "white",
            "showbackground": true,
            "ticks": "",
            "zerolinecolor": "white"
           }
          },
          "shapedefaults": {
           "line": {
            "color": "#2a3f5f"
           }
          },
          "ternary": {
           "aaxis": {
            "gridcolor": "white",
            "linecolor": "white",
            "ticks": ""
           },
           "baxis": {
            "gridcolor": "white",
            "linecolor": "white",
            "ticks": ""
           },
           "bgcolor": "#E5ECF6",
           "caxis": {
            "gridcolor": "white",
            "linecolor": "white",
            "ticks": ""
           }
          },
          "title": {
           "x": 0.05
          },
          "xaxis": {
           "automargin": true,
           "gridcolor": "white",
           "linecolor": "white",
           "ticks": "",
           "title": {
            "standoff": 15
           },
           "zerolinecolor": "white",
           "zerolinewidth": 2
          },
          "yaxis": {
           "automargin": true,
           "gridcolor": "white",
           "linecolor": "white",
           "ticks": "",
           "title": {
            "standoff": 15
           },
           "zerolinecolor": "white",
           "zerolinewidth": 2
          }
         }
        },
        "width": 600,
        "xaxis": {
         "anchor": "y",
         "domain": [
          0,
          1
         ],
         "title": {
          "text": "x"
         }
        },
        "yaxis": {
         "anchor": "x",
         "domain": [
          0,
          1
         ],
         "title": {
          "text": "y"
         }
        }
       }
      }
     },
     "metadata": {},
     "output_type": "display_data"
    }
   ],
   "source": [
    "fig = px.scatter(x=[a[0], b[0], c[0]], y=[a[1], b[1], c[1]])\n",
    "fig.update_layout(\n",
    "    autosize=False,\n",
    "    width=600,\n",
    "    height=500\n",
    ")\n",
    "fig.show()"
   ]
  },
  {
   "cell_type": "markdown",
   "metadata": {},
   "source": [
    "- Espaço 2D\n",
    "    - Tipicamente lidamos com espaços N-dimensionais\n",
    "- Precisamos de medidas para calcular distâncias\n",
    "- Vamos começar com uma métrica de distância muito famosa: Distância Euclidiana\n",
    "    - $dist_{l2}(\\vec{u}, \\vec{v}) = \\sqrt{\\sum_i^n (u_i - v_i) ^2}$\n",
    "- Vamos usar o numpy para nos ajudar com as funções matemáticas necessárias"
   ]
  },
  {
   "cell_type": "code",
   "execution_count": 4,
   "metadata": {},
   "outputs": [],
   "source": [
    "def euclidean_dist(v1, v2):\n",
    "    sq_diff = (v1 - v2) ** 2\n",
    "\n",
    "    # Condicional para tratar tanto vetores quanto matrizes\n",
    "    if len(v1.shape) > 1:\n",
    "        sq_diff = np.sum(sq_diff, axis=1)\n",
    "    else:\n",
    "        sq_diff = np.sum(sq_diff)\n",
    "    return sq_diff ** 0.5\n"
   ]
  },
  {
   "cell_type": "code",
   "execution_count": 5,
   "metadata": {},
   "outputs": [
    {
     "data": {
      "text/plain": [
       "1.4142135623730951"
      ]
     },
     "execution_count": 5,
     "metadata": {},
     "output_type": "execute_result"
    }
   ],
   "source": [
    "euclidean_dist(a, b)"
   ]
  },
  {
   "cell_type": "code",
   "execution_count": 6,
   "metadata": {},
   "outputs": [
    {
     "data": {
      "text/plain": [
       "3.605551275463989"
      ]
     },
     "execution_count": 6,
     "metadata": {},
     "output_type": "execute_result"
    }
   ],
   "source": [
    "euclidean_dist(a, c)"
   ]
  },
  {
   "cell_type": "code",
   "execution_count": 7,
   "metadata": {},
   "outputs": [
    {
     "data": {
      "text/plain": [
       "2.23606797749979"
      ]
     },
     "execution_count": 7,
     "metadata": {},
     "output_type": "execute_result"
    }
   ],
   "source": [
    "euclidean_dist(b, c)"
   ]
  },
  {
   "cell_type": "markdown",
   "metadata": {},
   "source": [
    "- Podemos tirar proveito da vetorização!\n",
    "    - O que é isso?"
   ]
  },
  {
   "cell_type": "code",
   "execution_count": 8,
   "metadata": {},
   "outputs": [
    {
     "data": {
      "text/plain": [
       "(2, 2)"
      ]
     },
     "execution_count": 8,
     "metadata": {},
     "output_type": "execute_result"
    }
   ],
   "source": [
    "d = np.array([[1, 2], [3, 4]])\n",
    "d.shape"
   ]
  },
  {
   "cell_type": "code",
   "execution_count": 9,
   "metadata": {},
   "outputs": [
    {
     "data": {
      "text/plain": [
       "array([[1, 2],\n",
       "       [3, 4]])"
      ]
     },
     "execution_count": 9,
     "metadata": {},
     "output_type": "execute_result"
    }
   ],
   "source": [
    "d"
   ]
  },
  {
   "cell_type": "code",
   "execution_count": 10,
   "metadata": {},
   "outputs": [
    {
     "data": {
      "text/plain": [
       "array([0.        , 2.82842712])"
      ]
     },
     "execution_count": 10,
     "metadata": {},
     "output_type": "execute_result"
    }
   ],
   "source": [
    "euclidean_dist(d, a)"
   ]
  },
  {
   "cell_type": "markdown",
   "metadata": {},
   "source": [
    "**Cenário mais realístico - parte 1**\n",
    "\n",
    "- Vamos imaginar um cenário mais prático\n",
    "- Vários pontos num espaço N-dimensional (o nosso dataset)\n"
   ]
  },
  {
   "cell_type": "code",
   "execution_count": 11,
   "metadata": {},
   "outputs": [
    {
     "data": {
      "text/plain": [
       "array([[1, 2, 3],\n",
       "       [2, 3, 4],\n",
       "       [3, 4, 7],\n",
       "       [3, 5, 2]])"
      ]
     },
     "execution_count": 11,
     "metadata": {},
     "output_type": "execute_result"
    }
   ],
   "source": [
    "e = np.array(\n",
    "    [\n",
    "        [1, 2, 3],\n",
    "        [2, 3, 4],\n",
    "        [3, 4, 7],\n",
    "        [3, 5, 2]\n",
    "    ]\n",
    ")\n",
    "e"
   ]
  },
  {
   "cell_type": "code",
   "execution_count": 12,
   "metadata": {},
   "outputs": [
    {
     "data": {
      "application/vnd.plotly.v1+json": {
       "config": {
        "plotlyServerURL": "https://plot.ly"
       },
       "data": [
        {
         "hovertemplate": "x=%{x}<br>y=%{y}<br>z=%{z}<extra></extra>",
         "legendgroup": "",
         "marker": {
          "color": "#636efa",
          "symbol": "circle"
         },
         "mode": "markers",
         "name": "",
         "scene": "scene",
         "showlegend": false,
         "type": "scatter3d",
         "x": [
          1,
          2,
          3,
          3
         ],
         "y": [
          2,
          3,
          4,
          5
         ],
         "z": [
          3,
          4,
          7,
          2
         ]
        }
       ],
       "layout": {
        "autosize": false,
        "height": 500,
        "legend": {
         "tracegroupgap": 0
        },
        "margin": {
         "t": 60
        },
        "scene": {
         "domain": {
          "x": [
           0,
           1
          ],
          "y": [
           0,
           1
          ]
         },
         "xaxis": {
          "title": {
           "text": "x"
          }
         },
         "yaxis": {
          "title": {
           "text": "y"
          }
         },
         "zaxis": {
          "title": {
           "text": "z"
          }
         }
        },
        "template": {
         "data": {
          "bar": [
           {
            "error_x": {
             "color": "#2a3f5f"
            },
            "error_y": {
             "color": "#2a3f5f"
            },
            "marker": {
             "line": {
              "color": "#E5ECF6",
              "width": 0.5
             },
             "pattern": {
              "fillmode": "overlay",
              "size": 10,
              "solidity": 0.2
             }
            },
            "type": "bar"
           }
          ],
          "barpolar": [
           {
            "marker": {
             "line": {
              "color": "#E5ECF6",
              "width": 0.5
             },
             "pattern": {
              "fillmode": "overlay",
              "size": 10,
              "solidity": 0.2
             }
            },
            "type": "barpolar"
           }
          ],
          "carpet": [
           {
            "aaxis": {
             "endlinecolor": "#2a3f5f",
             "gridcolor": "white",
             "linecolor": "white",
             "minorgridcolor": "white",
             "startlinecolor": "#2a3f5f"
            },
            "baxis": {
             "endlinecolor": "#2a3f5f",
             "gridcolor": "white",
             "linecolor": "white",
             "minorgridcolor": "white",
             "startlinecolor": "#2a3f5f"
            },
            "type": "carpet"
           }
          ],
          "choropleth": [
           {
            "colorbar": {
             "outlinewidth": 0,
             "ticks": ""
            },
            "type": "choropleth"
           }
          ],
          "contour": [
           {
            "colorbar": {
             "outlinewidth": 0,
             "ticks": ""
            },
            "colorscale": [
             [
              0,
              "#0d0887"
             ],
             [
              0.1111111111111111,
              "#46039f"
             ],
             [
              0.2222222222222222,
              "#7201a8"
             ],
             [
              0.3333333333333333,
              "#9c179e"
             ],
             [
              0.4444444444444444,
              "#bd3786"
             ],
             [
              0.5555555555555556,
              "#d8576b"
             ],
             [
              0.6666666666666666,
              "#ed7953"
             ],
             [
              0.7777777777777778,
              "#fb9f3a"
             ],
             [
              0.8888888888888888,
              "#fdca26"
             ],
             [
              1,
              "#f0f921"
             ]
            ],
            "type": "contour"
           }
          ],
          "contourcarpet": [
           {
            "colorbar": {
             "outlinewidth": 0,
             "ticks": ""
            },
            "type": "contourcarpet"
           }
          ],
          "heatmap": [
           {
            "colorbar": {
             "outlinewidth": 0,
             "ticks": ""
            },
            "colorscale": [
             [
              0,
              "#0d0887"
             ],
             [
              0.1111111111111111,
              "#46039f"
             ],
             [
              0.2222222222222222,
              "#7201a8"
             ],
             [
              0.3333333333333333,
              "#9c179e"
             ],
             [
              0.4444444444444444,
              "#bd3786"
             ],
             [
              0.5555555555555556,
              "#d8576b"
             ],
             [
              0.6666666666666666,
              "#ed7953"
             ],
             [
              0.7777777777777778,
              "#fb9f3a"
             ],
             [
              0.8888888888888888,
              "#fdca26"
             ],
             [
              1,
              "#f0f921"
             ]
            ],
            "type": "heatmap"
           }
          ],
          "heatmapgl": [
           {
            "colorbar": {
             "outlinewidth": 0,
             "ticks": ""
            },
            "colorscale": [
             [
              0,
              "#0d0887"
             ],
             [
              0.1111111111111111,
              "#46039f"
             ],
             [
              0.2222222222222222,
              "#7201a8"
             ],
             [
              0.3333333333333333,
              "#9c179e"
             ],
             [
              0.4444444444444444,
              "#bd3786"
             ],
             [
              0.5555555555555556,
              "#d8576b"
             ],
             [
              0.6666666666666666,
              "#ed7953"
             ],
             [
              0.7777777777777778,
              "#fb9f3a"
             ],
             [
              0.8888888888888888,
              "#fdca26"
             ],
             [
              1,
              "#f0f921"
             ]
            ],
            "type": "heatmapgl"
           }
          ],
          "histogram": [
           {
            "marker": {
             "pattern": {
              "fillmode": "overlay",
              "size": 10,
              "solidity": 0.2
             }
            },
            "type": "histogram"
           }
          ],
          "histogram2d": [
           {
            "colorbar": {
             "outlinewidth": 0,
             "ticks": ""
            },
            "colorscale": [
             [
              0,
              "#0d0887"
             ],
             [
              0.1111111111111111,
              "#46039f"
             ],
             [
              0.2222222222222222,
              "#7201a8"
             ],
             [
              0.3333333333333333,
              "#9c179e"
             ],
             [
              0.4444444444444444,
              "#bd3786"
             ],
             [
              0.5555555555555556,
              "#d8576b"
             ],
             [
              0.6666666666666666,
              "#ed7953"
             ],
             [
              0.7777777777777778,
              "#fb9f3a"
             ],
             [
              0.8888888888888888,
              "#fdca26"
             ],
             [
              1,
              "#f0f921"
             ]
            ],
            "type": "histogram2d"
           }
          ],
          "histogram2dcontour": [
           {
            "colorbar": {
             "outlinewidth": 0,
             "ticks": ""
            },
            "colorscale": [
             [
              0,
              "#0d0887"
             ],
             [
              0.1111111111111111,
              "#46039f"
             ],
             [
              0.2222222222222222,
              "#7201a8"
             ],
             [
              0.3333333333333333,
              "#9c179e"
             ],
             [
              0.4444444444444444,
              "#bd3786"
             ],
             [
              0.5555555555555556,
              "#d8576b"
             ],
             [
              0.6666666666666666,
              "#ed7953"
             ],
             [
              0.7777777777777778,
              "#fb9f3a"
             ],
             [
              0.8888888888888888,
              "#fdca26"
             ],
             [
              1,
              "#f0f921"
             ]
            ],
            "type": "histogram2dcontour"
           }
          ],
          "mesh3d": [
           {
            "colorbar": {
             "outlinewidth": 0,
             "ticks": ""
            },
            "type": "mesh3d"
           }
          ],
          "parcoords": [
           {
            "line": {
             "colorbar": {
              "outlinewidth": 0,
              "ticks": ""
             }
            },
            "type": "parcoords"
           }
          ],
          "pie": [
           {
            "automargin": true,
            "type": "pie"
           }
          ],
          "scatter": [
           {
            "fillpattern": {
             "fillmode": "overlay",
             "size": 10,
             "solidity": 0.2
            },
            "type": "scatter"
           }
          ],
          "scatter3d": [
           {
            "line": {
             "colorbar": {
              "outlinewidth": 0,
              "ticks": ""
             }
            },
            "marker": {
             "colorbar": {
              "outlinewidth": 0,
              "ticks": ""
             }
            },
            "type": "scatter3d"
           }
          ],
          "scattercarpet": [
           {
            "marker": {
             "colorbar": {
              "outlinewidth": 0,
              "ticks": ""
             }
            },
            "type": "scattercarpet"
           }
          ],
          "scattergeo": [
           {
            "marker": {
             "colorbar": {
              "outlinewidth": 0,
              "ticks": ""
             }
            },
            "type": "scattergeo"
           }
          ],
          "scattergl": [
           {
            "marker": {
             "colorbar": {
              "outlinewidth": 0,
              "ticks": ""
             }
            },
            "type": "scattergl"
           }
          ],
          "scattermapbox": [
           {
            "marker": {
             "colorbar": {
              "outlinewidth": 0,
              "ticks": ""
             }
            },
            "type": "scattermapbox"
           }
          ],
          "scatterpolar": [
           {
            "marker": {
             "colorbar": {
              "outlinewidth": 0,
              "ticks": ""
             }
            },
            "type": "scatterpolar"
           }
          ],
          "scatterpolargl": [
           {
            "marker": {
             "colorbar": {
              "outlinewidth": 0,
              "ticks": ""
             }
            },
            "type": "scatterpolargl"
           }
          ],
          "scatterternary": [
           {
            "marker": {
             "colorbar": {
              "outlinewidth": 0,
              "ticks": ""
             }
            },
            "type": "scatterternary"
           }
          ],
          "surface": [
           {
            "colorbar": {
             "outlinewidth": 0,
             "ticks": ""
            },
            "colorscale": [
             [
              0,
              "#0d0887"
             ],
             [
              0.1111111111111111,
              "#46039f"
             ],
             [
              0.2222222222222222,
              "#7201a8"
             ],
             [
              0.3333333333333333,
              "#9c179e"
             ],
             [
              0.4444444444444444,
              "#bd3786"
             ],
             [
              0.5555555555555556,
              "#d8576b"
             ],
             [
              0.6666666666666666,
              "#ed7953"
             ],
             [
              0.7777777777777778,
              "#fb9f3a"
             ],
             [
              0.8888888888888888,
              "#fdca26"
             ],
             [
              1,
              "#f0f921"
             ]
            ],
            "type": "surface"
           }
          ],
          "table": [
           {
            "cells": {
             "fill": {
              "color": "#EBF0F8"
             },
             "line": {
              "color": "white"
             }
            },
            "header": {
             "fill": {
              "color": "#C8D4E3"
             },
             "line": {
              "color": "white"
             }
            },
            "type": "table"
           }
          ]
         },
         "layout": {
          "annotationdefaults": {
           "arrowcolor": "#2a3f5f",
           "arrowhead": 0,
           "arrowwidth": 1
          },
          "autotypenumbers": "strict",
          "coloraxis": {
           "colorbar": {
            "outlinewidth": 0,
            "ticks": ""
           }
          },
          "colorscale": {
           "diverging": [
            [
             0,
             "#8e0152"
            ],
            [
             0.1,
             "#c51b7d"
            ],
            [
             0.2,
             "#de77ae"
            ],
            [
             0.3,
             "#f1b6da"
            ],
            [
             0.4,
             "#fde0ef"
            ],
            [
             0.5,
             "#f7f7f7"
            ],
            [
             0.6,
             "#e6f5d0"
            ],
            [
             0.7,
             "#b8e186"
            ],
            [
             0.8,
             "#7fbc41"
            ],
            [
             0.9,
             "#4d9221"
            ],
            [
             1,
             "#276419"
            ]
           ],
           "sequential": [
            [
             0,
             "#0d0887"
            ],
            [
             0.1111111111111111,
             "#46039f"
            ],
            [
             0.2222222222222222,
             "#7201a8"
            ],
            [
             0.3333333333333333,
             "#9c179e"
            ],
            [
             0.4444444444444444,
             "#bd3786"
            ],
            [
             0.5555555555555556,
             "#d8576b"
            ],
            [
             0.6666666666666666,
             "#ed7953"
            ],
            [
             0.7777777777777778,
             "#fb9f3a"
            ],
            [
             0.8888888888888888,
             "#fdca26"
            ],
            [
             1,
             "#f0f921"
            ]
           ],
           "sequentialminus": [
            [
             0,
             "#0d0887"
            ],
            [
             0.1111111111111111,
             "#46039f"
            ],
            [
             0.2222222222222222,
             "#7201a8"
            ],
            [
             0.3333333333333333,
             "#9c179e"
            ],
            [
             0.4444444444444444,
             "#bd3786"
            ],
            [
             0.5555555555555556,
             "#d8576b"
            ],
            [
             0.6666666666666666,
             "#ed7953"
            ],
            [
             0.7777777777777778,
             "#fb9f3a"
            ],
            [
             0.8888888888888888,
             "#fdca26"
            ],
            [
             1,
             "#f0f921"
            ]
           ]
          },
          "colorway": [
           "#636efa",
           "#EF553B",
           "#00cc96",
           "#ab63fa",
           "#FFA15A",
           "#19d3f3",
           "#FF6692",
           "#B6E880",
           "#FF97FF",
           "#FECB52"
          ],
          "font": {
           "color": "#2a3f5f"
          },
          "geo": {
           "bgcolor": "white",
           "lakecolor": "white",
           "landcolor": "#E5ECF6",
           "showlakes": true,
           "showland": true,
           "subunitcolor": "white"
          },
          "hoverlabel": {
           "align": "left"
          },
          "hovermode": "closest",
          "mapbox": {
           "style": "light"
          },
          "paper_bgcolor": "white",
          "plot_bgcolor": "#E5ECF6",
          "polar": {
           "angularaxis": {
            "gridcolor": "white",
            "linecolor": "white",
            "ticks": ""
           },
           "bgcolor": "#E5ECF6",
           "radialaxis": {
            "gridcolor": "white",
            "linecolor": "white",
            "ticks": ""
           }
          },
          "scene": {
           "xaxis": {
            "backgroundcolor": "#E5ECF6",
            "gridcolor": "white",
            "gridwidth": 2,
            "linecolor": "white",
            "showbackground": true,
            "ticks": "",
            "zerolinecolor": "white"
           },
           "yaxis": {
            "backgroundcolor": "#E5ECF6",
            "gridcolor": "white",
            "gridwidth": 2,
            "linecolor": "white",
            "showbackground": true,
            "ticks": "",
            "zerolinecolor": "white"
           },
           "zaxis": {
            "backgroundcolor": "#E5ECF6",
            "gridcolor": "white",
            "gridwidth": 2,
            "linecolor": "white",
            "showbackground": true,
            "ticks": "",
            "zerolinecolor": "white"
           }
          },
          "shapedefaults": {
           "line": {
            "color": "#2a3f5f"
           }
          },
          "ternary": {
           "aaxis": {
            "gridcolor": "white",
            "linecolor": "white",
            "ticks": ""
           },
           "baxis": {
            "gridcolor": "white",
            "linecolor": "white",
            "ticks": ""
           },
           "bgcolor": "#E5ECF6",
           "caxis": {
            "gridcolor": "white",
            "linecolor": "white",
            "ticks": ""
           }
          },
          "title": {
           "x": 0.05
          },
          "xaxis": {
           "automargin": true,
           "gridcolor": "white",
           "linecolor": "white",
           "ticks": "",
           "title": {
            "standoff": 15
           },
           "zerolinecolor": "white",
           "zerolinewidth": 2
          },
          "yaxis": {
           "automargin": true,
           "gridcolor": "white",
           "linecolor": "white",
           "ticks": "",
           "title": {
            "standoff": 15
           },
           "zerolinecolor": "white",
           "zerolinewidth": 2
          }
         }
        },
        "width": 600
       }
      }
     },
     "metadata": {},
     "output_type": "display_data"
    }
   ],
   "source": [
    "fig = px.scatter_3d(x=e[:, 0], y=e[:, 1], z=e[:, 2])\n",
    "fig.update_layout(\n",
    "    autosize=False,\n",
    "    width=600,\n",
    "    height=500\n",
    ")\n",
    "fig.show()"
   ]
  },
  {
   "cell_type": "code",
   "execution_count": 13,
   "metadata": {},
   "outputs": [
    {
     "data": {
      "text/plain": [
       "array([5.10489961, 4.03236903, 2.11187121, 6.53146232])"
      ]
     },
     "execution_count": 13,
     "metadata": {},
     "output_type": "execute_result"
    }
   ],
   "source": [
    "euclidean_dist(e, np.array([1.5, 2.9, 8.0]))"
   ]
  },
  {
   "cell_type": "code",
   "execution_count": 14,
   "metadata": {},
   "outputs": [
    {
     "data": {
      "text/plain": [
       "array([[1, 2, 3],\n",
       "       [2, 3, 4],\n",
       "       [3, 4, 7],\n",
       "       [3, 5, 2]])"
      ]
     },
     "execution_count": 14,
     "metadata": {},
     "output_type": "execute_result"
    }
   ],
   "source": [
    "e"
   ]
  },
  {
   "cell_type": "code",
   "execution_count": 15,
   "metadata": {},
   "outputs": [],
   "source": [
    "def manhattan_dist(v1, v2):\n",
    "    abs_diff = np.abs(v1 - v2)\n",
    "\n",
    "    # Condicional para tratar tanto vetores quanto matrizes\n",
    "    if len(v1.shape) > 1:\n",
    "        abs_diff = np.sum(abs_diff, axis=1)\n",
    "    else:\n",
    "        abs_diff = np.sum(abs_diff)\n",
    "    return abs_diff\n"
   ]
  },
  {
   "cell_type": "markdown",
   "metadata": {},
   "source": [
    "- Outra alternativa é a distância Manhattan:\n",
    "    - $dist_{l1}(\\vec{u}, \\vec{v}) = \\sum_i^n |u_i - v_i|$\n",
    "- Podemos generalizar várias medidas de distância através da distância Minkowski:\n",
    "    - $dist_{lp}(\\vec{u}, \\vec{v}) = (\\sum_i^n |u_i - v_i| ^ p) ^ \\frac{1}{p}$\n",
    "- A distância cosseno é útil em aplicações que utilizam dados textuais:\n",
    "    - $dist_{\\cos} = \\cos(\\theta) = \\dfrac{\\vec{u} \\cdot \\vec{v}}{\\|\\vec{u}\\|\\|\\vec{u}\\|} = \\dfrac{\\sum_i^n u_i v_i}{\\sqrt{\\sum_i^n u_i ^ 2}\\sqrt{\\sum_i^n v_i ^ 2}}$"
   ]
  },
  {
   "cell_type": "code",
   "execution_count": 16,
   "metadata": {},
   "outputs": [
    {
     "data": {
      "text/plain": [
       "array([6.4, 4.6, 3.6, 9.6])"
      ]
     },
     "execution_count": 16,
     "metadata": {},
     "output_type": "execute_result"
    }
   ],
   "source": [
    "manhattan_dist(e, np.array([1.5, 2.9, 8.0]))"
   ]
  },
  {
   "cell_type": "markdown",
   "metadata": {},
   "source": [
    "**Cenário mais realístico - parte 2**\n",
    "\n",
    "- Cada ponto tem uma medida de interesse que queremos prever para observações futuras\n",
    "    - Classificação\n",
    "    - Regressão\n",
    "\n",
    "\n",
    "## 2. k-Nearest Neighbors\n",
    "\n",
    "- k-Vizinhos mais próximos:\n",
    "    - Calcula a distância de novos pontos para a base de dados\n",
    "    - Utiliza a informação dos $k$ vizinhos mais próximos para obter a resposta final \n",
    "- Algoritmo _lazy_ ou preguiçoso\n",
    "    - Por quê?\n"
   ]
  },
  {
   "cell_type": "code",
   "execution_count": 17,
   "metadata": {},
   "outputs": [
    {
     "data": {
      "text/plain": [
       "array([1.2, 3.1, 5. , 8.3, 2.5])"
      ]
     },
     "execution_count": 17,
     "metadata": {},
     "output_type": "execute_result"
    }
   ],
   "source": [
    "dists = np.array([1.2, 3.1, 5., 8.3, 2.5])\n",
    "dists"
   ]
  },
  {
   "cell_type": "code",
   "execution_count": 18,
   "metadata": {},
   "outputs": [],
   "source": [
    "labels = np.array([0, 0, 1, 0, 1])"
   ]
  },
  {
   "cell_type": "code",
   "execution_count": 19,
   "metadata": {},
   "outputs": [
    {
     "data": {
      "text/plain": [
       "array([0, 4, 1, 2, 3])"
      ]
     },
     "execution_count": 19,
     "metadata": {},
     "output_type": "execute_result"
    }
   ],
   "source": [
    "ordenado = np.argsort(dists)\n",
    "ordenado"
   ]
  },
  {
   "cell_type": "code",
   "execution_count": 20,
   "metadata": {},
   "outputs": [
    {
     "data": {
      "text/plain": [
       "array([0, 4, 1])"
      ]
     },
     "execution_count": 20,
     "metadata": {},
     "output_type": "execute_result"
    }
   ],
   "source": [
    "top_3 = ordenado[:3]\n",
    "top_3"
   ]
  },
  {
   "cell_type": "code",
   "execution_count": 21,
   "metadata": {},
   "outputs": [
    {
     "data": {
      "text/plain": [
       "array([0, 1, 0])"
      ]
     },
     "execution_count": 21,
     "metadata": {},
     "output_type": "execute_result"
    }
   ],
   "source": [
    "labels[top_3]"
   ]
  },
  {
   "cell_type": "code",
   "execution_count": 22,
   "metadata": {},
   "outputs": [
    {
     "data": {
      "text/plain": [
       "array([2, 1])"
      ]
     },
     "execution_count": 22,
     "metadata": {},
     "output_type": "execute_result"
    }
   ],
   "source": [
    "aux = np.bincount(labels[top_3])\n",
    "aux"
   ]
  },
  {
   "cell_type": "code",
   "execution_count": 23,
   "metadata": {},
   "outputs": [
    {
     "data": {
      "text/plain": [
       "0"
      ]
     },
     "execution_count": 23,
     "metadata": {},
     "output_type": "execute_result"
    }
   ],
   "source": [
    "np.argmax(aux)"
   ]
  },
  {
   "cell_type": "code",
   "execution_count": 24,
   "metadata": {},
   "outputs": [],
   "source": [
    "class BaseKNN(abc.ABC):\n",
    "    def __init__(self, k, p, verbose):\n",
    "        self.k = k\n",
    "        self.p = p\n",
    "        self.verbose = verbose\n",
    "\n",
    "        assert isinstance(k, int) and k >= 1\n",
    "\n",
    "    def _minkowski_dist(self, x_new):\n",
    "        return np.sum(np.abs(self._X - x_new) ** self.p, axis=1) ** (1 / self.p)\n",
    "    \n",
    "    # Treina o modelo\n",
    "    def fit(self, X, y):\n",
    "        if self.verbose:\n",
    "            print(\"Vou fingir que trabalho.\")\n",
    "\n",
    "        self._X = X\n",
    "        self._y = y\n",
    "\n",
    "        if self.verbose:\n",
    "            print(\"\\tUfa, que canseira!\")\n",
    "\n",
    "        return self\n",
    "\n",
    "    @abc.abstractmethod\n",
    "    def predict(self, X_new):\n",
    "        pass\n",
    "\n",
    "\n",
    "class KNNClassifier(BaseKNN):\n",
    "    def __init__(self, k=3, p=2, verbose=False):\n",
    "        super().__init__(k, p, verbose)\n",
    "    \n",
    "    def predict(self, X_new):\n",
    "        y_pred = np.zeros(len(X_new), dtype=int)\n",
    "\n",
    "        if self.verbose:\n",
    "            print(\"Hora de predizer:\")\n",
    "\n",
    "        for i in range(len(X_new)):\n",
    "            dists = self._minkowski_dist(X_new[i, :])\n",
    "            order = np.argsort(dists)\n",
    "            top_k = order[:self.k]\n",
    "\n",
    "            # A classificação acontece aqui\n",
    "            y_pred[i] = np.argmax(np.bincount(self._y[top_k]))\n",
    "\n",
    "            if self.verbose:\n",
    "                print(f\"Instância de predição {i} | Vizinhos mais próximos: {top_k} | R: {y_pred[i]}\")\n",
    "\n",
    "        return y_pred\n",
    "    \n",
    "\n",
    "class KNNRegressor(BaseKNN):\n",
    "    def __init__(self, k=3, p=2, verbose=False):\n",
    "        super().__init__(k, p, verbose)\n",
    "    \n",
    "    def predict(self, X_new):\n",
    "        y_pred = np.zeros(len(X_new))\n",
    "\n",
    "        if self.verbose:\n",
    "            print(\"Hora de predizer:\")\n",
    "\n",
    "        for i in range(len(X_new)):\n",
    "            dists = self._minkowski_dist(X_new[i, :])\n",
    "            order = np.argsort(dists)\n",
    "            top_k = order[:self.k]\n",
    "\n",
    "            # A regressão acontece aqui\n",
    "            y_pred[i] = np.mean(self._y[top_k])\n",
    "\n",
    "            if self.verbose:\n",
    "                print(f\"Instância de predição {i} | Vizinhos mais próximos: {top_k} | R: {y_pred[i]}\")\n",
    "\n",
    "        return y_pred\n"
   ]
  },
  {
   "cell_type": "code",
   "execution_count": 25,
   "metadata": {},
   "outputs": [],
   "source": [
    "X, y = make_classification(\n",
    "    n_samples=200,\n",
    "    n_features=2,\n",
    "    n_redundant=0,\n",
    "    n_classes=3,\n",
    "    n_clusters_per_class=1,\n",
    "    random_state=0\n",
    ")"
   ]
  },
  {
   "cell_type": "code",
   "execution_count": 26,
   "metadata": {},
   "outputs": [
    {
     "data": {
      "application/vnd.plotly.v1+json": {
       "config": {
        "plotlyServerURL": "https://plot.ly"
       },
       "data": [
        {
         "hovertemplate": "Classe=1<br>x1=%{x}<br>x2=%{y}<extra></extra>",
         "legendgroup": "1",
         "marker": {
          "color": "#636efa",
          "symbol": "circle"
         },
         "mode": "markers",
         "name": "1",
         "orientation": "v",
         "showlegend": true,
         "type": "scatter",
         "x": [
          1.201204241719141,
          1.5696804163244873,
          1.0067151668208505,
          0.7625322262750939,
          0.13738715817952551,
          1.0069466981774913,
          1.2957402492835888,
          1.1275329615620873,
          1.3021112541990552,
          1.3062196473610101,
          0.3913587843944989,
          0.3357181318844348,
          1.2954182071656533,
          0.8093096961965385,
          0.1786713734660058,
          0.6859605628592521,
          1.3658179874107872,
          0.26077969329729567,
          0.8039185498593208,
          0.526554981127902,
          1.5262244359699197,
          1.9611922004350388,
          0.8444162174081589,
          0.5221316079965972,
          1.1410303386785081,
          0.2694813985854695,
          1.2955981505955165,
          0.6656887193427201,
          0.8330090686176657,
          1.1149733245712132,
          1.2098394477733991,
          1.113999921603083,
          1.0199306648846993,
          0.31469876922219076,
          0.5639711785813104,
          0.2959692218908354,
          0.897147111689839,
          1.1777002039872406,
          0.38812682440143853,
          1.681031165892021,
          1.0312521007419306,
          1.142750102842812,
          1.2967871111684126,
          0.9056508848935331,
          1.0470226677579457,
          2.155795117761238,
          0.5350037761921655,
          1.1978711886208913,
          0.6823720473258712,
          1.2809202544986285,
          1.7489418228775357,
          0.8376149559566358,
          1.6709693433925021,
          0.6287774753048192,
          1.7620222162254775,
          0.9725991369882083,
          0.8962920569413978,
          1.2638115838249544,
          0.6289348865606226,
          0.9084095625053864,
          1.3771021127988288,
          1.4495572866668576,
          -0.021806049958962848,
          0.2991512353858815,
          1.4449288084563738,
          1.4190659821732825,
          0.7071121555035014,
          0.33156062971485667
         ],
         "xaxis": "x",
         "y": [
          2.6858584935601675,
          -2.347877255217885,
          0.624437535588561,
          1.6119930250998773,
          2.633390070044194,
          -0.06671705437584241,
          -0.6780940092522205,
          1.7455154728622901,
          -0.16735617256166613,
          -0.17887590486203253,
          1.3008546486442856,
          2.3853597579319827,
          3.7930425369369556,
          1.795366188700504,
          1.8864625049344688,
          2.238664776470011,
          1.0771530114092749,
          1.9686171946104383,
          1.4107826739423583,
          2.823488324299685,
          0.8357424643056149,
          -1.081096540466811,
          1.196222384191302,
          1.9862581795260597,
          1.180923998271937,
          1.3202839144748597,
          0.6632901852722074,
          1.1005446794363771,
          1.989898429810443,
          -0.5356389483133879,
          -1.1452444230221208,
          -0.33351524128473997,
          1.4179404716598873,
          1.317387475244637,
          2.690640053584106,
          0.17615721853988153,
          2.513126198351482,
          1.7492485961484374,
          1.95183722930559,
          1.9900371042680005,
          3.207481148171569,
          0.8336053198856291,
          2.9399030267051387,
          1.5824618188481967,
          3.0432709167376575,
          1.633232779703207,
          -0.6222113786863677,
          0.420761107439809,
          0.9616727126179656,
          2.1865821235926166,
          1.0043952582363864,
          2.4335038813184404,
          1.989372696283498,
          2.5089970385350124,
          -2.1686215195130525,
          3.460144635539759,
          0.6428179881544624,
          0.6772075023061688,
          2.6157930941047915,
          0.21838720716520132,
          0.02182044389509208,
          0.7202861993763748,
          1.2398681154937037,
          -0.4311906215384549,
          1.7037659061758657,
          -0.4281340129787179,
          2.2909190482302275,
          0.75822045042043
         ],
         "yaxis": "y"
        },
        {
         "hovertemplate": "Classe=0<br>x1=%{x}<br>x2=%{y}<extra></extra>",
         "legendgroup": "0",
         "marker": {
          "color": "#EF553B",
          "symbol": "diamond"
         },
         "mode": "markers",
         "name": "0",
         "orientation": "v",
         "showlegend": true,
         "type": "scatter",
         "x": [
          -0.4756561244021579,
          -0.9888730094503341,
          -1.8473321939432448,
          -2.270398690013881,
          -0.8743265591727647,
          0.022718918604457183,
          1.3536080514206819,
          -0.2136069398517514,
          -2.1316352612539378,
          -0.6671681127575027,
          -0.18493983444745576,
          -2.2881049544080656,
          -1.2607125983288423,
          0.841211472524269,
          -0.02773615807901919,
          -1.046826794484767,
          -1.1781546836408479,
          -2.1337420155234295,
          -1.2664777831435852,
          -3.2204280735338133,
          0.40085686076964655,
          -1.1623946011904762,
          -0.39721718250609617,
          -1.5252943563845984,
          -2.4833289992266594,
          -1.0367841397917326,
          -2.275230467636231,
          -1.768176617643841,
          -1.2315508138163023,
          -0.8839433271730985,
          -1.5520204995637736,
          -0.39135708415092696,
          -0.23669235469710992,
          -1.408904632629959,
          -2.437581258935383,
          -0.8083583598408224,
          -1.4617772797011868,
          -1.5227756222166628,
          -1.207528691326231,
          0.22237537117341155,
          -1.3502436700181595,
          -1.7762482559246975,
          -0.8665030510552247,
          -1.3537787021077148,
          -1.2567347491854872,
          -1.0784459031808962,
          -0.5030630899077415,
          -0.5894171321429564,
          -0.6951608233501956,
          1.014049445555953,
          -1.8370729088781546,
          -3.1419622914396412,
          -0.476018022897991,
          -0.9350311742722777,
          -0.21417075426952248,
          -1.0810032117800754,
          -1.3234664137944145,
          -2.3849246407811533,
          -1.1961682514461722,
          -2.7344774772324265,
          -0.8125029073483755,
          -0.6908134026107022,
          -1.8183159550826562,
          0.02084334848905356,
          -1.7107336657077257,
          -1.331830134132047
         ],
         "xaxis": "x",
         "y": [
          1.2788834114132155,
          0.7889107852512997,
          0.7181597971729687,
          0.7146885987358149,
          0.7168134370110012,
          1.7374349886798144,
          1.6730066537429331,
          1.3216699055929588,
          0.41254111158708495,
          1.2725680736284581,
          1.8071401615522433,
          0.6263270031439285,
          0.8950888024384541,
          1.5729149202777823,
          1.399784542031034,
          1.0876514436285583,
          0.5063536054804356,
          1.008159397095178,
          1.1587291830774094,
          0.15720705164601445,
          1.2937520326056462,
          0.8370651288707642,
          1.0819970351012116,
          0.7650884696853268,
          0.863286734602937,
          1.187337278624137,
          0.667994895244219,
          1.1597077945572565,
          1.5407461311915385,
          0.9997775367947292,
          0.9756323085901905,
          1.035741178368575,
          1.0366449661873873,
          0.642491044104184,
          0.4658064499872594,
          1.1856036063257194,
          0.7421037815676504,
          1.1778128661108103,
          1.027483593237603,
          1.5087185817681328,
          1.2209923814485923,
          0.8349643973358096,
          0.5625768327412966,
          0.7315586382134454,
          0.9994851936229466,
          1.0798508306079457,
          1.268260906004413,
          1.538694190502611,
          1.6902040207443663,
          1.5460473210636918,
          0.9646742313089022,
          0.5689775577753317,
          1.6686390899326446,
          1.2970141303729719,
          1.3203509979054742,
          1.0498690884359516,
          0.7447233429451547,
          0.6368558635405991,
          0.7820868029269706,
          0.7562788196662136,
          0.5140342026910604,
          1.0274420287458175,
          0.7757228701968767,
          1.0299387397183755,
          0.6847287157770418,
          0.8910242357535247
         ],
         "yaxis": "y"
        },
        {
         "hovertemplate": "Classe=2<br>x1=%{x}<br>x2=%{y}<extra></extra>",
         "legendgroup": "2",
         "marker": {
          "color": "#00cc96",
          "symbol": "square"
         },
         "mode": "markers",
         "name": "2",
         "orientation": "v",
         "showlegend": true,
         "type": "scatter",
         "x": [
          1.8544523235209949,
          0.12692665564181138,
          0.5227660526159219,
          0.9681593489129062,
          -1.1027131878713852,
          1.9873489608401413,
          2.2816650449001017,
          0.6805021801144453,
          1.7574513959242415,
          -0.5671907786001824,
          0.9728391189112598,
          1.0183657804482456,
          1.5096202595852324,
          0.5931627776069173,
          1.5208080626812837,
          1.127205031462886,
          0.647698324072076,
          -0.4660473139513108,
          0.9861694640182412,
          2.5778434627528837,
          0.7045199820295576,
          0.6597520041732389,
          0.5602426718292262,
          0.6573266594640949,
          0.11035533125229624,
          1.5889441742397485,
          0.6843859186092195,
          2.3604995281484147,
          -1.3589921741561608,
          3.144424544022562,
          0.6253628375978166,
          1.005708433359764,
          1.4386690605766126,
          0.9564877422156425,
          -0.11026188001595072,
          0.7147688902711743,
          -0.50643326387721,
          0.4783646442281497,
          0.08168112753436108,
          1.7227351247086684,
          -0.7118497889976929,
          1.423577118028112,
          1.8584513461361172,
          0.8968725869889085,
          0.18615952706517824,
          1.3442663487812307,
          -0.41491976164424327,
          0.22763404576287394,
          1.8755040173810618,
          1.6157174133688827,
          0.44236954643827264,
          0.6713614227582763,
          1.3374630405562264,
          0.9133232071905425,
          1.8385592002040287,
          0.9488865171016106,
          0.547362503120068,
          1.4226257374637283,
          0.1267395376647985,
          0.4448840103533944,
          1.0281951693963634,
          0.5454299448275555,
          1.649244340556904,
          1.3993478101357018,
          0.6626389482284606,
          2.0777412592010176
         ],
         "xaxis": "x",
         "y": [
          0.021770880494324407,
          0.024180690412296535,
          -0.7188684954212865,
          -0.9156649947984961,
          -2.818994057261178,
          -0.5625067070501995,
          -0.35061669399275497,
          -0.7967541778493239,
          -0.743789635123642,
          -1.4774621277983744,
          -1.4726428344492426,
          -0.7670380824404628,
          -1.8844598679628306,
          -1.3282160426351903,
          -0.7825343832380295,
          -1.482379153217713,
          -0.045238495979814,
          -0.7201425486323538,
          -0.09024206325728845,
          -1.2008146461731954,
          -0.12039884760516817,
          -1.735273013418032,
          -0.6434315769154604,
          -1.100969998826651,
          -2.404284884356837,
          -0.9604380694295798,
          -1.8930051692504666,
          -1.0341738788626311,
          -1.6602023707873648,
          0.01099495222116742,
          0.13377283227911407,
          0.3055573022193361,
          -0.8745224021794071,
          -1.1330815579021776,
          -2.0582017489739135,
          -1.8443241338714667,
          -1.4216723390204729,
          -1.5386156360255319,
          -0.814289466488445,
          -1.222202853215824,
          -0.29826802355956716,
          -0.1675068634583744,
          1.3007004295854285,
          -0.39263038660006855,
          -0.4689258362455434,
          0.36254051255952313,
          -2.441138759670096,
          -1.8174665131649446,
          0.019204905823104967,
          -0.8266166671030124,
          -2.8624240349908288,
          -1.9417032624654909,
          -2.0266997069301604,
          -0.6874682944775987,
          0.32878901758804124,
          -1.4024225033045403,
          -0.6119363476979752,
          -1.251737253687857,
          -2.3036488726882327,
          0.14820309304951662,
          -0.4487830754185309,
          -0.3764733139241435,
          -0.5810450618174,
          -0.25178306720211996,
          -1.1509290248368613,
          -1.6103839857618376
         ],
         "yaxis": "y"
        }
       ],
       "layout": {
        "autosize": false,
        "height": 500,
        "legend": {
         "title": {
          "text": "Classe"
         },
         "tracegroupgap": 0
        },
        "margin": {
         "t": 60
        },
        "template": {
         "data": {
          "bar": [
           {
            "error_x": {
             "color": "#2a3f5f"
            },
            "error_y": {
             "color": "#2a3f5f"
            },
            "marker": {
             "line": {
              "color": "#E5ECF6",
              "width": 0.5
             },
             "pattern": {
              "fillmode": "overlay",
              "size": 10,
              "solidity": 0.2
             }
            },
            "type": "bar"
           }
          ],
          "barpolar": [
           {
            "marker": {
             "line": {
              "color": "#E5ECF6",
              "width": 0.5
             },
             "pattern": {
              "fillmode": "overlay",
              "size": 10,
              "solidity": 0.2
             }
            },
            "type": "barpolar"
           }
          ],
          "carpet": [
           {
            "aaxis": {
             "endlinecolor": "#2a3f5f",
             "gridcolor": "white",
             "linecolor": "white",
             "minorgridcolor": "white",
             "startlinecolor": "#2a3f5f"
            },
            "baxis": {
             "endlinecolor": "#2a3f5f",
             "gridcolor": "white",
             "linecolor": "white",
             "minorgridcolor": "white",
             "startlinecolor": "#2a3f5f"
            },
            "type": "carpet"
           }
          ],
          "choropleth": [
           {
            "colorbar": {
             "outlinewidth": 0,
             "ticks": ""
            },
            "type": "choropleth"
           }
          ],
          "contour": [
           {
            "colorbar": {
             "outlinewidth": 0,
             "ticks": ""
            },
            "colorscale": [
             [
              0,
              "#0d0887"
             ],
             [
              0.1111111111111111,
              "#46039f"
             ],
             [
              0.2222222222222222,
              "#7201a8"
             ],
             [
              0.3333333333333333,
              "#9c179e"
             ],
             [
              0.4444444444444444,
              "#bd3786"
             ],
             [
              0.5555555555555556,
              "#d8576b"
             ],
             [
              0.6666666666666666,
              "#ed7953"
             ],
             [
              0.7777777777777778,
              "#fb9f3a"
             ],
             [
              0.8888888888888888,
              "#fdca26"
             ],
             [
              1,
              "#f0f921"
             ]
            ],
            "type": "contour"
           }
          ],
          "contourcarpet": [
           {
            "colorbar": {
             "outlinewidth": 0,
             "ticks": ""
            },
            "type": "contourcarpet"
           }
          ],
          "heatmap": [
           {
            "colorbar": {
             "outlinewidth": 0,
             "ticks": ""
            },
            "colorscale": [
             [
              0,
              "#0d0887"
             ],
             [
              0.1111111111111111,
              "#46039f"
             ],
             [
              0.2222222222222222,
              "#7201a8"
             ],
             [
              0.3333333333333333,
              "#9c179e"
             ],
             [
              0.4444444444444444,
              "#bd3786"
             ],
             [
              0.5555555555555556,
              "#d8576b"
             ],
             [
              0.6666666666666666,
              "#ed7953"
             ],
             [
              0.7777777777777778,
              "#fb9f3a"
             ],
             [
              0.8888888888888888,
              "#fdca26"
             ],
             [
              1,
              "#f0f921"
             ]
            ],
            "type": "heatmap"
           }
          ],
          "heatmapgl": [
           {
            "colorbar": {
             "outlinewidth": 0,
             "ticks": ""
            },
            "colorscale": [
             [
              0,
              "#0d0887"
             ],
             [
              0.1111111111111111,
              "#46039f"
             ],
             [
              0.2222222222222222,
              "#7201a8"
             ],
             [
              0.3333333333333333,
              "#9c179e"
             ],
             [
              0.4444444444444444,
              "#bd3786"
             ],
             [
              0.5555555555555556,
              "#d8576b"
             ],
             [
              0.6666666666666666,
              "#ed7953"
             ],
             [
              0.7777777777777778,
              "#fb9f3a"
             ],
             [
              0.8888888888888888,
              "#fdca26"
             ],
             [
              1,
              "#f0f921"
             ]
            ],
            "type": "heatmapgl"
           }
          ],
          "histogram": [
           {
            "marker": {
             "pattern": {
              "fillmode": "overlay",
              "size": 10,
              "solidity": 0.2
             }
            },
            "type": "histogram"
           }
          ],
          "histogram2d": [
           {
            "colorbar": {
             "outlinewidth": 0,
             "ticks": ""
            },
            "colorscale": [
             [
              0,
              "#0d0887"
             ],
             [
              0.1111111111111111,
              "#46039f"
             ],
             [
              0.2222222222222222,
              "#7201a8"
             ],
             [
              0.3333333333333333,
              "#9c179e"
             ],
             [
              0.4444444444444444,
              "#bd3786"
             ],
             [
              0.5555555555555556,
              "#d8576b"
             ],
             [
              0.6666666666666666,
              "#ed7953"
             ],
             [
              0.7777777777777778,
              "#fb9f3a"
             ],
             [
              0.8888888888888888,
              "#fdca26"
             ],
             [
              1,
              "#f0f921"
             ]
            ],
            "type": "histogram2d"
           }
          ],
          "histogram2dcontour": [
           {
            "colorbar": {
             "outlinewidth": 0,
             "ticks": ""
            },
            "colorscale": [
             [
              0,
              "#0d0887"
             ],
             [
              0.1111111111111111,
              "#46039f"
             ],
             [
              0.2222222222222222,
              "#7201a8"
             ],
             [
              0.3333333333333333,
              "#9c179e"
             ],
             [
              0.4444444444444444,
              "#bd3786"
             ],
             [
              0.5555555555555556,
              "#d8576b"
             ],
             [
              0.6666666666666666,
              "#ed7953"
             ],
             [
              0.7777777777777778,
              "#fb9f3a"
             ],
             [
              0.8888888888888888,
              "#fdca26"
             ],
             [
              1,
              "#f0f921"
             ]
            ],
            "type": "histogram2dcontour"
           }
          ],
          "mesh3d": [
           {
            "colorbar": {
             "outlinewidth": 0,
             "ticks": ""
            },
            "type": "mesh3d"
           }
          ],
          "parcoords": [
           {
            "line": {
             "colorbar": {
              "outlinewidth": 0,
              "ticks": ""
             }
            },
            "type": "parcoords"
           }
          ],
          "pie": [
           {
            "automargin": true,
            "type": "pie"
           }
          ],
          "scatter": [
           {
            "fillpattern": {
             "fillmode": "overlay",
             "size": 10,
             "solidity": 0.2
            },
            "type": "scatter"
           }
          ],
          "scatter3d": [
           {
            "line": {
             "colorbar": {
              "outlinewidth": 0,
              "ticks": ""
             }
            },
            "marker": {
             "colorbar": {
              "outlinewidth": 0,
              "ticks": ""
             }
            },
            "type": "scatter3d"
           }
          ],
          "scattercarpet": [
           {
            "marker": {
             "colorbar": {
              "outlinewidth": 0,
              "ticks": ""
             }
            },
            "type": "scattercarpet"
           }
          ],
          "scattergeo": [
           {
            "marker": {
             "colorbar": {
              "outlinewidth": 0,
              "ticks": ""
             }
            },
            "type": "scattergeo"
           }
          ],
          "scattergl": [
           {
            "marker": {
             "colorbar": {
              "outlinewidth": 0,
              "ticks": ""
             }
            },
            "type": "scattergl"
           }
          ],
          "scattermapbox": [
           {
            "marker": {
             "colorbar": {
              "outlinewidth": 0,
              "ticks": ""
             }
            },
            "type": "scattermapbox"
           }
          ],
          "scatterpolar": [
           {
            "marker": {
             "colorbar": {
              "outlinewidth": 0,
              "ticks": ""
             }
            },
            "type": "scatterpolar"
           }
          ],
          "scatterpolargl": [
           {
            "marker": {
             "colorbar": {
              "outlinewidth": 0,
              "ticks": ""
             }
            },
            "type": "scatterpolargl"
           }
          ],
          "scatterternary": [
           {
            "marker": {
             "colorbar": {
              "outlinewidth": 0,
              "ticks": ""
             }
            },
            "type": "scatterternary"
           }
          ],
          "surface": [
           {
            "colorbar": {
             "outlinewidth": 0,
             "ticks": ""
            },
            "colorscale": [
             [
              0,
              "#0d0887"
             ],
             [
              0.1111111111111111,
              "#46039f"
             ],
             [
              0.2222222222222222,
              "#7201a8"
             ],
             [
              0.3333333333333333,
              "#9c179e"
             ],
             [
              0.4444444444444444,
              "#bd3786"
             ],
             [
              0.5555555555555556,
              "#d8576b"
             ],
             [
              0.6666666666666666,
              "#ed7953"
             ],
             [
              0.7777777777777778,
              "#fb9f3a"
             ],
             [
              0.8888888888888888,
              "#fdca26"
             ],
             [
              1,
              "#f0f921"
             ]
            ],
            "type": "surface"
           }
          ],
          "table": [
           {
            "cells": {
             "fill": {
              "color": "#EBF0F8"
             },
             "line": {
              "color": "white"
             }
            },
            "header": {
             "fill": {
              "color": "#C8D4E3"
             },
             "line": {
              "color": "white"
             }
            },
            "type": "table"
           }
          ]
         },
         "layout": {
          "annotationdefaults": {
           "arrowcolor": "#2a3f5f",
           "arrowhead": 0,
           "arrowwidth": 1
          },
          "autotypenumbers": "strict",
          "coloraxis": {
           "colorbar": {
            "outlinewidth": 0,
            "ticks": ""
           }
          },
          "colorscale": {
           "diverging": [
            [
             0,
             "#8e0152"
            ],
            [
             0.1,
             "#c51b7d"
            ],
            [
             0.2,
             "#de77ae"
            ],
            [
             0.3,
             "#f1b6da"
            ],
            [
             0.4,
             "#fde0ef"
            ],
            [
             0.5,
             "#f7f7f7"
            ],
            [
             0.6,
             "#e6f5d0"
            ],
            [
             0.7,
             "#b8e186"
            ],
            [
             0.8,
             "#7fbc41"
            ],
            [
             0.9,
             "#4d9221"
            ],
            [
             1,
             "#276419"
            ]
           ],
           "sequential": [
            [
             0,
             "#0d0887"
            ],
            [
             0.1111111111111111,
             "#46039f"
            ],
            [
             0.2222222222222222,
             "#7201a8"
            ],
            [
             0.3333333333333333,
             "#9c179e"
            ],
            [
             0.4444444444444444,
             "#bd3786"
            ],
            [
             0.5555555555555556,
             "#d8576b"
            ],
            [
             0.6666666666666666,
             "#ed7953"
            ],
            [
             0.7777777777777778,
             "#fb9f3a"
            ],
            [
             0.8888888888888888,
             "#fdca26"
            ],
            [
             1,
             "#f0f921"
            ]
           ],
           "sequentialminus": [
            [
             0,
             "#0d0887"
            ],
            [
             0.1111111111111111,
             "#46039f"
            ],
            [
             0.2222222222222222,
             "#7201a8"
            ],
            [
             0.3333333333333333,
             "#9c179e"
            ],
            [
             0.4444444444444444,
             "#bd3786"
            ],
            [
             0.5555555555555556,
             "#d8576b"
            ],
            [
             0.6666666666666666,
             "#ed7953"
            ],
            [
             0.7777777777777778,
             "#fb9f3a"
            ],
            [
             0.8888888888888888,
             "#fdca26"
            ],
            [
             1,
             "#f0f921"
            ]
           ]
          },
          "colorway": [
           "#636efa",
           "#EF553B",
           "#00cc96",
           "#ab63fa",
           "#FFA15A",
           "#19d3f3",
           "#FF6692",
           "#B6E880",
           "#FF97FF",
           "#FECB52"
          ],
          "font": {
           "color": "#2a3f5f"
          },
          "geo": {
           "bgcolor": "white",
           "lakecolor": "white",
           "landcolor": "#E5ECF6",
           "showlakes": true,
           "showland": true,
           "subunitcolor": "white"
          },
          "hoverlabel": {
           "align": "left"
          },
          "hovermode": "closest",
          "mapbox": {
           "style": "light"
          },
          "paper_bgcolor": "white",
          "plot_bgcolor": "#E5ECF6",
          "polar": {
           "angularaxis": {
            "gridcolor": "white",
            "linecolor": "white",
            "ticks": ""
           },
           "bgcolor": "#E5ECF6",
           "radialaxis": {
            "gridcolor": "white",
            "linecolor": "white",
            "ticks": ""
           }
          },
          "scene": {
           "xaxis": {
            "backgroundcolor": "#E5ECF6",
            "gridcolor": "white",
            "gridwidth": 2,
            "linecolor": "white",
            "showbackground": true,
            "ticks": "",
            "zerolinecolor": "white"
           },
           "yaxis": {
            "backgroundcolor": "#E5ECF6",
            "gridcolor": "white",
            "gridwidth": 2,
            "linecolor": "white",
            "showbackground": true,
            "ticks": "",
            "zerolinecolor": "white"
           },
           "zaxis": {
            "backgroundcolor": "#E5ECF6",
            "gridcolor": "white",
            "gridwidth": 2,
            "linecolor": "white",
            "showbackground": true,
            "ticks": "",
            "zerolinecolor": "white"
           }
          },
          "shapedefaults": {
           "line": {
            "color": "#2a3f5f"
           }
          },
          "ternary": {
           "aaxis": {
            "gridcolor": "white",
            "linecolor": "white",
            "ticks": ""
           },
           "baxis": {
            "gridcolor": "white",
            "linecolor": "white",
            "ticks": ""
           },
           "bgcolor": "#E5ECF6",
           "caxis": {
            "gridcolor": "white",
            "linecolor": "white",
            "ticks": ""
           }
          },
          "title": {
           "x": 0.05
          },
          "xaxis": {
           "automargin": true,
           "gridcolor": "white",
           "linecolor": "white",
           "ticks": "",
           "title": {
            "standoff": 15
           },
           "zerolinecolor": "white",
           "zerolinewidth": 2
          },
          "yaxis": {
           "automargin": true,
           "gridcolor": "white",
           "linecolor": "white",
           "ticks": "",
           "title": {
            "standoff": 15
           },
           "zerolinecolor": "white",
           "zerolinewidth": 2
          }
         }
        },
        "width": 600,
        "xaxis": {
         "anchor": "y",
         "domain": [
          0,
          1
         ],
         "title": {
          "text": "x1"
         }
        },
        "yaxis": {
         "anchor": "x",
         "domain": [
          0,
          1
         ],
         "title": {
          "text": "x2"
         }
        }
       }
      }
     },
     "metadata": {},
     "output_type": "display_data"
    }
   ],
   "source": [
    "vis = pd.DataFrame(X, columns=[\"x1\", \"x2\"])\n",
    "vis[\"Classe\"] = y\n",
    "vis[\"Classe\"] = vis[\"Classe\"].astype(\"category\")\n",
    "\n",
    "fig = px.scatter(\n",
    "    vis, x=\"x1\", y=\"x2\", color=\"Classe\", symbol=\"Classe\")\n",
    "fig.update_layout(\n",
    "    autosize=False,\n",
    "    width=600,\n",
    "    height=500\n",
    ")\n",
    "fig.show()"
   ]
  },
  {
   "cell_type": "markdown",
   "metadata": {},
   "source": [
    "---\n",
    "## 3. Notas sobre avaliação de modelos de ML, _overfitting_, _undefitting_.\n",
    "\n",
    "- Não podemos utilizar todos os dados disponíveis num primeiro momento\n",
    "- Precisamos ter uma estimativa de performance do nosso modelo treinado\n",
    "\n",
    "- > **Desafio:** Por que utilizar todos os dados os dados para treinar e testar é uma má ideia?\n",
    "\n",
    "\n",
    "### 3.1. Sobre e subajuste de modelos\n",
    "\n",
    "- Queremos que o modelo seja capaz de generalizar os dados de treinamento\n",
    "    - Aprender os padrões que governam a relação entre X e y\n",
    "    - Na vida é assim:\n",
    "        - Não podemos focar demais nos detalhes insignificantes\n",
    "        - Tampouco sermos superficiais demais\n",
    "\n",
    "\n",
    "<img src=\"img/a2/tradeoff.jpg\" width=\"700\">\n",
    "    <figcaption>Overfitting, underfitting e o dilema do Viés e Variância. Fonte: <a href=\"https://stats.stackexchange.com/questions/543509/why-test-error-and-variance-has-different-curve-in-bias-variance-trade-off-graph)\">stats.stackexchange.com</a></figcaption>\n",
    "</img>\n",
    "\n",
    "Os dois desafios a se evitar durante a modelagem:\n",
    "\n",
    "1. Overfitting: O modelo está focando demais em excesso nos dados de treinamento e não está aprendendo, de fato, o problema\n",
    "    - O modelo demasiadamente complexo e sem estratégias de regularização (algo como um sistema de frenagem, que limita a \"velocidade\")\n",
    "    - Ex: estudante que decora toda a matéria, mas se na prova algum detalhe é diferente, não sabe resolver\n",
    "    - Alta variância: pequenas alterações nos dados acarretam grandes mudanças no modelo\n",
    "    - *Sintomas:*\n",
    "        - Erro de treinamento muito baixo\n",
    "        - Erro de teste muito alto\n",
    "    - Observação: se o seu erro de testes está bom demais para ser verdade:\n",
    "        - Pode ser que exista _\"data leakage\"_\n",
    "        - Dados de teste estão vazando para o treinamento\n",
    "2. Undefitting: O modelo não está conseguindo aprender os padrões\n",
    "    - Modelo demasiadamente simples para o problema\n",
    "    - Ex: uma reta para explicar o comportamento de uma parábola\n",
    "    - Alto viés: o modelo é \"teimoso\" e insensível a variações dos dados\n",
    "    - *Sintomas:*\n",
    "        - Erros de validação/teste e treinamento são parecidos (e altos)\n",
    "\n",
    "\n",
    "- Queremos um balanço:\n",
    "- Em geral:\n",
    "    - Erro de treino ligeiramente inferior que o erro de validação\n",
    "    - Baixo erro de validação\n",
    "\n",
    "---\n",
    "\n",
    "### 3.2. Particionamento de dados: _Holdout_\n",
    "\n",
    "- Em geral, utilizamos alguma estratégia de avaliação para separar os dados entre treinamento e teste/validação\n",
    "    - Obter medidas de avaliação mais fidedignas com a realidade que o modelo vai enfrentar na \"vida real\"\n",
    "- Holdout: Aplica uma partição (aleatória) entre os dados para criar conjuntos de treino e teste\n",
    "    - Normalmente baseada em porcentagem. Por exemplo: 30% dos dados serão utilizados para testes"
   ]
  },
  {
   "cell_type": "code",
   "execution_count": 27,
   "metadata": {},
   "outputs": [],
   "source": [
    "X_train, X_test, y_train, y_test = train_test_split(X, y, test_size=0.3, shuffle=True, random_state=42)"
   ]
  },
  {
   "cell_type": "code",
   "execution_count": 28,
   "metadata": {},
   "outputs": [
    {
     "data": {
      "text/plain": [
       "((200, 2), (140, 2), (60, 2))"
      ]
     },
     "execution_count": 28,
     "metadata": {},
     "output_type": "execute_result"
    }
   ],
   "source": [
    "X.shape, X_train.shape, X_test.shape"
   ]
  },
  {
   "cell_type": "code",
   "execution_count": 29,
   "metadata": {},
   "outputs": [
    {
     "data": {
      "text/plain": [
       "((200,), (140,), (60,))"
      ]
     },
     "execution_count": 29,
     "metadata": {},
     "output_type": "execute_result"
    }
   ],
   "source": [
    "y.shape, y_train.shape, y_test.shape"
   ]
  },
  {
   "cell_type": "code",
   "execution_count": 30,
   "metadata": {},
   "outputs": [
    {
     "data": {
      "text/plain": [
       "array([[ 1.20120424,  2.68585849],\n",
       "       [-0.47565612,  1.27888341],\n",
       "       [ 1.85445232,  0.02177088],\n",
       "       [ 0.12692666,  0.02418069],\n",
       "       [-0.98887301,  0.78891079],\n",
       "       [-1.84733219,  0.7181598 ],\n",
       "       [-2.27039869,  0.7146886 ],\n",
       "       [ 1.56968042, -2.34787726],\n",
       "       [ 1.00671517,  0.62443754],\n",
       "       [-0.87432656,  0.71681344],\n",
       "       [ 0.52276605, -0.7188685 ],\n",
       "       [ 0.96815935, -0.91566499],\n",
       "       [ 0.02271892,  1.73743499],\n",
       "       [ 1.35360805,  1.67300665],\n",
       "       [-0.21360694,  1.32166991],\n",
       "       [-2.13163526,  0.41254111],\n",
       "       [ 0.76253223,  1.61199303],\n",
       "       [-0.66716811,  1.27256807],\n",
       "       [ 0.13738716,  2.63339007],\n",
       "       [-1.10271319, -2.81899406],\n",
       "       [ 1.98734896, -0.56250671],\n",
       "       [ 2.28166504, -0.35061669],\n",
       "       [ 0.68050218, -0.79675418],\n",
       "       [-0.18493983,  1.80714016],\n",
       "       [-2.28810495,  0.626327  ],\n",
       "       [-1.2607126 ,  0.8950888 ],\n",
       "       [ 1.0069467 , -0.06671705],\n",
       "       [ 0.84121147,  1.57291492],\n",
       "       [ 1.7574514 , -0.74378964],\n",
       "       [-0.56719078, -1.47746213],\n",
       "       [-0.02773616,  1.39978454],\n",
       "       [ 1.29574025, -0.67809401],\n",
       "       [ 0.97283912, -1.47264283],\n",
       "       [ 1.12753296,  1.74551547],\n",
       "       [-1.04682679,  1.08765144],\n",
       "       [-1.17815468,  0.50635361],\n",
       "       [ 1.30211125, -0.16735617],\n",
       "       [-2.13374202,  1.0081594 ],\n",
       "       [-1.26647778,  1.15872918],\n",
       "       [ 1.30621965, -0.1788759 ],\n",
       "       [ 0.39135878,  1.30085465],\n",
       "       [ 1.01836578, -0.76703808],\n",
       "       [ 1.50962026, -1.88445987],\n",
       "       [-3.22042807,  0.15720705],\n",
       "       [ 0.33571813,  2.38535976],\n",
       "       [ 0.40085686,  1.29375203],\n",
       "       [ 1.29541821,  3.79304254],\n",
       "       [ 0.8093097 ,  1.79536619],\n",
       "       [ 0.59316278, -1.32821604],\n",
       "       [-1.1623946 ,  0.83706513],\n",
       "       [ 1.52080806, -0.78253438],\n",
       "       [-0.39721718,  1.08199704],\n",
       "       [ 0.17867137,  1.8864625 ],\n",
       "       [ 0.68596056,  2.23866478],\n",
       "       [ 1.36581799,  1.07715301],\n",
       "       [-1.52529436,  0.76508847],\n",
       "       [-2.483329  ,  0.86328673],\n",
       "       [ 1.12720503, -1.48237915],\n",
       "       [ 0.26077969,  1.96861719],\n",
       "       [-1.03678414,  1.18733728],\n",
       "       [ 0.80391855,  1.41078267],\n",
       "       [ 0.64769832, -0.0452385 ],\n",
       "       [-2.27523047,  0.6679949 ],\n",
       "       [-0.46604731, -0.72014255],\n",
       "       [-1.76817662,  1.15970779],\n",
       "       [ 0.98616946, -0.09024206],\n",
       "       [-1.23155081,  1.54074613],\n",
       "       [ 0.52655498,  2.82348832],\n",
       "       [ 1.52622444,  0.83574246],\n",
       "       [-0.88394333,  0.99977754],\n",
       "       [ 1.9611922 , -1.08109654],\n",
       "       [ 2.57784346, -1.20081465],\n",
       "       [ 0.70451998, -0.12039885],\n",
       "       [ 0.659752  , -1.73527301],\n",
       "       [ 0.84441622,  1.19622238],\n",
       "       [ 0.56024267, -0.64343158],\n",
       "       [ 0.52213161,  1.98625818],\n",
       "       [-1.5520205 ,  0.97563231],\n",
       "       [-0.39135708,  1.03574118],\n",
       "       [-0.23669235,  1.03664497],\n",
       "       [ 0.65732666, -1.10097   ],\n",
       "       [ 0.11035533, -2.40428488],\n",
       "       [ 1.14103034,  1.180924  ],\n",
       "       [-1.40890463,  0.64249104],\n",
       "       [ 0.2694814 ,  1.32028391],\n",
       "       [-2.43758126,  0.46580645],\n",
       "       [-0.80835836,  1.18560361],\n",
       "       [-1.46177728,  0.74210378],\n",
       "       [-1.52277562,  1.17781287],\n",
       "       [ 1.58894417, -0.96043807],\n",
       "       [ 0.68438592, -1.89300517],\n",
       "       [ 1.29559815,  0.66329019],\n",
       "       [ 0.66568872,  1.10054468],\n",
       "       [ 2.36049953, -1.03417388],\n",
       "       [ 0.83300907,  1.98989843],\n",
       "       [ 1.11497332, -0.53563895],\n",
       "       [ 1.20983945, -1.14524442],\n",
       "       [ 1.11399992, -0.33351524],\n",
       "       [-1.35899217, -1.66020237],\n",
       "       [-1.20752869,  1.02748359],\n",
       "       [ 3.14442454,  0.01099495],\n",
       "       [ 0.62536284,  0.13377283],\n",
       "       [ 1.00570843,  0.3055573 ],\n",
       "       [ 1.01993066,  1.41794047],\n",
       "       [ 1.43866906, -0.8745224 ],\n",
       "       [ 0.31469877,  1.31738748],\n",
       "       [ 0.56397118,  2.69064005],\n",
       "       [ 0.95648774, -1.13308156],\n",
       "       [ 0.22237537,  1.50871858],\n",
       "       [-1.35024367,  1.22099238],\n",
       "       [ 0.29596922,  0.17615722],\n",
       "       [-1.77624826,  0.8349644 ],\n",
       "       [ 0.89714711,  2.5131262 ],\n",
       "       [-0.86650305,  0.56257683],\n",
       "       [ 1.1777002 ,  1.7492486 ],\n",
       "       [-1.3537787 ,  0.73155864],\n",
       "       [-0.11026188, -2.05820175],\n",
       "       [ 0.38812682,  1.95183723],\n",
       "       [ 1.68103117,  1.9900371 ],\n",
       "       [-1.25673475,  0.99948519],\n",
       "       [ 0.71476889, -1.84432413],\n",
       "       [-0.50643326, -1.42167234],\n",
       "       [ 0.47836464, -1.53861564],\n",
       "       [-1.0784459 ,  1.07985083],\n",
       "       [ 1.0312521 ,  3.20748115],\n",
       "       [ 0.08168113, -0.81428947],\n",
       "       [ 1.1427501 ,  0.83360532],\n",
       "       [ 1.29678711,  2.93990303],\n",
       "       [ 1.72273512, -1.22220285],\n",
       "       [ 0.90565088,  1.58246182],\n",
       "       [-0.71184979, -0.29826802],\n",
       "       [ 1.04702267,  3.04327092],\n",
       "       [ 2.15579512,  1.63323278],\n",
       "       [-0.50306309,  1.26826091],\n",
       "       [ 0.53500378, -0.62221138],\n",
       "       [ 1.42357712, -0.16750686],\n",
       "       [ 1.85845135,  1.30070043],\n",
       "       [ 0.89687259, -0.39263039],\n",
       "       [ 0.18615953, -0.46892584],\n",
       "       [-0.58941713,  1.53869419],\n",
       "       [-0.69516082,  1.69020402],\n",
       "       [ 1.34426635,  0.36254051],\n",
       "       [-0.41491976, -2.44113876],\n",
       "       [ 1.01404945,  1.54604732],\n",
       "       [ 0.22763405, -1.81746651],\n",
       "       [ 1.19787119,  0.42076111],\n",
       "       [ 0.68237205,  0.96167271],\n",
       "       [ 1.28092025,  2.18658212],\n",
       "       [ 1.74894182,  1.00439526],\n",
       "       [ 0.83761496,  2.43350388],\n",
       "       [ 1.87550402,  0.01920491],\n",
       "       [ 1.61571741, -0.82661667],\n",
       "       [ 1.67096934,  1.9893727 ],\n",
       "       [-1.83707291,  0.96467423],\n",
       "       [ 0.44236955, -2.86242403],\n",
       "       [-3.14196229,  0.56897756],\n",
       "       [ 0.62877748,  2.50899704],\n",
       "       [ 0.67136142, -1.94170326],\n",
       "       [-0.47601802,  1.66863909],\n",
       "       [-0.93503117,  1.29701413],\n",
       "       [-0.21417075,  1.320351  ],\n",
       "       [-1.08100321,  1.04986909],\n",
       "       [ 1.76202222, -2.16862152],\n",
       "       [-1.32346641,  0.74472334],\n",
       "       [ 1.33746304, -2.02669971],\n",
       "       [ 0.91332321, -0.68746829],\n",
       "       [ 1.8385592 ,  0.32878902],\n",
       "       [ 0.97259914,  3.46014464],\n",
       "       [ 0.89629206,  0.64281799],\n",
       "       [ 1.26381158,  0.6772075 ],\n",
       "       [-2.38492464,  0.63685586],\n",
       "       [ 0.62893489,  2.61579309],\n",
       "       [ 0.94888652, -1.4024225 ],\n",
       "       [ 0.5473625 , -0.61193635],\n",
       "       [-1.19616825,  0.7820868 ],\n",
       "       [ 0.90840956,  0.21838721],\n",
       "       [ 1.37710211,  0.02182044],\n",
       "       [ 1.44955729,  0.7202862 ],\n",
       "       [-0.02180605,  1.23986812],\n",
       "       [ 1.42262574, -1.25173725],\n",
       "       [ 0.12673954, -2.30364887],\n",
       "       [-2.73447748,  0.75627882],\n",
       "       [-0.81250291,  0.5140342 ],\n",
       "       [ 0.44488401,  0.14820309],\n",
       "       [ 0.29915124, -0.43119062],\n",
       "       [-0.6908134 ,  1.02744203],\n",
       "       [-1.81831596,  0.77572287],\n",
       "       [ 1.02819517, -0.44878308],\n",
       "       [ 0.54542994, -0.37647331],\n",
       "       [ 1.44492881,  1.70376591],\n",
       "       [ 1.64924434, -0.58104506],\n",
       "       [ 1.39934781, -0.25178307],\n",
       "       [ 1.41906598, -0.42813401],\n",
       "       [ 0.70711216,  2.29091905],\n",
       "       [ 0.33156063,  0.75822045],\n",
       "       [ 0.02084335,  1.02993874],\n",
       "       [ 0.66263895, -1.15092902],\n",
       "       [ 2.07774126, -1.61038399],\n",
       "       [-1.71073367,  0.68472872],\n",
       "       [-1.33183013,  0.89102424]])"
      ]
     },
     "execution_count": 30,
     "metadata": {},
     "output_type": "execute_result"
    }
   ],
   "source": [
    "X"
   ]
  },
  {
   "cell_type": "code",
   "execution_count": 31,
   "metadata": {},
   "outputs": [
    {
     "data": {
      "text/plain": [
       "array([1, 0, 2, 2, 0, 0, 0, 1, 1, 0, 2, 2, 0, 0, 0, 0, 1, 0, 1, 2, 2, 2,\n",
       "       2, 0, 0, 0, 1, 0, 2, 2, 0, 1, 2, 1, 0, 0, 1, 0, 0, 1, 1, 2, 2, 0,\n",
       "       1, 0, 1, 1, 2, 0, 2, 0, 1, 1, 1, 0, 0, 2, 1, 0, 1, 2, 0, 2, 0, 2,\n",
       "       0, 1, 1, 0, 1, 2, 2, 2, 1, 2, 1, 0, 0, 0, 2, 2, 1, 0, 1, 0, 0, 0,\n",
       "       0, 2, 2, 1, 1, 2, 1, 1, 1, 1, 2, 0, 2, 2, 2, 1, 2, 1, 1, 2, 0, 0,\n",
       "       1, 0, 1, 0, 1, 0, 2, 1, 1, 0, 2, 2, 2, 0, 1, 2, 1, 1, 2, 1, 2, 1,\n",
       "       1, 0, 1, 2, 2, 2, 2, 0, 0, 2, 2, 0, 2, 1, 1, 1, 1, 1, 2, 2, 1, 0,\n",
       "       2, 0, 1, 2, 0, 0, 0, 0, 1, 0, 2, 2, 2, 1, 1, 1, 0, 1, 2, 2, 0, 1,\n",
       "       1, 1, 1, 2, 2, 0, 0, 2, 1, 0, 0, 2, 2, 1, 2, 2, 1, 1, 1, 0, 2, 2,\n",
       "       0, 0])"
      ]
     },
     "execution_count": 31,
     "metadata": {},
     "output_type": "execute_result"
    }
   ],
   "source": [
    "y"
   ]
  },
  {
   "cell_type": "markdown",
   "metadata": {},
   "source": [
    "> **Para pensar:** quais as limitações dessa abordagem?\n",
    "\n",
    "Possível solução:\n",
    "\n",
    "- Holdout repetido:\n",
    "    - Aplica várias partições holdout, variando a seed aleatória\n",
    "    - Modelos treinados para cada partição\n",
    "    - Agrega os resultados obtidos: média, desvio padrão, etc.\n",
    "- Qual a limitação dessa abordagem? (Ela resolve o problema parcialmente, mas o que ainda falta?)\n",
    "- No decorrer do curso veremos abordagens mais adequadas para avaliação\n"
   ]
  },
  {
   "cell_type": "markdown",
   "metadata": {},
   "source": [
    "### 3.2. Aplicando o Holdout no nosso modelo k-NN para classificação"
   ]
  },
  {
   "cell_type": "code",
   "execution_count": 32,
   "metadata": {},
   "outputs": [
    {
     "name": "stdout",
     "output_type": "stream",
     "text": [
      "Vou fingir que trabalho.\n",
      "\tUfa, que canseira!\n"
     ]
    }
   ],
   "source": [
    "knn_c = KNNClassifier(verbose=True)\n",
    "knn_c.fit(X_train, y_train)\n",
    "\n",
    "pass"
   ]
  },
  {
   "cell_type": "code",
   "execution_count": 33,
   "metadata": {},
   "outputs": [
    {
     "name": "stdout",
     "output_type": "stream",
     "text": [
      "Hora de predizer:\n",
      "Instância de predição 0 | Vizinhos mais próximos: [23  1  2] | R: 1\n",
      "Instância de predição 1 | Vizinhos mais próximos: [47 25 37] | R: 0\n",
      "Instância de predição 2 | Vizinhos mais próximos: [ 81 136 114] | R: 0\n",
      "Instância de predição 3 | Vizinhos mais próximos: [ 17  65 120] | R: 0\n",
      "Instância de predição 4 | Vizinhos mais próximos: [ 54  92 138] | R: 2\n",
      "Instância de predição 5 | Vizinhos mais próximos: [ 58  89 128] | R: 0\n",
      "Instância de predição 6 | Vizinhos mais próximos: [85 82 26] | R: 0\n",
      "Instância de predição 7 | Vizinhos mais próximos: [47 37 25] | R: 0\n",
      "Instância de predição 8 | Vizinhos mais próximos: [83 64 58] | R: 0\n",
      "Instância de predição 9 | Vizinhos mais próximos: [60 77 61] | R: 1\n",
      "Instância de predição 10 | Vizinhos mais próximos: [44 36 95] | R: 0\n",
      "Instância de predição 11 | Vizinhos mais próximos: [15 40  4] | R: 0\n",
      "Instância de predição 12 | Vizinhos mais próximos: [13 34 30] | R: 2\n",
      "Instância de predição 13 | Vizinhos mais próximos: [ 10 120  79] | R: 0\n",
      "Instância de predição 14 | Vizinhos mais próximos: [19 52 53] | R: 0\n",
      "Instância de predição 15 | Vizinhos mais próximos: [ 88   0 105] | R: 1\n",
      "Instância de predição 16 | Vizinhos mais próximos: [37 91 47] | R: 0\n",
      "Instância de predição 17 | Vizinhos mais próximos: [14  7 67] | R: 1\n",
      "Instância de predição 18 | Vizinhos mais próximos: [105 125 129] | R: 1\n",
      "Instância de predição 19 | Vizinhos mais próximos: [ 88 105   0] | R: 1\n",
      "Instância de predição 20 | Vizinhos mais próximos: [ 97 102  11] | R: 1\n",
      "Instância de predição 21 | Vizinhos mais próximos: [ 38 116  71] | R: 1\n",
      "Instância de predição 22 | Vizinhos mais próximos: [  9 105  88] | R: 1\n",
      "Instância de predição 23 | Vizinhos mais próximos: [134  54 132] | R: 2\n",
      "Instância de predição 24 | Vizinhos mais próximos: [16  1 99] | R: 1\n",
      "Instância de predição 25 | Vizinhos mais próximos: [ 38 116 125] | R: 1\n",
      "Instância de predição 26 | Vizinhos mais próximos: [77 60 61] | R: 1\n",
      "Instância de predição 27 | Vizinhos mais próximos: [135  96  63] | R: 1\n",
      "Instância de predição 28 | Vizinhos mais próximos: [75 66 46] | R: 2\n",
      "Instância de predição 29 | Vizinhos mais próximos: [ 9 14  7] | R: 1\n",
      "Instância de predição 30 | Vizinhos mais próximos: [40 15 83] | R: 0\n",
      "Instância de predição 31 | Vizinhos mais próximos: [ 57 135  96] | R: 1\n",
      "Instância de predição 32 | Vizinhos mais próximos: [128  89  52] | R: 0\n",
      "Instância de predição 33 | Vizinhos mais próximos: [101  46  30] | R: 2\n",
      "Instância de predição 34 | Vizinhos mais próximos: [20 50 90] | R: 2\n",
      "Instância de predição 35 | Vizinhos mais próximos: [107  92 124] | R: 2\n",
      "Instância de predição 36 | Vizinhos mais próximos: [24 69 27] | R: 1\n",
      "Instância de predição 37 | Vizinhos mais próximos: [23  1 99] | R: 2\n",
      "Instância de predição 38 | Vizinhos mais próximos: [ 6 86 12] | R: 1\n",
      "Instância de predição 39 | Vizinhos mais próximos: [109  78  72] | R: 1\n",
      "Instância de predição 40 | Vizinhos mais próximos: [ 10 114 136] | R: 0\n",
      "Instância de predição 41 | Vizinhos mais próximos: [54  6 12] | R: 1\n",
      "Instância de predição 42 | Vizinhos mais próximos: [ 44 126   5] | R: 0\n",
      "Instância de predição 43 | Vizinhos mais próximos: [47 37 25] | R: 0\n",
      "Instância de predição 44 | Vizinhos mais próximos: [110  45  39] | R: 2\n",
      "Instância de predição 45 | Vizinhos mais próximos: [ 81 114 136] | R: 0\n",
      "Instância de predição 46 | Vizinhos mais próximos: [130 127 104] | R: 2\n",
      "Instância de predição 47 | Vizinhos mais próximos: [ 42 127  68] | R: 2\n",
      "Instância de predição 48 | Vizinhos mais próximos: [116 125  38] | R: 1\n",
      "Instância de predição 49 | Vizinhos mais próximos: [98 36 82] | R: 0\n",
      "Instância de predição 50 | Vizinhos mais próximos: [33 94  7] | R: 1\n",
      "Instância de predição 51 | Vizinhos mais próximos: [101  46  30] | R: 2\n",
      "Instância de predição 52 | Vizinhos mais próximos: [19 52 53] | R: 0\n",
      "Instância de predição 53 | Vizinhos mais próximos: [ 0 88 93] | R: 1\n",
      "Instância de predição 54 | Vizinhos mais próximos: [109 121  78] | R: 1\n",
      "Instância de predição 55 | Vizinhos mais próximos: [ 39   8 118] | R: 2\n",
      "Instância de predição 56 | Vizinhos mais próximos: [17 98 36] | R: 0\n",
      "Instância de predição 57 | Vizinhos mais próximos: [130  42 104] | R: 2\n",
      "Instância de predição 58 | Vizinhos mais próximos: [ 41 113 106] | R: 2\n",
      "Instância de predição 59 | Vizinhos mais próximos: [138 106  34] | R: 2\n"
     ]
    }
   ],
   "source": [
    "y_pred = knn_c.predict(X_test)"
   ]
  },
  {
   "cell_type": "code",
   "execution_count": 34,
   "metadata": {},
   "outputs": [
    {
     "data": {
      "text/plain": [
       "array([1, 0, 0, 0, 2, 0, 0, 0, 0, 1, 0, 0, 2, 0, 0, 1, 0, 1, 1, 1, 1, 1,\n",
       "       1, 2, 1, 1, 1, 1, 2, 1, 0, 1, 0, 2, 2, 2, 1, 2, 1, 1, 0, 1, 0, 0,\n",
       "       2, 0, 2, 2, 1, 0, 1, 2, 0, 1, 1, 2, 0, 2, 2, 2])"
      ]
     },
     "execution_count": 34,
     "metadata": {},
     "output_type": "execute_result"
    }
   ],
   "source": [
    "y_pred"
   ]
  },
  {
   "cell_type": "code",
   "execution_count": 35,
   "metadata": {
    "scrolled": true
   },
   "outputs": [
    {
     "data": {
      "text/plain": [
       "array([1, 0, 0, 0, 2, 0, 0, 0, 0, 0, 0, 0, 2, 0, 0, 1, 0, 1, 1, 1, 1, 1,\n",
       "       1, 2, 2, 1, 1, 1, 2, 1, 0, 1, 0, 2, 2, 2, 2, 2, 2, 1, 0, 2, 0, 0,\n",
       "       2, 0, 2, 2, 0, 0, 1, 2, 0, 1, 1, 2, 0, 2, 2, 1])"
      ]
     },
     "execution_count": 35,
     "metadata": {},
     "output_type": "execute_result"
    }
   ],
   "source": [
    "y_test"
   ]
  },
  {
   "cell_type": "markdown",
   "metadata": {},
   "source": [
    "## 4. Métricas de avaliação para classificação\n",
    "\n",
    "- Permitem avaliar o modelo preditivo\n",
    "- Várias métricas, a depender da necessidade\n",
    "- **Acurácia:** percentual de acerto"
   ]
  },
  {
   "cell_type": "code",
   "execution_count": 36,
   "metadata": {},
   "outputs": [],
   "source": [
    "def acuracia(y_true, y_pred):\n",
    "    return sum(y_true == y_pred) / len(y_true)"
   ]
  },
  {
   "cell_type": "code",
   "execution_count": 37,
   "metadata": {},
   "outputs": [
    {
     "data": {
      "text/plain": [
       "0.8833333333333333"
      ]
     },
     "execution_count": 37,
     "metadata": {},
     "output_type": "execute_result"
    }
   ],
   "source": [
    "acuracia(y_test, y_pred)"
   ]
  },
  {
   "cell_type": "markdown",
   "metadata": {},
   "source": [
    "- A acurácia pode ser problemática\n",
    "- Suponha que tenhamos um cenário altamente desbalanceado\n",
    "    - A proporção de exemplos de cada classe é altamente desigual"
   ]
  },
  {
   "cell_type": "code",
   "execution_count": 38,
   "metadata": {},
   "outputs": [
    {
     "data": {
      "text/plain": [
       "0.97"
      ]
     },
     "execution_count": 38,
     "metadata": {},
     "output_type": "execute_result"
    }
   ],
   "source": [
    "ex = np.zeros(100, dtype=int)\n",
    "ex[3] = 1\n",
    "ex[10] = 1\n",
    "ex[39] = 1\n",
    "\n",
    "acuracia(ex, np.zeros(100))\n"
   ]
  },
  {
   "cell_type": "markdown",
   "metadata": {},
   "source": [
    "- E se o label \"1\" for o que mais estamos interessados?\n",
    "- Exemplos: fraude, ataque hacker, anomalia, etc.\n",
    "- Precisamos de mais métricas para avaliar nossos modelos!\n",
    "- Matriz de confusão: a raiz de (quase) todas as métricas de classificação\n",
    "\n",
    "<img src=\"img/a2/matriz-confusao.png\" width=\"500\">\n",
    "    <figcaption>Matriz de Confusão: contagem de erros e acertos do classificador por tipo</figcaption>\n",
    "</img>\n",
    "\n",
    "- A matriz é organizada da seguinte forma:\n",
    "    - TP: Verdadeiro positivo\n",
    "    - FP: Falso positivo\n",
    "    - TN: Verdadeiro negativo\n",
    "    - FN: Falso negativo\n",
    "- No caso em que temos mais do que duas classes, a matriz de confusão tem linhas e colunas correspondentes a cada classe\n",
    "    - Em geral, calculamos as métricas considerando cada classe como o \"Positivo\" e as demais como \"Negativo\"\n",
    "    - Podemos, por exemplo, tirar a média das métricas por classe para obter um valor final\n",
    "\n",
    "**Populares métricas derivadas da matriz de confusão:**\n",
    "\n",
    "1. Acurácia: mede o desempenho geral\n",
    "    $$Accuracy = \\dfrac{TP + TN}{TP + TN + FP + FN}$$\n",
    "2. Precisão (P)\n",
    "    $$\\text{Precision} = \\dfrac{TP}{FP + TP}$$\n",
    "3. Recall ou Revocação (R)\n",
    "    $$\\text{Recall} = \\dfrac{TP}{TP + TN}$$\n",
    "4. F1-score\n",
    "    $$F1 = \\dfrac{2 \\times P \\times R}{P + R}$$\n",
    "\n",
    "<img src=\"img/a2/alvo.jpg\" height=\"500\">\n",
    "    <figcaption>Acurácia vs. Precisão</figcaption>\n",
    "</img>\n",
    "\n",
    "- Existem outras medidas que são focadas em tarefas específicas\n",
    "- Por exemplo: tarefas de classificação desbalanceadas\n",
    "    - Acurácia balanceada\n",
    "- Se quiser aprender muito mais sobre métricas: [[artigo] A review on evaluation metrics for data classification evaluations](https://d1wqtxts1xzle7.cloudfront.net/37219940/5215ijdkp01-libre.pdf?1428316763=&response-content-disposition=inline%3B+filename%3DA_REVIEW_ON_EVALUATION_METRICS_FOR_DATA.pdf&Expires=1677429173&Signature=VilOIgvDEIvWbQXs6LRcn1oAzNYEhMfIl9wE5~ZUeosVg8qSgssMosoI~MNRgBXmMjpgTEFfC623ebmjS5HIy3t2fZgcPQbyWMFDI7fyJxbGKbmgpInFosxecYcZ0AvbXxoQbmxdOH28H7cItGy3nbw56wxywDVRLh~CZGYbwsZ3eoAoha4e3XBTCC~l8zX2yr-JwF5dT~PQNaQxyw~2zNs3hcgxhCeUCT9Ay~TFnNJ0Zsev5drG5kZdzxH5oJsW61g9~rkUpgVzDbfj3ZATj1wI1vGw8lho2gHASz2f0BJedB25N5VWtR4WIgW-k4B5vjyToaAGqzh1OKLD5HsA5A__&Key-Pair-Id=APKAJLOHF5GGSLRBV4ZA).\n",
    "\n"
   ]
  },
  {
   "cell_type": "code",
   "execution_count": 39,
   "metadata": {},
   "outputs": [
    {
     "data": {
      "text/plain": [
       "array([[21,  2,  0],\n",
       "       [ 0, 17,  1],\n",
       "       [ 0,  4, 15]])"
      ]
     },
     "execution_count": 39,
     "metadata": {},
     "output_type": "execute_result"
    }
   ],
   "source": [
    "metrics.confusion_matrix(y_test, y_pred)"
   ]
  },
  {
   "cell_type": "code",
   "execution_count": 40,
   "metadata": {},
   "outputs": [
    {
     "data": {
      "text/plain": [
       "0.8922101449275361"
      ]
     },
     "execution_count": 40,
     "metadata": {},
     "output_type": "execute_result"
    }
   ],
   "source": [
    "# Precisão\n",
    "mc = metrics.confusion_matrix(y_test, y_pred)\n",
    "sum([mc[0, 0] / sum(mc[:, 0]), mc[1, 1] / sum(mc[:, 1]), mc[2, 2] / sum(mc[:, 2])]) / 3.0"
   ]
  },
  {
   "cell_type": "code",
   "execution_count": 41,
   "metadata": {},
   "outputs": [
    {
     "data": {
      "text/plain": [
       "0.8833333333333333"
      ]
     },
     "execution_count": 41,
     "metadata": {},
     "output_type": "execute_result"
    }
   ],
   "source": [
    "metrics.accuracy_score(y_test, y_pred)"
   ]
  },
  {
   "cell_type": "code",
   "execution_count": 42,
   "metadata": {},
   "outputs": [
    {
     "data": {
      "text/plain": [
       "0.8922101449275361"
      ]
     },
     "execution_count": 42,
     "metadata": {},
     "output_type": "execute_result"
    }
   ],
   "source": [
    "metrics.precision_score(y_test, y_pred, average=\"macro\")"
   ]
  },
  {
   "cell_type": "code",
   "execution_count": 43,
   "metadata": {},
   "outputs": [
    {
     "data": {
      "text/plain": [
       "0.8823205356386135"
      ]
     },
     "execution_count": 43,
     "metadata": {},
     "output_type": "execute_result"
    }
   ],
   "source": [
    "metrics.recall_score(y_test, y_pred, average=\"macro\")"
   ]
  },
  {
   "cell_type": "code",
   "execution_count": 44,
   "metadata": {},
   "outputs": [
    {
     "data": {
      "text/plain": [
       "0.8803188681237462"
      ]
     },
     "execution_count": 44,
     "metadata": {},
     "output_type": "execute_result"
    }
   ],
   "source": [
    "metrics.f1_score(y_test, y_pred, average=\"macro\")"
   ]
  },
  {
   "cell_type": "code",
   "execution_count": 45,
   "metadata": {},
   "outputs": [
    {
     "name": "stdout",
     "output_type": "stream",
     "text": [
      "              precision    recall  f1-score   support\n",
      "\n",
      "           0       1.00      0.91      0.95        23\n",
      "           1       0.74      0.94      0.83        18\n",
      "           2       0.94      0.79      0.86        19\n",
      "\n",
      "    accuracy                           0.88        60\n",
      "   macro avg       0.89      0.88      0.88        60\n",
      "weighted avg       0.90      0.88      0.89        60\n",
      "\n"
     ]
    }
   ],
   "source": [
    "print(metrics.classification_report(y_test, y_pred))"
   ]
  },
  {
   "cell_type": "markdown",
   "metadata": {},
   "source": [
    "| Parâmetro `average` | Descrição                                                                                                          |\n",
    "|---------------------|--------------------------------------------------------------------------------------------------------------------|\n",
    "| `binary`            | Reporta resultados apenas para a _label_ passada em `pos_label`. Só aplicável em tarefas de classificação binária. |\n",
    "| `micro`             | Calcula a média geral de TP, TN, FP e FN, par-a-par -- utilizado em tarefas multi-label.                           |\n",
    "| `macro`             | Calcula a métrica por classe e toma a média entre as métricas calculadas (mais utilizado no nosso caso).           |\n",
    "| `weighted`          | Calcula a métrica por classe e faz média ponderada pelo suporte (número de exemplos em cada classe).               |"
   ]
  },
  {
   "cell_type": "markdown",
   "metadata": {},
   "source": [
    "## 5. Fronteiras de decisão"
   ]
  },
  {
   "cell_type": "code",
   "execution_count": 46,
   "metadata": {},
   "outputs": [],
   "source": [
    "# Adaptado de: https://github.com/tirthajyoti/Machine-Learning-with-Python/blob/master/Utilities/ML-Python-utils.py\n",
    "def plot_decision_boundaries(X, y, model_class, **model_params):\n",
    "    \"\"\"Function to plot the decision boundaries of a classification model.\n",
    "\n",
    "    This uses just the first two columns of the data for fitting \n",
    "    the model as we need to find the predicted value for every point in \n",
    "    scatter plot.\n",
    "    Arguments:\n",
    "            X: Feature data as a NumPy-type array.\n",
    "            y: Label data as a NumPy-type array.\n",
    "            model_class: A Scikit-learn ML estimator class \n",
    "            e.g. GaussianNB (imported from sklearn.naive_bayes) or\n",
    "            LogisticRegression (imported from sklearn.linear_model)\n",
    "            **model_params: Model parameters to be passed on to the ML estimator\n",
    "    \n",
    "    Typical code example:\n",
    "            plt.figure()\n",
    "            plt.title(\"KNN decision boundary with neighbros: 5\",fontsize=16)\n",
    "            plot_decision_boundaries(X_train,y_train,KNeighborsClassifier,n_neighbors=5)\n",
    "            plt.show()\n",
    "    \"\"\"\n",
    "    from matplotlib import colormaps\n",
    "    import matplotlib.markers as mmarkers\n",
    "    def mscatter(x, y, ax=None, m=None, **kw):\n",
    "        if not ax: ax=plt.gca()\n",
    "        sc = ax.scatter(x,y,**kw)\n",
    "        if (m is not None) and (len(m)==len(x)):\n",
    "            paths = []\n",
    "            for marker in m:\n",
    "                if isinstance(marker, mmarkers.MarkerStyle):\n",
    "                    marker_obj = marker\n",
    "                else:\n",
    "                    marker_obj = mmarkers.MarkerStyle(marker)\n",
    "                path = marker_obj.get_path().transformed(\n",
    "                            marker_obj.get_transform())\n",
    "                paths.append(path)\n",
    "            sc.set_paths(paths)\n",
    "        return sc\n",
    "\n",
    "    try:\n",
    "        X = np.array(X)\n",
    "        y = np.array(y).flatten()\n",
    "    except:\n",
    "        print(\"Coercing input data to NumPy arrays failed\")\n",
    "\n",
    "    # Reduces to the first two columns of data\n",
    "    reduced_data = X[:, :2]\n",
    "    # Instantiate the model object\n",
    "    model = model_class(**model_params)\n",
    "    # Fits the model with the reduced data\n",
    "    model.fit(reduced_data, y)\n",
    "\n",
    "    # Step size of the mesh. Decrease to increase the quality of the VQ.\n",
    "    h = .02     # point in the mesh [x_min, m_max]x[y_min, y_max].    \n",
    "\n",
    "    # Plot the decision boundary. For that, we will assign a color to each\n",
    "    x_min, x_max = reduced_data[:, 0].min() - 1, reduced_data[:, 0].max() + 1\n",
    "    y_min, y_max = reduced_data[:, 1].min() - 1, reduced_data[:, 1].max() + 1\n",
    "    # Meshgrid creation\n",
    "    xx, yy = np.meshgrid(np.arange(x_min, x_max, h), np.arange(y_min, y_max, h))\n",
    "\n",
    "    # Obtain labels for each point in mesh using the model.\n",
    "    Z = model.predict(np.c_[xx.ravel(), yy.ravel()])    \n",
    "\n",
    "    x_min, x_max = X[:, 0].min() - 1, X[:, 0].max() + 1\n",
    "    y_min, y_max = X[:, 1].min() - 1, X[:, 1].max() + 1\n",
    "    xx, yy = np.meshgrid(np.arange(x_min, x_max, 0.1),\n",
    "                         np.arange(y_min, y_max, 0.1))\n",
    "\n",
    "    # Predictions to obtain the classification results\n",
    "    Z = model.predict(np.c_[xx.ravel(), yy.ravel()]).reshape(xx.shape)\n",
    "    \n",
    "    # Right now it only works with binary tasks: expand both dictionaries or use cmap for multiclass tasks\n",
    "\n",
    "    cmap = colormaps['brg']\n",
    "\n",
    "    markers = {0: \"o\", 1: \"^\", 2: \"s\", 3: \"D\", 4: \"+\", 5: \"*\"}\n",
    "\n",
    "    m = list(map(lambda i: markers[i], y))\n",
    "    \n",
    "    # Plotting\n",
    "    plt.contourf(xx, yy, Z, alpha=0.3, cmap=cmap)\n",
    "    mscatter(x=X[:, 0], y=X[:, 1], c=y, m=m, cmap=cmap, alpha=1)\n",
    "    \n",
    "    plt.xlabel(\"x1\",fontsize=15)\n",
    "    plt.ylabel(\"x2\",fontsize=15)\n",
    "    plt.xticks(fontsize=14)\n",
    "    plt.yticks(fontsize=14)\n",
    "\n",
    "    return plt"
   ]
  },
  {
   "cell_type": "code",
   "execution_count": 47,
   "metadata": {},
   "outputs": [
    {
     "data": {
      "image/png": "[encoded data removed]",
      "text/plain": [
       "<Figure size 640x480 with 1 Axes>"
      ]
     },
     "metadata": {},
     "output_type": "display_data"
    }
   ],
   "source": [
    "plot_decision_boundaries(X_train, y_train, KNNClassifier, k=3, p=2, verbose=False)\n",
    "plt.show()"
   ]
  },
  {
   "cell_type": "markdown",
   "metadata": {},
   "source": [
    "Utilizaremos a implementação do sklearn para obter mais velocidade e outras otimizações"
   ]
  },
  {
   "cell_type": "code",
   "execution_count": 48,
   "metadata": {},
   "outputs": [],
   "source": [
    "from sklearn.neighbors import KNeighborsClassifier"
   ]
  },
  {
   "cell_type": "code",
   "execution_count": 49,
   "metadata": {},
   "outputs": [
    {
     "name": "stdout",
     "output_type": "stream",
     "text": [
      "Help on class KNeighborsClassifier in module sklearn.neighbors._classification:\n",
      "\n",
      "class KNeighborsClassifier(sklearn.neighbors._base.KNeighborsMixin, sklearn.base.ClassifierMixin, sklearn.neighbors._base.NeighborsBase)\n",
      " |  KNeighborsClassifier(n_neighbors=5, *, weights='uniform', algorithm='auto', leaf_size=30, p=2, metric='minkowski', metric_params=None, n_jobs=None)\n",
      " |  \n",
      " |  Classifier implementing the k-nearest neighbors vote.\n",
      " |  \n",
      " |  Read more in the :ref:`User Guide <classification>`.\n",
      " |  \n",
      " |  Parameters\n",
      " |  ----------\n",
      " |  n_neighbors : int, default=5\n",
      " |      Number of neighbors to use by default for :meth:`kneighbors` queries.\n",
      " |  \n",
      " |  weights : {'uniform', 'distance'}, callable or None, default='uniform'\n",
      " |      Weight function used in prediction.  Possible values:\n",
      " |  \n",
      " |      - 'uniform' : uniform weights.  All points in each neighborhood\n",
      " |        are weighted equally.\n",
      " |      - 'distance' : weight points by the inverse of their distance.\n",
      " |        in this case, closer neighbors of a query point will have a\n",
      " |        greater influence than neighbors which are further away.\n",
      " |      - [callable] : a user-defined function which accepts an\n",
      " |        array of distances, and returns an array of the same shape\n",
      " |        containing the weights.\n",
      " |  \n",
      " |  algorithm : {'auto', 'ball_tree', 'kd_tree', 'brute'}, default='auto'\n",
      " |      Algorithm used to compute the nearest neighbors:\n",
      " |  \n",
      " |      - 'ball_tree' will use :class:`BallTree`\n",
      " |      - 'kd_tree' will use :class:`KDTree`\n",
      " |      - 'brute' will use a brute-force search.\n",
      " |      - 'auto' will attempt to decide the most appropriate algorithm\n",
      " |        based on the values passed to :meth:`fit` method.\n",
      " |  \n",
      " |      Note: fitting on sparse input will override the setting of\n",
      " |      this parameter, using brute force.\n",
      " |  \n",
      " |  leaf_size : int, default=30\n",
      " |      Leaf size passed to BallTree or KDTree.  This can affect the\n",
      " |      speed of the construction and query, as well as the memory\n",
      " |      required to store the tree.  The optimal value depends on the\n",
      " |      nature of the problem.\n",
      " |  \n",
      " |  p : int, default=2\n",
      " |      Power parameter for the Minkowski metric. When p = 1, this is\n",
      " |      equivalent to using manhattan_distance (l1), and euclidean_distance\n",
      " |      (l2) for p = 2. For arbitrary p, minkowski_distance (l_p) is used.\n",
      " |  \n",
      " |  metric : str or callable, default='minkowski'\n",
      " |      Metric to use for distance computation. Default is \"minkowski\", which\n",
      " |      results in the standard Euclidean distance when p = 2. See the\n",
      " |      documentation of `scipy.spatial.distance\n",
      " |      <https://docs.scipy.org/doc/scipy/reference/spatial.distance.html>`_ and\n",
      " |      the metrics listed in\n",
      " |      :class:`~sklearn.metrics.pairwise.distance_metrics` for valid metric\n",
      " |      values.\n",
      " |  \n",
      " |      If metric is \"precomputed\", X is assumed to be a distance matrix and\n",
      " |      must be square during fit. X may be a :term:`sparse graph`, in which\n",
      " |      case only \"nonzero\" elements may be considered neighbors.\n",
      " |  \n",
      " |      If metric is a callable function, it takes two arrays representing 1D\n",
      " |      vectors as inputs and must return one value indicating the distance\n",
      " |      between those vectors. This works for Scipy's metrics, but is less\n",
      " |      efficient than passing the metric name as a string.\n",
      " |  \n",
      " |  metric_params : dict, default=None\n",
      " |      Additional keyword arguments for the metric function.\n",
      " |  \n",
      " |  n_jobs : int, default=None\n",
      " |      The number of parallel jobs to run for neighbors search.\n",
      " |      ``None`` means 1 unless in a :obj:`joblib.parallel_backend` context.\n",
      " |      ``-1`` means using all processors. See :term:`Glossary <n_jobs>`\n",
      " |      for more details.\n",
      " |      Doesn't affect :meth:`fit` method.\n",
      " |  \n",
      " |  Attributes\n",
      " |  ----------\n",
      " |  classes_ : array of shape (n_classes,)\n",
      " |      Class labels known to the classifier\n",
      " |  \n",
      " |  effective_metric_ : str or callble\n",
      " |      The distance metric used. It will be same as the `metric` parameter\n",
      " |      or a synonym of it, e.g. 'euclidean' if the `metric` parameter set to\n",
      " |      'minkowski' and `p` parameter set to 2.\n",
      " |  \n",
      " |  effective_metric_params_ : dict\n",
      " |      Additional keyword arguments for the metric function. For most metrics\n",
      " |      will be same with `metric_params` parameter, but may also contain the\n",
      " |      `p` parameter value if the `effective_metric_` attribute is set to\n",
      " |      'minkowski'.\n",
      " |  \n",
      " |  n_features_in_ : int\n",
      " |      Number of features seen during :term:`fit`.\n",
      " |  \n",
      " |      .. versionadded:: 0.24\n",
      " |  \n",
      " |  feature_names_in_ : ndarray of shape (`n_features_in_`,)\n",
      " |      Names of features seen during :term:`fit`. Defined only when `X`\n",
      " |      has feature names that are all strings.\n",
      " |  \n",
      " |      .. versionadded:: 1.0\n",
      " |  \n",
      " |  n_samples_fit_ : int\n",
      " |      Number of samples in the fitted data.\n",
      " |  \n",
      " |  outputs_2d_ : bool\n",
      " |      False when `y`'s shape is (n_samples, ) or (n_samples, 1) during fit\n",
      " |      otherwise True.\n",
      " |  \n",
      " |  See Also\n",
      " |  --------\n",
      " |  RadiusNeighborsClassifier: Classifier based on neighbors within a fixed radius.\n",
      " |  KNeighborsRegressor: Regression based on k-nearest neighbors.\n",
      " |  RadiusNeighborsRegressor: Regression based on neighbors within a fixed radius.\n",
      " |  NearestNeighbors: Unsupervised learner for implementing neighbor searches.\n",
      " |  \n",
      " |  Notes\n",
      " |  -----\n",
      " |  See :ref:`Nearest Neighbors <neighbors>` in the online documentation\n",
      " |  for a discussion of the choice of ``algorithm`` and ``leaf_size``.\n",
      " |  \n",
      " |  .. warning::\n",
      " |  \n",
      " |     Regarding the Nearest Neighbors algorithms, if it is found that two\n",
      " |     neighbors, neighbor `k+1` and `k`, have identical distances\n",
      " |     but different labels, the results will depend on the ordering of the\n",
      " |     training data.\n",
      " |  \n",
      " |  https://en.wikipedia.org/wiki/K-nearest_neighbor_algorithm\n",
      " |  \n",
      " |  Examples\n",
      " |  --------\n",
      " |  >>> X = [[0], [1], [2], [3]]\n",
      " |  >>> y = [0, 0, 1, 1]\n",
      " |  >>> from sklearn.neighbors import KNeighborsClassifier\n",
      " |  >>> neigh = KNeighborsClassifier(n_neighbors=3)\n",
      " |  >>> neigh.fit(X, y)\n",
      " |  KNeighborsClassifier(...)\n",
      " |  >>> print(neigh.predict([[1.1]]))\n",
      " |  [0]\n",
      " |  >>> print(neigh.predict_proba([[0.9]]))\n",
      " |  [[0.666... 0.333...]]\n",
      " |  \n",
      " |  Method resolution order:\n",
      " |      KNeighborsClassifier\n",
      " |      sklearn.neighbors._base.KNeighborsMixin\n",
      " |      sklearn.base.ClassifierMixin\n",
      " |      sklearn.neighbors._base.NeighborsBase\n",
      " |      sklearn.base.MultiOutputMixin\n",
      " |      sklearn.base.BaseEstimator\n",
      " |      builtins.object\n",
      " |  \n",
      " |  Methods defined here:\n",
      " |  \n",
      " |  __init__(self, n_neighbors=5, *, weights='uniform', algorithm='auto', leaf_size=30, p=2, metric='minkowski', metric_params=None, n_jobs=None)\n",
      " |      Initialize self.  See help(type(self)) for accurate signature.\n",
      " |  \n",
      " |  fit(self, X, y)\n",
      " |      Fit the k-nearest neighbors classifier from the training dataset.\n",
      " |      \n",
      " |      Parameters\n",
      " |      ----------\n",
      " |      X : {array-like, sparse matrix} of shape (n_samples, n_features) or                 (n_samples, n_samples) if metric='precomputed'\n",
      " |          Training data.\n",
      " |      \n",
      " |      y : {array-like, sparse matrix} of shape (n_samples,) or                 (n_samples, n_outputs)\n",
      " |          Target values.\n",
      " |      \n",
      " |      Returns\n",
      " |      -------\n",
      " |      self : KNeighborsClassifier\n",
      " |          The fitted k-nearest neighbors classifier.\n",
      " |  \n",
      " |  predict(self, X)\n",
      " |      Predict the class labels for the provided data.\n",
      " |      \n",
      " |      Parameters\n",
      " |      ----------\n",
      " |      X : {array-like, sparse matrix} of shape (n_queries, n_features),                 or (n_queries, n_indexed) if metric == 'precomputed'\n",
      " |          Test samples.\n",
      " |      \n",
      " |      Returns\n",
      " |      -------\n",
      " |      y : ndarray of shape (n_queries,) or (n_queries, n_outputs)\n",
      " |          Class labels for each data sample.\n",
      " |  \n",
      " |  predict_proba(self, X)\n",
      " |      Return probability estimates for the test data X.\n",
      " |      \n",
      " |      Parameters\n",
      " |      ----------\n",
      " |      X : {array-like, sparse matrix} of shape (n_queries, n_features),                 or (n_queries, n_indexed) if metric == 'precomputed'\n",
      " |          Test samples.\n",
      " |      \n",
      " |      Returns\n",
      " |      -------\n",
      " |      p : ndarray of shape (n_queries, n_classes), or a list of n_outputs                 of such arrays if n_outputs > 1.\n",
      " |          The class probabilities of the input samples. Classes are ordered\n",
      " |          by lexicographic order.\n",
      " |  \n",
      " |  ----------------------------------------------------------------------\n",
      " |  Data and other attributes defined here:\n",
      " |  \n",
      " |  __abstractmethods__ = frozenset()\n",
      " |  \n",
      " |  __annotations__ = {'_parameter_constraints': <class 'dict'>}\n",
      " |  \n",
      " |  ----------------------------------------------------------------------\n",
      " |  Methods inherited from sklearn.neighbors._base.KNeighborsMixin:\n",
      " |  \n",
      " |  kneighbors(self, X=None, n_neighbors=None, return_distance=True)\n",
      " |      Find the K-neighbors of a point.\n",
      " |      \n",
      " |      Returns indices of and distances to the neighbors of each point.\n",
      " |      \n",
      " |      Parameters\n",
      " |      ----------\n",
      " |      X : {array-like, sparse matrix}, shape (n_queries, n_features),             or (n_queries, n_indexed) if metric == 'precomputed', default=None\n",
      " |          The query point or points.\n",
      " |          If not provided, neighbors of each indexed point are returned.\n",
      " |          In this case, the query point is not considered its own neighbor.\n",
      " |      \n",
      " |      n_neighbors : int, default=None\n",
      " |          Number of neighbors required for each sample. The default is the\n",
      " |          value passed to the constructor.\n",
      " |      \n",
      " |      return_distance : bool, default=True\n",
      " |          Whether or not to return the distances.\n",
      " |      \n",
      " |      Returns\n",
      " |      -------\n",
      " |      neigh_dist : ndarray of shape (n_queries, n_neighbors)\n",
      " |          Array representing the lengths to points, only present if\n",
      " |          return_distance=True.\n",
      " |      \n",
      " |      neigh_ind : ndarray of shape (n_queries, n_neighbors)\n",
      " |          Indices of the nearest points in the population matrix.\n",
      " |      \n",
      " |      Examples\n",
      " |      --------\n",
      " |      In the following example, we construct a NearestNeighbors\n",
      " |      class from an array representing our data set and ask who's\n",
      " |      the closest point to [1,1,1]\n",
      " |      \n",
      " |      >>> samples = [[0., 0., 0.], [0., .5, 0.], [1., 1., .5]]\n",
      " |      >>> from sklearn.neighbors import NearestNeighbors\n",
      " |      >>> neigh = NearestNeighbors(n_neighbors=1)\n",
      " |      >>> neigh.fit(samples)\n",
      " |      NearestNeighbors(n_neighbors=1)\n",
      " |      >>> print(neigh.kneighbors([[1., 1., 1.]]))\n",
      " |      (array([[0.5]]), array([[2]]))\n",
      " |      \n",
      " |      As you can see, it returns [[0.5]], and [[2]], which means that the\n",
      " |      element is at distance 0.5 and is the third element of samples\n",
      " |      (indexes start at 0). You can also query for multiple points:\n",
      " |      \n",
      " |      >>> X = [[0., 1., 0.], [1., 0., 1.]]\n",
      " |      >>> neigh.kneighbors(X, return_distance=False)\n",
      " |      array([[1],\n",
      " |             [2]]...)\n",
      " |  \n",
      " |  kneighbors_graph(self, X=None, n_neighbors=None, mode='connectivity')\n",
      " |      Compute the (weighted) graph of k-Neighbors for points in X.\n",
      " |      \n",
      " |      Parameters\n",
      " |      ----------\n",
      " |      X : {array-like, sparse matrix} of shape (n_queries, n_features),             or (n_queries, n_indexed) if metric == 'precomputed', default=None\n",
      " |          The query point or points.\n",
      " |          If not provided, neighbors of each indexed point are returned.\n",
      " |          In this case, the query point is not considered its own neighbor.\n",
      " |          For ``metric='precomputed'`` the shape should be\n",
      " |          (n_queries, n_indexed). Otherwise the shape should be\n",
      " |          (n_queries, n_features).\n",
      " |      \n",
      " |      n_neighbors : int, default=None\n",
      " |          Number of neighbors for each sample. The default is the value\n",
      " |          passed to the constructor.\n",
      " |      \n",
      " |      mode : {'connectivity', 'distance'}, default='connectivity'\n",
      " |          Type of returned matrix: 'connectivity' will return the\n",
      " |          connectivity matrix with ones and zeros, in 'distance' the\n",
      " |          edges are distances between points, type of distance\n",
      " |          depends on the selected metric parameter in\n",
      " |          NearestNeighbors class.\n",
      " |      \n",
      " |      Returns\n",
      " |      -------\n",
      " |      A : sparse-matrix of shape (n_queries, n_samples_fit)\n",
      " |          `n_samples_fit` is the number of samples in the fitted data.\n",
      " |          `A[i, j]` gives the weight of the edge connecting `i` to `j`.\n",
      " |          The matrix is of CSR format.\n",
      " |      \n",
      " |      See Also\n",
      " |      --------\n",
      " |      NearestNeighbors.radius_neighbors_graph : Compute the (weighted) graph\n",
      " |          of Neighbors for points in X.\n",
      " |      \n",
      " |      Examples\n",
      " |      --------\n",
      " |      >>> X = [[0], [3], [1]]\n",
      " |      >>> from sklearn.neighbors import NearestNeighbors\n",
      " |      >>> neigh = NearestNeighbors(n_neighbors=2)\n",
      " |      >>> neigh.fit(X)\n",
      " |      NearestNeighbors(n_neighbors=2)\n",
      " |      >>> A = neigh.kneighbors_graph(X)\n",
      " |      >>> A.toarray()\n",
      " |      array([[1., 0., 1.],\n",
      " |             [0., 1., 1.],\n",
      " |             [1., 0., 1.]])\n",
      " |  \n",
      " |  ----------------------------------------------------------------------\n",
      " |  Data descriptors inherited from sklearn.neighbors._base.KNeighborsMixin:\n",
      " |  \n",
      " |  __dict__\n",
      " |      dictionary for instance variables (if defined)\n",
      " |  \n",
      " |  __weakref__\n",
      " |      list of weak references to the object (if defined)\n",
      " |  \n",
      " |  ----------------------------------------------------------------------\n",
      " |  Methods inherited from sklearn.base.ClassifierMixin:\n",
      " |  \n",
      " |  score(self, X, y, sample_weight=None)\n",
      " |      Return the mean accuracy on the given test data and labels.\n",
      " |      \n",
      " |      In multi-label classification, this is the subset accuracy\n",
      " |      which is a harsh metric since you require for each sample that\n",
      " |      each label set be correctly predicted.\n",
      " |      \n",
      " |      Parameters\n",
      " |      ----------\n",
      " |      X : array-like of shape (n_samples, n_features)\n",
      " |          Test samples.\n",
      " |      \n",
      " |      y : array-like of shape (n_samples,) or (n_samples, n_outputs)\n",
      " |          True labels for `X`.\n",
      " |      \n",
      " |      sample_weight : array-like of shape (n_samples,), default=None\n",
      " |          Sample weights.\n",
      " |      \n",
      " |      Returns\n",
      " |      -------\n",
      " |      score : float\n",
      " |          Mean accuracy of ``self.predict(X)`` wrt. `y`.\n",
      " |  \n",
      " |  ----------------------------------------------------------------------\n",
      " |  Methods inherited from sklearn.base.BaseEstimator:\n",
      " |  \n",
      " |  __getstate__(self)\n",
      " |  \n",
      " |  __repr__(self, N_CHAR_MAX=700)\n",
      " |      Return repr(self).\n",
      " |  \n",
      " |  __setstate__(self, state)\n",
      " |  \n",
      " |  get_params(self, deep=True)\n",
      " |      Get parameters for this estimator.\n",
      " |      \n",
      " |      Parameters\n",
      " |      ----------\n",
      " |      deep : bool, default=True\n",
      " |          If True, will return the parameters for this estimator and\n",
      " |          contained subobjects that are estimators.\n",
      " |      \n",
      " |      Returns\n",
      " |      -------\n",
      " |      params : dict\n",
      " |          Parameter names mapped to their values.\n",
      " |  \n",
      " |  set_params(self, **params)\n",
      " |      Set the parameters of this estimator.\n",
      " |      \n",
      " |      The method works on simple estimators as well as on nested objects\n",
      " |      (such as :class:`~sklearn.pipeline.Pipeline`). The latter have\n",
      " |      parameters of the form ``<component>__<parameter>`` so that it's\n",
      " |      possible to update each component of a nested object.\n",
      " |      \n",
      " |      Parameters\n",
      " |      ----------\n",
      " |      **params : dict\n",
      " |          Estimator parameters.\n",
      " |      \n",
      " |      Returns\n",
      " |      -------\n",
      " |      self : estimator instance\n",
      " |          Estimator instance.\n",
      "\n"
     ]
    }
   ],
   "source": [
    "help(KNeighborsClassifier)"
   ]
  },
  {
   "cell_type": "code",
   "execution_count": 50,
   "metadata": {},
   "outputs": [
    {
     "data": {
      "text/plain": [
       "array([1, 0, 0, 0, 2, 0, 0, 0, 0, 1, 0, 0, 2, 0, 0, 1, 0, 1, 1, 1, 1, 1,\n",
       "       1, 2, 1, 1, 1, 1, 2, 1, 0, 1, 0, 2, 2, 2, 1, 2, 1, 1, 0, 1, 0, 0,\n",
       "       2, 0, 2, 2, 1, 0, 1, 2, 0, 1, 1, 2, 0, 2, 2, 2])"
      ]
     },
     "execution_count": 50,
     "metadata": {},
     "output_type": "execute_result"
    }
   ],
   "source": [
    "knn = KNeighborsClassifier(n_neighbors=3)\n",
    "knn.fit(X_train, y_train)\n",
    "knn.predict(X_test)"
   ]
  },
  {
   "cell_type": "code",
   "execution_count": 51,
   "metadata": {},
   "outputs": [
    {
     "data": {
      "image/png": "[encoded data removed]",
      "text/plain": [
       "<Figure size 640x480 with 1 Axes>"
      ]
     },
     "metadata": {},
     "output_type": "display_data"
    }
   ],
   "source": [
    "plot_decision_boundaries(X_train, y_train, KNeighborsClassifier, n_neighbors=3)\n",
    "plt.show()\n"
   ]
  },
  {
   "cell_type": "markdown",
   "metadata": {},
   "source": [
    "Foco nos seguintes exemplos:\n",
    "\n",
    "- k = 50"
   ]
  },
  {
   "cell_type": "code",
   "execution_count": 52,
   "metadata": {},
   "outputs": [
    {
     "data": {
      "image/png": "[encoded data removed]",
      "text/plain": [
       "<Figure size 640x480 with 1 Axes>"
      ]
     },
     "metadata": {},
     "output_type": "display_data"
    }
   ],
   "source": [
    "plot_decision_boundaries(X_train, y_train, KNeighborsClassifier, n_neighbors=50)\n",
    "plt.show()"
   ]
  },
  {
   "cell_type": "markdown",
   "metadata": {},
   "source": [
    "- k = 1"
   ]
  },
  {
   "cell_type": "code",
   "execution_count": 53,
   "metadata": {},
   "outputs": [
    {
     "data": {
      "image/png": "[encoded data removed]",
      "text/plain": [
       "<Figure size 640x480 with 1 Axes>"
      ]
     },
     "metadata": {},
     "output_type": "display_data"
    }
   ],
   "source": [
    "plot_decision_boundaries(X_train, y_train, KNeighborsClassifier, n_neighbors=1)\n",
    "plt.show()"
   ]
  },
  {
   "cell_type": "markdown",
   "metadata": {},
   "source": [
    "# 6. Algoritmos baseados em distância e a importância da escala\n",
    "\n",
    "- Os dados que utilizamos até aqui possuem a mesma escala nos dados\n",
    "- Mas e se esse não fosse o caso?"
   ]
  },
  {
   "cell_type": "code",
   "execution_count": 54,
   "metadata": {},
   "outputs": [],
   "source": [
    "X, y = make_classification(\n",
    "    n_samples=200,\n",
    "    n_features=2,\n",
    "    n_redundant=0,\n",
    "    n_classes=3,\n",
    "    n_clusters_per_class=1,\n",
    "    random_state=0\n",
    ")\n",
    "\n",
    "# Aumento a escala da primeira feature\n",
    "X[:, 0] *= 100.0 \n",
    "\n",
    "X_train, X_test, y_train, y_test = train_test_split(X, y, test_size=0.3, shuffle=True, random_state=42)"
   ]
  },
  {
   "cell_type": "code",
   "execution_count": 55,
   "metadata": {},
   "outputs": [
    {
     "data": {
      "text/html": [
       "<style>#sk-container-id-1 {color: black;background-color: white;}#sk-container-id-1 pre{padding: 0;}#sk-container-id-1 div.sk-toggleable {background-color: white;}#sk-container-id-1 label.sk-toggleable__label {cursor: pointer;display: block;width: 100%;margin-bottom: 0;padding: 0.3em;box-sizing: border-box;text-align: center;}#sk-container-id-1 label.sk-toggleable__label-arrow:before {content: \"▸\";float: left;margin-right: 0.25em;color: #696969;}#sk-container-id-1 label.sk-toggleable__label-arrow:hover:before {color: black;}#sk-container-id-1 div.sk-estimator:hover label.sk-toggleable__label-arrow:before {color: black;}#sk-container-id-1 div.sk-toggleable__content {max-height: 0;max-width: 0;overflow: hidden;text-align: left;background-color: #f0f8ff;}#sk-container-id-1 div.sk-toggleable__content pre {margin: 0.2em;color: black;border-radius: 0.25em;background-color: #f0f8ff;}#sk-container-id-1 input.sk-toggleable__control:checked~div.sk-toggleable__content {max-height: 200px;max-width: 100%;overflow: auto;}#sk-container-id-1 input.sk-toggleable__control:checked~label.sk-toggleable__label-arrow:before {content: \"▾\";}#sk-container-id-1 div.sk-estimator input.sk-toggleable__control:checked~label.sk-toggleable__label {background-color: #d4ebff;}#sk-container-id-1 div.sk-label input.sk-toggleable__control:checked~label.sk-toggleable__label {background-color: #d4ebff;}#sk-container-id-1 input.sk-hidden--visually {border: 0;clip: rect(1px 1px 1px 1px);clip: rect(1px, 1px, 1px, 1px);height: 1px;margin: -1px;overflow: hidden;padding: 0;position: absolute;width: 1px;}#sk-container-id-1 div.sk-estimator {font-family: monospace;background-color: #f0f8ff;border: 1px dotted black;border-radius: 0.25em;box-sizing: border-box;margin-bottom: 0.5em;}#sk-container-id-1 div.sk-estimator:hover {background-color: #d4ebff;}#sk-container-id-1 div.sk-parallel-item::after {content: \"\";width: 100%;border-bottom: 1px solid gray;flex-grow: 1;}#sk-container-id-1 div.sk-label:hover label.sk-toggleable__label {background-color: #d4ebff;}#sk-container-id-1 div.sk-serial::before {content: \"\";position: absolute;border-left: 1px solid gray;box-sizing: border-box;top: 0;bottom: 0;left: 50%;z-index: 0;}#sk-container-id-1 div.sk-serial {display: flex;flex-direction: column;align-items: center;background-color: white;padding-right: 0.2em;padding-left: 0.2em;position: relative;}#sk-container-id-1 div.sk-item {position: relative;z-index: 1;}#sk-container-id-1 div.sk-parallel {display: flex;align-items: stretch;justify-content: center;background-color: white;position: relative;}#sk-container-id-1 div.sk-item::before, #sk-container-id-1 div.sk-parallel-item::before {content: \"\";position: absolute;border-left: 1px solid gray;box-sizing: border-box;top: 0;bottom: 0;left: 50%;z-index: -1;}#sk-container-id-1 div.sk-parallel-item {display: flex;flex-direction: column;z-index: 1;position: relative;background-color: white;}#sk-container-id-1 div.sk-parallel-item:first-child::after {align-self: flex-end;width: 50%;}#sk-container-id-1 div.sk-parallel-item:last-child::after {align-self: flex-start;width: 50%;}#sk-container-id-1 div.sk-parallel-item:only-child::after {width: 0;}#sk-container-id-1 div.sk-dashed-wrapped {border: 1px dashed gray;margin: 0 0.4em 0.5em 0.4em;box-sizing: border-box;padding-bottom: 0.4em;background-color: white;}#sk-container-id-1 div.sk-label label {font-family: monospace;font-weight: bold;display: inline-block;line-height: 1.2em;}#sk-container-id-1 div.sk-label-container {text-align: center;}#sk-container-id-1 div.sk-container {/* jupyter's `normalize.less` sets `[hidden] { display: none; }` but bootstrap.min.css set `[hidden] { display: none !important; }` so we also need the `!important` here to be able to override the default hidden behavior on the sphinx rendered scikit-learn.org. See: https://github.com/scikit-learn/scikit-learn/issues/21755 */display: inline-block !important;position: relative;}#sk-container-id-1 div.sk-text-repr-fallback {display: none;}</style><div id=\"sk-container-id-1\" class=\"sk-top-container\"><div class=\"sk-text-repr-fallback\"><pre>KNeighborsClassifier()</pre><b>In a Jupyter environment, please rerun this cell to show the HTML representation or trust the notebook. <br />On GitHub, the HTML representation is unable to render, please try loading this page with nbviewer.org.</b></div><div class=\"sk-container\" hidden><div class=\"sk-item\"><div class=\"sk-estimator sk-toggleable\"><input class=\"sk-toggleable__control sk-hidden--visually\" id=\"sk-estimator-id-1\" type=\"checkbox\" checked><label for=\"sk-estimator-id-1\" class=\"sk-toggleable__label sk-toggleable__label-arrow\">KNeighborsClassifier</label><div class=\"sk-toggleable__content\"><pre>KNeighborsClassifier()</pre></div></div></div></div></div>"
      ],
      "text/plain": [
       "KNeighborsClassifier()"
      ]
     },
     "execution_count": 55,
     "metadata": {},
     "output_type": "execute_result"
    }
   ],
   "source": [
    "cls = KNeighborsClassifier()\n",
    "cls.fit(X_train, y_train)"
   ]
  },
  {
   "cell_type": "code",
   "execution_count": 56,
   "metadata": {},
   "outputs": [
    {
     "name": "stdout",
     "output_type": "stream",
     "text": [
      "              precision    recall  f1-score   support\n",
      "\n",
      "           0       0.86      0.78      0.82        23\n",
      "           1       0.59      0.56      0.57        18\n",
      "           2       0.50      0.58      0.54        19\n",
      "\n",
      "    accuracy                           0.65        60\n",
      "   macro avg       0.65      0.64      0.64        60\n",
      "weighted avg       0.66      0.65      0.65        60\n",
      "\n"
     ]
    }
   ],
   "source": [
    "print(metrics.classification_report(y_test, cls.predict(X_test)))"
   ]
  },
  {
   "cell_type": "code",
   "execution_count": 57,
   "metadata": {},
   "outputs": [
    {
     "data": {
      "application/vnd.plotly.v1+json": {
       "config": {
        "plotlyServerURL": "https://plot.ly"
       },
       "data": [
        {
         "hovertemplate": "Classe=1<br>x1=%{x}<br>x2=%{y}<extra></extra>",
         "legendgroup": "1",
         "marker": {
          "color": "#636efa",
          "symbol": "circle"
         },
         "mode": "markers",
         "name": "1",
         "orientation": "v",
         "showlegend": true,
         "type": "scatter",
         "x": [
          120.12042417191411,
          156.96804163244872,
          100.67151668208506,
          76.25322262750939,
          13.738715817952551,
          100.69466981774913,
          129.57402492835888,
          112.75329615620873,
          130.21112541990553,
          130.621964736101,
          39.13587843944989,
          33.57181318844348,
          129.54182071656533,
          80.93096961965385,
          17.867137346600583,
          68.59605628592521,
          136.58179874107873,
          26.077969329729566,
          80.39185498593207,
          52.6554981127902,
          152.62244359699199,
          196.11922004350387,
          84.44162174081589,
          52.21316079965972,
          114.10303386785081,
          26.94813985854695,
          129.55981505955165,
          66.56887193427201,
          83.30090686176656,
          111.49733245712132,
          120.98394477733991,
          111.39999216030829,
          101.99306648846994,
          31.469876922219076,
          56.39711785813104,
          29.596922189083543,
          89.7147111689839,
          117.77002039872406,
          38.81268244014385,
          168.1031165892021,
          103.12521007419306,
          114.2750102842812,
          129.67871111684127,
          90.5650884893533,
          104.70226677579457,
          215.5795117761238,
          53.50037761921656,
          119.78711886208913,
          68.23720473258712,
          128.09202544986283,
          174.89418228775358,
          83.76149559566358,
          167.09693433925023,
          62.87774753048192,
          176.20222162254774,
          97.25991369882084,
          89.62920569413978,
          126.38115838249544,
          62.89348865606226,
          90.84095625053864,
          137.71021127988288,
          144.95572866668576,
          -2.1806049958962848,
          29.91512353858815,
          144.4928808456374,
          141.90659821732825,
          70.71121555035013,
          33.15606297148567
         ],
         "xaxis": "x",
         "y": [
          2.6858584935601675,
          -2.347877255217885,
          0.624437535588561,
          1.6119930250998773,
          2.633390070044194,
          -0.06671705437584241,
          -0.6780940092522205,
          1.7455154728622901,
          -0.16735617256166613,
          -0.17887590486203253,
          1.3008546486442856,
          2.3853597579319827,
          3.7930425369369556,
          1.795366188700504,
          1.8864625049344688,
          2.238664776470011,
          1.0771530114092749,
          1.9686171946104383,
          1.4107826739423583,
          2.823488324299685,
          0.8357424643056149,
          -1.081096540466811,
          1.196222384191302,
          1.9862581795260597,
          1.180923998271937,
          1.3202839144748597,
          0.6632901852722074,
          1.1005446794363771,
          1.989898429810443,
          -0.5356389483133879,
          -1.1452444230221208,
          -0.33351524128473997,
          1.4179404716598873,
          1.317387475244637,
          2.690640053584106,
          0.17615721853988153,
          2.513126198351482,
          1.7492485961484374,
          1.95183722930559,
          1.9900371042680005,
          3.207481148171569,
          0.8336053198856291,
          2.9399030267051387,
          1.5824618188481967,
          3.0432709167376575,
          1.633232779703207,
          -0.6222113786863677,
          0.420761107439809,
          0.9616727126179656,
          2.1865821235926166,
          1.0043952582363864,
          2.4335038813184404,
          1.989372696283498,
          2.5089970385350124,
          -2.1686215195130525,
          3.460144635539759,
          0.6428179881544624,
          0.6772075023061688,
          2.6157930941047915,
          0.21838720716520132,
          0.02182044389509208,
          0.7202861993763748,
          1.2398681154937037,
          -0.4311906215384549,
          1.7037659061758657,
          -0.4281340129787179,
          2.2909190482302275,
          0.75822045042043
         ],
         "yaxis": "y"
        },
        {
         "hovertemplate": "Classe=0<br>x1=%{x}<br>x2=%{y}<extra></extra>",
         "legendgroup": "0",
         "marker": {
          "color": "#EF553B",
          "symbol": "diamond"
         },
         "mode": "markers",
         "name": "0",
         "orientation": "v",
         "showlegend": true,
         "type": "scatter",
         "x": [
          -47.56561244021579,
          -98.8873009450334,
          -184.73321939432446,
          -227.03986900138807,
          -87.43265591727646,
          2.2718918604457183,
          135.3608051420682,
          -21.36069398517514,
          -213.1635261253938,
          -66.71681127575026,
          -18.493983444745577,
          -228.81049544080656,
          -126.07125983288424,
          84.1211472524269,
          -2.773615807901919,
          -104.68267944847669,
          -117.81546836408478,
          -213.37420155234295,
          -126.64777831435852,
          -322.0428073533813,
          40.085686076964656,
          -116.23946011904762,
          -39.72171825060962,
          -152.52943563845983,
          -248.33289992266594,
          -103.67841397917326,
          -227.5230467636231,
          -176.8176617643841,
          -123.15508138163023,
          -88.39433271730985,
          -155.20204995637735,
          -39.135708415092694,
          -23.66923546971099,
          -140.8904632629959,
          -243.7581258935383,
          -80.83583598408224,
          -146.17772797011867,
          -152.27756222166627,
          -120.7528691326231,
          22.237537117341155,
          -135.02436700181596,
          -177.62482559246976,
          -86.65030510552248,
          -135.37787021077148,
          -125.67347491854872,
          -107.84459031808962,
          -50.30630899077415,
          -58.941713214295646,
          -69.51608233501956,
          101.4049445555953,
          -183.70729088781545,
          -314.1962291439641,
          -47.6018022897991,
          -93.50311742722776,
          -21.41707542695225,
          -108.10032117800755,
          -132.34664137944145,
          -238.49246407811532,
          -119.61682514461722,
          -273.4477477232426,
          -81.25029073483755,
          -69.08134026107022,
          -181.83159550826562,
          2.084334848905356,
          -171.07336657077258,
          -133.18301341320472
         ],
         "xaxis": "x",
         "y": [
          1.2788834114132155,
          0.7889107852512997,
          0.7181597971729687,
          0.7146885987358149,
          0.7168134370110012,
          1.7374349886798144,
          1.6730066537429331,
          1.3216699055929588,
          0.41254111158708495,
          1.2725680736284581,
          1.8071401615522433,
          0.6263270031439285,
          0.8950888024384541,
          1.5729149202777823,
          1.399784542031034,
          1.0876514436285583,
          0.5063536054804356,
          1.008159397095178,
          1.1587291830774094,
          0.15720705164601445,
          1.2937520326056462,
          0.8370651288707642,
          1.0819970351012116,
          0.7650884696853268,
          0.863286734602937,
          1.187337278624137,
          0.667994895244219,
          1.1597077945572565,
          1.5407461311915385,
          0.9997775367947292,
          0.9756323085901905,
          1.035741178368575,
          1.0366449661873873,
          0.642491044104184,
          0.4658064499872594,
          1.1856036063257194,
          0.7421037815676504,
          1.1778128661108103,
          1.027483593237603,
          1.5087185817681328,
          1.2209923814485923,
          0.8349643973358096,
          0.5625768327412966,
          0.7315586382134454,
          0.9994851936229466,
          1.0798508306079457,
          1.268260906004413,
          1.538694190502611,
          1.6902040207443663,
          1.5460473210636918,
          0.9646742313089022,
          0.5689775577753317,
          1.6686390899326446,
          1.2970141303729719,
          1.3203509979054742,
          1.0498690884359516,
          0.7447233429451547,
          0.6368558635405991,
          0.7820868029269706,
          0.7562788196662136,
          0.5140342026910604,
          1.0274420287458175,
          0.7757228701968767,
          1.0299387397183755,
          0.6847287157770418,
          0.8910242357535247
         ],
         "yaxis": "y"
        },
        {
         "hovertemplate": "Classe=2<br>x1=%{x}<br>x2=%{y}<extra></extra>",
         "legendgroup": "2",
         "marker": {
          "color": "#00cc96",
          "symbol": "square"
         },
         "mode": "markers",
         "name": "2",
         "orientation": "v",
         "showlegend": true,
         "type": "scatter",
         "x": [
          185.44523235209948,
          12.692665564181137,
          52.27660526159219,
          96.81593489129062,
          -110.27131878713851,
          198.73489608401414,
          228.16650449001017,
          68.05021801144453,
          175.74513959242415,
          -56.71907786001824,
          97.28391189112598,
          101.83657804482455,
          150.96202595852324,
          59.316277760691726,
          152.08080626812836,
          112.7205031462886,
          64.76983240720759,
          -46.60473139513108,
          98.61694640182412,
          257.7843462752884,
          70.45199820295576,
          65.97520041732389,
          56.024267182922614,
          65.73266594640948,
          11.035533125229623,
          158.89441742397486,
          68.43859186092195,
          236.04995281484148,
          -135.89921741561608,
          314.4424544022562,
          62.53628375978166,
          100.57084333597639,
          143.86690605766125,
          95.64877422156425,
          -11.026188001595072,
          71.47688902711742,
          -50.643326387721,
          47.83646442281497,
          8.168112753436107,
          172.27351247086685,
          -71.18497889976929,
          142.3577118028112,
          185.84513461361172,
          89.68725869889084,
          18.615952706517824,
          134.42663487812308,
          -41.49197616442433,
          22.763404576287392,
          187.5504017381062,
          161.57174133688827,
          44.23695464382726,
          67.13614227582762,
          133.74630405562266,
          91.33232071905425,
          183.85592002040286,
          94.88865171016107,
          54.736250312006796,
          142.26257374637282,
          12.673953766479851,
          44.48840103533944,
          102.81951693963633,
          54.542994482755546,
          164.9244340556904,
          139.9347810135702,
          66.26389482284605,
          207.77412592010177
         ],
         "xaxis": "x",
         "y": [
          0.021770880494324407,
          0.024180690412296535,
          -0.7188684954212865,
          -0.9156649947984961,
          -2.818994057261178,
          -0.5625067070501995,
          -0.35061669399275497,
          -0.7967541778493239,
          -0.743789635123642,
          -1.4774621277983744,
          -1.4726428344492426,
          -0.7670380824404628,
          -1.8844598679628306,
          -1.3282160426351903,
          -0.7825343832380295,
          -1.482379153217713,
          -0.045238495979814,
          -0.7201425486323538,
          -0.09024206325728845,
          -1.2008146461731954,
          -0.12039884760516817,
          -1.735273013418032,
          -0.6434315769154604,
          -1.100969998826651,
          -2.404284884356837,
          -0.9604380694295798,
          -1.8930051692504666,
          -1.0341738788626311,
          -1.6602023707873648,
          0.01099495222116742,
          0.13377283227911407,
          0.3055573022193361,
          -0.8745224021794071,
          -1.1330815579021776,
          -2.0582017489739135,
          -1.8443241338714667,
          -1.4216723390204729,
          -1.5386156360255319,
          -0.814289466488445,
          -1.222202853215824,
          -0.29826802355956716,
          -0.1675068634583744,
          1.3007004295854285,
          -0.39263038660006855,
          -0.4689258362455434,
          0.36254051255952313,
          -2.441138759670096,
          -1.8174665131649446,
          0.019204905823104967,
          -0.8266166671030124,
          -2.8624240349908288,
          -1.9417032624654909,
          -2.0266997069301604,
          -0.6874682944775987,
          0.32878901758804124,
          -1.4024225033045403,
          -0.6119363476979752,
          -1.251737253687857,
          -2.3036488726882327,
          0.14820309304951662,
          -0.4487830754185309,
          -0.3764733139241435,
          -0.5810450618174,
          -0.25178306720211996,
          -1.1509290248368613,
          -1.6103839857618376
         ],
         "yaxis": "y"
        }
       ],
       "layout": {
        "autosize": false,
        "height": 500,
        "legend": {
         "title": {
          "text": "Classe"
         },
         "tracegroupgap": 0
        },
        "margin": {
         "t": 60
        },
        "template": {
         "data": {
          "bar": [
           {
            "error_x": {
             "color": "#2a3f5f"
            },
            "error_y": {
             "color": "#2a3f5f"
            },
            "marker": {
             "line": {
              "color": "#E5ECF6",
              "width": 0.5
             },
             "pattern": {
              "fillmode": "overlay",
              "size": 10,
              "solidity": 0.2
             }
            },
            "type": "bar"
           }
          ],
          "barpolar": [
           {
            "marker": {
             "line": {
              "color": "#E5ECF6",
              "width": 0.5
             },
             "pattern": {
              "fillmode": "overlay",
              "size": 10,
              "solidity": 0.2
             }
            },
            "type": "barpolar"
           }
          ],
          "carpet": [
           {
            "aaxis": {
             "endlinecolor": "#2a3f5f",
             "gridcolor": "white",
             "linecolor": "white",
             "minorgridcolor": "white",
             "startlinecolor": "#2a3f5f"
            },
            "baxis": {
             "endlinecolor": "#2a3f5f",
             "gridcolor": "white",
             "linecolor": "white",
             "minorgridcolor": "white",
             "startlinecolor": "#2a3f5f"
            },
            "type": "carpet"
           }
          ],
          "choropleth": [
           {
            "colorbar": {
             "outlinewidth": 0,
             "ticks": ""
            },
            "type": "choropleth"
           }
          ],
          "contour": [
           {
            "colorbar": {
             "outlinewidth": 0,
             "ticks": ""
            },
            "colorscale": [
             [
              0,
              "#0d0887"
             ],
             [
              0.1111111111111111,
              "#46039f"
             ],
             [
              0.2222222222222222,
              "#7201a8"
             ],
             [
              0.3333333333333333,
              "#9c179e"
             ],
             [
              0.4444444444444444,
              "#bd3786"
             ],
             [
              0.5555555555555556,
              "#d8576b"
             ],
             [
              0.6666666666666666,
              "#ed7953"
             ],
             [
              0.7777777777777778,
              "#fb9f3a"
             ],
             [
              0.8888888888888888,
              "#fdca26"
             ],
             [
              1,
              "#f0f921"
             ]
            ],
            "type": "contour"
           }
          ],
          "contourcarpet": [
           {
            "colorbar": {
             "outlinewidth": 0,
             "ticks": ""
            },
            "type": "contourcarpet"
           }
          ],
          "heatmap": [
           {
            "colorbar": {
             "outlinewidth": 0,
             "ticks": ""
            },
            "colorscale": [
             [
              0,
              "#0d0887"
             ],
             [
              0.1111111111111111,
              "#46039f"
             ],
             [
              0.2222222222222222,
              "#7201a8"
             ],
             [
              0.3333333333333333,
              "#9c179e"
             ],
             [
              0.4444444444444444,
              "#bd3786"
             ],
             [
              0.5555555555555556,
              "#d8576b"
             ],
             [
              0.6666666666666666,
              "#ed7953"
             ],
             [
              0.7777777777777778,
              "#fb9f3a"
             ],
             [
              0.8888888888888888,
              "#fdca26"
             ],
             [
              1,
              "#f0f921"
             ]
            ],
            "type": "heatmap"
           }
          ],
          "heatmapgl": [
           {
            "colorbar": {
             "outlinewidth": 0,
             "ticks": ""
            },
            "colorscale": [
             [
              0,
              "#0d0887"
             ],
             [
              0.1111111111111111,
              "#46039f"
             ],
             [
              0.2222222222222222,
              "#7201a8"
             ],
             [
              0.3333333333333333,
              "#9c179e"
             ],
             [
              0.4444444444444444,
              "#bd3786"
             ],
             [
              0.5555555555555556,
              "#d8576b"
             ],
             [
              0.6666666666666666,
              "#ed7953"
             ],
             [
              0.7777777777777778,
              "#fb9f3a"
             ],
             [
              0.8888888888888888,
              "#fdca26"
             ],
             [
              1,
              "#f0f921"
             ]
            ],
            "type": "heatmapgl"
           }
          ],
          "histogram": [
           {
            "marker": {
             "pattern": {
              "fillmode": "overlay",
              "size": 10,
              "solidity": 0.2
             }
            },
            "type": "histogram"
           }
          ],
          "histogram2d": [
           {
            "colorbar": {
             "outlinewidth": 0,
             "ticks": ""
            },
            "colorscale": [
             [
              0,
              "#0d0887"
             ],
             [
              0.1111111111111111,
              "#46039f"
             ],
             [
              0.2222222222222222,
              "#7201a8"
             ],
             [
              0.3333333333333333,
              "#9c179e"
             ],
             [
              0.4444444444444444,
              "#bd3786"
             ],
             [
              0.5555555555555556,
              "#d8576b"
             ],
             [
              0.6666666666666666,
              "#ed7953"
             ],
             [
              0.7777777777777778,
              "#fb9f3a"
             ],
             [
              0.8888888888888888,
              "#fdca26"
             ],
             [
              1,
              "#f0f921"
             ]
            ],
            "type": "histogram2d"
           }
          ],
          "histogram2dcontour": [
           {
            "colorbar": {
             "outlinewidth": 0,
             "ticks": ""
            },
            "colorscale": [
             [
              0,
              "#0d0887"
             ],
             [
              0.1111111111111111,
              "#46039f"
             ],
             [
              0.2222222222222222,
              "#7201a8"
             ],
             [
              0.3333333333333333,
              "#9c179e"
             ],
             [
              0.4444444444444444,
              "#bd3786"
             ],
             [
              0.5555555555555556,
              "#d8576b"
             ],
             [
              0.6666666666666666,
              "#ed7953"
             ],
             [
              0.7777777777777778,
              "#fb9f3a"
             ],
             [
              0.8888888888888888,
              "#fdca26"
             ],
             [
              1,
              "#f0f921"
             ]
            ],
            "type": "histogram2dcontour"
           }
          ],
          "mesh3d": [
           {
            "colorbar": {
             "outlinewidth": 0,
             "ticks": ""
            },
            "type": "mesh3d"
           }
          ],
          "parcoords": [
           {
            "line": {
             "colorbar": {
              "outlinewidth": 0,
              "ticks": ""
             }
            },
            "type": "parcoords"
           }
          ],
          "pie": [
           {
            "automargin": true,
            "type": "pie"
           }
          ],
          "scatter": [
           {
            "fillpattern": {
             "fillmode": "overlay",
             "size": 10,
             "solidity": 0.2
            },
            "type": "scatter"
           }
          ],
          "scatter3d": [
           {
            "line": {
             "colorbar": {
              "outlinewidth": 0,
              "ticks": ""
             }
            },
            "marker": {
             "colorbar": {
              "outlinewidth": 0,
              "ticks": ""
             }
            },
            "type": "scatter3d"
           }
          ],
          "scattercarpet": [
           {
            "marker": {
             "colorbar": {
              "outlinewidth": 0,
              "ticks": ""
             }
            },
            "type": "scattercarpet"
           }
          ],
          "scattergeo": [
           {
            "marker": {
             "colorbar": {
              "outlinewidth": 0,
              "ticks": ""
             }
            },
            "type": "scattergeo"
           }
          ],
          "scattergl": [
           {
            "marker": {
             "colorbar": {
              "outlinewidth": 0,
              "ticks": ""
             }
            },
            "type": "scattergl"
           }
          ],
          "scattermapbox": [
           {
            "marker": {
             "colorbar": {
              "outlinewidth": 0,
              "ticks": ""
             }
            },
            "type": "scattermapbox"
           }
          ],
          "scatterpolar": [
           {
            "marker": {
             "colorbar": {
              "outlinewidth": 0,
              "ticks": ""
             }
            },
            "type": "scatterpolar"
           }
          ],
          "scatterpolargl": [
           {
            "marker": {
             "colorbar": {
              "outlinewidth": 0,
              "ticks": ""
             }
            },
            "type": "scatterpolargl"
           }
          ],
          "scatterternary": [
           {
            "marker": {
             "colorbar": {
              "outlinewidth": 0,
              "ticks": ""
             }
            },
            "type": "scatterternary"
           }
          ],
          "surface": [
           {
            "colorbar": {
             "outlinewidth": 0,
             "ticks": ""
            },
            "colorscale": [
             [
              0,
              "#0d0887"
             ],
             [
              0.1111111111111111,
              "#46039f"
             ],
             [
              0.2222222222222222,
              "#7201a8"
             ],
             [
              0.3333333333333333,
              "#9c179e"
             ],
             [
              0.4444444444444444,
              "#bd3786"
             ],
             [
              0.5555555555555556,
              "#d8576b"
             ],
             [
              0.6666666666666666,
              "#ed7953"
             ],
             [
              0.7777777777777778,
              "#fb9f3a"
             ],
             [
              0.8888888888888888,
              "#fdca26"
             ],
             [
              1,
              "#f0f921"
             ]
            ],
            "type": "surface"
           }
          ],
          "table": [
           {
            "cells": {
             "fill": {
              "color": "#EBF0F8"
             },
             "line": {
              "color": "white"
             }
            },
            "header": {
             "fill": {
              "color": "#C8D4E3"
             },
             "line": {
              "color": "white"
             }
            },
            "type": "table"
           }
          ]
         },
         "layout": {
          "annotationdefaults": {
           "arrowcolor": "#2a3f5f",
           "arrowhead": 0,
           "arrowwidth": 1
          },
          "autotypenumbers": "strict",
          "coloraxis": {
           "colorbar": {
            "outlinewidth": 0,
            "ticks": ""
           }
          },
          "colorscale": {
           "diverging": [
            [
             0,
             "#8e0152"
            ],
            [
             0.1,
             "#c51b7d"
            ],
            [
             0.2,
             "#de77ae"
            ],
            [
             0.3,
             "#f1b6da"
            ],
            [
             0.4,
             "#fde0ef"
            ],
            [
             0.5,
             "#f7f7f7"
            ],
            [
             0.6,
             "#e6f5d0"
            ],
            [
             0.7,
             "#b8e186"
            ],
            [
             0.8,
             "#7fbc41"
            ],
            [
             0.9,
             "#4d9221"
            ],
            [
             1,
             "#276419"
            ]
           ],
           "sequential": [
            [
             0,
             "#0d0887"
            ],
            [
             0.1111111111111111,
             "#46039f"
            ],
            [
             0.2222222222222222,
             "#7201a8"
            ],
            [
             0.3333333333333333,
             "#9c179e"
            ],
            [
             0.4444444444444444,
             "#bd3786"
            ],
            [
             0.5555555555555556,
             "#d8576b"
            ],
            [
             0.6666666666666666,
             "#ed7953"
            ],
            [
             0.7777777777777778,
             "#fb9f3a"
            ],
            [
             0.8888888888888888,
             "#fdca26"
            ],
            [
             1,
             "#f0f921"
            ]
           ],
           "sequentialminus": [
            [
             0,
             "#0d0887"
            ],
            [
             0.1111111111111111,
             "#46039f"
            ],
            [
             0.2222222222222222,
             "#7201a8"
            ],
            [
             0.3333333333333333,
             "#9c179e"
            ],
            [
             0.4444444444444444,
             "#bd3786"
            ],
            [
             0.5555555555555556,
             "#d8576b"
            ],
            [
             0.6666666666666666,
             "#ed7953"
            ],
            [
             0.7777777777777778,
             "#fb9f3a"
            ],
            [
             0.8888888888888888,
             "#fdca26"
            ],
            [
             1,
             "#f0f921"
            ]
           ]
          },
          "colorway": [
           "#636efa",
           "#EF553B",
           "#00cc96",
           "#ab63fa",
           "#FFA15A",
           "#19d3f3",
           "#FF6692",
           "#B6E880",
           "#FF97FF",
           "#FECB52"
          ],
          "font": {
           "color": "#2a3f5f"
          },
          "geo": {
           "bgcolor": "white",
           "lakecolor": "white",
           "landcolor": "#E5ECF6",
           "showlakes": true,
           "showland": true,
           "subunitcolor": "white"
          },
          "hoverlabel": {
           "align": "left"
          },
          "hovermode": "closest",
          "mapbox": {
           "style": "light"
          },
          "paper_bgcolor": "white",
          "plot_bgcolor": "#E5ECF6",
          "polar": {
           "angularaxis": {
            "gridcolor": "white",
            "linecolor": "white",
            "ticks": ""
           },
           "bgcolor": "#E5ECF6",
           "radialaxis": {
            "gridcolor": "white",
            "linecolor": "white",
            "ticks": ""
           }
          },
          "scene": {
           "xaxis": {
            "backgroundcolor": "#E5ECF6",
            "gridcolor": "white",
            "gridwidth": 2,
            "linecolor": "white",
            "showbackground": true,
            "ticks": "",
            "zerolinecolor": "white"
           },
           "yaxis": {
            "backgroundcolor": "#E5ECF6",
            "gridcolor": "white",
            "gridwidth": 2,
            "linecolor": "white",
            "showbackground": true,
            "ticks": "",
            "zerolinecolor": "white"
           },
           "zaxis": {
            "backgroundcolor": "#E5ECF6",
            "gridcolor": "white",
            "gridwidth": 2,
            "linecolor": "white",
            "showbackground": true,
            "ticks": "",
            "zerolinecolor": "white"
           }
          },
          "shapedefaults": {
           "line": {
            "color": "#2a3f5f"
           }
          },
          "ternary": {
           "aaxis": {
            "gridcolor": "white",
            "linecolor": "white",
            "ticks": ""
           },
           "baxis": {
            "gridcolor": "white",
            "linecolor": "white",
            "ticks": ""
           },
           "bgcolor": "#E5ECF6",
           "caxis": {
            "gridcolor": "white",
            "linecolor": "white",
            "ticks": ""
           }
          },
          "title": {
           "x": 0.05
          },
          "xaxis": {
           "automargin": true,
           "gridcolor": "white",
           "linecolor": "white",
           "ticks": "",
           "title": {
            "standoff": 15
           },
           "zerolinecolor": "white",
           "zerolinewidth": 2
          },
          "yaxis": {
           "automargin": true,
           "gridcolor": "white",
           "linecolor": "white",
           "ticks": "",
           "title": {
            "standoff": 15
           },
           "zerolinecolor": "white",
           "zerolinewidth": 2
          }
         }
        },
        "width": 600,
        "xaxis": {
         "anchor": "y",
         "domain": [
          0,
          1
         ],
         "title": {
          "text": "x1"
         }
        },
        "yaxis": {
         "anchor": "x",
         "domain": [
          0,
          1
         ],
         "title": {
          "text": "x2"
         }
        }
       }
      }
     },
     "metadata": {},
     "output_type": "display_data"
    }
   ],
   "source": [
    "vis = pd.DataFrame(X, columns=[\"x1\", \"x2\"])\n",
    "vis[\"Classe\"] = y\n",
    "vis[\"Classe\"] = vis[\"Classe\"].astype(\"category\")\n",
    "\n",
    "fig = px.scatter(\n",
    "    vis, x=\"x1\", y=\"x2\", color=\"Classe\", symbol=\"Classe\")\n",
    "fig.update_layout(\n",
    "    autosize=False,\n",
    "    width=600,\n",
    "    height=500\n",
    ")\n",
    "fig.show()"
   ]
  },
  {
   "cell_type": "markdown",
   "metadata": {},
   "source": [
    "E agora?\n",
    "\n",
    "- Feature scaling!!\n",
    "- Padronizamos as features para garantir que todas tenham a mesma importância para o modelo.\n",
    "- Scaling é essencial para todo algoritmo baseado em distância\n",
    "- Existem vários scalers disponíveis no sklearn\n",
    "    - Vale a pena explorar a documentação\n",
    "    - Soluções mais populares: `MinMaxScaler` (entre 0 e 1) e `StandardScaler` (z-score)\n",
    "    - Min-Max:\n",
    "        $$\\tilde{x} = \\dfrac{x - x_{min}}{x_{max} - x_{min}}$$\n",
    "   - z-score:\n",
    "    $$\\tilde{x} = \\dfrac{x - \\mu}{\\sigma}$$\n",
    "    - Para dados com outlier, z-score é uma escolha melhor"
   ]
  },
  {
   "cell_type": "code",
   "execution_count": 58,
   "metadata": {},
   "outputs": [],
   "source": [
    "from sklearn.pipeline import make_pipeline\n",
    "from sklearn.preprocessing import StandardScaler"
   ]
  },
  {
   "cell_type": "code",
   "execution_count": 59,
   "metadata": {},
   "outputs": [
    {
     "data": {
      "text/html": [
       "<style>#sk-container-id-2 {color: black;background-color: white;}#sk-container-id-2 pre{padding: 0;}#sk-container-id-2 div.sk-toggleable {background-color: white;}#sk-container-id-2 label.sk-toggleable__label {cursor: pointer;display: block;width: 100%;margin-bottom: 0;padding: 0.3em;box-sizing: border-box;text-align: center;}#sk-container-id-2 label.sk-toggleable__label-arrow:before {content: \"▸\";float: left;margin-right: 0.25em;color: #696969;}#sk-container-id-2 label.sk-toggleable__label-arrow:hover:before {color: black;}#sk-container-id-2 div.sk-estimator:hover label.sk-toggleable__label-arrow:before {color: black;}#sk-container-id-2 div.sk-toggleable__content {max-height: 0;max-width: 0;overflow: hidden;text-align: left;background-color: #f0f8ff;}#sk-container-id-2 div.sk-toggleable__content pre {margin: 0.2em;color: black;border-radius: 0.25em;background-color: #f0f8ff;}#sk-container-id-2 input.sk-toggleable__control:checked~div.sk-toggleable__content {max-height: 200px;max-width: 100%;overflow: auto;}#sk-container-id-2 input.sk-toggleable__control:checked~label.sk-toggleable__label-arrow:before {content: \"▾\";}#sk-container-id-2 div.sk-estimator input.sk-toggleable__control:checked~label.sk-toggleable__label {background-color: #d4ebff;}#sk-container-id-2 div.sk-label input.sk-toggleable__control:checked~label.sk-toggleable__label {background-color: #d4ebff;}#sk-container-id-2 input.sk-hidden--visually {border: 0;clip: rect(1px 1px 1px 1px);clip: rect(1px, 1px, 1px, 1px);height: 1px;margin: -1px;overflow: hidden;padding: 0;position: absolute;width: 1px;}#sk-container-id-2 div.sk-estimator {font-family: monospace;background-color: #f0f8ff;border: 1px dotted black;border-radius: 0.25em;box-sizing: border-box;margin-bottom: 0.5em;}#sk-container-id-2 div.sk-estimator:hover {background-color: #d4ebff;}#sk-container-id-2 div.sk-parallel-item::after {content: \"\";width: 100%;border-bottom: 1px solid gray;flex-grow: 1;}#sk-container-id-2 div.sk-label:hover label.sk-toggleable__label {background-color: #d4ebff;}#sk-container-id-2 div.sk-serial::before {content: \"\";position: absolute;border-left: 1px solid gray;box-sizing: border-box;top: 0;bottom: 0;left: 50%;z-index: 0;}#sk-container-id-2 div.sk-serial {display: flex;flex-direction: column;align-items: center;background-color: white;padding-right: 0.2em;padding-left: 0.2em;position: relative;}#sk-container-id-2 div.sk-item {position: relative;z-index: 1;}#sk-container-id-2 div.sk-parallel {display: flex;align-items: stretch;justify-content: center;background-color: white;position: relative;}#sk-container-id-2 div.sk-item::before, #sk-container-id-2 div.sk-parallel-item::before {content: \"\";position: absolute;border-left: 1px solid gray;box-sizing: border-box;top: 0;bottom: 0;left: 50%;z-index: -1;}#sk-container-id-2 div.sk-parallel-item {display: flex;flex-direction: column;z-index: 1;position: relative;background-color: white;}#sk-container-id-2 div.sk-parallel-item:first-child::after {align-self: flex-end;width: 50%;}#sk-container-id-2 div.sk-parallel-item:last-child::after {align-self: flex-start;width: 50%;}#sk-container-id-2 div.sk-parallel-item:only-child::after {width: 0;}#sk-container-id-2 div.sk-dashed-wrapped {border: 1px dashed gray;margin: 0 0.4em 0.5em 0.4em;box-sizing: border-box;padding-bottom: 0.4em;background-color: white;}#sk-container-id-2 div.sk-label label {font-family: monospace;font-weight: bold;display: inline-block;line-height: 1.2em;}#sk-container-id-2 div.sk-label-container {text-align: center;}#sk-container-id-2 div.sk-container {/* jupyter's `normalize.less` sets `[hidden] { display: none; }` but bootstrap.min.css set `[hidden] { display: none !important; }` so we also need the `!important` here to be able to override the default hidden behavior on the sphinx rendered scikit-learn.org. See: https://github.com/scikit-learn/scikit-learn/issues/21755 */display: inline-block !important;position: relative;}#sk-container-id-2 div.sk-text-repr-fallback {display: none;}</style><div id=\"sk-container-id-2\" class=\"sk-top-container\"><div class=\"sk-text-repr-fallback\"><pre>Pipeline(steps=[(&#x27;standardscaler&#x27;, StandardScaler()),\n",
       "                (&#x27;kneighborsclassifier&#x27;, KNeighborsClassifier())])</pre><b>In a Jupyter environment, please rerun this cell to show the HTML representation or trust the notebook. <br />On GitHub, the HTML representation is unable to render, please try loading this page with nbviewer.org.</b></div><div class=\"sk-container\" hidden><div class=\"sk-item sk-dashed-wrapped\"><div class=\"sk-label-container\"><div class=\"sk-label sk-toggleable\"><input class=\"sk-toggleable__control sk-hidden--visually\" id=\"sk-estimator-id-2\" type=\"checkbox\" ><label for=\"sk-estimator-id-2\" class=\"sk-toggleable__label sk-toggleable__label-arrow\">Pipeline</label><div class=\"sk-toggleable__content\"><pre>Pipeline(steps=[(&#x27;standardscaler&#x27;, StandardScaler()),\n",
       "                (&#x27;kneighborsclassifier&#x27;, KNeighborsClassifier())])</pre></div></div></div><div class=\"sk-serial\"><div class=\"sk-item\"><div class=\"sk-estimator sk-toggleable\"><input class=\"sk-toggleable__control sk-hidden--visually\" id=\"sk-estimator-id-3\" type=\"checkbox\" ><label for=\"sk-estimator-id-3\" class=\"sk-toggleable__label sk-toggleable__label-arrow\">StandardScaler</label><div class=\"sk-toggleable__content\"><pre>StandardScaler()</pre></div></div></div><div class=\"sk-item\"><div class=\"sk-estimator sk-toggleable\"><input class=\"sk-toggleable__control sk-hidden--visually\" id=\"sk-estimator-id-4\" type=\"checkbox\" ><label for=\"sk-estimator-id-4\" class=\"sk-toggleable__label sk-toggleable__label-arrow\">KNeighborsClassifier</label><div class=\"sk-toggleable__content\"><pre>KNeighborsClassifier()</pre></div></div></div></div></div></div></div>"
      ],
      "text/plain": [
       "Pipeline(steps=[('standardscaler', StandardScaler()),\n",
       "                ('kneighborsclassifier', KNeighborsClassifier())])"
      ]
     },
     "execution_count": 59,
     "metadata": {},
     "output_type": "execute_result"
    }
   ],
   "source": [
    "cls = make_pipeline(StandardScaler(), KNeighborsClassifier())\n",
    "cls.fit(X_train, y_train)"
   ]
  },
  {
   "cell_type": "code",
   "execution_count": 60,
   "metadata": {
    "scrolled": true
   },
   "outputs": [
    {
     "name": "stdout",
     "output_type": "stream",
     "text": [
      "              precision    recall  f1-score   support\n",
      "\n",
      "           0       1.00      0.87      0.93        23\n",
      "           1       0.77      0.94      0.85        18\n",
      "           2       0.94      0.89      0.92        19\n",
      "\n",
      "    accuracy                           0.90        60\n",
      "   macro avg       0.91      0.90      0.90        60\n",
      "weighted avg       0.91      0.90      0.90        60\n",
      "\n"
     ]
    }
   ],
   "source": [
    "print(metrics.classification_report(y_test, cls.predict(X_test)))"
   ]
  },
  {
   "cell_type": "code",
   "execution_count": 61,
   "metadata": {},
   "outputs": [],
   "source": [
    "sc = StandardScaler().fit(X)\n",
    "transform = sc.transform(X)"
   ]
  },
  {
   "cell_type": "code",
   "execution_count": 62,
   "metadata": {},
   "outputs": [
    {
     "data": {
      "text/plain": [
       "(-1.0658141036401502e-16, 0.9999999999999999)"
      ]
     },
     "execution_count": 62,
     "metadata": {},
     "output_type": "execute_result"
    }
   ],
   "source": [
    "np.mean(transform[:, 0]), np.std(transform[:, 0]) "
   ]
  },
  {
   "cell_type": "markdown",
   "metadata": {},
   "source": [
    "# Em resumo:\n",
    "\n",
    "- Vantagens k-NN:\n",
    "    - Conceptualmente simples\n",
    "    - Poucos hiperparâmetros para ajuste\n",
    "    - Não possui um viés forte, tampouco variância\n",
    "    - Pode lidar com qualquer métrica de distância\n",
    "- Desvantagens:\n",
    "    - Lazy: utilização pode ser custosa para uma base de dados grandes\n",
    "        - Estruturas auxiliares são utilizadas para diminuir os custos. Ex: kd-Trees.\n",
    "    - Maldição da dimensionalidade: quando o número de dimensões é muito alta, calcular distâncias é um problema\n",
    "        - Solução: seleção de atributos e redução de dimensionalidade\n",
    "- Principais hiperparâmetros:\n",
    "    - Número de vizinhos: `n_neighbors`\n",
    "    - Métrica de distância: `distance`\n"
   ]
  },
  {
   "cell_type": "markdown",
   "metadata": {},
   "source": [
    "# Tarefa:\n",
    "\n",
    "1. Descreva com suas palavras os fenômenos que estão acontecendo em cada um exemplos acima (com k=50 e k=1). Dica: comentamos durante a aula sobre esses problemas.\n"
   ]
  },
  {
   "cell_type": "markdown",
   "metadata": {},
   "source": [
    "**R:**"
   ]
  },
  {
   "cell_type": "markdown",
   "metadata": {},
   "source": [
    "2. Em problemas de classificação, é uma boa ideia utilizar valores ímpares para `k` no k-NN. Comente com as suas palavras sobre isso. Qual é o motivo dessa escolha?"
   ]
  },
  {
   "cell_type": "markdown",
   "metadata": {},
   "source": [
    "**R:**"
   ]
  }
 ],
 "metadata": {
  "kernelspec": {
   "display_name": "Python 3 (ipykernel)",
   "language": "python",
   "name": "python3"
  },
  "language_info": {
   "codemirror_mode": {
    "name": "ipython",
    "version": 3
   },
   "file_extension": ".py",
   "mimetype": "text/x-python",
   "name": "python",
   "nbconvert_exporter": "python",
   "pygments_lexer": "ipython3",
   "version": "3.9.16"
  },
  "vscode": {
   "interpreter": {
    "hash": "50aa852a78ef4844d3dce0a45110254dc20f9eb89368e7d8efa28a96e2a88a01"
   }
  }
 },
 "nbformat": 4,
 "nbformat_minor": 2
}
