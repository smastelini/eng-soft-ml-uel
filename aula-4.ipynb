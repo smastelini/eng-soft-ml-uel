{
 "cells": [
  {
   "cell_type": "markdown",
   "metadata": {},
   "source": [
    "# Aula 4\n",
    "\n",
    "---\n",
    "\n",
    "**Saulo Martiello Mastelini**<br>\n",
    "Candidato a Ph.D. pelo ICMC-USP<br>\n",
    "Online Machine Learning\n",
    "\n",
    "Página pessoal: [smastelini](https://smastelini.github.io/)</br>\n",
    "e-mail: saulomastelini@gmail.com\n",
    "\n",
    "---\n",
    "\n",
    "## Sumário:\n",
    "\n",
    "- Regressão linear\n",
    "- Regressão logística\n",
    "- Support Vector Machines\n",
    "- Regularização\n",
    "- Métricas de avaliação para regressão\n",
    "- Visualização de fronteiras de decisão\n",
    "\n",
    "---"
   ]
  },
  {
   "cell_type": "code",
   "execution_count": 1,
   "metadata": {},
   "outputs": [],
   "source": [
    "import numpy as np\n",
    "import pandas as pd\n",
    "import matplotlib.pyplot as plt\n",
    "\n",
    "from sklearn.datasets import make_regression\n",
    "from sklearn import linear_model as lm"
   ]
  },
  {
   "cell_type": "markdown",
   "metadata": {},
   "source": [
    "## 1. Modelos lineares (regressão)"
   ]
  },
  {
   "cell_type": "code",
   "execution_count": 2,
   "metadata": {},
   "outputs": [],
   "source": [
    "x, y = make_regression(\n",
    "    n_samples=200,\n",
    "    n_features=1,\n",
    "    n_informative=1,\n",
    "    noise=10,\n",
    "    random_state=42\n",
    ")"
   ]
  },
  {
   "cell_type": "code",
   "execution_count": 3,
   "metadata": {},
   "outputs": [
    {
     "data": {
      "image/png": "[encoded data removed]",
      "text/plain": [
       "<Figure size 640x480 with 1 Axes>"
      ]
     },
     "metadata": {},
     "output_type": "display_data"
    }
   ],
   "source": [
    "plt.scatter(x=x[:, 0], y=y, s=10)\n",
    "plt.xlabel(\"x\")\n",
    "plt.ylabel(\"y\")\n",
    "plt.show()"
   ]
  },
  {
   "cell_type": "markdown",
   "metadata": {},
   "source": [
    "### 1.1. Voltando para álgebra linear\n",
    "\n",
    "- Equação da reta, em sua forma mais básica:\n",
    "$$y = w_1 x + w_0$$\n",
    "- $Ax = b$\n",
    "    - $n$ linhas e $m$ colunas\n",
    "- Solução (num mundo ideal)\n",
    "    - $x = A^{-1}b$\n",
    "- $A$ deve ser quadrada\n",
    "    - $m = n$\n",
    "- $A$ deve ser inversível\n",
    "- Não pode haver haver correlação entre as colunas em A\n",
    "- E assim por diante...\n",
    "- Se esses requerimentos não acontecem, não é possível encontrar uma solução exata\n",
    "- Regressão simples x múltipla\n",
    "    - Estamos falando de tarefas de regressão aqui\n",
    "\n",
    "- ML cria também modelos lineares\n",
    "    - Em geral, regressão múltipla\n",
    "\n",
    "$$\\hat{y}(w, x) = w_0 + w_1 x_1 + w_2 x_2 + ... + w_n x_n$$\n",
    "\n",
    "- O termo `w_0` é chamado bias, ou também, intercepto (_intercept_).\n",
    "    - O ponto onde a reta resultante cruza o eixo y (eixo das ordenadas)\n",
    "        - x é o eixo das abcissas\n",
    "\n",
    "- _Ordinary Least Squares_: versão básica da regressão\n",
    "    - Minimiza $\\min\\limits_w\\|Xw - y\\|^2$\n",
    "\n",
    "- A resolução do sistema linear resultante nos dará os valores de `w` (coeficientes lineares)\n",
    "    - Na vida real, os requisitos necessários para inverter $X$ raramente são atendidos\n",
    "    - Solução aproximada!\n",
    "\n",
    "- Usando o jargão de ML:\n",
    "    - $X = A$\n",
    "    - $y = b$"
   ]
  },
  {
   "cell_type": "code",
   "execution_count": 4,
   "metadata": {},
   "outputs": [
    {
     "data": {
      "text/html": [
       "<style>#sk-container-id-1 {color: black;background-color: white;}#sk-container-id-1 pre{padding: 0;}#sk-container-id-1 div.sk-toggleable {background-color: white;}#sk-container-id-1 label.sk-toggleable__label {cursor: pointer;display: block;width: 100%;margin-bottom: 0;padding: 0.3em;box-sizing: border-box;text-align: center;}#sk-container-id-1 label.sk-toggleable__label-arrow:before {content: \"▸\";float: left;margin-right: 0.25em;color: #696969;}#sk-container-id-1 label.sk-toggleable__label-arrow:hover:before {color: black;}#sk-container-id-1 div.sk-estimator:hover label.sk-toggleable__label-arrow:before {color: black;}#sk-container-id-1 div.sk-toggleable__content {max-height: 0;max-width: 0;overflow: hidden;text-align: left;background-color: #f0f8ff;}#sk-container-id-1 div.sk-toggleable__content pre {margin: 0.2em;color: black;border-radius: 0.25em;background-color: #f0f8ff;}#sk-container-id-1 input.sk-toggleable__control:checked~div.sk-toggleable__content {max-height: 200px;max-width: 100%;overflow: auto;}#sk-container-id-1 input.sk-toggleable__control:checked~label.sk-toggleable__label-arrow:before {content: \"▾\";}#sk-container-id-1 div.sk-estimator input.sk-toggleable__control:checked~label.sk-toggleable__label {background-color: #d4ebff;}#sk-container-id-1 div.sk-label input.sk-toggleable__control:checked~label.sk-toggleable__label {background-color: #d4ebff;}#sk-container-id-1 input.sk-hidden--visually {border: 0;clip: rect(1px 1px 1px 1px);clip: rect(1px, 1px, 1px, 1px);height: 1px;margin: -1px;overflow: hidden;padding: 0;position: absolute;width: 1px;}#sk-container-id-1 div.sk-estimator {font-family: monospace;background-color: #f0f8ff;border: 1px dotted black;border-radius: 0.25em;box-sizing: border-box;margin-bottom: 0.5em;}#sk-container-id-1 div.sk-estimator:hover {background-color: #d4ebff;}#sk-container-id-1 div.sk-parallel-item::after {content: \"\";width: 100%;border-bottom: 1px solid gray;flex-grow: 1;}#sk-container-id-1 div.sk-label:hover label.sk-toggleable__label {background-color: #d4ebff;}#sk-container-id-1 div.sk-serial::before {content: \"\";position: absolute;border-left: 1px solid gray;box-sizing: border-box;top: 0;bottom: 0;left: 50%;z-index: 0;}#sk-container-id-1 div.sk-serial {display: flex;flex-direction: column;align-items: center;background-color: white;padding-right: 0.2em;padding-left: 0.2em;position: relative;}#sk-container-id-1 div.sk-item {position: relative;z-index: 1;}#sk-container-id-1 div.sk-parallel {display: flex;align-items: stretch;justify-content: center;background-color: white;position: relative;}#sk-container-id-1 div.sk-item::before, #sk-container-id-1 div.sk-parallel-item::before {content: \"\";position: absolute;border-left: 1px solid gray;box-sizing: border-box;top: 0;bottom: 0;left: 50%;z-index: -1;}#sk-container-id-1 div.sk-parallel-item {display: flex;flex-direction: column;z-index: 1;position: relative;background-color: white;}#sk-container-id-1 div.sk-parallel-item:first-child::after {align-self: flex-end;width: 50%;}#sk-container-id-1 div.sk-parallel-item:last-child::after {align-self: flex-start;width: 50%;}#sk-container-id-1 div.sk-parallel-item:only-child::after {width: 0;}#sk-container-id-1 div.sk-dashed-wrapped {border: 1px dashed gray;margin: 0 0.4em 0.5em 0.4em;box-sizing: border-box;padding-bottom: 0.4em;background-color: white;}#sk-container-id-1 div.sk-label label {font-family: monospace;font-weight: bold;display: inline-block;line-height: 1.2em;}#sk-container-id-1 div.sk-label-container {text-align: center;}#sk-container-id-1 div.sk-container {/* jupyter's `normalize.less` sets `[hidden] { display: none; }` but bootstrap.min.css set `[hidden] { display: none !important; }` so we also need the `!important` here to be able to override the default hidden behavior on the sphinx rendered scikit-learn.org. See: https://github.com/scikit-learn/scikit-learn/issues/21755 */display: inline-block !important;position: relative;}#sk-container-id-1 div.sk-text-repr-fallback {display: none;}</style><div id=\"sk-container-id-1\" class=\"sk-top-container\"><div class=\"sk-text-repr-fallback\"><pre>LinearRegression()</pre><b>In a Jupyter environment, please rerun this cell to show the HTML representation or trust the notebook. <br />On GitHub, the HTML representation is unable to render, please try loading this page with nbviewer.org.</b></div><div class=\"sk-container\" hidden><div class=\"sk-item\"><div class=\"sk-estimator sk-toggleable\"><input class=\"sk-toggleable__control sk-hidden--visually\" id=\"sk-estimator-id-1\" type=\"checkbox\" checked><label for=\"sk-estimator-id-1\" class=\"sk-toggleable__label sk-toggleable__label-arrow\">LinearRegression</label><div class=\"sk-toggleable__content\"><pre>LinearRegression()</pre></div></div></div></div></div>"
      ],
      "text/plain": [
       "LinearRegression()"
      ]
     },
     "execution_count": 4,
     "metadata": {},
     "output_type": "execute_result"
    }
   ],
   "source": [
    "lr = lm.LinearRegression()\n",
    "lr.fit(x, y)"
   ]
  },
  {
   "cell_type": "code",
   "execution_count": 9,
   "metadata": {},
   "outputs": [
    {
     "data": {
      "image/png": "[encoded data removed]",
      "text/plain": [
       "<Figure size 640x480 with 1 Axes>"
      ]
     },
     "metadata": {},
     "output_type": "display_data"
    }
   ],
   "source": [
    "plt.scatter(x=x[:, 0], y=y, s=10)\n",
    "plt.plot(x[:, 0], lr.predict(x), c=\"red\")\n",
    "plt.xlabel(\"x\")\n",
    "plt.ylabel(\"y\")\n",
    "plt.axhline(1.4286, color=\"green\")\n",
    "plt.show()"
   ]
  },
  {
   "cell_type": "code",
   "execution_count": 6,
   "metadata": {},
   "outputs": [
    {
     "data": {
      "text/plain": [
       "(array([87.36641987]), 1.4285139010211894)"
      ]
     },
     "execution_count": 6,
     "metadata": {},
     "output_type": "execute_result"
    }
   ],
   "source": [
    "lr.coef_, lr.intercept_"
   ]
  },
  {
   "cell_type": "markdown",
   "metadata": {},
   "source": [
    "- Estratégias usuais: _Singular Value Decomposition_ (SVD) e _Stochastic Gradient Descent_ (SGD)\n",
    "- O SVD também é utilizado na Análise de Componentes Principais (PCA - _Principal Component Analysis_)\n",
    "    - Que abordaremos na aula de hoje\n",
    "- O SGD é um componente essencial das redes neurais e deep learning!\n",
    "    - Iremos abordá-lo futuramente\n",
    "- Tanto o SVD, quanto o SGD podem ser usado para resolverem sistemas lineares\n",
    "    - Parece pouco?\n",
    "    - Espero mudar sua opinião\n",
    "\n",
    "### 1.2. Singular Value Decomposition\n",
    "\n",
    "- SVD: $A = U \\Sigma V^T$\n",
    "    - Decompõe uma matriz com dimensões quaisquer no produto de três matrizes\n",
    "    - $A$: $m\\times n$\n",
    "    - $U$: $m \\times m$\n",
    "    - $\\Sigma$: $m \\times n$\n",
    "    - $V$: $n \\times n$\n",
    "- $U$ e $V$ são matrizes unitárias:\n",
    "    - $UU^T = I$\n",
    "    - $VV^T = I \\rightarrow$ matriz identidade\n",
    "        - Diagonal com $1$ e o restante $0$\n",
    "- $\\Sigma$ é uma matriz diagonal\n",
    "    - Todos os valores (exceto na diagonal) são zero\n",
    "- Aproximamos $A^{-1}$ utilizando $\\text{SVD}^{-1}$\n",
    "- Propriedade da SVD:\n",
    "    - $(U\\Sigma V^T)^{-1} = V\\Sigma^{-1}U^T = A^+$\n",
    "    \n",
    "- Nós utilizamos $A^+$ como uma aproximação para $A^{-1}$\n",
    "\n",
    "- Aplicando o SVD no nosso problema introdutório:\n",
    "\n"
   ]
  },
  {
   "cell_type": "code",
   "execution_count": 11,
   "metadata": {},
   "outputs": [
    {
     "data": {
      "text/plain": [
       "(200, 1)"
      ]
     },
     "execution_count": 11,
     "metadata": {},
     "output_type": "execute_result"
    }
   ],
   "source": [
    "x.shape"
   ]
  },
  {
   "cell_type": "code",
   "execution_count": 12,
   "metadata": {},
   "outputs": [
    {
     "data": {
      "text/plain": [
       "array([1., 1., 1., 1., 1., 1., 1., 1., 1., 1., 1., 1., 1., 1., 1., 1., 1.,\n",
       "       1., 1., 1., 1., 1., 1., 1., 1., 1., 1., 1., 1., 1., 1., 1., 1., 1.,\n",
       "       1., 1., 1., 1., 1., 1., 1., 1., 1., 1., 1., 1., 1., 1., 1., 1., 1.,\n",
       "       1., 1., 1., 1., 1., 1., 1., 1., 1., 1., 1., 1., 1., 1., 1., 1., 1.,\n",
       "       1., 1., 1., 1., 1., 1., 1., 1., 1., 1., 1., 1., 1., 1., 1., 1., 1.,\n",
       "       1., 1., 1., 1., 1., 1., 1., 1., 1., 1., 1., 1., 1., 1., 1., 1., 1.,\n",
       "       1., 1., 1., 1., 1., 1., 1., 1., 1., 1., 1., 1., 1., 1., 1., 1., 1.,\n",
       "       1., 1., 1., 1., 1., 1., 1., 1., 1., 1., 1., 1., 1., 1., 1., 1., 1.,\n",
       "       1., 1., 1., 1., 1., 1., 1., 1., 1., 1., 1., 1., 1., 1., 1., 1., 1.,\n",
       "       1., 1., 1., 1., 1., 1., 1., 1., 1., 1., 1., 1., 1., 1., 1., 1., 1.,\n",
       "       1., 1., 1., 1., 1., 1., 1., 1., 1., 1., 1., 1., 1., 1., 1., 1., 1.,\n",
       "       1., 1., 1., 1., 1., 1., 1., 1., 1., 1., 1., 1., 1.])"
      ]
     },
     "execution_count": 12,
     "metadata": {},
     "output_type": "execute_result"
    }
   ],
   "source": [
    "np.ones(x.shape[0])"
   ]
  },
  {
   "cell_type": "code",
   "execution_count": 13,
   "metadata": {},
   "outputs": [],
   "source": [
    "# Adicionamos uma coluna com 1's para representar o termo de bias:\n",
    "#    1 x qualquer coisa = qualquer coisa\n",
    "A = np.column_stack([x, np.ones(x.shape[0])])"
   ]
  },
  {
   "cell_type": "code",
   "execution_count": 33,
   "metadata": {},
   "outputs": [],
   "source": [
    "U, S, Vt = np.linalg.svd(A, full_matrices=False)"
   ]
  },
  {
   "cell_type": "code",
   "execution_count": 34,
   "metadata": {},
   "outputs": [
    {
     "data": {
      "text/plain": [
       "((200, 2), (2, 2), (2, 2))"
      ]
     },
     "execution_count": 34,
     "metadata": {},
     "output_type": "execute_result"
    }
   ],
   "source": [
    "U.shape, np.diag(S).shape, Vt.shape"
   ]
  },
  {
   "cell_type": "markdown",
   "metadata": {},
   "source": [
    "m x n, n x n, n x n"
   ]
  },
  {
   "cell_type": "code",
   "execution_count": 35,
   "metadata": {},
   "outputs": [],
   "source": [
    "w = Vt.T @ np.linalg.inv(np.diag(S)) @ U.T @ y\n"
   ]
  },
  {
   "cell_type": "code",
   "execution_count": 36,
   "metadata": {},
   "outputs": [
    {
     "data": {
      "text/plain": [
       "array([87.36641987,  1.4285139 ])"
      ]
     },
     "execution_count": 36,
     "metadata": {},
     "output_type": "execute_result"
    }
   ],
   "source": [
    "w"
   ]
  },
  {
   "cell_type": "markdown",
   "metadata": {},
   "source": [
    "- Agora sabemos de onde os coeficientes vêm.\n",
    "- Propriedade interessante do SVD:\n",
    "    - Podemos combinar os elementos de $U$ e $V^T$ escalados pela entrada correspondente em $\\Sigma$\n",
    "    - Reconstruir de forma aproximada a matriz original\n",
    "    \n",
    "<figure>\n",
    "      \n",
    "</figure>\n",
    "\n",
    "<figure>\n",
    "  <img src=\"https://sthalles.github.io/assets/svd-for-regression/rank-approximations.png\" width=\"700px\">\n",
    "  <figcaption>Fonte: <a href=\"https://sthalles.github.io/svd-for-regression/\">Understanding Linear Regression using the Singular Value Decomposition\n",
    "</a>\n",
    "  </figcaption>\n",
    "</figure>\n",
    "\n",
    "- Essa é a base da PCA\n",
    "\n",
    "- Podemos utilizar os modelos lineares para resolver problemas mais realísticos.\n"
   ]
  },
  {
   "cell_type": "markdown",
   "metadata": {},
   "source": [
    "## 2. Métricas de desempenho para regressão\n",
    "\n",
    "- Mean Absolute Error (MAE)\n",
    "\n",
    "$$MAE(y, \\hat{y}) = \\frac{1}{N}\\sum_{i=0}^{N-1} |y_i - \\hat{y}_i|$$\n",
    "\n",
    "- Root Mean Square Error (RMSE)\n",
    "\n",
    "$$RMSE(y, \\hat{y}) = \\frac{1}{N}\\sqrt{\\sum_{i=0}^{N-1} (y_i - \\hat{y}_i)^2}$$\n",
    "\n",
    "- Coeficiente de Determinação (R2)\n",
    "    - Indica quão bom está o seu modelo\n",
    "    - Intervalo $(-\\infty, 1]$ (1 é o melhor valor possível)\n",
    "    - Deve ser utilizado em conjunto com métricas de erro"
   ]
  },
  {
   "cell_type": "code",
   "execution_count": 38,
   "metadata": {},
   "outputs": [],
   "source": [
    "def MAE(y_true: np.array, y_pred: np.array):\n",
    "    mae = 0.0\n",
    "    n = len(y_true)\n",
    "    \n",
    "    for i in range(n):\n",
    "        mae += np.abs(y_true[i] - y_pred[i])\n",
    "    \n",
    "    return mae / n"
   ]
  },
  {
   "cell_type": "code",
   "execution_count": 41,
   "metadata": {},
   "outputs": [
    {
     "data": {
      "text/plain": [
       "1.6800000000000004"
      ]
     },
     "execution_count": 41,
     "metadata": {},
     "output_type": "execute_result"
    }
   ],
   "source": [
    "MAE(\n",
    "    np.array([1.5, 2.3, -0.2]),\n",
    "    np.array([3.0, 2.5, 3.14])\n",
    ")"
   ]
  },
  {
   "cell_type": "code",
   "execution_count": 42,
   "metadata": {},
   "outputs": [],
   "source": [
    "def RMSE(y_true: np.array, y_pred: np.array):\n",
    "    rmse = 0.0\n",
    "    n = len(y_true)\n",
    "    \n",
    "    for i in range(n):\n",
    "        rmse += ((y_true[i] - y_pred[i]) ** 2)\n",
    "    \n",
    "    return (rmse ** 0.5) / n"
   ]
  },
  {
   "cell_type": "code",
   "execution_count": 48,
   "metadata": {},
   "outputs": [],
   "source": [
    "def MSE(y_true: np.array, y_pred: np.array):\n",
    "    mse = 0.0\n",
    "    n = len(y_true)\n",
    "    \n",
    "    for i in range(n):\n",
    "        mse += ((y_true[i] - y_pred[i]) ** 2)\n",
    "    \n",
    "    return mse / n"
   ]
  },
  {
   "cell_type": "code",
   "execution_count": 43,
   "metadata": {},
   "outputs": [
    {
     "data": {
      "text/plain": [
       "1.2222747463461543"
      ]
     },
     "execution_count": 43,
     "metadata": {},
     "output_type": "execute_result"
    }
   ],
   "source": [
    "RMSE(\n",
    "    np.array([1.5, 2.3, -0.2]),\n",
    "    np.array([3.0, 2.5, 3.14])\n",
    ")"
   ]
  },
  {
   "cell_type": "code",
   "execution_count": 51,
   "metadata": {},
   "outputs": [
    {
     "data": {
      "text/plain": [
       "166.33333333333334"
      ]
     },
     "execution_count": 51,
     "metadata": {},
     "output_type": "execute_result"
    }
   ],
   "source": [
    "MAE(\n",
    "    np.array([1, 1, 1]),\n",
    "    np.array([200, 2, 300])\n",
    ")"
   ]
  },
  {
   "cell_type": "code",
   "execution_count": 52,
   "metadata": {},
   "outputs": [
    {
     "data": {
      "text/plain": [
       "119.72329208080885"
      ]
     },
     "execution_count": 52,
     "metadata": {},
     "output_type": "execute_result"
    }
   ],
   "source": [
    "RMSE(\n",
    "    np.array([1, 1, 1]),\n",
    "    np.array([200, 2, 300])\n",
    ")"
   ]
  },
  {
   "cell_type": "code",
   "execution_count": 50,
   "metadata": {},
   "outputs": [
    {
     "data": {
      "text/plain": [
       "17.320508075688775"
      ]
     },
     "execution_count": 50,
     "metadata": {},
     "output_type": "execute_result"
    }
   ],
   "source": [
    "300 ** 0.5"
   ]
  },
  {
   "cell_type": "code",
   "execution_count": 49,
   "metadata": {},
   "outputs": [
    {
     "data": {
      "text/plain": [
       "29801.0"
      ]
     },
     "execution_count": 49,
     "metadata": {},
     "output_type": "execute_result"
    }
   ],
   "source": [
    "MSE(\n",
    "    np.array([1, 1, 1]),\n",
    "    np.array([2, 2, 300])\n",
    ")"
   ]
  },
  {
   "cell_type": "code",
   "execution_count": 57,
   "metadata": {},
   "outputs": [
    {
     "data": {
      "text/plain": [
       "2.0"
      ]
     },
     "execution_count": 57,
     "metadata": {},
     "output_type": "execute_result"
    }
   ],
   "source": [
    "np.mean(np.array([1, 2, 3]))"
   ]
  },
  {
   "cell_type": "code",
   "execution_count": 56,
   "metadata": {},
   "outputs": [
    {
     "data": {
      "text/plain": [
       "1.0"
      ]
     },
     "execution_count": 56,
     "metadata": {},
     "output_type": "execute_result"
    }
   ],
   "source": [
    "r2_score(\n",
    "    np.array([1, 2, 3]),\n",
    "    np.array([1, 2, 3])\n",
    ")"
   ]
  },
  {
   "cell_type": "code",
   "execution_count": 60,
   "metadata": {},
   "outputs": [
    {
     "data": {
      "text/plain": [
       "0.0"
      ]
     },
     "execution_count": 60,
     "metadata": {},
     "output_type": "execute_result"
    }
   ],
   "source": [
    "r2_score(\n",
    "    np.array([1, 2, 3]),\n",
    "    np.array([2, 2, 2])\n",
    ")"
   ]
  },
  {
   "cell_type": "code",
   "execution_count": 73,
   "metadata": {
    "scrolled": true
   },
   "outputs": [
    {
     "data": {
      "text/plain": [
       "0.9748"
      ]
     },
     "execution_count": 73,
     "metadata": {},
     "output_type": "execute_result"
    }
   ],
   "source": [
    "r2_score(\n",
    "    np.array([1, 2, 3]),\n",
    "    np.array([1.2, 1.98, 2.9])\n",
    ")"
   ]
  },
  {
   "cell_type": "markdown",
   "metadata": {},
   "source": [
    "Exemplo Standard Scaling (z-score)"
   ]
  },
  {
   "cell_type": "code",
   "execution_count": 76,
   "metadata": {},
   "outputs": [],
   "source": [
    "x_ = x[:, 0]"
   ]
  },
  {
   "cell_type": "code",
   "execution_count": 79,
   "metadata": {},
   "outputs": [],
   "source": [
    "mean = np.mean(x_)\n",
    "std = np.std(x_, ddof=1)"
   ]
  },
  {
   "cell_type": "code",
   "execution_count": 80,
   "metadata": {},
   "outputs": [
    {
     "data": {
      "text/plain": [
       "(-0.04077096517208499, 0.9310039152070013)"
      ]
     },
     "execution_count": 80,
     "metadata": {},
     "output_type": "execute_result"
    }
   ],
   "source": [
    "mean, std"
   ]
  },
  {
   "cell_type": "code",
   "execution_count": 87,
   "metadata": {},
   "outputs": [],
   "source": [
    "x_norm = (x_ - mean) / std"
   ]
  },
  {
   "cell_type": "code",
   "execution_count": 55,
   "metadata": {},
   "outputs": [],
   "source": [
    "from sklearn.metrics import mean_absolute_error, mean_squared_error, r2_score, make_scorer\n",
    "from sklearn.model_selection import cross_validate, train_test_split, KFold\n",
    "from sklearn.pipeline import make_pipeline\n",
    "from sklearn.preprocessing import StandardScaler"
   ]
  },
  {
   "cell_type": "markdown",
   "metadata": {},
   "source": [
    "- Medir o número de octanas em amostras de gasolina ([Fonte dos dados](https://github.com/gustavovelascoh/octane-NIR))\n",
    "- X: frequências medidas com NIR (Espectroscopia de Infravermelho Próximo)\n",
    "- y: número de octanas"
   ]
  },
  {
   "cell_type": "code",
   "execution_count": 88,
   "metadata": {},
   "outputs": [
    {
     "data": {
      "text/html": [
       "<div>\n",
       "<style scoped>\n",
       "    .dataframe tbody tr th:only-of-type {\n",
       "        vertical-align: middle;\n",
       "    }\n",
       "\n",
       "    .dataframe tbody tr th {\n",
       "        vertical-align: top;\n",
       "    }\n",
       "\n",
       "    .dataframe thead th {\n",
       "        text-align: right;\n",
       "    }\n",
       "</style>\n",
       "<table border=\"1\" class=\"dataframe\">\n",
       "  <thead>\n",
       "    <tr style=\"text-align: right;\">\n",
       "      <th></th>\n",
       "      <th>octane</th>\n",
       "      <th>NIR.900 nm</th>\n",
       "      <th>NIR.902 nm</th>\n",
       "      <th>NIR.904 nm</th>\n",
       "      <th>NIR.906 nm</th>\n",
       "      <th>NIR.908 nm</th>\n",
       "      <th>NIR.910 nm</th>\n",
       "      <th>NIR.912 nm</th>\n",
       "      <th>NIR.914 nm</th>\n",
       "      <th>NIR.916 nm</th>\n",
       "      <th>...</th>\n",
       "      <th>NIR.1682 nm</th>\n",
       "      <th>NIR.1684 nm</th>\n",
       "      <th>NIR.1686 nm</th>\n",
       "      <th>NIR.1688 nm</th>\n",
       "      <th>NIR.1690 nm</th>\n",
       "      <th>NIR.1692 nm</th>\n",
       "      <th>NIR.1694 nm</th>\n",
       "      <th>NIR.1696 nm</th>\n",
       "      <th>NIR.1698 nm</th>\n",
       "      <th>NIR.1700 nm</th>\n",
       "    </tr>\n",
       "  </thead>\n",
       "  <tbody>\n",
       "    <tr>\n",
       "      <th>1</th>\n",
       "      <td>85.30</td>\n",
       "      <td>-0.050193</td>\n",
       "      <td>-0.045903</td>\n",
       "      <td>-0.042187</td>\n",
       "      <td>-0.037177</td>\n",
       "      <td>-0.033348</td>\n",
       "      <td>-0.031207</td>\n",
       "      <td>-0.030036</td>\n",
       "      <td>-0.031298</td>\n",
       "      <td>-0.034217</td>\n",
       "      <td>...</td>\n",
       "      <td>1.198461</td>\n",
       "      <td>1.224243</td>\n",
       "      <td>1.242645</td>\n",
       "      <td>1.250789</td>\n",
       "      <td>1.246626</td>\n",
       "      <td>1.250985</td>\n",
       "      <td>1.264189</td>\n",
       "      <td>1.244678</td>\n",
       "      <td>1.245913</td>\n",
       "      <td>1.221135</td>\n",
       "    </tr>\n",
       "    <tr>\n",
       "      <th>2</th>\n",
       "      <td>85.25</td>\n",
       "      <td>-0.044227</td>\n",
       "      <td>-0.039602</td>\n",
       "      <td>-0.035673</td>\n",
       "      <td>-0.030911</td>\n",
       "      <td>-0.026675</td>\n",
       "      <td>-0.023871</td>\n",
       "      <td>-0.022571</td>\n",
       "      <td>-0.025410</td>\n",
       "      <td>-0.028960</td>\n",
       "      <td>...</td>\n",
       "      <td>1.128877</td>\n",
       "      <td>1.148342</td>\n",
       "      <td>1.189116</td>\n",
       "      <td>1.223242</td>\n",
       "      <td>1.253306</td>\n",
       "      <td>1.282889</td>\n",
       "      <td>1.215065</td>\n",
       "      <td>1.225211</td>\n",
       "      <td>1.227985</td>\n",
       "      <td>1.198851</td>\n",
       "    </tr>\n",
       "    <tr>\n",
       "      <th>3</th>\n",
       "      <td>88.45</td>\n",
       "      <td>-0.046867</td>\n",
       "      <td>-0.041260</td>\n",
       "      <td>-0.036979</td>\n",
       "      <td>-0.031458</td>\n",
       "      <td>-0.026520</td>\n",
       "      <td>-0.023346</td>\n",
       "      <td>-0.021392</td>\n",
       "      <td>-0.024993</td>\n",
       "      <td>-0.029309</td>\n",
       "      <td>...</td>\n",
       "      <td>1.147964</td>\n",
       "      <td>1.167798</td>\n",
       "      <td>1.198287</td>\n",
       "      <td>1.237383</td>\n",
       "      <td>1.260979</td>\n",
       "      <td>1.276677</td>\n",
       "      <td>1.218871</td>\n",
       "      <td>1.223132</td>\n",
       "      <td>1.230321</td>\n",
       "      <td>1.208742</td>\n",
       "    </tr>\n",
       "    <tr>\n",
       "      <th>4</th>\n",
       "      <td>83.40</td>\n",
       "      <td>-0.046705</td>\n",
       "      <td>-0.042240</td>\n",
       "      <td>-0.038561</td>\n",
       "      <td>-0.034513</td>\n",
       "      <td>-0.030206</td>\n",
       "      <td>-0.027680</td>\n",
       "      <td>-0.026042</td>\n",
       "      <td>-0.028280</td>\n",
       "      <td>-0.030920</td>\n",
       "      <td>...</td>\n",
       "      <td>1.160089</td>\n",
       "      <td>1.169350</td>\n",
       "      <td>1.201066</td>\n",
       "      <td>1.233299</td>\n",
       "      <td>1.262966</td>\n",
       "      <td>1.272709</td>\n",
       "      <td>1.211068</td>\n",
       "      <td>1.215044</td>\n",
       "      <td>1.232655</td>\n",
       "      <td>1.206696</td>\n",
       "    </tr>\n",
       "    <tr>\n",
       "      <th>5</th>\n",
       "      <td>87.90</td>\n",
       "      <td>-0.050859</td>\n",
       "      <td>-0.045145</td>\n",
       "      <td>-0.041025</td>\n",
       "      <td>-0.036357</td>\n",
       "      <td>-0.032747</td>\n",
       "      <td>-0.031498</td>\n",
       "      <td>-0.031415</td>\n",
       "      <td>-0.034611</td>\n",
       "      <td>-0.037781</td>\n",
       "      <td>...</td>\n",
       "      <td>1.252712</td>\n",
       "      <td>1.238013</td>\n",
       "      <td>1.259616</td>\n",
       "      <td>1.273713</td>\n",
       "      <td>1.296524</td>\n",
       "      <td>1.299507</td>\n",
       "      <td>1.226448</td>\n",
       "      <td>1.230718</td>\n",
       "      <td>1.232864</td>\n",
       "      <td>1.202926</td>\n",
       "    </tr>\n",
       "  </tbody>\n",
       "</table>\n",
       "<p>5 rows × 402 columns</p>\n",
       "</div>"
      ],
      "text/plain": [
       "   octane  NIR.900 nm  NIR.902 nm  NIR.904 nm  NIR.906 nm  NIR.908 nm  \\\n",
       "1   85.30   -0.050193   -0.045903   -0.042187   -0.037177   -0.033348   \n",
       "2   85.25   -0.044227   -0.039602   -0.035673   -0.030911   -0.026675   \n",
       "3   88.45   -0.046867   -0.041260   -0.036979   -0.031458   -0.026520   \n",
       "4   83.40   -0.046705   -0.042240   -0.038561   -0.034513   -0.030206   \n",
       "5   87.90   -0.050859   -0.045145   -0.041025   -0.036357   -0.032747   \n",
       "\n",
       "   NIR.910 nm  NIR.912 nm  NIR.914 nm  NIR.916 nm  ...  NIR.1682 nm  \\\n",
       "1   -0.031207   -0.030036   -0.031298   -0.034217  ...     1.198461   \n",
       "2   -0.023871   -0.022571   -0.025410   -0.028960  ...     1.128877   \n",
       "3   -0.023346   -0.021392   -0.024993   -0.029309  ...     1.147964   \n",
       "4   -0.027680   -0.026042   -0.028280   -0.030920  ...     1.160089   \n",
       "5   -0.031498   -0.031415   -0.034611   -0.037781  ...     1.252712   \n",
       "\n",
       "   NIR.1684 nm  NIR.1686 nm  NIR.1688 nm  NIR.1690 nm  NIR.1692 nm  \\\n",
       "1     1.224243     1.242645     1.250789     1.246626     1.250985   \n",
       "2     1.148342     1.189116     1.223242     1.253306     1.282889   \n",
       "3     1.167798     1.198287     1.237383     1.260979     1.276677   \n",
       "4     1.169350     1.201066     1.233299     1.262966     1.272709   \n",
       "5     1.238013     1.259616     1.273713     1.296524     1.299507   \n",
       "\n",
       "   NIR.1694 nm  NIR.1696 nm  NIR.1698 nm  NIR.1700 nm  \n",
       "1     1.264189     1.244678     1.245913     1.221135  \n",
       "2     1.215065     1.225211     1.227985     1.198851  \n",
       "3     1.218871     1.223132     1.230321     1.208742  \n",
       "4     1.211068     1.215044     1.232655     1.206696  \n",
       "5     1.226448     1.230718     1.232864     1.202926  \n",
       "\n",
       "[5 rows x 402 columns]"
      ]
     },
     "execution_count": 88,
     "metadata": {},
     "output_type": "execute_result"
    }
   ],
   "source": [
    "df = pd.read_csv(\"data/a4/gasoline.csv\")\n",
    "df.head()"
   ]
  },
  {
   "cell_type": "code",
   "execution_count": 89,
   "metadata": {},
   "outputs": [
    {
     "data": {
      "text/plain": [
       "(60, 402)"
      ]
     },
     "execution_count": 89,
     "metadata": {},
     "output_type": "execute_result"
    }
   ],
   "source": [
    "df.shape"
   ]
  },
  {
   "cell_type": "markdown",
   "metadata": {},
   "source": [
    "Muito mais colunas do que linhas.\n",
    "\n",
    "- Precisaremos lidar com isso!"
   ]
  },
  {
   "cell_type": "code",
   "execution_count": 97,
   "metadata": {},
   "outputs": [],
   "source": [
    "X = df.drop(\"octane\", axis=1)\n",
    "y = df[\"octane\"]"
   ]
  },
  {
   "cell_type": "code",
   "execution_count": 98,
   "metadata": {},
   "outputs": [],
   "source": [
    "X_train, X_test, y_train, y_test = train_test_split(X, y, test_size=0.1, shuffle=True, random_state=8)"
   ]
  },
  {
   "cell_type": "code",
   "execution_count": 106,
   "metadata": {},
   "outputs": [],
   "source": [
    "reg_scorers = {\n",
    "    \"R2\": make_scorer(r2_score),\n",
    "    \"RMSE\": make_scorer(mean_squared_error, squared=False),\n",
    "    \"MAE\": make_scorer(mean_absolute_error),\n",
    "}"
   ]
  },
  {
   "cell_type": "code",
   "execution_count": 112,
   "metadata": {},
   "outputs": [
    {
     "data": {
      "text/plain": [
       "fit_time      0.017248\n",
       "score_time    0.003564\n",
       "test_R2       0.955525\n",
       "test_RMSE     0.256838\n",
       "test_MAE      0.201224\n",
       "dtype: float64"
      ]
     },
     "execution_count": 112,
     "metadata": {},
     "output_type": "execute_result"
    }
   ],
   "source": [
    "res_lr = cross_validate(\n",
    "    make_pipeline(StandardScaler(), lm.LinearRegression()),\n",
    "    X_train, y_train,\n",
    "    cv=KFold(n_splits=10, shuffle=True, random_state=42),\n",
    "    scoring=reg_scorers\n",
    ")\n",
    "\n",
    "res_lr = pd.DataFrame(res_lr)\n",
    "res_lr.mean(axis=0)"
   ]
  },
  {
   "cell_type": "code",
   "execution_count": 115,
   "metadata": {},
   "outputs": [
    {
     "data": {
      "text/plain": [
       "1.5635445495254696"
      ]
     },
     "execution_count": 115,
     "metadata": {},
     "output_type": "execute_result"
    }
   ],
   "source": [
    "np.std(y_train, ddof=1)"
   ]
  },
  {
   "cell_type": "code",
   "execution_count": 130,
   "metadata": {},
   "outputs": [
    {
     "data": {
      "text/plain": [
       "0.092"
      ]
     },
     "execution_count": 130,
     "metadata": {},
     "output_type": "execute_result"
    }
   ],
   "source": [
    "pesos = np.array([1.2, -2.3, 0.7, 5.])\n",
    "\n",
    "norm_l1 = sum(np.abs(pesos))\n",
    "norm_l1 * 0.01"
   ]
  },
  {
   "cell_type": "code",
   "execution_count": 131,
   "metadata": {},
   "outputs": [
    {
     "data": {
      "text/plain": [
       "0.023099999999999996"
      ]
     },
     "execution_count": 131,
     "metadata": {},
     "output_type": "execute_result"
    }
   ],
   "source": [
    "pesos = np.array([0.3, -0.1, 1.4, 0.5])\n",
    "\n",
    "norm_l2 = sum(pesos ** 2)\n",
    "norm_l2 * 0.01"
   ]
  },
  {
   "cell_type": "markdown",
   "metadata": {},
   "source": [
    "## 3. Regularização\n",
    "\n",
    "- Alteração da função de otimização para fazer os pesos seguirem um certo comportamento.\n",
    "- Forma de evitar _overfitting_ e garantir que os modelos lineares assumam um certo comportamento.\n",
    "\n",
    "### 3.1. LASSO\n",
    "\n",
    "- _Least Absolute Shrinkage and Selection Operator_\n",
    "- Regularização `l1`.\n",
    "- Adiciona a magnitude absoluta dos pesos à função de otimização.\n",
    "    - Minimiza $\\min\\limits_w\\|Xw - y\\|^2 + \\lambda \\|w\\|_1$\n",
    "- Força alguns pesos a se tornarem iguais a zero.\n",
    "    - Seleção de atributos :D\n",
    "\n",
    "### 3.2. Ridge Regression\n",
    "\n",
    "- Regularização `l2`\n",
    "- Adiciona a magnitude quadrática dos pesos à função de otimização\n",
    "    - Minimiza $\\min\\limits_w\\|Xw - y\\|^2 + \\lambda \\|w\\|_2^2$\n",
    "\n",
    "### 3.3. Elastic Net\n",
    "\n",
    "- Combinação ponderada da regularização `l1` e `l2`\n",
    "\n",
    "---\n",
    "\n",
    "Na prática!\n",
    "\n",
    "(No sklearn o $\\lambda$ é chamado de `alpha`)\n"
   ]
  },
  {
   "cell_type": "code",
   "execution_count": 132,
   "metadata": {},
   "outputs": [
    {
     "data": {
      "text/plain": [
       "fit_time      0.020565\n",
       "score_time    0.003195\n",
       "test_R2       0.963618\n",
       "test_RMSE     0.212487\n",
       "test_MAE      0.172473\n",
       "dtype: float64"
      ]
     },
     "execution_count": 132,
     "metadata": {},
     "output_type": "execute_result"
    }
   ],
   "source": [
    "res_l1 = cross_validate(\n",
    "    make_pipeline(StandardScaler(), lm.Lasso(alpha=0.01, max_iter=5000)),\n",
    "    X_train, y_train,\n",
    "    cv=KFold(n_splits=10, shuffle=True, random_state=42),\n",
    "    scoring=reg_scorers\n",
    ")\n",
    "\n",
    "# Atenção: ignorar o sinal do erro RMSE (detalhe de implementação do sklearn)\n",
    "res_l1 = pd.DataFrame(res_l1)\n",
    "res_l1.mean(axis=0)"
   ]
  },
  {
   "cell_type": "code",
   "execution_count": 133,
   "metadata": {},
   "outputs": [
    {
     "data": {
      "text/plain": [
       "fit_time      0.007093\n",
       "score_time    0.002682\n",
       "test_R2       0.970259\n",
       "test_RMSE     0.191477\n",
       "test_MAE      0.158753\n",
       "dtype: float64"
      ]
     },
     "execution_count": 133,
     "metadata": {},
     "output_type": "execute_result"
    }
   ],
   "source": [
    "res_l2 = cross_validate(\n",
    "    make_pipeline(StandardScaler(), lm.Ridge()),\n",
    "    X_train, y_train,\n",
    "    cv=KFold(n_splits=10, shuffle=True, random_state=42),\n",
    "    scoring=reg_scorers\n",
    ")\n",
    "\n",
    "# Atenção: ignorar o sinal do erro RMSE (detalhe de implementação do sklearn)\n",
    "res_l2 = pd.DataFrame(res_l2)\n",
    "res_l2.mean(axis=0)"
   ]
  },
  {
   "cell_type": "markdown",
   "metadata": {},
   "source": [
    "Hora da verdade!"
   ]
  },
  {
   "cell_type": "code",
   "execution_count": 158,
   "metadata": {},
   "outputs": [],
   "source": [
    "def extract_coefs(pipeline, model_name):\n",
    "    lr = pipeline.steps[-1][1]\n",
    "\n",
    "    plt.figure(dpi=100)\n",
    "    plt.bar(np.arange(len(lr.coef_)), lr.coef_)\n",
    "    plt.title(f\"{model_name} | Intercepto: {lr.intercept_:.4f}\")\n",
    "    plt.show()\n",
    "    \n",
    "    return None"
   ]
  },
  {
   "cell_type": "code",
   "execution_count": 190,
   "metadata": {},
   "outputs": [],
   "source": [
    "lr = make_pipeline(StandardScaler(), lm.LinearRegression())\n",
    "l1 = make_pipeline(StandardScaler(), lm.Lasso(alpha=0.01, max_iter=5000))\n",
    "l2 = make_pipeline(StandardScaler(), lm.Ridge())\n",
    "\n",
    "lr.fit(X_train, y_train)\n",
    "l1.fit(X_train, y_train)\n",
    "l2.fit(X_train, y_train)\n",
    "\n",
    "pass"
   ]
  },
  {
   "cell_type": "code",
   "execution_count": 136,
   "metadata": {},
   "outputs": [],
   "source": [
    "yp_lr = lr.predict(X_test)\n",
    "yp_l1 = l1.predict(X_test)\n",
    "yp_l2 = l2.predict(X_test)"
   ]
  },
  {
   "cell_type": "code",
   "execution_count": 137,
   "metadata": {},
   "outputs": [
    {
     "data": {
      "text/plain": [
       "(0.36315829823908685, 0.907255512333316)"
      ]
     },
     "execution_count": 137,
     "metadata": {},
     "output_type": "execute_result"
    }
   ],
   "source": [
    "mean_squared_error(y_test, yp_lr, squared=False), r2_score(y_test, yp_lr)"
   ]
  },
  {
   "cell_type": "code",
   "execution_count": 138,
   "metadata": {},
   "outputs": [
    {
     "data": {
      "text/plain": [
       "(0.2852942291391924, 0.9427623050547537)"
      ]
     },
     "execution_count": 138,
     "metadata": {},
     "output_type": "execute_result"
    }
   ],
   "source": [
    "mean_squared_error(y_test, yp_l1, squared=False), r2_score(y_test, yp_l1)"
   ]
  },
  {
   "cell_type": "code",
   "execution_count": 139,
   "metadata": {},
   "outputs": [
    {
     "data": {
      "text/plain": [
       "(0.3854258899580385, 0.8955332871143619)"
      ]
     },
     "execution_count": 139,
     "metadata": {},
     "output_type": "execute_result"
    }
   ],
   "source": [
    "mean_squared_error(y_test, yp_l2, squared=False), r2_score(y_test, yp_l2)"
   ]
  },
  {
   "cell_type": "code",
   "execution_count": 159,
   "metadata": {},
   "outputs": [
    {
     "data": {
      "image/png": "[encoded data removed]",
      "text/plain": [
       "<Figure size 640x480 with 1 Axes>"
      ]
     },
     "metadata": {},
     "output_type": "display_data"
    }
   ],
   "source": [
    "extract_coefs(lr, \"LR\")"
   ]
  },
  {
   "cell_type": "code",
   "execution_count": 191,
   "metadata": {},
   "outputs": [
    {
     "data": {
      "image/png": "[encoded data removed]",
      "text/plain": [
       "<Figure size 640x480 with 1 Axes>"
      ]
     },
     "metadata": {},
     "output_type": "display_data"
    }
   ],
   "source": [
    "extract_coefs(l1, \"LASSO\")"
   ]
  },
  {
   "cell_type": "code",
   "execution_count": 161,
   "metadata": {
    "scrolled": true
   },
   "outputs": [
    {
     "data": {
      "image/png": "[encoded data removed]",
      "text/plain": [
       "<Figure size 640x480 with 1 Axes>"
      ]
     },
     "metadata": {},
     "output_type": "display_data"
    }
   ],
   "source": [
    "extract_coefs(l2, \"Ridge\")"
   ]
  },
  {
   "cell_type": "code",
   "execution_count": 165,
   "metadata": {},
   "outputs": [
    {
     "data": {
      "text/plain": [
       "array([  6, 153, 159, 162, 165, 231, 233, 318, 326, 369, 392, 395, 396,\n",
       "       398], dtype=int64)"
      ]
     },
     "execution_count": 165,
     "metadata": {},
     "output_type": "execute_result"
    }
   ],
   "source": [
    "np.where(l1.steps[-1][1].coef_ != 0)[0]"
   ]
  },
  {
   "cell_type": "code",
   "execution_count": 166,
   "metadata": {},
   "outputs": [
    {
     "data": {
      "text/plain": [
       "Index(['NIR.912 nm', 'NIR.1206 nm', 'NIR.1218 nm', 'NIR.1224 nm',\n",
       "       'NIR.1230 nm', 'NIR.1362 nm', 'NIR.1366 nm', 'NIR.1536 nm',\n",
       "       'NIR.1552 nm', 'NIR.1638 nm', 'NIR.1684 nm', 'NIR.1690 nm',\n",
       "       'NIR.1692 nm', 'NIR.1696 nm'],\n",
       "      dtype='object')"
      ]
     },
     "execution_count": 166,
     "metadata": {},
     "output_type": "execute_result"
    }
   ],
   "source": [
    "selecionados = np.where(l1.steps[1][1].coef_ != 0)[0]\n",
    "\n",
    "X.columns[selecionados]"
   ]
  },
  {
   "cell_type": "code",
   "execution_count": 167,
   "metadata": {},
   "outputs": [
    {
     "data": {
      "text/plain": [
       "14"
      ]
     },
     "execution_count": 167,
     "metadata": {},
     "output_type": "execute_result"
    }
   ],
   "source": [
    "len(X.columns[selecionados])"
   ]
  },
  {
   "cell_type": "markdown",
   "metadata": {},
   "source": [
    "**Bonus:** utilizando a PCA para reduzir a dimensionalidade"
   ]
  },
  {
   "cell_type": "code",
   "execution_count": 168,
   "metadata": {
    "scrolled": true
   },
   "outputs": [
    {
     "data": {
      "text/html": [
       "<style>#sk-container-id-4 {color: black;background-color: white;}#sk-container-id-4 pre{padding: 0;}#sk-container-id-4 div.sk-toggleable {background-color: white;}#sk-container-id-4 label.sk-toggleable__label {cursor: pointer;display: block;width: 100%;margin-bottom: 0;padding: 0.3em;box-sizing: border-box;text-align: center;}#sk-container-id-4 label.sk-toggleable__label-arrow:before {content: \"▸\";float: left;margin-right: 0.25em;color: #696969;}#sk-container-id-4 label.sk-toggleable__label-arrow:hover:before {color: black;}#sk-container-id-4 div.sk-estimator:hover label.sk-toggleable__label-arrow:before {color: black;}#sk-container-id-4 div.sk-toggleable__content {max-height: 0;max-width: 0;overflow: hidden;text-align: left;background-color: #f0f8ff;}#sk-container-id-4 div.sk-toggleable__content pre {margin: 0.2em;color: black;border-radius: 0.25em;background-color: #f0f8ff;}#sk-container-id-4 input.sk-toggleable__control:checked~div.sk-toggleable__content {max-height: 200px;max-width: 100%;overflow: auto;}#sk-container-id-4 input.sk-toggleable__control:checked~label.sk-toggleable__label-arrow:before {content: \"▾\";}#sk-container-id-4 div.sk-estimator input.sk-toggleable__control:checked~label.sk-toggleable__label {background-color: #d4ebff;}#sk-container-id-4 div.sk-label input.sk-toggleable__control:checked~label.sk-toggleable__label {background-color: #d4ebff;}#sk-container-id-4 input.sk-hidden--visually {border: 0;clip: rect(1px 1px 1px 1px);clip: rect(1px, 1px, 1px, 1px);height: 1px;margin: -1px;overflow: hidden;padding: 0;position: absolute;width: 1px;}#sk-container-id-4 div.sk-estimator {font-family: monospace;background-color: #f0f8ff;border: 1px dotted black;border-radius: 0.25em;box-sizing: border-box;margin-bottom: 0.5em;}#sk-container-id-4 div.sk-estimator:hover {background-color: #d4ebff;}#sk-container-id-4 div.sk-parallel-item::after {content: \"\";width: 100%;border-bottom: 1px solid gray;flex-grow: 1;}#sk-container-id-4 div.sk-label:hover label.sk-toggleable__label {background-color: #d4ebff;}#sk-container-id-4 div.sk-serial::before {content: \"\";position: absolute;border-left: 1px solid gray;box-sizing: border-box;top: 0;bottom: 0;left: 50%;z-index: 0;}#sk-container-id-4 div.sk-serial {display: flex;flex-direction: column;align-items: center;background-color: white;padding-right: 0.2em;padding-left: 0.2em;position: relative;}#sk-container-id-4 div.sk-item {position: relative;z-index: 1;}#sk-container-id-4 div.sk-parallel {display: flex;align-items: stretch;justify-content: center;background-color: white;position: relative;}#sk-container-id-4 div.sk-item::before, #sk-container-id-4 div.sk-parallel-item::before {content: \"\";position: absolute;border-left: 1px solid gray;box-sizing: border-box;top: 0;bottom: 0;left: 50%;z-index: -1;}#sk-container-id-4 div.sk-parallel-item {display: flex;flex-direction: column;z-index: 1;position: relative;background-color: white;}#sk-container-id-4 div.sk-parallel-item:first-child::after {align-self: flex-end;width: 50%;}#sk-container-id-4 div.sk-parallel-item:last-child::after {align-self: flex-start;width: 50%;}#sk-container-id-4 div.sk-parallel-item:only-child::after {width: 0;}#sk-container-id-4 div.sk-dashed-wrapped {border: 1px dashed gray;margin: 0 0.4em 0.5em 0.4em;box-sizing: border-box;padding-bottom: 0.4em;background-color: white;}#sk-container-id-4 div.sk-label label {font-family: monospace;font-weight: bold;display: inline-block;line-height: 1.2em;}#sk-container-id-4 div.sk-label-container {text-align: center;}#sk-container-id-4 div.sk-container {/* jupyter's `normalize.less` sets `[hidden] { display: none; }` but bootstrap.min.css set `[hidden] { display: none !important; }` so we also need the `!important` here to be able to override the default hidden behavior on the sphinx rendered scikit-learn.org. See: https://github.com/scikit-learn/scikit-learn/issues/21755 */display: inline-block !important;position: relative;}#sk-container-id-4 div.sk-text-repr-fallback {display: none;}</style><div id=\"sk-container-id-4\" class=\"sk-top-container\"><div class=\"sk-text-repr-fallback\"><pre>PCA(n_components=54, random_state=7)</pre><b>In a Jupyter environment, please rerun this cell to show the HTML representation or trust the notebook. <br />On GitHub, the HTML representation is unable to render, please try loading this page with nbviewer.org.</b></div><div class=\"sk-container\" hidden><div class=\"sk-item\"><div class=\"sk-estimator sk-toggleable\"><input class=\"sk-toggleable__control sk-hidden--visually\" id=\"sk-estimator-id-6\" type=\"checkbox\" checked><label for=\"sk-estimator-id-6\" class=\"sk-toggleable__label sk-toggleable__label-arrow\">PCA</label><div class=\"sk-toggleable__content\"><pre>PCA(n_components=54, random_state=7)</pre></div></div></div></div></div>"
      ],
      "text/plain": [
       "PCA(n_components=54, random_state=7)"
      ]
     },
     "execution_count": 168,
     "metadata": {},
     "output_type": "execute_result"
    }
   ],
   "source": [
    "from sklearn.decomposition import PCA\n",
    "\n",
    "pca = PCA(n_components=X_train.shape[0], random_state=7)\n",
    "pca.fit(X_train)"
   ]
  },
  {
   "cell_type": "code",
   "execution_count": 182,
   "metadata": {},
   "outputs": [
    {
     "data": {
      "text/plain": [
       "(54, 401)"
      ]
     },
     "execution_count": 182,
     "metadata": {},
     "output_type": "execute_result"
    }
   ],
   "source": [
    "pca.inverse_transform(pca.transform(X_train)).shape"
   ]
  },
  {
   "cell_type": "code",
   "execution_count": 176,
   "metadata": {},
   "outputs": [
    {
     "data": {
      "image/png": "[encoded data removed]",
      "text/plain": [
       "<Figure size 640x480 with 1 Axes>"
      ]
     },
     "metadata": {},
     "output_type": "display_data"
    }
   ],
   "source": [
    "plt.figure(dpi=100)\n",
    "plt.bar(np.arange(54), np.cumsum(pca.explained_variance_ratio_))\n",
    "plt.xlabel(\"Componentes\")\n",
    "plt.ylabel(\"% de variância explicada\")\n",
    "plt.axhline(0.95, color=\"red\")\n",
    "plt.show()"
   ]
  },
  {
   "cell_type": "code",
   "execution_count": 177,
   "metadata": {},
   "outputs": [
    {
     "data": {
      "text/html": [
       "<style>#sk-container-id-5 {color: black;background-color: white;}#sk-container-id-5 pre{padding: 0;}#sk-container-id-5 div.sk-toggleable {background-color: white;}#sk-container-id-5 label.sk-toggleable__label {cursor: pointer;display: block;width: 100%;margin-bottom: 0;padding: 0.3em;box-sizing: border-box;text-align: center;}#sk-container-id-5 label.sk-toggleable__label-arrow:before {content: \"▸\";float: left;margin-right: 0.25em;color: #696969;}#sk-container-id-5 label.sk-toggleable__label-arrow:hover:before {color: black;}#sk-container-id-5 div.sk-estimator:hover label.sk-toggleable__label-arrow:before {color: black;}#sk-container-id-5 div.sk-toggleable__content {max-height: 0;max-width: 0;overflow: hidden;text-align: left;background-color: #f0f8ff;}#sk-container-id-5 div.sk-toggleable__content pre {margin: 0.2em;color: black;border-radius: 0.25em;background-color: #f0f8ff;}#sk-container-id-5 input.sk-toggleable__control:checked~div.sk-toggleable__content {max-height: 200px;max-width: 100%;overflow: auto;}#sk-container-id-5 input.sk-toggleable__control:checked~label.sk-toggleable__label-arrow:before {content: \"▾\";}#sk-container-id-5 div.sk-estimator input.sk-toggleable__control:checked~label.sk-toggleable__label {background-color: #d4ebff;}#sk-container-id-5 div.sk-label input.sk-toggleable__control:checked~label.sk-toggleable__label {background-color: #d4ebff;}#sk-container-id-5 input.sk-hidden--visually {border: 0;clip: rect(1px 1px 1px 1px);clip: rect(1px, 1px, 1px, 1px);height: 1px;margin: -1px;overflow: hidden;padding: 0;position: absolute;width: 1px;}#sk-container-id-5 div.sk-estimator {font-family: monospace;background-color: #f0f8ff;border: 1px dotted black;border-radius: 0.25em;box-sizing: border-box;margin-bottom: 0.5em;}#sk-container-id-5 div.sk-estimator:hover {background-color: #d4ebff;}#sk-container-id-5 div.sk-parallel-item::after {content: \"\";width: 100%;border-bottom: 1px solid gray;flex-grow: 1;}#sk-container-id-5 div.sk-label:hover label.sk-toggleable__label {background-color: #d4ebff;}#sk-container-id-5 div.sk-serial::before {content: \"\";position: absolute;border-left: 1px solid gray;box-sizing: border-box;top: 0;bottom: 0;left: 50%;z-index: 0;}#sk-container-id-5 div.sk-serial {display: flex;flex-direction: column;align-items: center;background-color: white;padding-right: 0.2em;padding-left: 0.2em;position: relative;}#sk-container-id-5 div.sk-item {position: relative;z-index: 1;}#sk-container-id-5 div.sk-parallel {display: flex;align-items: stretch;justify-content: center;background-color: white;position: relative;}#sk-container-id-5 div.sk-item::before, #sk-container-id-5 div.sk-parallel-item::before {content: \"\";position: absolute;border-left: 1px solid gray;box-sizing: border-box;top: 0;bottom: 0;left: 50%;z-index: -1;}#sk-container-id-5 div.sk-parallel-item {display: flex;flex-direction: column;z-index: 1;position: relative;background-color: white;}#sk-container-id-5 div.sk-parallel-item:first-child::after {align-self: flex-end;width: 50%;}#sk-container-id-5 div.sk-parallel-item:last-child::after {align-self: flex-start;width: 50%;}#sk-container-id-5 div.sk-parallel-item:only-child::after {width: 0;}#sk-container-id-5 div.sk-dashed-wrapped {border: 1px dashed gray;margin: 0 0.4em 0.5em 0.4em;box-sizing: border-box;padding-bottom: 0.4em;background-color: white;}#sk-container-id-5 div.sk-label label {font-family: monospace;font-weight: bold;display: inline-block;line-height: 1.2em;}#sk-container-id-5 div.sk-label-container {text-align: center;}#sk-container-id-5 div.sk-container {/* jupyter's `normalize.less` sets `[hidden] { display: none; }` but bootstrap.min.css set `[hidden] { display: none !important; }` so we also need the `!important` here to be able to override the default hidden behavior on the sphinx rendered scikit-learn.org. See: https://github.com/scikit-learn/scikit-learn/issues/21755 */display: inline-block !important;position: relative;}#sk-container-id-5 div.sk-text-repr-fallback {display: none;}</style><div id=\"sk-container-id-5\" class=\"sk-top-container\"><div class=\"sk-text-repr-fallback\"><pre>Pipeline(steps=[(&#x27;standardscaler&#x27;, StandardScaler()),\n",
       "                (&#x27;pca&#x27;, PCA(n_components=5, random_state=42)),\n",
       "                (&#x27;linearregression&#x27;, LinearRegression())])</pre><b>In a Jupyter environment, please rerun this cell to show the HTML representation or trust the notebook. <br />On GitHub, the HTML representation is unable to render, please try loading this page with nbviewer.org.</b></div><div class=\"sk-container\" hidden><div class=\"sk-item sk-dashed-wrapped\"><div class=\"sk-label-container\"><div class=\"sk-label sk-toggleable\"><input class=\"sk-toggleable__control sk-hidden--visually\" id=\"sk-estimator-id-7\" type=\"checkbox\" ><label for=\"sk-estimator-id-7\" class=\"sk-toggleable__label sk-toggleable__label-arrow\">Pipeline</label><div class=\"sk-toggleable__content\"><pre>Pipeline(steps=[(&#x27;standardscaler&#x27;, StandardScaler()),\n",
       "                (&#x27;pca&#x27;, PCA(n_components=5, random_state=42)),\n",
       "                (&#x27;linearregression&#x27;, LinearRegression())])</pre></div></div></div><div class=\"sk-serial\"><div class=\"sk-item\"><div class=\"sk-estimator sk-toggleable\"><input class=\"sk-toggleable__control sk-hidden--visually\" id=\"sk-estimator-id-8\" type=\"checkbox\" ><label for=\"sk-estimator-id-8\" class=\"sk-toggleable__label sk-toggleable__label-arrow\">StandardScaler</label><div class=\"sk-toggleable__content\"><pre>StandardScaler()</pre></div></div></div><div class=\"sk-item\"><div class=\"sk-estimator sk-toggleable\"><input class=\"sk-toggleable__control sk-hidden--visually\" id=\"sk-estimator-id-9\" type=\"checkbox\" ><label for=\"sk-estimator-id-9\" class=\"sk-toggleable__label sk-toggleable__label-arrow\">PCA</label><div class=\"sk-toggleable__content\"><pre>PCA(n_components=5, random_state=42)</pre></div></div></div><div class=\"sk-item\"><div class=\"sk-estimator sk-toggleable\"><input class=\"sk-toggleable__control sk-hidden--visually\" id=\"sk-estimator-id-10\" type=\"checkbox\" ><label for=\"sk-estimator-id-10\" class=\"sk-toggleable__label sk-toggleable__label-arrow\">LinearRegression</label><div class=\"sk-toggleable__content\"><pre>LinearRegression()</pre></div></div></div></div></div></div></div>"
      ],
      "text/plain": [
       "Pipeline(steps=[('standardscaler', StandardScaler()),\n",
       "                ('pca', PCA(n_components=5, random_state=42)),\n",
       "                ('linearregression', LinearRegression())])"
      ]
     },
     "execution_count": 177,
     "metadata": {},
     "output_type": "execute_result"
    }
   ],
   "source": [
    "lr_pca = make_pipeline(\n",
    "    StandardScaler(), \n",
    "    PCA(n_components=5, random_state=42),\n",
    "    lm.LinearRegression()\n",
    ")\n",
    "lr_pca.fit(X_train, y_train)"
   ]
  },
  {
   "cell_type": "code",
   "execution_count": 178,
   "metadata": {},
   "outputs": [],
   "source": [
    "yp_pca = lr_pca.predict(X_test)"
   ]
  },
  {
   "cell_type": "code",
   "execution_count": 179,
   "metadata": {},
   "outputs": [
    {
     "data": {
      "text/plain": [
       "(0.23219240959850984, 0.9620866466239033)"
      ]
     },
     "execution_count": 179,
     "metadata": {},
     "output_type": "execute_result"
    }
   ],
   "source": [
    "mean_squared_error(y_test, yp_pca, squared=False), r2_score(y_test, yp_pca)"
   ]
  },
  {
   "cell_type": "code",
   "execution_count": 180,
   "metadata": {},
   "outputs": [
    {
     "data": {
      "image/png": "[encoded data removed]",
      "text/plain": [
       "<Figure size 640x480 with 1 Axes>"
      ]
     },
     "metadata": {},
     "output_type": "display_data"
    }
   ],
   "source": [
    "extract_coefs(lr_pca, \"LR + PCA\")"
   ]
  },
  {
   "cell_type": "code",
   "execution_count": 183,
   "metadata": {},
   "outputs": [],
   "source": [
    "def repr_model(pipeline, x_names=None):\n",
    "    lr = pipeline.steps[-1][1]\n",
    "\n",
    "    if not x_names:\n",
    "        x_names = [f\"x{i + 1}\" for i in range(len(lr.coef_))]\n",
    "\n",
    "    r = []\n",
    "    first = True\n",
    "\n",
    "    for i, c in enumerate(lr.coef_):\n",
    "        if np.abs(c) < 0.00001 :\n",
    "            continue\n",
    "\n",
    "        if first:\n",
    "            r.append(f\"{c:.4f} x {x_names[i]} \")\n",
    "            first = False\n",
    "            continue\n",
    "    \n",
    "        if c > 0:\n",
    "            r.append(f\"+ {c:.4f} x {x_names[i]} \")\n",
    "        elif c < 0:\n",
    "            r.append(f\"- {np.abs(c):.4f} x {x_names[i]} \")\n",
    "        \n",
    "    \n",
    "    interc = f\"+ {lr.intercept_:.4f}\" if lr.intercept_ > 0 else f\"- {lr.intercept_:.4f}\"\n",
    "\n",
    "    return \"y = \" + \"\".join(r) + interc"
   ]
  },
  {
   "cell_type": "code",
   "execution_count": 184,
   "metadata": {},
   "outputs": [
    {
     "name": "stdout",
     "output_type": "stream",
     "text": [
      "y = 0.0543 x NIR.912 nm - 0.5816 x NIR.1206 nm - 0.0614 x NIR.1218 nm - 0.5345 x NIR.1224 nm - 0.2551 x NIR.1230 nm + 0.6886 x NIR.1362 nm + 0.0960 x NIR.1366 nm - 0.0323 x NIR.1536 nm - 0.0344 x NIR.1552 nm - 0.0750 x NIR.1638 nm - 0.0062 x NIR.1684 nm - 0.0355 x NIR.1690 nm - 0.0278 x NIR.1692 nm + 0.0071 x NIR.1696 nm + 87.1704\n"
     ]
    }
   ],
   "source": [
    "print(repr_model(l1, list(X.columns)))"
   ]
  },
  {
   "cell_type": "code",
   "execution_count": 185,
   "metadata": {},
   "outputs": [
    {
     "name": "stdout",
     "output_type": "stream",
     "text": [
      "y = -0.0244 x x1 + 0.0660 x x2 + 0.2821 x x3 - 0.0646 x x4 - 0.0700 x x5 + 87.1704\n"
     ]
    }
   ],
   "source": [
    "print(repr_model(lr_pca))"
   ]
  },
  {
   "cell_type": "markdown",
   "metadata": {},
   "source": [
    "## 4. Regressão logística\n",
    "\n",
    "- Apesar do nome, é um algoritmo de classificação\n",
    "- Tipicamente classificação binária\n",
    "    - Multiclasse: one vs. rest\n",
    "        - Criar vários modelos binários\n",
    "- Usa a função _logit_ ou função sigmoide\n",
    "    - Varia entre 0 e 1\n",
    "    \n",
    "$$sigmoid(\\tilde{x}) = \\dfrac{1}{1 + e^{-\\tilde{x}}}$$\n",
    "\n",
    "<img src=\"img/a4/logistic-reg.webp\" width=\"400\">\n",
    "    <figcaption>Exemplo 1: regressão logística. Fonte: James Thorn, via <a href=\"https://towardsdatascience.com/logistic-regression-explained-9ee73cede081\">Towards Data Science</a></figcaption>\n",
    "</img>\n",
    "\n",
    "- $\\tilde{x}$ é a combinação linear dos atributos do problema\n",
    "- Estratégias de otimização normalmente utilizadas:\n",
    "    - Gradiente descendente\n",
    "    - _Maximum likelihood_ (máxima verossimilhança)\n",
    "        - Estratégia para encontrar os parâmetros de um modelo probabilístico\n",
    "    \n",
    "<img src=\"img/a4/logistic-fitted.webp\" width=\"400\">\n",
    "    <figcaption>Exemplo 2: logistic regression. Fonte: James Thorn, via <a href=\"https://towardsdatascience.com/logistic-regression-explained-9ee73cede081\">Towards Data Science</a></figcaption>\n",
    "</img>"
   ]
  },
  {
   "cell_type": "code",
   "execution_count": null,
   "metadata": {},
   "outputs": [],
   "source": [
    "from sklearn.datasets import make_circles\n",
    "from sklearn.model_selection import StratifiedKFold\n",
    "\n",
    "X_c, y_c = make_circles(n_samples=500, random_state=7, factor=0.7, noise=0.1)"
   ]
  },
  {
   "cell_type": "code",
   "execution_count": null,
   "metadata": {},
   "outputs": [],
   "source": [
    "for c in np.unique(y_c):\n",
    "    mask = y_c == c\n",
    "    plt.scatter(X_c[mask, 0], X_c[mask, 1])\n",
    "\n",
    "plt.legend()\n",
    "plt.show()"
   ]
  },
  {
   "cell_type": "code",
   "execution_count": null,
   "metadata": {},
   "outputs": [],
   "source": [
    "log_reg = lm.LogisticRegression(random_state=0)\n",
    "\n",
    "\n",
    "res_logr = cross_validate(\n",
    "    log_reg,\n",
    "    X_c, y_c,\n",
    "    cv=StratifiedKFold(n_splits=10, shuffle=True, random_state=7),\n",
    "    scoring=[\"accuracy\", \"precision_macro\", \"recall_macro\", \"f1_macro\"]\n",
    ")\n",
    "\n",
    "res_logr = pd.DataFrame(res_logr)\n",
    "res_logr.mean(axis=0)"
   ]
  },
  {
   "cell_type": "code",
   "execution_count": null,
   "metadata": {},
   "outputs": [],
   "source": [
    "# Adaptado de: https://github.com/tirthajyoti/Machine-Learning-with-Python/blob/master/Utilities/ML-Python-utils.py\n",
    "def plot_decision_boundaries(X, y, model):\n",
    "    from matplotlib import colormaps\n",
    "    import matplotlib.markers as mmarkers\n",
    "    def mscatter(x, y, ax=None, m=None, **kw):\n",
    "        if not ax: ax=plt.gca()\n",
    "        sc = ax.scatter(x,y,**kw)\n",
    "        if (m is not None) and (len(m)==len(x)):\n",
    "            paths = []\n",
    "            for marker in m:\n",
    "                if isinstance(marker, mmarkers.MarkerStyle):\n",
    "                    marker_obj = marker\n",
    "                else:\n",
    "                    marker_obj = mmarkers.MarkerStyle(marker)\n",
    "                path = marker_obj.get_path().transformed(\n",
    "                            marker_obj.get_transform())\n",
    "                paths.append(path)\n",
    "            sc.set_paths(paths)\n",
    "        return sc\n",
    "\n",
    "    try:\n",
    "        X = np.array(X)\n",
    "        y = np.array(y).flatten()\n",
    "    except:\n",
    "        print(\"Coercing input data to NumPy arrays failed\")\n",
    "\n",
    "    # Reduces to the first two columns of data\n",
    "    reduced_data = X[:, :2]\n",
    "    # Fits the model with the reduced data\n",
    "    model.fit(reduced_data, y)\n",
    "\n",
    "    # Step size of the mesh. Decrease to increase the quality of the VQ.\n",
    "    h = .02     # point in the mesh [x_min, m_max]x[y_min, y_max].    \n",
    "\n",
    "    # Plot the decision boundary. For that, we will assign a color to each\n",
    "    x_min, x_max = reduced_data[:, 0].min() - 1, reduced_data[:, 0].max() + 1\n",
    "    y_min, y_max = reduced_data[:, 1].min() - 1, reduced_data[:, 1].max() + 1\n",
    "    # Meshgrid creation\n",
    "    xx, yy = np.meshgrid(np.arange(x_min, x_max, h), np.arange(y_min, y_max, h))\n",
    "\n",
    "    # Obtain labels for each point in mesh using the model.\n",
    "    Z = model.predict(np.c_[xx.ravel(), yy.ravel()])    \n",
    "\n",
    "    x_min, x_max = X[:, 0].min() - 1, X[:, 0].max() + 1\n",
    "    y_min, y_max = X[:, 1].min() - 1, X[:, 1].max() + 1\n",
    "    xx, yy = np.meshgrid(np.arange(x_min, x_max, 0.1),\n",
    "                         np.arange(y_min, y_max, 0.1))\n",
    "\n",
    "    # Predictions to obtain the classification results\n",
    "    Z = model.predict(np.c_[xx.ravel(), yy.ravel()]).reshape(xx.shape)\n",
    "    \n",
    "    # Right now it only works with binary tasks: expand both dictionaries or use cmap for multiclass tasks\n",
    "\n",
    "    cmap = colormaps['brg']\n",
    "\n",
    "    markers = {0: \"o\", 1: \"^\", 2: \"s\", 3: \"D\", 4: \"+\", 5: \"*\"}\n",
    "\n",
    "    m = list(map(lambda i: markers[i], y))\n",
    "    \n",
    "    # Plotting\n",
    "    plt.contourf(xx, yy, Z, alpha=0.3, cmap=cmap)\n",
    "    mscatter(x=X[:, 0], y=X[:, 1], c=y, m=m, cmap=cmap, alpha=1)\n",
    "    \n",
    "    plt.xlabel(\"x1\",fontsize=15)\n",
    "    plt.ylabel(\"x2\",fontsize=15)\n",
    "    plt.xticks(fontsize=14)\n",
    "    plt.yticks(fontsize=14)\n",
    "\n",
    "    return plt"
   ]
  },
  {
   "cell_type": "code",
   "execution_count": null,
   "metadata": {},
   "outputs": [],
   "source": [
    "plot_decision_boundaries(X_c, y_c, lm.LogisticRegression(random_state=7))\n",
    "plt.title(\"Logistic Regression\")\n",
    "plt.show()"
   ]
  },
  {
   "cell_type": "markdown",
   "metadata": {},
   "source": [
    "## 5. Support Vector Machine (SVM)\n",
    "\n",
    "- Modelo linear, por definição\n",
    "- Modela relações não-lineares através da aplicação de funções kernel\n",
    "    - Transformam os dados em dimensões para proporcionar a resolução\n",
    "\n",
    "Suponha o seguinte exemplo:"
   ]
  },
  {
   "cell_type": "code",
   "execution_count": null,
   "metadata": {},
   "outputs": [],
   "source": [
    "rng = np.random.default_rng(42)\n",
    "\n",
    "x = rng.uniform(-10, 10, 200)\n",
    "y = np.zeros(200)\n",
    "\n",
    "y[(x >= -3) & (x <= 3)] = 1"
   ]
  },
  {
   "cell_type": "code",
   "execution_count": null,
   "metadata": {},
   "outputs": [],
   "source": [
    "colors = [\"red\", \"blue\"]\n",
    "markers = [\".\", \"^\"]\n",
    "\n",
    "for c in [0, 1]:\n",
    "    mask = y == c\n",
    "    x_ = x[mask]\n",
    "    \n",
    "    plt.scatter(x_, np.zeros(len(x_)), color=colors[c], marker=markers[c])\n",
    "plt.show()"
   ]
  },
  {
   "cell_type": "code",
   "execution_count": null,
   "metadata": {},
   "outputs": [],
   "source": [
    "log_reg = lm.LogisticRegression()\n",
    "log_reg.fit(x[:, None], y)"
   ]
  },
  {
   "cell_type": "code",
   "execution_count": null,
   "metadata": {},
   "outputs": [],
   "source": [
    "log_reg.coef_, log_reg.intercept_"
   ]
  },
  {
   "cell_type": "code",
   "execution_count": null,
   "metadata": {},
   "outputs": [],
   "source": [
    "preds = log_reg.predict(x[:, None])\n",
    "\n",
    "for c in [0, 1]:\n",
    "    mask = y == c\n",
    "    x_ = x[mask]\n",
    "    \n",
    "    plt.scatter(x_, np.zeros(len(x_)), color=colors[c], marker=markers[c])\n",
    "\n",
    "\n",
    "for c in [0, 1]:\n",
    "    mask = preds == c\n",
    "    x_ = x[mask]\n",
    "    \n",
    "    # Predições\n",
    "    plt.scatter(x_, np.ones(len(x_)), color=colors[c], marker=markers[c])\n",
    "\n",
    "plt.show()"
   ]
  },
  {
   "cell_type": "markdown",
   "metadata": {},
   "source": [
    "E se aumentarmos a dimensão do problema?"
   ]
  },
  {
   "cell_type": "code",
   "execution_count": null,
   "metadata": {},
   "outputs": [],
   "source": [
    "for c in [0, 1]:\n",
    "    mask = y == c\n",
    "    x_ = x[mask]\n",
    "    \n",
    "    plt.scatter(x_, x_ ** 2, color=colors[c], marker=markers[c])"
   ]
  },
  {
   "cell_type": "code",
   "execution_count": null,
   "metadata": {},
   "outputs": [],
   "source": [
    "x_x2 = np.hstack((x[:, None], (x ** 2)[:, None]))\n",
    "\n",
    "log_reg = lm.LogisticRegression()\n",
    "log_reg.fit(x_x2, y)"
   ]
  },
  {
   "cell_type": "code",
   "execution_count": null,
   "metadata": {},
   "outputs": [],
   "source": [
    "# Acurácia no treino: atenção, não faça isso em casa XD\n",
    "sum(y == log_reg.predict(x_x2)) / len(y)"
   ]
  },
  {
   "cell_type": "code",
   "execution_count": null,
   "metadata": {},
   "outputs": [],
   "source": [
    "log_reg.coef_, log_reg.intercept_"
   ]
  },
  {
   "cell_type": "markdown",
   "metadata": {},
   "source": [
    "- A partir do aumento da dimensionalidade nós resolvemos um problema não-linearmente separável\n",
    "- A SVM pode resolver esse problema utilizando funções kernel!\n",
    "    - Nativamente\n",
    "- Kernel trick: evita a projeção explícita dos dados (custosa)\n",
    "    - Distâncias entre pontos calculadas diretamente no espaço projetado\n",
    "\n",
    "\n",
    "<img src=\"img/a4/svm.webp\" height=\"450\">\n",
    "    <figcaption>Exemplo SVM. Fonte: MathML.io via <a href=\"https://ankitnitjsr13.medium.com/math-behind-svm-support-vector-machine-864e58977fdb\">Medium</a></figcaption>\n",
    "</img>\n",
    "\n",
    "Usando a SVM na prática:"
   ]
  },
  {
   "cell_type": "code",
   "execution_count": null,
   "metadata": {},
   "outputs": [],
   "source": [
    "from sklearn.svm import SVC"
   ]
  },
  {
   "cell_type": "code",
   "execution_count": null,
   "metadata": {},
   "outputs": [],
   "source": [
    "svm_l = SVC(kernel=\"linear\")\n",
    "\n",
    "\n",
    "res_svml = cross_validate(\n",
    "    svm_l,\n",
    "    X_c, y_c,\n",
    "    cv=StratifiedKFold(n_splits=10, shuffle=True, random_state=7),\n",
    "    scoring=[\"accuracy\", \"precision_macro\", \"recall_macro\", \"f1_macro\"]\n",
    ")\n",
    "\n",
    "res_svml = pd.DataFrame(res_svml)\n",
    "res_svml.mean(axis=0)"
   ]
  },
  {
   "cell_type": "code",
   "execution_count": null,
   "metadata": {},
   "outputs": [],
   "source": [
    "svm_p = SVC(kernel=\"poly\")\n",
    "\n",
    "\n",
    "res_svmp = cross_validate(\n",
    "    svm_p,\n",
    "    X_c, y_c,\n",
    "    cv=StratifiedKFold(n_splits=10, shuffle=True, random_state=7),\n",
    "    scoring=[\"accuracy\", \"precision_macro\", \"recall_macro\", \"f1_macro\"]\n",
    ")\n",
    "\n",
    "res_svmp = pd.DataFrame(res_svmp)\n",
    "res_svmp.mean(axis=0)"
   ]
  },
  {
   "cell_type": "code",
   "execution_count": null,
   "metadata": {},
   "outputs": [],
   "source": [
    "svm_r = SVC(kernel=\"rbf\")\n",
    "\n",
    "\n",
    "res_svmr = cross_validate(\n",
    "    svm_r,\n",
    "    X_c, y_c,\n",
    "    cv=StratifiedKFold(n_splits=10, shuffle=True, random_state=7),\n",
    "    scoring=[\"accuracy\", \"precision_macro\", \"recall_macro\", \"f1_macro\"]\n",
    ")\n",
    "\n",
    "res_svmr = pd.DataFrame(res_svmr)\n",
    "res_svmr.mean(axis=0)"
   ]
  },
  {
   "cell_type": "code",
   "execution_count": null,
   "metadata": {},
   "outputs": [],
   "source": [
    "plot_decision_boundaries(X_c, y_c, SVC(kernel=\"linear\"))\n",
    "plt.title(\"SVM, kernel linear\")\n",
    "plt.show()"
   ]
  },
  {
   "cell_type": "code",
   "execution_count": null,
   "metadata": {},
   "outputs": [],
   "source": [
    "plot_decision_boundaries(X_c, y_c, SVC(kernel=\"poly\"))\n",
    "plt.title(\"SVM, kernel polinomial, grau 3\")\n",
    "plt.show()"
   ]
  },
  {
   "cell_type": "code",
   "execution_count": null,
   "metadata": {},
   "outputs": [],
   "source": [
    "plot_decision_boundaries(X_c, y_c, SVC(kernel=\"rbf\"))\n",
    "plt.title(\"SVM, kernel RBF\")\n",
    "plt.show()"
   ]
  },
  {
   "cell_type": "markdown",
   "metadata": {},
   "source": [
    "Bonus:"
   ]
  },
  {
   "cell_type": "code",
   "execution_count": null,
   "metadata": {},
   "outputs": [],
   "source": [
    "plot_decision_boundaries(X_c, y_c, SVC(kernel=\"poly\", degree=2))\n",
    "plt.title(\"SVM, kernel polinomial, grau 2\")\n",
    "plt.show()"
   ]
  },
  {
   "cell_type": "markdown",
   "metadata": {},
   "source": [
    "# Tarefa\n",
    "\n",
    "Vamos tomar um novo problema:"
   ]
  },
  {
   "cell_type": "code",
   "execution_count": null,
   "metadata": {},
   "outputs": [],
   "source": [
    "import random\n",
    "from sklearn.datasets import make_moons\n",
    "\n",
    "X_m, y_m = make_moons(n_samples=500, noise=0.1, random_state=42)"
   ]
  },
  {
   "cell_type": "code",
   "execution_count": null,
   "metadata": {},
   "outputs": [],
   "source": [
    "for c in np.unique(y_m):\n",
    "    mask = y_m == c\n",
    "    plt.scatter(X_m[mask, 0], X_m[mask, 1])\n",
    "\n",
    "plt.legend()\n",
    "plt.show()"
   ]
  },
  {
   "cell_type": "markdown",
   "metadata": {},
   "source": [
    "Agora, vou criar uma semente de geração de números aleatórios secreta:"
   ]
  },
  {
   "cell_type": "code",
   "execution_count": null,
   "metadata": {},
   "outputs": [],
   "source": [
    "# secret_seed = ..."
   ]
  },
  {
   "cell_type": "markdown",
   "metadata": {},
   "source": [
    "Essa seed é utilizada para embaralhar os seguintes modelos:"
   ]
  },
  {
   "cell_type": "code",
   "execution_count": null,
   "metadata": {},
   "outputs": [],
   "source": [
    "models = [lm.LogisticRegression(random_state=7), SVC(kernel=\"poly\", degree=2), SVC(kernel=\"rbf\")]\n",
    "\n",
    "# rng = random.Random(secret_seed)\n",
    "# rng.shuffle(models)"
   ]
  },
  {
   "cell_type": "markdown",
   "metadata": {},
   "source": [
    "Os modelos embaralhados foram plotados utilizando os comandos:\n",
    "\n",
    "```py\n",
    "\n",
    "plot_decision_boundaries(X_m, y_m, models[0])\n",
    "plt.show()\n",
    "\n",
    "plot_decision_boundaries(X_m, y_m, models[1])\n",
    "plt.show()\n",
    "\n",
    "plot_decision_boundaries(X_m, y_m, models[2])\n",
    "plt.show()\n",
    "```\n",
    "\n",
    "Eis os resultados, em ordem:\n",
    "\n",
    "<figure>\n",
    "  <img src=\"img/a4/m1.png\" width=\"500px\">\n",
    "  <figcaption>Model[0]</figcaption>\n",
    "</figure>\n",
    "\n",
    "<figure>\n",
    "  <img src=\"img/a4/m2.png\" width=\"500px\">\n",
    "  <figcaption>Model[1]</figcaption>\n",
    "</figure>\n",
    "\n",
    "<figure>\n",
    "  <img src=\"img/a4/m3.png\" width=\"500px\">\n",
    "  <figcaption>Model[2]</figcaption>\n",
    "</figure>\n",
    "\n",
    "**Desafio:** você consegue identificar qual é qual? Argumente.\n"
   ]
  },
  {
   "cell_type": "markdown",
   "metadata": {},
   "source": [
    "**R:**"
   ]
  }
 ],
 "metadata": {
  "kernelspec": {
   "display_name": "Python 3 (ipykernel)",
   "language": "python",
   "name": "python3"
  },
  "language_info": {
   "codemirror_mode": {
    "name": "ipython",
    "version": 3
   },
   "file_extension": ".py",
   "mimetype": "text/x-python",
   "name": "python",
   "nbconvert_exporter": "python",
   "pygments_lexer": "ipython3",
   "version": "3.9.16"
  },
  "vscode": {
   "interpreter": {
    "hash": "50aa852a78ef4844d3dce0a45110254dc20f9eb89368e7d8efa28a96e2a88a01"
   }
  }
 },
 "nbformat": 4,
 "nbformat_minor": 2
}
