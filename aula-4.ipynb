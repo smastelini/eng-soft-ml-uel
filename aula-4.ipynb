{
 "cells": [
  {
   "attachments": {},
   "cell_type": "markdown",
   "metadata": {},
   "source": [
    "# Aula 4\n",
    "\n",
    "---\n",
    "\n",
    "**Saulo Martiello Mastelini**<br>\n",
    "Candidato a Ph.D. pelo ICMC-USP<br>\n",
    "Online Machine Learning\n",
    "\n",
    "Página pessoal: [smastelini](https://smastelini.github.io/)</br>\n",
    "e-mail: saulomastelini@gmail.com\n",
    "\n",
    "---\n",
    "\n",
    "## Sumário:\n",
    "\n",
    "- Regressão linear\n",
    "- Regressão logística\n",
    "- Support Vector Machines\n",
    "- Regularização\n",
    "- Métricas de avaliação para regressão\n",
    "- Visualização de fronteiras de decisão\n",
    "\n",
    "---"
   ]
  },
  {
   "cell_type": "code",
   "execution_count": 1,
   "metadata": {},
   "outputs": [],
   "source": [
    "import numpy as np\n",
    "import matplotlib.pyplot as plt\n",
    "\n",
    "from sklearn.datasets import make_regression\n",
    "from sklearn import linear_model as lm"
   ]
  },
  {
   "cell_type": "markdown",
   "metadata": {},
   "source": [
    "## 1. Modelos lineares (regressão)"
   ]
  },
  {
   "cell_type": "code",
   "execution_count": 2,
   "metadata": {},
   "outputs": [],
   "source": [
    "x, y = make_regression(\n",
    "    n_samples=200,\n",
    "    n_features=1,\n",
    "    n_informative=1,\n",
    "    noise=10,\n",
    "    random_state=42\n",
    ")"
   ]
  },
  {
   "cell_type": "code",
   "execution_count": 3,
   "metadata": {},
   "outputs": [
    {
     "data": {
      "image/png": "[encoded data removed]",
      "text/plain": [
       "<Figure size 640x480 with 1 Axes>"
      ]
     },
     "metadata": {},
     "output_type": "display_data"
    }
   ],
   "source": [
    "plt.scatter(x=x[:, 0], y=y, s=10)\n",
    "plt.xlabel(\"x\")\n",
    "plt.ylabel(\"y\")\n",
    "plt.show()"
   ]
  },
  {
   "cell_type": "markdown",
   "metadata": {},
   "source": [
    "### 1.1. Voltando para álgebra linear\n",
    "\n",
    "- Equação da reta, em sua forma mais básica:\n",
    "$$y = w_1 x + w_0$$\n",
    "- $Ax = b$\n",
    "    - $n$ linhas e $m$ colunas\n",
    "- Solução (num mundo ideal)\n",
    "    - $x = A^{-1}b$\n",
    "- $A$ deve ser quadrada\n",
    "    - $m = n$\n",
    "- $A$ deve ser inversível\n",
    "- Não pode haver haver correlação entre as colunas em A\n",
    "- # TODO continuar aqui\n",
    "\n",
    "- Regressão simples x múltipla\n",
    "    - Estamos falando de tarefas de regressão aqui\n",
    "\n",
    "- ML cria também modelos lineares\n",
    "    - Em geral, regressão múltipla\n",
    "\n",
    "$$\\hat{y}(w, x) = w_0 + w_1 x_1 + w_2 x_2 + ... + w_n x_n$$\n",
    "\n",
    "- O termo `w_0` é chamado bias, ou também, intercepto (_intercept_).\n",
    "    - O ponto onde a reta resultante cruza o eixo y (eixo das ordenadas)\n",
    "        - x é o eixo das abcissas\n",
    "\n",
    "- _Ordinary Least Squares_: versão básica da regressão\n",
    "    - Minimiza $\\min\\limits_w\\|Xw - y\\|_2^2$\n",
    "- A resolução do sistema linear resultante nos dará os valores de `w` (coeficientes lineares)\n",
    "    - Na vida real, os requisitos necessários para inverter $X$ raramente são atendidos\n",
    "    - Solução aproximada!\n",
    "\n",
    "- Usando o jargão de ML:\n",
    "    - $X = A$\n",
    "    - $y = b$"
   ]
  },
  {
   "cell_type": "code",
   "execution_count": 4,
   "metadata": {},
   "outputs": [
    {
     "data": {
      "text/html": [
       "<style>#sk-container-id-1 {color: black;background-color: white;}#sk-container-id-1 pre{padding: 0;}#sk-container-id-1 div.sk-toggleable {background-color: white;}#sk-container-id-1 label.sk-toggleable__label {cursor: pointer;display: block;width: 100%;margin-bottom: 0;padding: 0.3em;box-sizing: border-box;text-align: center;}#sk-container-id-1 label.sk-toggleable__label-arrow:before {content: \"▸\";float: left;margin-right: 0.25em;color: #696969;}#sk-container-id-1 label.sk-toggleable__label-arrow:hover:before {color: black;}#sk-container-id-1 div.sk-estimator:hover label.sk-toggleable__label-arrow:before {color: black;}#sk-container-id-1 div.sk-toggleable__content {max-height: 0;max-width: 0;overflow: hidden;text-align: left;background-color: #f0f8ff;}#sk-container-id-1 div.sk-toggleable__content pre {margin: 0.2em;color: black;border-radius: 0.25em;background-color: #f0f8ff;}#sk-container-id-1 input.sk-toggleable__control:checked~div.sk-toggleable__content {max-height: 200px;max-width: 100%;overflow: auto;}#sk-container-id-1 input.sk-toggleable__control:checked~label.sk-toggleable__label-arrow:before {content: \"▾\";}#sk-container-id-1 div.sk-estimator input.sk-toggleable__control:checked~label.sk-toggleable__label {background-color: #d4ebff;}#sk-container-id-1 div.sk-label input.sk-toggleable__control:checked~label.sk-toggleable__label {background-color: #d4ebff;}#sk-container-id-1 input.sk-hidden--visually {border: 0;clip: rect(1px 1px 1px 1px);clip: rect(1px, 1px, 1px, 1px);height: 1px;margin: -1px;overflow: hidden;padding: 0;position: absolute;width: 1px;}#sk-container-id-1 div.sk-estimator {font-family: monospace;background-color: #f0f8ff;border: 1px dotted black;border-radius: 0.25em;box-sizing: border-box;margin-bottom: 0.5em;}#sk-container-id-1 div.sk-estimator:hover {background-color: #d4ebff;}#sk-container-id-1 div.sk-parallel-item::after {content: \"\";width: 100%;border-bottom: 1px solid gray;flex-grow: 1;}#sk-container-id-1 div.sk-label:hover label.sk-toggleable__label {background-color: #d4ebff;}#sk-container-id-1 div.sk-serial::before {content: \"\";position: absolute;border-left: 1px solid gray;box-sizing: border-box;top: 0;bottom: 0;left: 50%;z-index: 0;}#sk-container-id-1 div.sk-serial {display: flex;flex-direction: column;align-items: center;background-color: white;padding-right: 0.2em;padding-left: 0.2em;position: relative;}#sk-container-id-1 div.sk-item {position: relative;z-index: 1;}#sk-container-id-1 div.sk-parallel {display: flex;align-items: stretch;justify-content: center;background-color: white;position: relative;}#sk-container-id-1 div.sk-item::before, #sk-container-id-1 div.sk-parallel-item::before {content: \"\";position: absolute;border-left: 1px solid gray;box-sizing: border-box;top: 0;bottom: 0;left: 50%;z-index: -1;}#sk-container-id-1 div.sk-parallel-item {display: flex;flex-direction: column;z-index: 1;position: relative;background-color: white;}#sk-container-id-1 div.sk-parallel-item:first-child::after {align-self: flex-end;width: 50%;}#sk-container-id-1 div.sk-parallel-item:last-child::after {align-self: flex-start;width: 50%;}#sk-container-id-1 div.sk-parallel-item:only-child::after {width: 0;}#sk-container-id-1 div.sk-dashed-wrapped {border: 1px dashed gray;margin: 0 0.4em 0.5em 0.4em;box-sizing: border-box;padding-bottom: 0.4em;background-color: white;}#sk-container-id-1 div.sk-label label {font-family: monospace;font-weight: bold;display: inline-block;line-height: 1.2em;}#sk-container-id-1 div.sk-label-container {text-align: center;}#sk-container-id-1 div.sk-container {/* jupyter's `normalize.less` sets `[hidden] { display: none; }` but bootstrap.min.css set `[hidden] { display: none !important; }` so we also need the `!important` here to be able to override the default hidden behavior on the sphinx rendered scikit-learn.org. See: https://github.com/scikit-learn/scikit-learn/issues/21755 */display: inline-block !important;position: relative;}#sk-container-id-1 div.sk-text-repr-fallback {display: none;}</style><div id=\"sk-container-id-1\" class=\"sk-top-container\"><div class=\"sk-text-repr-fallback\"><pre>LinearRegression()</pre><b>In a Jupyter environment, please rerun this cell to show the HTML representation or trust the notebook. <br />On GitHub, the HTML representation is unable to render, please try loading this page with nbviewer.org.</b></div><div class=\"sk-container\" hidden><div class=\"sk-item\"><div class=\"sk-estimator sk-toggleable\"><input class=\"sk-toggleable__control sk-hidden--visually\" id=\"sk-estimator-id-1\" type=\"checkbox\" checked><label for=\"sk-estimator-id-1\" class=\"sk-toggleable__label sk-toggleable__label-arrow\">LinearRegression</label><div class=\"sk-toggleable__content\"><pre>LinearRegression()</pre></div></div></div></div></div>"
      ],
      "text/plain": [
       "LinearRegression()"
      ]
     },
     "execution_count": 4,
     "metadata": {},
     "output_type": "execute_result"
    }
   ],
   "source": [
    "lr = lm.LinearRegression()\n",
    "lr.fit(x, y)"
   ]
  },
  {
   "cell_type": "code",
   "execution_count": 5,
   "metadata": {},
   "outputs": [
    {
     "data": {
      "image/png": "[encoded data removed]",
      "text/plain": [
       "<Figure size 640x480 with 1 Axes>"
      ]
     },
     "metadata": {},
     "output_type": "display_data"
    }
   ],
   "source": [
    "plt.scatter(x=x[:, 0], y=y, s=10)\n",
    "plt.plot(x[:, 0], lr.predict(x), c=\"red\")\n",
    "plt.xlabel(\"x\")\n",
    "plt.ylabel(\"y\")\n",
    "plt.show()"
   ]
  },
  {
   "cell_type": "code",
   "execution_count": 6,
   "metadata": {},
   "outputs": [
    {
     "data": {
      "text/plain": [
       "(array([87.36641987]), 1.4285139010211894)"
      ]
     },
     "execution_count": 6,
     "metadata": {},
     "output_type": "execute_result"
    }
   ],
   "source": [
    "lr.coef_, lr.intercept_"
   ]
  },
  {
   "cell_type": "markdown",
   "metadata": {},
   "source": [
    "- Estratégias usuais: _Singular Value Decomposition_ (SVD) e _Stochastic Gradient Descent_ (SGD)\n",
    "- O SVD também é utilizado na Análise de Componentes Principais (PCA - _Principal Component Analysis_)\n",
    "    - Que abordaremos na aula de hoje\n",
    "- O SGD é um componente essencial das redes neurais e deep learning!\n",
    "    - Iremos abordá-lo futuramente\n",
    "- Tanto o SVD, quanto o SGD podem ser usado para resolverem sistemas lineares\n",
    "    - Parece pouco?\n",
    "    - Espero mudar sua opinião\n",
    "\n",
    "### 1.2. Singular Value Decomposition\n",
    "\n",
    "- SVD: $A = U \\Sigma V^T$\n",
    "    - Decompõe uma matriz com dimensões quaisquer no produto de três matrizes\n",
    "    - $A$: $m\\times n$\n",
    "    - $U$: $m \\times m$\n",
    "    - $\\Sigma$: $m \\times n$\n",
    "    - $V$: $n \\times n$\n",
    "- $U$ e $V$ são matrizes unitárias:\n",
    "    - $UU^T = I$\n",
    "    - $VV^T = I \\rightarrow$ matriz identidade\n",
    "        - Diagonal com $1$ e o restante $0$\n",
    "- $\\Sigma$ é uma matriz diagonal\n",
    "    - Todos os valores (exceto na diagonal) são zero\n",
    "- Aproximamos $A^{-1}$ utilizando $\\text{SVD}^{-1}$\n",
    "- Propriedade da SVD:\n",
    "    - $(U\\Sigma V^T)^{-1} = V\\Sigma^{-1}U^T = A^+$\n",
    "    \n",
    "- Nós utilizamos $A^+$ como uma aproximação para $A^{-1}$\n",
    "\n",
    "- Aplicando o SVD no nosso problema introdutório:\n",
    "\n"
   ]
  },
  {
   "cell_type": "code",
   "execution_count": 7,
   "metadata": {},
   "outputs": [],
   "source": [
    "# Adicionamos uma coluna com 1's para representar o termo de bias:\n",
    "#    1 x qualquer coisa = qualquer coisa\n",
    "A = np.column_stack([x, np.ones(x.shape[0])])"
   ]
  },
  {
   "cell_type": "code",
   "execution_count": 8,
   "metadata": {},
   "outputs": [],
   "source": [
    "U, S, Vt = np.linalg.svd(A, full_matrices=False)"
   ]
  },
  {
   "cell_type": "code",
   "execution_count": 9,
   "metadata": {},
   "outputs": [
    {
     "data": {
      "text/plain": [
       "((200, 2), (2, 2), (2, 2))"
      ]
     },
     "execution_count": 9,
     "metadata": {},
     "output_type": "execute_result"
    }
   ],
   "source": [
    "U.shape, Vt.shape, np.diag(S).shape"
   ]
  },
  {
   "cell_type": "code",
   "execution_count": 10,
   "metadata": {},
   "outputs": [],
   "source": [
    "w = Vt.T @ np.linalg.inv(np.diag(S)) @ U.T @ y\n"
   ]
  },
  {
   "cell_type": "code",
   "execution_count": 11,
   "metadata": {},
   "outputs": [
    {
     "data": {
      "text/plain": [
       "array([87.36641987,  1.4285139 ])"
      ]
     },
     "execution_count": 11,
     "metadata": {},
     "output_type": "execute_result"
    }
   ],
   "source": [
    "w"
   ]
  },
  {
   "cell_type": "markdown",
   "metadata": {},
   "source": [
    "- Agora sabemos de onde os coeficientes vêm.\n",
    "- Propriedade interessante do SVD:\n",
    "    - Podemos combinar os elementos de $U$ e $V^T$ escalados pela entrada correspondente em $\\Sigma$\n",
    "    - Reconstruir de forma aproximada a matriz original\n",
    "    \n",
    "<figure>\n",
    "      \n",
    "</figure>\n",
    "\n",
    "<figure>\n",
    "  <img src=\"https://sthalles.github.io/assets/svd-for-regression/rank-approximations.png\" width=\"700px\">\n",
    "  <figcaption>Fonte: <a href=\"https://sthalles.github.io/svd-for-regression/\">Understanding Linear Regression using the Singular Value Decomposition\n",
    "</a>\n",
    "  </figcaption>\n",
    "</figure>\n",
    "\n",
    "- Essa é a base da PCA\n",
    "\n",
    "- Podemos utilizar os modelos lineares para resolver problemas mais realísticos.\n"
   ]
  },
  {
   "cell_type": "code",
   "execution_count": 12,
   "metadata": {},
   "outputs": [],
   "source": [
    "X, y = make_regression(\n",
    "    n_samples=200,\n",
    "    n_features=10,\n",
    "    n_informative=8,\n",
    "    random_state=42,\n",
    "    noise=1\n",
    ")"
   ]
  },
  {
   "cell_type": "markdown",
   "metadata": {},
   "source": [
    "## 2. Métricas de desempenho para regressão\n",
    "\n",
    "- Mean Absolute Error (MAE)\n",
    "- Root Mean Square Error (RMSE)\n",
    "- Coeficiente de Determinação (R2)"
   ]
  },
  {
   "cell_type": "code",
   "execution_count": null,
   "metadata": {},
   "outputs": [],
   "source": []
  },
  {
   "cell_type": "markdown",
   "metadata": {},
   "source": [
    "## 3. Regularização\n",
    "\n",
    "### 3.1. Ridge Regression\n",
    "### 3.2. LASSO\n",
    "### 3.3. Elastic Net"
   ]
  },
  {
   "cell_type": "markdown",
   "metadata": {},
   "source": [
    "## 4. Regressão logística"
   ]
  },
  {
   "cell_type": "markdown",
   "metadata": {},
   "source": [
    "## 5. Support Vector Machine (SVM)"
   ]
  },
  {
   "cell_type": "markdown",
   "metadata": {},
   "source": [
    "## 6. Exemplo prático"
   ]
  },
  {
   "cell_type": "code",
   "execution_count": 13,
   "metadata": {},
   "outputs": [],
   "source": [
    "import pandas as pd\n",
    "\n",
    "from sklearn.decomposition import PCA\n",
    "from sklearn import linear_model as lm\n",
    "from sklearn.metrics import mean_squared_error, r2_score\n",
    "from sklearn.model_selection import KFold, cross_val_predict\n",
    "from sklearn.pipeline import make_pipeline\n",
    "from sklearn.preprocessing import StandardScaler\n"
   ]
  },
  {
   "attachments": {},
   "cell_type": "markdown",
   "metadata": {},
   "source": [
    "- Medir o número de octanas em amostras de gasolina ([Fonte dos dados](https://github.com/gustavovelascoh/octane-NIR))\n",
    "- X: frequências medidas com NIR (Espectroscopia de Infravermelho Próximo)\n",
    "- y: número de octanas"
   ]
  },
  {
   "cell_type": "code",
   "execution_count": 14,
   "metadata": {},
   "outputs": [
    {
     "data": {
      "text/html": [
       "<div>\n",
       "<style scoped>\n",
       "    .dataframe tbody tr th:only-of-type {\n",
       "        vertical-align: middle;\n",
       "    }\n",
       "\n",
       "    .dataframe tbody tr th {\n",
       "        vertical-align: top;\n",
       "    }\n",
       "\n",
       "    .dataframe thead th {\n",
       "        text-align: right;\n",
       "    }\n",
       "</style>\n",
       "<table border=\"1\" class=\"dataframe\">\n",
       "  <thead>\n",
       "    <tr style=\"text-align: right;\">\n",
       "      <th></th>\n",
       "      <th>octane</th>\n",
       "      <th>NIR.900 nm</th>\n",
       "      <th>NIR.902 nm</th>\n",
       "      <th>NIR.904 nm</th>\n",
       "      <th>NIR.906 nm</th>\n",
       "      <th>NIR.908 nm</th>\n",
       "      <th>NIR.910 nm</th>\n",
       "      <th>NIR.912 nm</th>\n",
       "      <th>NIR.914 nm</th>\n",
       "      <th>NIR.916 nm</th>\n",
       "      <th>...</th>\n",
       "      <th>NIR.1682 nm</th>\n",
       "      <th>NIR.1684 nm</th>\n",
       "      <th>NIR.1686 nm</th>\n",
       "      <th>NIR.1688 nm</th>\n",
       "      <th>NIR.1690 nm</th>\n",
       "      <th>NIR.1692 nm</th>\n",
       "      <th>NIR.1694 nm</th>\n",
       "      <th>NIR.1696 nm</th>\n",
       "      <th>NIR.1698 nm</th>\n",
       "      <th>NIR.1700 nm</th>\n",
       "    </tr>\n",
       "  </thead>\n",
       "  <tbody>\n",
       "    <tr>\n",
       "      <th>1</th>\n",
       "      <td>85.30</td>\n",
       "      <td>-0.050193</td>\n",
       "      <td>-0.045903</td>\n",
       "      <td>-0.042187</td>\n",
       "      <td>-0.037177</td>\n",
       "      <td>-0.033348</td>\n",
       "      <td>-0.031207</td>\n",
       "      <td>-0.030036</td>\n",
       "      <td>-0.031298</td>\n",
       "      <td>-0.034217</td>\n",
       "      <td>...</td>\n",
       "      <td>1.198461</td>\n",
       "      <td>1.224243</td>\n",
       "      <td>1.242645</td>\n",
       "      <td>1.250789</td>\n",
       "      <td>1.246626</td>\n",
       "      <td>1.250985</td>\n",
       "      <td>1.264189</td>\n",
       "      <td>1.244678</td>\n",
       "      <td>1.245913</td>\n",
       "      <td>1.221135</td>\n",
       "    </tr>\n",
       "    <tr>\n",
       "      <th>2</th>\n",
       "      <td>85.25</td>\n",
       "      <td>-0.044227</td>\n",
       "      <td>-0.039602</td>\n",
       "      <td>-0.035673</td>\n",
       "      <td>-0.030911</td>\n",
       "      <td>-0.026675</td>\n",
       "      <td>-0.023871</td>\n",
       "      <td>-0.022571</td>\n",
       "      <td>-0.025410</td>\n",
       "      <td>-0.028960</td>\n",
       "      <td>...</td>\n",
       "      <td>1.128877</td>\n",
       "      <td>1.148342</td>\n",
       "      <td>1.189116</td>\n",
       "      <td>1.223242</td>\n",
       "      <td>1.253306</td>\n",
       "      <td>1.282889</td>\n",
       "      <td>1.215065</td>\n",
       "      <td>1.225211</td>\n",
       "      <td>1.227985</td>\n",
       "      <td>1.198851</td>\n",
       "    </tr>\n",
       "    <tr>\n",
       "      <th>3</th>\n",
       "      <td>88.45</td>\n",
       "      <td>-0.046867</td>\n",
       "      <td>-0.041260</td>\n",
       "      <td>-0.036979</td>\n",
       "      <td>-0.031458</td>\n",
       "      <td>-0.026520</td>\n",
       "      <td>-0.023346</td>\n",
       "      <td>-0.021392</td>\n",
       "      <td>-0.024993</td>\n",
       "      <td>-0.029309</td>\n",
       "      <td>...</td>\n",
       "      <td>1.147964</td>\n",
       "      <td>1.167798</td>\n",
       "      <td>1.198287</td>\n",
       "      <td>1.237383</td>\n",
       "      <td>1.260979</td>\n",
       "      <td>1.276677</td>\n",
       "      <td>1.218871</td>\n",
       "      <td>1.223132</td>\n",
       "      <td>1.230321</td>\n",
       "      <td>1.208742</td>\n",
       "    </tr>\n",
       "    <tr>\n",
       "      <th>4</th>\n",
       "      <td>83.40</td>\n",
       "      <td>-0.046705</td>\n",
       "      <td>-0.042240</td>\n",
       "      <td>-0.038561</td>\n",
       "      <td>-0.034513</td>\n",
       "      <td>-0.030206</td>\n",
       "      <td>-0.027680</td>\n",
       "      <td>-0.026042</td>\n",
       "      <td>-0.028280</td>\n",
       "      <td>-0.030920</td>\n",
       "      <td>...</td>\n",
       "      <td>1.160089</td>\n",
       "      <td>1.169350</td>\n",
       "      <td>1.201066</td>\n",
       "      <td>1.233299</td>\n",
       "      <td>1.262966</td>\n",
       "      <td>1.272709</td>\n",
       "      <td>1.211068</td>\n",
       "      <td>1.215044</td>\n",
       "      <td>1.232655</td>\n",
       "      <td>1.206696</td>\n",
       "    </tr>\n",
       "    <tr>\n",
       "      <th>5</th>\n",
       "      <td>87.90</td>\n",
       "      <td>-0.050859</td>\n",
       "      <td>-0.045145</td>\n",
       "      <td>-0.041025</td>\n",
       "      <td>-0.036357</td>\n",
       "      <td>-0.032747</td>\n",
       "      <td>-0.031498</td>\n",
       "      <td>-0.031415</td>\n",
       "      <td>-0.034611</td>\n",
       "      <td>-0.037781</td>\n",
       "      <td>...</td>\n",
       "      <td>1.252712</td>\n",
       "      <td>1.238013</td>\n",
       "      <td>1.259616</td>\n",
       "      <td>1.273713</td>\n",
       "      <td>1.296524</td>\n",
       "      <td>1.299507</td>\n",
       "      <td>1.226448</td>\n",
       "      <td>1.230718</td>\n",
       "      <td>1.232864</td>\n",
       "      <td>1.202926</td>\n",
       "    </tr>\n",
       "  </tbody>\n",
       "</table>\n",
       "<p>5 rows × 402 columns</p>\n",
       "</div>"
      ],
      "text/plain": [
       "   octane  NIR.900 nm  NIR.902 nm  NIR.904 nm  NIR.906 nm  NIR.908 nm  \\\n",
       "1   85.30   -0.050193   -0.045903   -0.042187   -0.037177   -0.033348   \n",
       "2   85.25   -0.044227   -0.039602   -0.035673   -0.030911   -0.026675   \n",
       "3   88.45   -0.046867   -0.041260   -0.036979   -0.031458   -0.026520   \n",
       "4   83.40   -0.046705   -0.042240   -0.038561   -0.034513   -0.030206   \n",
       "5   87.90   -0.050859   -0.045145   -0.041025   -0.036357   -0.032747   \n",
       "\n",
       "   NIR.910 nm  NIR.912 nm  NIR.914 nm  NIR.916 nm  ...  NIR.1682 nm  \\\n",
       "1   -0.031207   -0.030036   -0.031298   -0.034217  ...     1.198461   \n",
       "2   -0.023871   -0.022571   -0.025410   -0.028960  ...     1.128877   \n",
       "3   -0.023346   -0.021392   -0.024993   -0.029309  ...     1.147964   \n",
       "4   -0.027680   -0.026042   -0.028280   -0.030920  ...     1.160089   \n",
       "5   -0.031498   -0.031415   -0.034611   -0.037781  ...     1.252712   \n",
       "\n",
       "   NIR.1684 nm  NIR.1686 nm  NIR.1688 nm  NIR.1690 nm  NIR.1692 nm  \\\n",
       "1     1.224243     1.242645     1.250789     1.246626     1.250985   \n",
       "2     1.148342     1.189116     1.223242     1.253306     1.282889   \n",
       "3     1.167798     1.198287     1.237383     1.260979     1.276677   \n",
       "4     1.169350     1.201066     1.233299     1.262966     1.272709   \n",
       "5     1.238013     1.259616     1.273713     1.296524     1.299507   \n",
       "\n",
       "   NIR.1694 nm  NIR.1696 nm  NIR.1698 nm  NIR.1700 nm  \n",
       "1     1.264189     1.244678     1.245913     1.221135  \n",
       "2     1.215065     1.225211     1.227985     1.198851  \n",
       "3     1.218871     1.223132     1.230321     1.208742  \n",
       "4     1.211068     1.215044     1.232655     1.206696  \n",
       "5     1.226448     1.230718     1.232864     1.202926  \n",
       "\n",
       "[5 rows x 402 columns]"
      ]
     },
     "execution_count": 14,
     "metadata": {},
     "output_type": "execute_result"
    }
   ],
   "source": [
    "df = pd.read_csv(\"data/a4/gasoline.csv\")\n",
    "df.head()"
   ]
  },
  {
   "cell_type": "code",
   "execution_count": 15,
   "metadata": {},
   "outputs": [
    {
     "data": {
      "text/plain": [
       "(60, 402)"
      ]
     },
     "execution_count": 15,
     "metadata": {},
     "output_type": "execute_result"
    }
   ],
   "source": [
    "df.shape"
   ]
  },
  {
   "attachments": {},
   "cell_type": "markdown",
   "metadata": {},
   "source": [
    "Muito mais colunas do que linhas.\n",
    "\n",
    "- Precisaremos lidar com isso!"
   ]
  },
  {
   "cell_type": "code",
   "execution_count": 16,
   "metadata": {},
   "outputs": [],
   "source": [
    "X = df.drop(\"octane\", axis=1)\n",
    "y = df[\"octane\"]\n",
    "\n",
    "cv = KFold(n_splits=10, shuffle=True, random_state=42)"
   ]
  },
  {
   "cell_type": "code",
   "execution_count": 17,
   "metadata": {},
   "outputs": [],
   "source": [
    "y_pred = cross_val_predict(\n",
    "    estimator=make_pipeline(StandardScaler(), lm.LinearRegression()),\n",
    "    X=X,\n",
    "    y=y,\n",
    "    cv=cv,\n",
    ")"
   ]
  },
  {
   "cell_type": "code",
   "execution_count": 18,
   "metadata": {},
   "outputs": [
    {
     "data": {
      "text/plain": [
       "0.25682016255492585"
      ]
     },
     "execution_count": 18,
     "metadata": {},
     "output_type": "execute_result"
    }
   ],
   "source": [
    "mean_squared_error(y, y_pred, squared=False)"
   ]
  },
  {
   "cell_type": "code",
   "execution_count": 19,
   "metadata": {},
   "outputs": [
    {
     "data": {
      "text/plain": [
       "0.9713496117892535"
      ]
     },
     "execution_count": 19,
     "metadata": {},
     "output_type": "execute_result"
    }
   ],
   "source": [
    "r2_score(y, y_pred)"
   ]
  },
  {
   "cell_type": "code",
   "execution_count": 20,
   "metadata": {},
   "outputs": [],
   "source": [
    "y_pred_lasso = cross_val_predict(\n",
    "    estimator=make_pipeline(StandardScaler(), lm.Lasso(alpha=0.01, max_iter=5000)),\n",
    "    X=X,\n",
    "    y=y,\n",
    "    cv=cv,\n",
    ")"
   ]
  },
  {
   "cell_type": "code",
   "execution_count": 21,
   "metadata": {},
   "outputs": [
    {
     "data": {
      "text/plain": [
       "0.2342962821528559"
      ]
     },
     "execution_count": 21,
     "metadata": {},
     "output_type": "execute_result"
    }
   ],
   "source": [
    "mean_squared_error(y, y_pred_lasso, squared=False)"
   ]
  },
  {
   "cell_type": "code",
   "execution_count": 22,
   "metadata": {},
   "outputs": [
    {
     "data": {
      "text/plain": [
       "0.9761546845354304"
      ]
     },
     "execution_count": 22,
     "metadata": {},
     "output_type": "execute_result"
    }
   ],
   "source": [
    "r2_score(y, y_pred_lasso)"
   ]
  },
  {
   "cell_type": "code",
   "execution_count": 23,
   "metadata": {},
   "outputs": [],
   "source": [
    "y_pred_ridge = cross_val_predict(\n",
    "    estimator=make_pipeline(StandardScaler(), lm.Ridge()),\n",
    "    X=X,\n",
    "    y=y,\n",
    "    cv=cv,\n",
    ")"
   ]
  },
  {
   "cell_type": "code",
   "execution_count": 24,
   "metadata": {},
   "outputs": [
    {
     "data": {
      "text/plain": [
       "0.22697726146959837"
      ]
     },
     "execution_count": 24,
     "metadata": {},
     "output_type": "execute_result"
    }
   ],
   "source": [
    "mean_squared_error(y, y_pred_ridge, squared=False)"
   ]
  },
  {
   "cell_type": "code",
   "execution_count": 25,
   "metadata": {},
   "outputs": [
    {
     "data": {
      "text/plain": [
       "0.9776211903820172"
      ]
     },
     "execution_count": 25,
     "metadata": {},
     "output_type": "execute_result"
    }
   ],
   "source": [
    "r2_score(y, y_pred_ridge)"
   ]
  },
  {
   "cell_type": "code",
   "execution_count": 26,
   "metadata": {},
   "outputs": [],
   "source": [
    "y_pred_pca = cross_val_predict(\n",
    "    estimator=make_pipeline(PCA(n_components=4), StandardScaler(), lm.LinearRegression()),\n",
    "    X=X,\n",
    "    y=y,\n",
    "    cv=cv,\n",
    ")"
   ]
  },
  {
   "cell_type": "code",
   "execution_count": 27,
   "metadata": {},
   "outputs": [
    {
     "data": {
      "text/plain": [
       "0.25613861323210335"
      ]
     },
     "execution_count": 27,
     "metadata": {},
     "output_type": "execute_result"
    }
   ],
   "source": [
    "mean_squared_error(y, y_pred_pca, squared=False)"
   ]
  },
  {
   "cell_type": "code",
   "execution_count": 28,
   "metadata": {},
   "outputs": [
    {
     "data": {
      "text/plain": [
       "0.9715014748094706"
      ]
     },
     "execution_count": 28,
     "metadata": {},
     "output_type": "execute_result"
    }
   ],
   "source": [
    "r2_score(y, y_pred_pca)"
   ]
  }
 ],
 "metadata": {
  "kernelspec": {
   "display_name": "Python 3 (ipykernel)",
   "language": "python",
   "name": "python3"
  },
  "language_info": {
   "codemirror_mode": {
    "name": "ipython",
    "version": 3
   },
   "file_extension": ".py",
   "mimetype": "text/x-python",
   "name": "python",
   "nbconvert_exporter": "python",
   "pygments_lexer": "ipython3",
   "version": "3.9.16"
  }
 },
 "nbformat": 4,
 "nbformat_minor": 2
}
