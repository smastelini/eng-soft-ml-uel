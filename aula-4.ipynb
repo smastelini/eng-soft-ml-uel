{
 "cells": [
  {
   "attachments": {},
   "cell_type": "markdown",
   "metadata": {},
   "source": [
    "# Aula 4\n",
    "\n",
    "---\n",
    "\n",
    "**Saulo Martiello Mastelini**<br>\n",
    "Candidato a Ph.D. pelo ICMC-USP<br>\n",
    "Online Machine Learning\n",
    "\n",
    "Página pessoal: [smastelini](https://smastelini.github.io/)</br>\n",
    "e-mail: saulomastelini@gmail.com\n",
    "\n",
    "---\n",
    "\n",
    "## Sumário:\n",
    "\n",
    "- Regressão linear\n",
    "- Regressão logística\n",
    "- Support Vector Machines\n",
    "- Regularização\n",
    "- Métricas de avaliação para regressão\n",
    "- Visualização de fronteiras de decisão\n",
    "\n",
    "---"
   ]
  },
  {
   "cell_type": "code",
   "execution_count": 2,
   "metadata": {},
   "outputs": [],
   "source": [
    "import numpy as np\n",
    "import pandas as pd\n",
    "import matplotlib.pyplot as plt\n",
    "\n",
    "from sklearn.datasets import make_regression\n",
    "from sklearn import linear_model as lm"
   ]
  },
  {
   "cell_type": "markdown",
   "metadata": {},
   "source": [
    "## 1. Modelos lineares (regressão)"
   ]
  },
  {
   "cell_type": "code",
   "execution_count": 3,
   "metadata": {},
   "outputs": [],
   "source": [
    "x, y = make_regression(\n",
    "    n_samples=200,\n",
    "    n_features=1,\n",
    "    n_informative=1,\n",
    "    noise=10,\n",
    "    random_state=42\n",
    ")"
   ]
  },
  {
   "cell_type": "code",
   "execution_count": 4,
   "metadata": {},
   "outputs": [
    {
     "data": {
      "image/png": "[encoded data removed]",
      "text/plain": [
       "<Figure size 640x480 with 1 Axes>"
      ]
     },
     "metadata": {},
     "output_type": "display_data"
    }
   ],
   "source": [
    "plt.scatter(x=x[:, 0], y=y, s=10)\n",
    "plt.xlabel(\"x\")\n",
    "plt.ylabel(\"y\")\n",
    "plt.show()"
   ]
  },
  {
   "attachments": {},
   "cell_type": "markdown",
   "metadata": {},
   "source": [
    "### 1.1. Voltando para álgebra linear\n",
    "\n",
    "- Equação da reta, em sua forma mais básica:\n",
    "$$y = w_1 x + w_0$$\n",
    "- $Ax = b$\n",
    "    - $n$ linhas e $m$ colunas\n",
    "- Solução (num mundo ideal)\n",
    "    - $x = A^{-1}b$\n",
    "- $A$ deve ser quadrada\n",
    "    - $m = n$\n",
    "- $A$ deve ser inversível\n",
    "- Não pode haver haver correlação entre as colunas em A\n",
    "- E assim por diante...\n",
    "- Se esses requerimentos não acontecem, não é possível encontrar uma solução exata\n",
    "- Regressão simples x múltipla\n",
    "    - Estamos falando de tarefas de regressão aqui\n",
    "\n",
    "- ML cria também modelos lineares\n",
    "    - Em geral, regressão múltipla\n",
    "\n",
    "$$\\hat{y}(w, x) = w_0 + w_1 x_1 + w_2 x_2 + ... + w_n x_n$$\n",
    "\n",
    "- O termo `w_0` é chamado bias, ou também, intercepto (_intercept_).\n",
    "    - O ponto onde a reta resultante cruza o eixo y (eixo das ordenadas)\n",
    "        - x é o eixo das abcissas\n",
    "\n",
    "- _Ordinary Least Squares_: versão básica da regressão\n",
    "    - Minimiza $\\min\\limits_w\\|Xw - y\\|_2^2$\n",
    "\n",
    "- A resolução do sistema linear resultante nos dará os valores de `w` (coeficientes lineares)\n",
    "    - Na vida real, os requisitos necessários para inverter $X$ raramente são atendidos\n",
    "    - Solução aproximada!\n",
    "\n",
    "- Usando o jargão de ML:\n",
    "    - $X = A$\n",
    "    - $y = b$"
   ]
  },
  {
   "cell_type": "code",
   "execution_count": 5,
   "metadata": {},
   "outputs": [
    {
     "data": {
      "text/html": [
       "<style>#sk-container-id-1 {color: black;background-color: white;}#sk-container-id-1 pre{padding: 0;}#sk-container-id-1 div.sk-toggleable {background-color: white;}#sk-container-id-1 label.sk-toggleable__label {cursor: pointer;display: block;width: 100%;margin-bottom: 0;padding: 0.3em;box-sizing: border-box;text-align: center;}#sk-container-id-1 label.sk-toggleable__label-arrow:before {content: \"▸\";float: left;margin-right: 0.25em;color: #696969;}#sk-container-id-1 label.sk-toggleable__label-arrow:hover:before {color: black;}#sk-container-id-1 div.sk-estimator:hover label.sk-toggleable__label-arrow:before {color: black;}#sk-container-id-1 div.sk-toggleable__content {max-height: 0;max-width: 0;overflow: hidden;text-align: left;background-color: #f0f8ff;}#sk-container-id-1 div.sk-toggleable__content pre {margin: 0.2em;color: black;border-radius: 0.25em;background-color: #f0f8ff;}#sk-container-id-1 input.sk-toggleable__control:checked~div.sk-toggleable__content {max-height: 200px;max-width: 100%;overflow: auto;}#sk-container-id-1 input.sk-toggleable__control:checked~label.sk-toggleable__label-arrow:before {content: \"▾\";}#sk-container-id-1 div.sk-estimator input.sk-toggleable__control:checked~label.sk-toggleable__label {background-color: #d4ebff;}#sk-container-id-1 div.sk-label input.sk-toggleable__control:checked~label.sk-toggleable__label {background-color: #d4ebff;}#sk-container-id-1 input.sk-hidden--visually {border: 0;clip: rect(1px 1px 1px 1px);clip: rect(1px, 1px, 1px, 1px);height: 1px;margin: -1px;overflow: hidden;padding: 0;position: absolute;width: 1px;}#sk-container-id-1 div.sk-estimator {font-family: monospace;background-color: #f0f8ff;border: 1px dotted black;border-radius: 0.25em;box-sizing: border-box;margin-bottom: 0.5em;}#sk-container-id-1 div.sk-estimator:hover {background-color: #d4ebff;}#sk-container-id-1 div.sk-parallel-item::after {content: \"\";width: 100%;border-bottom: 1px solid gray;flex-grow: 1;}#sk-container-id-1 div.sk-label:hover label.sk-toggleable__label {background-color: #d4ebff;}#sk-container-id-1 div.sk-serial::before {content: \"\";position: absolute;border-left: 1px solid gray;box-sizing: border-box;top: 0;bottom: 0;left: 50%;z-index: 0;}#sk-container-id-1 div.sk-serial {display: flex;flex-direction: column;align-items: center;background-color: white;padding-right: 0.2em;padding-left: 0.2em;position: relative;}#sk-container-id-1 div.sk-item {position: relative;z-index: 1;}#sk-container-id-1 div.sk-parallel {display: flex;align-items: stretch;justify-content: center;background-color: white;position: relative;}#sk-container-id-1 div.sk-item::before, #sk-container-id-1 div.sk-parallel-item::before {content: \"\";position: absolute;border-left: 1px solid gray;box-sizing: border-box;top: 0;bottom: 0;left: 50%;z-index: -1;}#sk-container-id-1 div.sk-parallel-item {display: flex;flex-direction: column;z-index: 1;position: relative;background-color: white;}#sk-container-id-1 div.sk-parallel-item:first-child::after {align-self: flex-end;width: 50%;}#sk-container-id-1 div.sk-parallel-item:last-child::after {align-self: flex-start;width: 50%;}#sk-container-id-1 div.sk-parallel-item:only-child::after {width: 0;}#sk-container-id-1 div.sk-dashed-wrapped {border: 1px dashed gray;margin: 0 0.4em 0.5em 0.4em;box-sizing: border-box;padding-bottom: 0.4em;background-color: white;}#sk-container-id-1 div.sk-label label {font-family: monospace;font-weight: bold;display: inline-block;line-height: 1.2em;}#sk-container-id-1 div.sk-label-container {text-align: center;}#sk-container-id-1 div.sk-container {/* jupyter's `normalize.less` sets `[hidden] { display: none; }` but bootstrap.min.css set `[hidden] { display: none !important; }` so we also need the `!important` here to be able to override the default hidden behavior on the sphinx rendered scikit-learn.org. See: https://github.com/scikit-learn/scikit-learn/issues/21755 */display: inline-block !important;position: relative;}#sk-container-id-1 div.sk-text-repr-fallback {display: none;}</style><div id=\"sk-container-id-1\" class=\"sk-top-container\"><div class=\"sk-text-repr-fallback\"><pre>LinearRegression()</pre><b>In a Jupyter environment, please rerun this cell to show the HTML representation or trust the notebook. <br />On GitHub, the HTML representation is unable to render, please try loading this page with nbviewer.org.</b></div><div class=\"sk-container\" hidden><div class=\"sk-item\"><div class=\"sk-estimator sk-toggleable\"><input class=\"sk-toggleable__control sk-hidden--visually\" id=\"sk-estimator-id-1\" type=\"checkbox\" checked><label for=\"sk-estimator-id-1\" class=\"sk-toggleable__label sk-toggleable__label-arrow\">LinearRegression</label><div class=\"sk-toggleable__content\"><pre>LinearRegression()</pre></div></div></div></div></div>"
      ],
      "text/plain": [
       "LinearRegression()"
      ]
     },
     "execution_count": 5,
     "metadata": {},
     "output_type": "execute_result"
    }
   ],
   "source": [
    "lr = lm.LinearRegression()\n",
    "lr.fit(x, y)"
   ]
  },
  {
   "cell_type": "code",
   "execution_count": 6,
   "metadata": {},
   "outputs": [
    {
     "data": {
      "image/png": "[encoded data removed]",
      "text/plain": [
       "<Figure size 640x480 with 1 Axes>"
      ]
     },
     "metadata": {},
     "output_type": "display_data"
    }
   ],
   "source": [
    "plt.scatter(x=x[:, 0], y=y, s=10)\n",
    "plt.plot(x[:, 0], lr.predict(x), c=\"red\")\n",
    "plt.xlabel(\"x\")\n",
    "plt.ylabel(\"y\")\n",
    "plt.show()"
   ]
  },
  {
   "cell_type": "code",
   "execution_count": 7,
   "metadata": {},
   "outputs": [
    {
     "data": {
      "text/plain": [
       "(array([87.36641987]), 1.4285139010211898)"
      ]
     },
     "execution_count": 7,
     "metadata": {},
     "output_type": "execute_result"
    }
   ],
   "source": [
    "lr.coef_, lr.intercept_"
   ]
  },
  {
   "cell_type": "markdown",
   "metadata": {},
   "source": [
    "- Estratégias usuais: _Singular Value Decomposition_ (SVD) e _Stochastic Gradient Descent_ (SGD)\n",
    "- O SVD também é utilizado na Análise de Componentes Principais (PCA - _Principal Component Analysis_)\n",
    "    - Que abordaremos na aula de hoje\n",
    "- O SGD é um componente essencial das redes neurais e deep learning!\n",
    "    - Iremos abordá-lo futuramente\n",
    "- Tanto o SVD, quanto o SGD podem ser usado para resolverem sistemas lineares\n",
    "    - Parece pouco?\n",
    "    - Espero mudar sua opinião\n",
    "\n",
    "### 1.2. Singular Value Decomposition\n",
    "\n",
    "- SVD: $A = U \\Sigma V^T$\n",
    "    - Decompõe uma matriz com dimensões quaisquer no produto de três matrizes\n",
    "    - $A$: $m\\times n$\n",
    "    - $U$: $m \\times m$\n",
    "    - $\\Sigma$: $m \\times n$\n",
    "    - $V$: $n \\times n$\n",
    "- $U$ e $V$ são matrizes unitárias:\n",
    "    - $UU^T = I$\n",
    "    - $VV^T = I \\rightarrow$ matriz identidade\n",
    "        - Diagonal com $1$ e o restante $0$\n",
    "- $\\Sigma$ é uma matriz diagonal\n",
    "    - Todos os valores (exceto na diagonal) são zero\n",
    "- Aproximamos $A^{-1}$ utilizando $\\text{SVD}^{-1}$\n",
    "- Propriedade da SVD:\n",
    "    - $(U\\Sigma V^T)^{-1} = V\\Sigma^{-1}U^T = A^+$\n",
    "    \n",
    "- Nós utilizamos $A^+$ como uma aproximação para $A^{-1}$\n",
    "\n",
    "- Aplicando o SVD no nosso problema introdutório:\n",
    "\n"
   ]
  },
  {
   "cell_type": "code",
   "execution_count": 8,
   "metadata": {},
   "outputs": [],
   "source": [
    "# Adicionamos uma coluna com 1's para representar o termo de bias:\n",
    "#    1 x qualquer coisa = qualquer coisa\n",
    "A = np.column_stack([x, np.ones(x.shape[0])])"
   ]
  },
  {
   "cell_type": "code",
   "execution_count": 9,
   "metadata": {},
   "outputs": [],
   "source": [
    "U, S, Vt = np.linalg.svd(A, full_matrices=False)"
   ]
  },
  {
   "cell_type": "code",
   "execution_count": 10,
   "metadata": {},
   "outputs": [
    {
     "data": {
      "text/plain": [
       "((200, 2), (2, 2), (2, 2))"
      ]
     },
     "execution_count": 10,
     "metadata": {},
     "output_type": "execute_result"
    }
   ],
   "source": [
    "U.shape, Vt.shape, np.diag(S).shape"
   ]
  },
  {
   "cell_type": "code",
   "execution_count": 11,
   "metadata": {},
   "outputs": [],
   "source": [
    "w = Vt.T @ np.linalg.inv(np.diag(S)) @ U.T @ y\n"
   ]
  },
  {
   "cell_type": "code",
   "execution_count": 12,
   "metadata": {},
   "outputs": [
    {
     "data": {
      "text/plain": [
       "array([87.36641987,  1.4285139 ])"
      ]
     },
     "execution_count": 12,
     "metadata": {},
     "output_type": "execute_result"
    }
   ],
   "source": [
    "w"
   ]
  },
  {
   "cell_type": "markdown",
   "metadata": {},
   "source": [
    "- Agora sabemos de onde os coeficientes vêm.\n",
    "- Propriedade interessante do SVD:\n",
    "    - Podemos combinar os elementos de $U$ e $V^T$ escalados pela entrada correspondente em $\\Sigma$\n",
    "    - Reconstruir de forma aproximada a matriz original\n",
    "    \n",
    "<figure>\n",
    "      \n",
    "</figure>\n",
    "\n",
    "<figure>\n",
    "  <img src=\"https://sthalles.github.io/assets/svd-for-regression/rank-approximations.png\" width=\"700px\">\n",
    "  <figcaption>Fonte: <a href=\"https://sthalles.github.io/svd-for-regression/\">Understanding Linear Regression using the Singular Value Decomposition\n",
    "</a>\n",
    "  </figcaption>\n",
    "</figure>\n",
    "\n",
    "- Essa é a base da PCA\n",
    "\n",
    "- Podemos utilizar os modelos lineares para resolver problemas mais realísticos.\n"
   ]
  },
  {
   "cell_type": "code",
   "execution_count": 13,
   "metadata": {},
   "outputs": [],
   "source": [
    "X, y = make_regression(\n",
    "    n_samples=200,\n",
    "    n_features=10,\n",
    "    n_informative=8,\n",
    "    random_state=42,\n",
    "    noise=1\n",
    ")"
   ]
  },
  {
   "attachments": {},
   "cell_type": "markdown",
   "metadata": {},
   "source": [
    "## 2. Métricas de desempenho para regressão\n",
    "\n",
    "- Mean Absolute Error (MAE)\n",
    "\n",
    "$$MAE(y, \\hat{y}) = \\frac{1}{N}\\sum_{i=0}^N |y_i - \\hat{y}_i|$$\n",
    "\n",
    "- Root Mean Square Error (RMSE)\n",
    "\n",
    "$$RMSE(y, \\hat{y}) = \\frac{1}{N}\\sqrt{\\sum_{i=0}^N (y_i - \\hat{y}_i)^2}$$\n",
    "\n",
    "- Coeficiente de Determinação (R2)\n",
    "    - Indica quão bom está o seu modelo\n",
    "    - Intervalo $(-\\infty, 1]$ (1 é o melhor valor possível)\n",
    "    - Deve ser utilizado em conjunto com métricas de erro"
   ]
  },
  {
   "cell_type": "code",
   "execution_count": 14,
   "metadata": {},
   "outputs": [],
   "source": [
    "from sklearn.metrics import mean_absolute_error, mean_squared_error, r2_score"
   ]
  },
  {
   "attachments": {},
   "cell_type": "markdown",
   "metadata": {},
   "source": [
    "## 3. Regularização\n",
    "\n",
    "- Alteração da função de otimização para fazer os pesos seguirem um certo comportamento.\n",
    "- Forma de evitar _overfitting_ e garantir que os modelos lineares assumam um certo comportamento.\n",
    "\n",
    "### 3.1. LASSO\n",
    "\n",
    "- _Least Absolute Shrinkage and Selection Operator_\n",
    "- Regularização `l1`.\n",
    "- Adiciona a magnitude absoluta dos pesos à função de otimização.\n",
    "- Força alguns pesos a se tornarem iguais a zero.\n",
    "    - Seleção de atributos :D\n",
    "\n",
    "### 3.2. Ridge Regression\n",
    "\n",
    "- Regularização `l2`\n",
    "- Adiciona a magnitude quadrática dos pesos à função de otimização\n",
    "\n",
    "### 3.3. Elastic Net\n",
    "\n",
    "- Combinação ponderada da regularização `l1` e `l2`\n"
   ]
  },
  {
   "attachments": {},
   "cell_type": "markdown",
   "metadata": {},
   "source": [
    "## 4. Regressão logística\n",
    "\n",
    "- Apesar do nome, é um algoritmo de classificação\n",
    "- Tipicamente classificação binária\n",
    "    - Multiclasse: one vs. rest\n",
    "        - Criar vários modelos binários\n",
    "- Usa a função _logit_ ou função sigmoide\n",
    "    - Varia entre 0 e 1\n",
    "    \n",
    "$$sigmoid(\\tilde{x}) = \\dfrac{1}{1 + e^{-\\tilde{x}}}$$\n",
    "\n",
    "<img src=\"img/a4/logistic-reg.webp\" width=\"400\">\n",
    "    <figcaption>Exemplo 1: regressão logística. Fonte: James Thorn, via <a href=\"https://towardsdatascience.com/logistic-regression-explained-9ee73cede081\">Towards Data Science</a></figcaption>\n",
    "</img>\n",
    "\n",
    "- $\\tilde{x}$ é a combinação linear dos atributos do problema\n",
    "- Estratégias de otimização normalmente utilizadas:\n",
    "    - Gradiente descendente\n",
    "    - _Maximum likelihood_ (máxima verossimilhança)\n",
    "        - Estratégia para encontrar os parâmetros de um modelo probabilístico\n",
    "    \n",
    "<img src=\"img/a4/logistic-fitted.webp\" width=\"400\">\n",
    "    <figcaption>Exemplo 2: logistic regression. Fonte: James Thorn, via <a href=\"https://towardsdatascience.com/logistic-regression-explained-9ee73cede081\">Towards Data Science</a></figcaption>\n",
    "</img>"
   ]
  },
  {
   "cell_type": "code",
   "execution_count": 15,
   "metadata": {},
   "outputs": [],
   "source": [
    "# TODO example"
   ]
  },
  {
   "attachments": {},
   "cell_type": "markdown",
   "metadata": {},
   "source": [
    "## 5. Support Vector Machine (SVM)\n",
    "\n",
    "- Modelo linear, por definição\n",
    "- Modela relações não-lineares através da aplicação de funções kernel\n",
    "    - Transformam os dados em dimensões para proporcionar a resolução"
   ]
  },
  {
   "cell_type": "code",
   "execution_count": 51,
   "metadata": {},
   "outputs": [],
   "source": [
    "from sklearn.datasets import load_digits\n",
    "from sklearn.model_selection import cross_validate, KFold\n",
    "from sklearn.svm import SVC"
   ]
  },
  {
   "cell_type": "code",
   "execution_count": 39,
   "metadata": {},
   "outputs": [],
   "source": [
    "X, y = load_digits(return_X_y=True, as_frame=True)"
   ]
  },
  {
   "cell_type": "code",
   "execution_count": 54,
   "metadata": {},
   "outputs": [
    {
     "data": {
      "text/html": [
       "<div>\n",
       "<style scoped>\n",
       "    .dataframe tbody tr th:only-of-type {\n",
       "        vertical-align: middle;\n",
       "    }\n",
       "\n",
       "    .dataframe tbody tr th {\n",
       "        vertical-align: top;\n",
       "    }\n",
       "\n",
       "    .dataframe thead th {\n",
       "        text-align: right;\n",
       "    }\n",
       "</style>\n",
       "<table border=\"1\" class=\"dataframe\">\n",
       "  <thead>\n",
       "    <tr style=\"text-align: right;\">\n",
       "      <th></th>\n",
       "      <th>fit_time</th>\n",
       "      <th>score_time</th>\n",
       "      <th>test_accuracy</th>\n",
       "      <th>test_f1_macro</th>\n",
       "    </tr>\n",
       "  </thead>\n",
       "  <tbody>\n",
       "    <tr>\n",
       "      <th>0</th>\n",
       "      <td>0.033979</td>\n",
       "      <td>0.005714</td>\n",
       "      <td>0.977778</td>\n",
       "      <td>0.978322</td>\n",
       "    </tr>\n",
       "    <tr>\n",
       "      <th>1</th>\n",
       "      <td>0.031059</td>\n",
       "      <td>0.005279</td>\n",
       "      <td>0.977778</td>\n",
       "      <td>0.978284</td>\n",
       "    </tr>\n",
       "    <tr>\n",
       "      <th>2</th>\n",
       "      <td>0.031511</td>\n",
       "      <td>0.005273</td>\n",
       "      <td>1.000000</td>\n",
       "      <td>1.000000</td>\n",
       "    </tr>\n",
       "    <tr>\n",
       "      <th>3</th>\n",
       "      <td>0.032194</td>\n",
       "      <td>0.005387</td>\n",
       "      <td>0.988889</td>\n",
       "      <td>0.989198</td>\n",
       "    </tr>\n",
       "    <tr>\n",
       "      <th>4</th>\n",
       "      <td>0.030826</td>\n",
       "      <td>0.005255</td>\n",
       "      <td>0.994444</td>\n",
       "      <td>0.994039</td>\n",
       "    </tr>\n",
       "    <tr>\n",
       "      <th>5</th>\n",
       "      <td>0.030745</td>\n",
       "      <td>0.005351</td>\n",
       "      <td>0.972222</td>\n",
       "      <td>0.969989</td>\n",
       "    </tr>\n",
       "    <tr>\n",
       "      <th>6</th>\n",
       "      <td>0.030233</td>\n",
       "      <td>0.005292</td>\n",
       "      <td>0.988889</td>\n",
       "      <td>0.989144</td>\n",
       "    </tr>\n",
       "    <tr>\n",
       "      <th>7</th>\n",
       "      <td>0.030819</td>\n",
       "      <td>0.005227</td>\n",
       "      <td>0.977654</td>\n",
       "      <td>0.979053</td>\n",
       "    </tr>\n",
       "    <tr>\n",
       "      <th>8</th>\n",
       "      <td>0.030456</td>\n",
       "      <td>0.005100</td>\n",
       "      <td>0.972067</td>\n",
       "      <td>0.973247</td>\n",
       "    </tr>\n",
       "    <tr>\n",
       "      <th>9</th>\n",
       "      <td>0.031677</td>\n",
       "      <td>0.005166</td>\n",
       "      <td>0.972067</td>\n",
       "      <td>0.969367</td>\n",
       "    </tr>\n",
       "  </tbody>\n",
       "</table>\n",
       "</div>"
      ],
      "text/plain": [
       "   fit_time  score_time  test_accuracy  test_f1_macro\n",
       "0  0.033979    0.005714       0.977778       0.978322\n",
       "1  0.031059    0.005279       0.977778       0.978284\n",
       "2  0.031511    0.005273       1.000000       1.000000\n",
       "3  0.032194    0.005387       0.988889       0.989198\n",
       "4  0.030826    0.005255       0.994444       0.994039\n",
       "5  0.030745    0.005351       0.972222       0.969989\n",
       "6  0.030233    0.005292       0.988889       0.989144\n",
       "7  0.030819    0.005227       0.977654       0.979053\n",
       "8  0.030456    0.005100       0.972067       0.973247\n",
       "9  0.031677    0.005166       0.972067       0.969367"
      ]
     },
     "execution_count": 54,
     "metadata": {},
     "output_type": "execute_result"
    }
   ],
   "source": [
    "res_linear = cross_validate(\n",
    "    SVC(kernel=\"linear\"),\n",
    "    X=X,\n",
    "    y=y,\n",
    "    scoring=[\"accuracy\", \"f1_macro\"],\n",
    "    cv=KFold(n_splits=10, shuffle=True, random_state=8)\n",
    ")\n",
    "\n",
    "res_linear = pd.DataFrame(res_linear)\n",
    "res_linear"
   ]
  },
  {
   "cell_type": "code",
   "execution_count": 55,
   "metadata": {},
   "outputs": [
    {
     "data": {
      "text/plain": [
       "fit_time         0.031350\n",
       "score_time       0.005304\n",
       "test_accuracy    0.982179\n",
       "test_f1_macro    0.982064\n",
       "dtype: float64"
      ]
     },
     "execution_count": 55,
     "metadata": {},
     "output_type": "execute_result"
    }
   ],
   "source": [
    "res_linear.mean(axis=0)"
   ]
  },
  {
   "cell_type": "code",
   "execution_count": 64,
   "metadata": {},
   "outputs": [
    {
     "data": {
      "text/html": [
       "<div>\n",
       "<style scoped>\n",
       "    .dataframe tbody tr th:only-of-type {\n",
       "        vertical-align: middle;\n",
       "    }\n",
       "\n",
       "    .dataframe tbody tr th {\n",
       "        vertical-align: top;\n",
       "    }\n",
       "\n",
       "    .dataframe thead th {\n",
       "        text-align: right;\n",
       "    }\n",
       "</style>\n",
       "<table border=\"1\" class=\"dataframe\">\n",
       "  <thead>\n",
       "    <tr style=\"text-align: right;\">\n",
       "      <th></th>\n",
       "      <th>fit_time</th>\n",
       "      <th>score_time</th>\n",
       "      <th>test_accuracy</th>\n",
       "      <th>test_f1_macro</th>\n",
       "    </tr>\n",
       "  </thead>\n",
       "  <tbody>\n",
       "    <tr>\n",
       "      <th>0</th>\n",
       "      <td>0.053965</td>\n",
       "      <td>0.018487</td>\n",
       "      <td>0.983333</td>\n",
       "      <td>0.981539</td>\n",
       "    </tr>\n",
       "    <tr>\n",
       "      <th>1</th>\n",
       "      <td>0.052880</td>\n",
       "      <td>0.018166</td>\n",
       "      <td>0.977778</td>\n",
       "      <td>0.978284</td>\n",
       "    </tr>\n",
       "    <tr>\n",
       "      <th>2</th>\n",
       "      <td>0.052639</td>\n",
       "      <td>0.020688</td>\n",
       "      <td>1.000000</td>\n",
       "      <td>1.000000</td>\n",
       "    </tr>\n",
       "    <tr>\n",
       "      <th>3</th>\n",
       "      <td>0.053613</td>\n",
       "      <td>0.018426</td>\n",
       "      <td>0.994444</td>\n",
       "      <td>0.995452</td>\n",
       "    </tr>\n",
       "    <tr>\n",
       "      <th>4</th>\n",
       "      <td>0.053244</td>\n",
       "      <td>0.017957</td>\n",
       "      <td>0.988889</td>\n",
       "      <td>0.988296</td>\n",
       "    </tr>\n",
       "    <tr>\n",
       "      <th>5</th>\n",
       "      <td>0.052210</td>\n",
       "      <td>0.018060</td>\n",
       "      <td>0.983333</td>\n",
       "      <td>0.983759</td>\n",
       "    </tr>\n",
       "    <tr>\n",
       "      <th>6</th>\n",
       "      <td>0.053412</td>\n",
       "      <td>0.018720</td>\n",
       "      <td>0.994444</td>\n",
       "      <td>0.994858</td>\n",
       "    </tr>\n",
       "    <tr>\n",
       "      <th>7</th>\n",
       "      <td>0.052289</td>\n",
       "      <td>0.020745</td>\n",
       "      <td>0.988827</td>\n",
       "      <td>0.989382</td>\n",
       "    </tr>\n",
       "    <tr>\n",
       "      <th>8</th>\n",
       "      <td>0.052764</td>\n",
       "      <td>0.017981</td>\n",
       "      <td>0.983240</td>\n",
       "      <td>0.984404</td>\n",
       "    </tr>\n",
       "    <tr>\n",
       "      <th>9</th>\n",
       "      <td>0.054246</td>\n",
       "      <td>0.018431</td>\n",
       "      <td>0.988827</td>\n",
       "      <td>0.988763</td>\n",
       "    </tr>\n",
       "  </tbody>\n",
       "</table>\n",
       "</div>"
      ],
      "text/plain": [
       "   fit_time  score_time  test_accuracy  test_f1_macro\n",
       "0  0.053965    0.018487       0.983333       0.981539\n",
       "1  0.052880    0.018166       0.977778       0.978284\n",
       "2  0.052639    0.020688       1.000000       1.000000\n",
       "3  0.053613    0.018426       0.994444       0.995452\n",
       "4  0.053244    0.017957       0.988889       0.988296\n",
       "5  0.052210    0.018060       0.983333       0.983759\n",
       "6  0.053412    0.018720       0.994444       0.994858\n",
       "7  0.052289    0.020745       0.988827       0.989382\n",
       "8  0.052764    0.017981       0.983240       0.984404\n",
       "9  0.054246    0.018431       0.988827       0.988763"
      ]
     },
     "execution_count": 64,
     "metadata": {},
     "output_type": "execute_result"
    }
   ],
   "source": [
    "res_rbf = cross_validate(\n",
    "    SVC(kernel=\"rbf\"),\n",
    "    X=X,\n",
    "    y=y,\n",
    "    scoring=[\"accuracy\", \"f1_macro\"],\n",
    "    cv=KFold(n_splits=10, shuffle=True, random_state=8)\n",
    ")\n",
    "\n",
    "res_rbf = pd.DataFrame(res_rbf)\n",
    "res_rbf"
   ]
  },
  {
   "cell_type": "code",
   "execution_count": 63,
   "metadata": {},
   "outputs": [
    {
     "data": {
      "text/plain": [
       "fit_time         0.063224\n",
       "score_time       0.023084\n",
       "test_accuracy    0.988312\n",
       "test_f1_macro    0.988474\n",
       "dtype: float64"
      ]
     },
     "execution_count": 63,
     "metadata": {},
     "output_type": "execute_result"
    }
   ],
   "source": [
    "res_rbf.mean(axis=0)"
   ]
  },
  {
   "cell_type": "code",
   "execution_count": 67,
   "metadata": {},
   "outputs": [
    {
     "data": {
      "text/html": [
       "<div>\n",
       "<style scoped>\n",
       "    .dataframe tbody tr th:only-of-type {\n",
       "        vertical-align: middle;\n",
       "    }\n",
       "\n",
       "    .dataframe tbody tr th {\n",
       "        vertical-align: top;\n",
       "    }\n",
       "\n",
       "    .dataframe thead th {\n",
       "        text-align: right;\n",
       "    }\n",
       "</style>\n",
       "<table border=\"1\" class=\"dataframe\">\n",
       "  <thead>\n",
       "    <tr style=\"text-align: right;\">\n",
       "      <th></th>\n",
       "      <th>fit_time</th>\n",
       "      <th>score_time</th>\n",
       "      <th>test_accuracy</th>\n",
       "      <th>test_f1_macro</th>\n",
       "    </tr>\n",
       "  </thead>\n",
       "  <tbody>\n",
       "    <tr>\n",
       "      <th>0</th>\n",
       "      <td>0.037881</td>\n",
       "      <td>0.006390</td>\n",
       "      <td>0.994444</td>\n",
       "      <td>0.994747</td>\n",
       "    </tr>\n",
       "    <tr>\n",
       "      <th>1</th>\n",
       "      <td>0.036036</td>\n",
       "      <td>0.006365</td>\n",
       "      <td>0.977778</td>\n",
       "      <td>0.978284</td>\n",
       "    </tr>\n",
       "    <tr>\n",
       "      <th>2</th>\n",
       "      <td>0.037196</td>\n",
       "      <td>0.006262</td>\n",
       "      <td>1.000000</td>\n",
       "      <td>1.000000</td>\n",
       "    </tr>\n",
       "    <tr>\n",
       "      <th>3</th>\n",
       "      <td>0.036943</td>\n",
       "      <td>0.006327</td>\n",
       "      <td>1.000000</td>\n",
       "      <td>1.000000</td>\n",
       "    </tr>\n",
       "    <tr>\n",
       "      <th>4</th>\n",
       "      <td>0.036210</td>\n",
       "      <td>0.006010</td>\n",
       "      <td>0.994444</td>\n",
       "      <td>0.994039</td>\n",
       "    </tr>\n",
       "    <tr>\n",
       "      <th>5</th>\n",
       "      <td>0.035784</td>\n",
       "      <td>0.006294</td>\n",
       "      <td>0.988889</td>\n",
       "      <td>0.988516</td>\n",
       "    </tr>\n",
       "    <tr>\n",
       "      <th>6</th>\n",
       "      <td>0.036218</td>\n",
       "      <td>0.006104</td>\n",
       "      <td>0.994444</td>\n",
       "      <td>0.994858</td>\n",
       "    </tr>\n",
       "    <tr>\n",
       "      <th>7</th>\n",
       "      <td>0.036006</td>\n",
       "      <td>0.006132</td>\n",
       "      <td>0.983240</td>\n",
       "      <td>0.984457</td>\n",
       "    </tr>\n",
       "    <tr>\n",
       "      <th>8</th>\n",
       "      <td>0.036368</td>\n",
       "      <td>0.006088</td>\n",
       "      <td>0.983240</td>\n",
       "      <td>0.984612</td>\n",
       "    </tr>\n",
       "    <tr>\n",
       "      <th>9</th>\n",
       "      <td>0.036597</td>\n",
       "      <td>0.006053</td>\n",
       "      <td>0.988827</td>\n",
       "      <td>0.988060</td>\n",
       "    </tr>\n",
       "  </tbody>\n",
       "</table>\n",
       "</div>"
      ],
      "text/plain": [
       "   fit_time  score_time  test_accuracy  test_f1_macro\n",
       "0  0.037881    0.006390       0.994444       0.994747\n",
       "1  0.036036    0.006365       0.977778       0.978284\n",
       "2  0.037196    0.006262       1.000000       1.000000\n",
       "3  0.036943    0.006327       1.000000       1.000000\n",
       "4  0.036210    0.006010       0.994444       0.994039\n",
       "5  0.035784    0.006294       0.988889       0.988516\n",
       "6  0.036218    0.006104       0.994444       0.994858\n",
       "7  0.036006    0.006132       0.983240       0.984457\n",
       "8  0.036368    0.006088       0.983240       0.984612\n",
       "9  0.036597    0.006053       0.988827       0.988060"
      ]
     },
     "execution_count": 67,
     "metadata": {},
     "output_type": "execute_result"
    }
   ],
   "source": [
    "res_poly = cross_validate(\n",
    "    SVC(kernel=\"poly\"),\n",
    "    X=X,\n",
    "    y=y,\n",
    "    scoring=[\"accuracy\", \"f1_macro\"],\n",
    "    cv=KFold(n_splits=10, shuffle=True, random_state=8)\n",
    ")\n",
    "\n",
    "res_poly = pd.DataFrame(res_poly)\n",
    "res_poly"
   ]
  },
  {
   "cell_type": "code",
   "execution_count": 68,
   "metadata": {},
   "outputs": [
    {
     "data": {
      "text/plain": [
       "fit_time         0.036524\n",
       "score_time       0.006203\n",
       "test_accuracy    0.990531\n",
       "test_f1_macro    0.990757\n",
       "dtype: float64"
      ]
     },
     "execution_count": 68,
     "metadata": {},
     "output_type": "execute_result"
    }
   ],
   "source": [
    "res_poly.mean(axis=0)"
   ]
  },
  {
   "cell_type": "markdown",
   "metadata": {},
   "source": [
    "## 6. Exemplo prático"
   ]
  },
  {
   "cell_type": "code",
   "execution_count": 17,
   "metadata": {},
   "outputs": [],
   "source": [
    "import pandas as pd\n",
    "\n",
    "from sklearn.decomposition import PCA\n",
    "from sklearn import linear_model as lm\n",
    "from sklearn.metrics import mean_squared_error, r2_score\n",
    "from sklearn.model_selection import KFold, cross_val_predict\n",
    "from sklearn.pipeline import make_pipeline\n",
    "from sklearn.preprocessing import StandardScaler\n"
   ]
  },
  {
   "attachments": {},
   "cell_type": "markdown",
   "metadata": {},
   "source": [
    "- Medir o número de octanas em amostras de gasolina ([Fonte dos dados](https://github.com/gustavovelascoh/octane-NIR))\n",
    "- X: frequências medidas com NIR (Espectroscopia de Infravermelho Próximo)\n",
    "- y: número de octanas"
   ]
  },
  {
   "cell_type": "code",
   "execution_count": 18,
   "metadata": {},
   "outputs": [
    {
     "data": {
      "text/html": [
       "<div>\n",
       "<style scoped>\n",
       "    .dataframe tbody tr th:only-of-type {\n",
       "        vertical-align: middle;\n",
       "    }\n",
       "\n",
       "    .dataframe tbody tr th {\n",
       "        vertical-align: top;\n",
       "    }\n",
       "\n",
       "    .dataframe thead th {\n",
       "        text-align: right;\n",
       "    }\n",
       "</style>\n",
       "<table border=\"1\" class=\"dataframe\">\n",
       "  <thead>\n",
       "    <tr style=\"text-align: right;\">\n",
       "      <th></th>\n",
       "      <th>octane</th>\n",
       "      <th>NIR.900 nm</th>\n",
       "      <th>NIR.902 nm</th>\n",
       "      <th>NIR.904 nm</th>\n",
       "      <th>NIR.906 nm</th>\n",
       "      <th>NIR.908 nm</th>\n",
       "      <th>NIR.910 nm</th>\n",
       "      <th>NIR.912 nm</th>\n",
       "      <th>NIR.914 nm</th>\n",
       "      <th>NIR.916 nm</th>\n",
       "      <th>...</th>\n",
       "      <th>NIR.1682 nm</th>\n",
       "      <th>NIR.1684 nm</th>\n",
       "      <th>NIR.1686 nm</th>\n",
       "      <th>NIR.1688 nm</th>\n",
       "      <th>NIR.1690 nm</th>\n",
       "      <th>NIR.1692 nm</th>\n",
       "      <th>NIR.1694 nm</th>\n",
       "      <th>NIR.1696 nm</th>\n",
       "      <th>NIR.1698 nm</th>\n",
       "      <th>NIR.1700 nm</th>\n",
       "    </tr>\n",
       "  </thead>\n",
       "  <tbody>\n",
       "    <tr>\n",
       "      <th>1</th>\n",
       "      <td>85.30</td>\n",
       "      <td>-0.050193</td>\n",
       "      <td>-0.045903</td>\n",
       "      <td>-0.042187</td>\n",
       "      <td>-0.037177</td>\n",
       "      <td>-0.033348</td>\n",
       "      <td>-0.031207</td>\n",
       "      <td>-0.030036</td>\n",
       "      <td>-0.031298</td>\n",
       "      <td>-0.034217</td>\n",
       "      <td>...</td>\n",
       "      <td>1.198461</td>\n",
       "      <td>1.224243</td>\n",
       "      <td>1.242645</td>\n",
       "      <td>1.250789</td>\n",
       "      <td>1.246626</td>\n",
       "      <td>1.250985</td>\n",
       "      <td>1.264189</td>\n",
       "      <td>1.244678</td>\n",
       "      <td>1.245913</td>\n",
       "      <td>1.221135</td>\n",
       "    </tr>\n",
       "    <tr>\n",
       "      <th>2</th>\n",
       "      <td>85.25</td>\n",
       "      <td>-0.044227</td>\n",
       "      <td>-0.039602</td>\n",
       "      <td>-0.035673</td>\n",
       "      <td>-0.030911</td>\n",
       "      <td>-0.026675</td>\n",
       "      <td>-0.023871</td>\n",
       "      <td>-0.022571</td>\n",
       "      <td>-0.025410</td>\n",
       "      <td>-0.028960</td>\n",
       "      <td>...</td>\n",
       "      <td>1.128877</td>\n",
       "      <td>1.148342</td>\n",
       "      <td>1.189116</td>\n",
       "      <td>1.223242</td>\n",
       "      <td>1.253306</td>\n",
       "      <td>1.282889</td>\n",
       "      <td>1.215065</td>\n",
       "      <td>1.225211</td>\n",
       "      <td>1.227985</td>\n",
       "      <td>1.198851</td>\n",
       "    </tr>\n",
       "    <tr>\n",
       "      <th>3</th>\n",
       "      <td>88.45</td>\n",
       "      <td>-0.046867</td>\n",
       "      <td>-0.041260</td>\n",
       "      <td>-0.036979</td>\n",
       "      <td>-0.031458</td>\n",
       "      <td>-0.026520</td>\n",
       "      <td>-0.023346</td>\n",
       "      <td>-0.021392</td>\n",
       "      <td>-0.024993</td>\n",
       "      <td>-0.029309</td>\n",
       "      <td>...</td>\n",
       "      <td>1.147964</td>\n",
       "      <td>1.167798</td>\n",
       "      <td>1.198287</td>\n",
       "      <td>1.237383</td>\n",
       "      <td>1.260979</td>\n",
       "      <td>1.276677</td>\n",
       "      <td>1.218871</td>\n",
       "      <td>1.223132</td>\n",
       "      <td>1.230321</td>\n",
       "      <td>1.208742</td>\n",
       "    </tr>\n",
       "    <tr>\n",
       "      <th>4</th>\n",
       "      <td>83.40</td>\n",
       "      <td>-0.046705</td>\n",
       "      <td>-0.042240</td>\n",
       "      <td>-0.038561</td>\n",
       "      <td>-0.034513</td>\n",
       "      <td>-0.030206</td>\n",
       "      <td>-0.027680</td>\n",
       "      <td>-0.026042</td>\n",
       "      <td>-0.028280</td>\n",
       "      <td>-0.030920</td>\n",
       "      <td>...</td>\n",
       "      <td>1.160089</td>\n",
       "      <td>1.169350</td>\n",
       "      <td>1.201066</td>\n",
       "      <td>1.233299</td>\n",
       "      <td>1.262966</td>\n",
       "      <td>1.272709</td>\n",
       "      <td>1.211068</td>\n",
       "      <td>1.215044</td>\n",
       "      <td>1.232655</td>\n",
       "      <td>1.206696</td>\n",
       "    </tr>\n",
       "    <tr>\n",
       "      <th>5</th>\n",
       "      <td>87.90</td>\n",
       "      <td>-0.050859</td>\n",
       "      <td>-0.045145</td>\n",
       "      <td>-0.041025</td>\n",
       "      <td>-0.036357</td>\n",
       "      <td>-0.032747</td>\n",
       "      <td>-0.031498</td>\n",
       "      <td>-0.031415</td>\n",
       "      <td>-0.034611</td>\n",
       "      <td>-0.037781</td>\n",
       "      <td>...</td>\n",
       "      <td>1.252712</td>\n",
       "      <td>1.238013</td>\n",
       "      <td>1.259616</td>\n",
       "      <td>1.273713</td>\n",
       "      <td>1.296524</td>\n",
       "      <td>1.299507</td>\n",
       "      <td>1.226448</td>\n",
       "      <td>1.230718</td>\n",
       "      <td>1.232864</td>\n",
       "      <td>1.202926</td>\n",
       "    </tr>\n",
       "  </tbody>\n",
       "</table>\n",
       "<p>5 rows × 402 columns</p>\n",
       "</div>"
      ],
      "text/plain": [
       "   octane  NIR.900 nm  NIR.902 nm  NIR.904 nm  NIR.906 nm  NIR.908 nm  \\\n",
       "1   85.30   -0.050193   -0.045903   -0.042187   -0.037177   -0.033348   \n",
       "2   85.25   -0.044227   -0.039602   -0.035673   -0.030911   -0.026675   \n",
       "3   88.45   -0.046867   -0.041260   -0.036979   -0.031458   -0.026520   \n",
       "4   83.40   -0.046705   -0.042240   -0.038561   -0.034513   -0.030206   \n",
       "5   87.90   -0.050859   -0.045145   -0.041025   -0.036357   -0.032747   \n",
       "\n",
       "   NIR.910 nm  NIR.912 nm  NIR.914 nm  NIR.916 nm  ...  NIR.1682 nm  \\\n",
       "1   -0.031207   -0.030036   -0.031298   -0.034217  ...     1.198461   \n",
       "2   -0.023871   -0.022571   -0.025410   -0.028960  ...     1.128877   \n",
       "3   -0.023346   -0.021392   -0.024993   -0.029309  ...     1.147964   \n",
       "4   -0.027680   -0.026042   -0.028280   -0.030920  ...     1.160089   \n",
       "5   -0.031498   -0.031415   -0.034611   -0.037781  ...     1.252712   \n",
       "\n",
       "   NIR.1684 nm  NIR.1686 nm  NIR.1688 nm  NIR.1690 nm  NIR.1692 nm  \\\n",
       "1     1.224243     1.242645     1.250789     1.246626     1.250985   \n",
       "2     1.148342     1.189116     1.223242     1.253306     1.282889   \n",
       "3     1.167798     1.198287     1.237383     1.260979     1.276677   \n",
       "4     1.169350     1.201066     1.233299     1.262966     1.272709   \n",
       "5     1.238013     1.259616     1.273713     1.296524     1.299507   \n",
       "\n",
       "   NIR.1694 nm  NIR.1696 nm  NIR.1698 nm  NIR.1700 nm  \n",
       "1     1.264189     1.244678     1.245913     1.221135  \n",
       "2     1.215065     1.225211     1.227985     1.198851  \n",
       "3     1.218871     1.223132     1.230321     1.208742  \n",
       "4     1.211068     1.215044     1.232655     1.206696  \n",
       "5     1.226448     1.230718     1.232864     1.202926  \n",
       "\n",
       "[5 rows x 402 columns]"
      ]
     },
     "execution_count": 18,
     "metadata": {},
     "output_type": "execute_result"
    }
   ],
   "source": [
    "df = pd.read_csv(\"data/a4/gasoline.csv\")\n",
    "df.head()"
   ]
  },
  {
   "cell_type": "code",
   "execution_count": 19,
   "metadata": {},
   "outputs": [
    {
     "data": {
      "text/plain": [
       "(60, 402)"
      ]
     },
     "execution_count": 19,
     "metadata": {},
     "output_type": "execute_result"
    }
   ],
   "source": [
    "df.shape"
   ]
  },
  {
   "attachments": {},
   "cell_type": "markdown",
   "metadata": {},
   "source": [
    "Muito mais colunas do que linhas.\n",
    "\n",
    "- Precisaremos lidar com isso!"
   ]
  },
  {
   "cell_type": "code",
   "execution_count": 20,
   "metadata": {},
   "outputs": [],
   "source": [
    "X = df.drop(\"octane\", axis=1)\n",
    "y = df[\"octane\"]\n",
    "\n",
    "cv = KFold(n_splits=10, shuffle=True, random_state=42)"
   ]
  },
  {
   "attachments": {},
   "cell_type": "markdown",
   "metadata": {},
   "source": [
    "Regressão linear sem regularização"
   ]
  },
  {
   "cell_type": "code",
   "execution_count": 21,
   "metadata": {},
   "outputs": [],
   "source": [
    "y_pred = cross_val_predict(\n",
    "    estimator=make_pipeline(StandardScaler(), lm.LinearRegression()),\n",
    "    X=X,\n",
    "    y=y,\n",
    "    cv=cv,\n",
    ")"
   ]
  },
  {
   "cell_type": "code",
   "execution_count": 22,
   "metadata": {},
   "outputs": [
    {
     "data": {
      "text/plain": [
       "(0.2632387548981843, 0.9698996230840193)"
      ]
     },
     "execution_count": 22,
     "metadata": {},
     "output_type": "execute_result"
    }
   ],
   "source": [
    "mean_squared_error(y, y_pred, squared=False), r2_score(y, y_pred)"
   ]
  },
  {
   "cell_type": "code",
   "execution_count": 23,
   "metadata": {},
   "outputs": [],
   "source": [
    "y_pred_lasso = cross_val_predict(\n",
    "    estimator=make_pipeline(StandardScaler(), lm.Lasso(alpha=0.01, max_iter=5000)),\n",
    "    X=X,\n",
    "    y=y,\n",
    "    cv=cv,\n",
    ")"
   ]
  },
  {
   "cell_type": "code",
   "execution_count": 24,
   "metadata": {},
   "outputs": [
    {
     "data": {
      "text/plain": [
       "(0.23429628215285728, 0.9761546845354301)"
      ]
     },
     "execution_count": 24,
     "metadata": {},
     "output_type": "execute_result"
    }
   ],
   "source": [
    "mean_squared_error(y, y_pred_lasso, squared=False), r2_score(y, y_pred_lasso)"
   ]
  },
  {
   "cell_type": "code",
   "execution_count": 25,
   "metadata": {},
   "outputs": [
    {
     "data": {
      "text/html": [
       "<style>#sk-container-id-2 {color: black;background-color: white;}#sk-container-id-2 pre{padding: 0;}#sk-container-id-2 div.sk-toggleable {background-color: white;}#sk-container-id-2 label.sk-toggleable__label {cursor: pointer;display: block;width: 100%;margin-bottom: 0;padding: 0.3em;box-sizing: border-box;text-align: center;}#sk-container-id-2 label.sk-toggleable__label-arrow:before {content: \"▸\";float: left;margin-right: 0.25em;color: #696969;}#sk-container-id-2 label.sk-toggleable__label-arrow:hover:before {color: black;}#sk-container-id-2 div.sk-estimator:hover label.sk-toggleable__label-arrow:before {color: black;}#sk-container-id-2 div.sk-toggleable__content {max-height: 0;max-width: 0;overflow: hidden;text-align: left;background-color: #f0f8ff;}#sk-container-id-2 div.sk-toggleable__content pre {margin: 0.2em;color: black;border-radius: 0.25em;background-color: #f0f8ff;}#sk-container-id-2 input.sk-toggleable__control:checked~div.sk-toggleable__content {max-height: 200px;max-width: 100%;overflow: auto;}#sk-container-id-2 input.sk-toggleable__control:checked~label.sk-toggleable__label-arrow:before {content: \"▾\";}#sk-container-id-2 div.sk-estimator input.sk-toggleable__control:checked~label.sk-toggleable__label {background-color: #d4ebff;}#sk-container-id-2 div.sk-label input.sk-toggleable__control:checked~label.sk-toggleable__label {background-color: #d4ebff;}#sk-container-id-2 input.sk-hidden--visually {border: 0;clip: rect(1px 1px 1px 1px);clip: rect(1px, 1px, 1px, 1px);height: 1px;margin: -1px;overflow: hidden;padding: 0;position: absolute;width: 1px;}#sk-container-id-2 div.sk-estimator {font-family: monospace;background-color: #f0f8ff;border: 1px dotted black;border-radius: 0.25em;box-sizing: border-box;margin-bottom: 0.5em;}#sk-container-id-2 div.sk-estimator:hover {background-color: #d4ebff;}#sk-container-id-2 div.sk-parallel-item::after {content: \"\";width: 100%;border-bottom: 1px solid gray;flex-grow: 1;}#sk-container-id-2 div.sk-label:hover label.sk-toggleable__label {background-color: #d4ebff;}#sk-container-id-2 div.sk-serial::before {content: \"\";position: absolute;border-left: 1px solid gray;box-sizing: border-box;top: 0;bottom: 0;left: 50%;z-index: 0;}#sk-container-id-2 div.sk-serial {display: flex;flex-direction: column;align-items: center;background-color: white;padding-right: 0.2em;padding-left: 0.2em;position: relative;}#sk-container-id-2 div.sk-item {position: relative;z-index: 1;}#sk-container-id-2 div.sk-parallel {display: flex;align-items: stretch;justify-content: center;background-color: white;position: relative;}#sk-container-id-2 div.sk-item::before, #sk-container-id-2 div.sk-parallel-item::before {content: \"\";position: absolute;border-left: 1px solid gray;box-sizing: border-box;top: 0;bottom: 0;left: 50%;z-index: -1;}#sk-container-id-2 div.sk-parallel-item {display: flex;flex-direction: column;z-index: 1;position: relative;background-color: white;}#sk-container-id-2 div.sk-parallel-item:first-child::after {align-self: flex-end;width: 50%;}#sk-container-id-2 div.sk-parallel-item:last-child::after {align-self: flex-start;width: 50%;}#sk-container-id-2 div.sk-parallel-item:only-child::after {width: 0;}#sk-container-id-2 div.sk-dashed-wrapped {border: 1px dashed gray;margin: 0 0.4em 0.5em 0.4em;box-sizing: border-box;padding-bottom: 0.4em;background-color: white;}#sk-container-id-2 div.sk-label label {font-family: monospace;font-weight: bold;display: inline-block;line-height: 1.2em;}#sk-container-id-2 div.sk-label-container {text-align: center;}#sk-container-id-2 div.sk-container {/* jupyter's `normalize.less` sets `[hidden] { display: none; }` but bootstrap.min.css set `[hidden] { display: none !important; }` so we also need the `!important` here to be able to override the default hidden behavior on the sphinx rendered scikit-learn.org. See: https://github.com/scikit-learn/scikit-learn/issues/21755 */display: inline-block !important;position: relative;}#sk-container-id-2 div.sk-text-repr-fallback {display: none;}</style><div id=\"sk-container-id-2\" class=\"sk-top-container\"><div class=\"sk-text-repr-fallback\"><pre>Pipeline(steps=[(&#x27;standardscaler&#x27;, StandardScaler()),\n",
       "                (&#x27;lasso&#x27;, Lasso(alpha=0.01, max_iter=5000))])</pre><b>In a Jupyter environment, please rerun this cell to show the HTML representation or trust the notebook. <br />On GitHub, the HTML representation is unable to render, please try loading this page with nbviewer.org.</b></div><div class=\"sk-container\" hidden><div class=\"sk-item sk-dashed-wrapped\"><div class=\"sk-label-container\"><div class=\"sk-label sk-toggleable\"><input class=\"sk-toggleable__control sk-hidden--visually\" id=\"sk-estimator-id-2\" type=\"checkbox\" ><label for=\"sk-estimator-id-2\" class=\"sk-toggleable__label sk-toggleable__label-arrow\">Pipeline</label><div class=\"sk-toggleable__content\"><pre>Pipeline(steps=[(&#x27;standardscaler&#x27;, StandardScaler()),\n",
       "                (&#x27;lasso&#x27;, Lasso(alpha=0.01, max_iter=5000))])</pre></div></div></div><div class=\"sk-serial\"><div class=\"sk-item\"><div class=\"sk-estimator sk-toggleable\"><input class=\"sk-toggleable__control sk-hidden--visually\" id=\"sk-estimator-id-3\" type=\"checkbox\" ><label for=\"sk-estimator-id-3\" class=\"sk-toggleable__label sk-toggleable__label-arrow\">StandardScaler</label><div class=\"sk-toggleable__content\"><pre>StandardScaler()</pre></div></div></div><div class=\"sk-item\"><div class=\"sk-estimator sk-toggleable\"><input class=\"sk-toggleable__control sk-hidden--visually\" id=\"sk-estimator-id-4\" type=\"checkbox\" ><label for=\"sk-estimator-id-4\" class=\"sk-toggleable__label sk-toggleable__label-arrow\">Lasso</label><div class=\"sk-toggleable__content\"><pre>Lasso(alpha=0.01, max_iter=5000)</pre></div></div></div></div></div></div></div>"
      ],
      "text/plain": [
       "Pipeline(steps=[('standardscaler', StandardScaler()),\n",
       "                ('lasso', Lasso(alpha=0.01, max_iter=5000))])"
      ]
     },
     "execution_count": 25,
     "metadata": {},
     "output_type": "execute_result"
    }
   ],
   "source": [
    "lasso = make_pipeline(StandardScaler(), lm.Lasso(alpha=0.01, max_iter=5000))\n",
    "lasso.fit(X, y)"
   ]
  },
  {
   "cell_type": "code",
   "execution_count": 26,
   "metadata": {},
   "outputs": [
    {
     "data": {
      "text/plain": [
       "[('standardscaler', StandardScaler()),\n",
       " ('lasso', Lasso(alpha=0.01, max_iter=5000))]"
      ]
     },
     "execution_count": 26,
     "metadata": {},
     "output_type": "execute_result"
    }
   ],
   "source": [
    "lasso.steps"
   ]
  },
  {
   "cell_type": "code",
   "execution_count": 27,
   "metadata": {},
   "outputs": [
    {
     "data": {
      "text/plain": [
       "array([  6,   7,  42, 153, 159, 162, 165, 230, 231, 317, 366, 369, 392,\n",
       "       393, 395, 396])"
      ]
     },
     "execution_count": 27,
     "metadata": {},
     "output_type": "execute_result"
    }
   ],
   "source": [
    "np.where(lasso.steps[1][1].coef_ != 0)[0]"
   ]
  },
  {
   "cell_type": "code",
   "execution_count": 28,
   "metadata": {},
   "outputs": [
    {
     "data": {
      "text/plain": [
       "Index(['NIR.912 nm', 'NIR.914 nm', 'NIR.984 nm', 'NIR.1206 nm', 'NIR.1218 nm',\n",
       "       'NIR.1224 nm', 'NIR.1230 nm', 'NIR.1360 nm', 'NIR.1362 nm',\n",
       "       'NIR.1534 nm', 'NIR.1632 nm', 'NIR.1638 nm', 'NIR.1684 nm',\n",
       "       'NIR.1686 nm', 'NIR.1690 nm', 'NIR.1692 nm'],\n",
       "      dtype='object')"
      ]
     },
     "execution_count": 28,
     "metadata": {},
     "output_type": "execute_result"
    }
   ],
   "source": [
    "selecionados = np.where(lasso.steps[1][1].coef_ != 0)[0]\n",
    "\n",
    "X.columns[selecionados]"
   ]
  },
  {
   "attachments": {},
   "cell_type": "markdown",
   "metadata": {},
   "source": [
    "Ridge regression"
   ]
  },
  {
   "cell_type": "code",
   "execution_count": 29,
   "metadata": {},
   "outputs": [],
   "source": [
    "y_pred_ridge = cross_val_predict(\n",
    "    estimator=make_pipeline(StandardScaler(), lm.Ridge()),\n",
    "    X=X,\n",
    "    y=y,\n",
    "    cv=cv,\n",
    ")"
   ]
  },
  {
   "cell_type": "code",
   "execution_count": 30,
   "metadata": {},
   "outputs": [
    {
     "data": {
      "text/plain": [
       "0.22697726146959843"
      ]
     },
     "execution_count": 30,
     "metadata": {},
     "output_type": "execute_result"
    }
   ],
   "source": [
    "mean_squared_error(y, y_pred_ridge, squared=False), r2_score(y, y_pred_ridge)"
   ]
  },
  {
   "cell_type": "code",
   "execution_count": 32,
   "metadata": {},
   "outputs": [
    {
     "data": {
      "text/plain": [
       "array([0.72565138, 0.83903157, 0.90857414, 0.9545724 , 0.96697538,\n",
       "       0.97664368, 0.9815837 , 0.98520879, 0.98853064, 0.99085276,\n",
       "       0.99286189, 0.99402718, 0.9951294 , 0.99604761, 0.99675652,\n",
       "       0.99734134, 0.99791114, 0.99838451, 0.99864347, 0.99887044,\n",
       "       0.99904243, 0.99920281, 0.99931737, 0.99941332, 0.99950137,\n",
       "       0.99958052, 0.99964409, 0.99969895, 0.99973876, 0.99977508,\n",
       "       0.99980283, 0.99982687, 0.99984696, 0.99986489, 0.99988003,\n",
       "       0.99989349, 0.99990554, 0.99991613, 0.99992551, 0.99993331,\n",
       "       0.99994007, 0.99994625, 0.99995188, 0.99995707, 0.99996187,\n",
       "       0.99996627, 0.99997034, 0.99997385, 0.99997729, 0.99998049,\n",
       "       0.99998353, 0.9999863 , 0.999989  , 0.99999146, 0.9999938 ,\n",
       "       0.9999957 , 0.99999733, 0.99999885, 1.        , 1.        ])"
      ]
     },
     "execution_count": 32,
     "metadata": {},
     "output_type": "execute_result"
    }
   ],
   "source": [
    "pca = PCA().fit(X)\n",
    "\n",
    "np.cumsum(pca.explained_variance_ratio_)"
   ]
  },
  {
   "cell_type": "code",
   "execution_count": 33,
   "metadata": {},
   "outputs": [],
   "source": [
    "y_pred_pca = cross_val_predict(\n",
    "    estimator=make_pipeline(PCA(n_components=5), StandardScaler(), lm.LinearRegression()),\n",
    "    X=X,\n",
    "    y=y,\n",
    "    cv=cv,\n",
    ")"
   ]
  },
  {
   "cell_type": "code",
   "execution_count": 34,
   "metadata": {},
   "outputs": [
    {
     "data": {
      "text/plain": [
       "0.2544782495337878"
      ]
     },
     "execution_count": 34,
     "metadata": {},
     "output_type": "execute_result"
    }
   ],
   "source": [
    "mean_squared_error(y, y_pred_pca, squared=False), r2_score(y, y_pred_pca)"
   ]
  },
  {
   "cell_type": "code",
   "execution_count": 104,
   "metadata": {},
   "outputs": [],
   "source": [
    "from sklearn.svm import SVR\n",
    "\n",
    "y_pred_svr = cross_val_predict(\n",
    "    estimator=make_pipeline(StandardScaler(), SVR(kernel=\"poly\", degree=2, epsilon=0.05)),\n",
    "    X=X,\n",
    "    y=y,\n",
    "    cv=cv,\n",
    ")"
   ]
  },
  {
   "cell_type": "code",
   "execution_count": 105,
   "metadata": {},
   "outputs": [
    {
     "data": {
      "text/plain": [
       "(1.221343502483186, 0.8182074624658303)"
      ]
     },
     "execution_count": 105,
     "metadata": {},
     "output_type": "execute_result"
    }
   ],
   "source": [
    "mean_squared_error(y, y_pred_svr, squared=False), r2_score(y, y_pred_svr)"
   ]
  },
  {
   "attachments": {},
   "cell_type": "markdown",
   "metadata": {},
   "source": [
    "# Tarefa"
   ]
  }
 ],
 "metadata": {
  "kernelspec": {
   "display_name": "uel",
   "language": "python",
   "name": "python3"
  },
  "language_info": {
   "codemirror_mode": {
    "name": "ipython",
    "version": 3
   },
   "file_extension": ".py",
   "mimetype": "text/x-python",
   "name": "python",
   "nbconvert_exporter": "python",
   "pygments_lexer": "ipython3",
   "version": "3.10.9"
  },
  "vscode": {
   "interpreter": {
    "hash": "50aa852a78ef4844d3dce0a45110254dc20f9eb89368e7d8efa28a96e2a88a01"
   }
  }
 },
 "nbformat": 4,
 "nbformat_minor": 2
}
