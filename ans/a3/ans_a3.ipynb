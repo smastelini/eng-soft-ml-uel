{
 "cells": [
  {
   "cell_type": "code",
   "execution_count": null,
   "metadata": {},
   "outputs": [],
   "source": [
    "neighbors_text = make_pipeline(\n",
    "    TfidfVectorizer(),\n",
    "    KNeighborsClassifier()\n",
    ")\n",
    "\n",
    "knn_text_results = cross_validate(\n",
    "    estimator=neighbors_text,\n",
    "    X=all_text,\n",
    "    y=all_labels,\n",
    "    scoring=[\"accuracy\", \"precision_macro\", \"recall_macro\", \"f1_macro\"],\n",
    "    cv=StratifiedKFold(n_splits=10, shuffle=True, random_state=8)\n",
    ")"
   ]
  },
  {
   "cell_type": "code",
   "execution_count": null,
   "metadata": {},
   "outputs": [],
   "source": [
    "knn_text_df = pd.DataFrame.from_dict(knn_text_results)\n",
    "knn_text_df"
   ]
  },
  {
   "cell_type": "code",
   "execution_count": null,
   "metadata": {},
   "outputs": [],
   "source": [
    "knn_text_df.mean(axis=0)"
   ]
  }
 ],
 "metadata": {
  "kernelspec": {
   "display_name": "uel",
   "language": "python",
   "name": "python3"
  },
  "language_info": {
   "name": "python",
   "version": "3.9.16"
  },
  "orig_nbformat": 4
 },
 "nbformat": 4,
 "nbformat_minor": 2
}
