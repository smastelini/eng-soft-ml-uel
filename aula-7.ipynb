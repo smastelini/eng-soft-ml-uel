{
  "cells": [
    {
      "attachments": {},
      "cell_type": "markdown",
      "metadata": {
        "id": "c21hDvnUXROp"
      },
      "source": [
        "# Aula 7\n",
        "\n",
        "---\n",
        "\n",
        "**Saulo Martiello Mastelini**<br>\n",
        "Candidato a Ph.D. pelo ICMC-USP<br>\n",
        "Online Machine Learning\n",
        "\n",
        "Página pessoal: [smastelini](https://smastelini.github.io/)</br>\n",
        "e-mail: saulomastelini@gmail.com\n",
        "\n",
        "---\n",
        "\n",
        "- Árvores: revisitadas\n",
        "    - Quais são os parâmetros mais sensíveis\n",
        "    - Função de split\n",
        "    - Critérios de parada\n",
        "    - Notas sobre minha experiência pessoal\n",
        "- Ensembles\n",
        "    - Bagging\n",
        "- Viés e variância\n",
        "     - Demonstrar quando o bagging funciona e falha, de acordo com a variância do preditor\n",
        "- Random Patches\n",
        "- Random Forest\n",
        "\n",
        "---"
      ]
    },
    {
      "cell_type": "markdown",
      "metadata": {
        "id": "1tdmcYiqaHwQ"
      },
      "source": [
        "# 1. Árvores de decisão\n",
        "\n",
        "- Dividir para conquistar\n",
        "- Estruturas hierárquicas\n",
        "- Construção recursiva\n",
        "- Seleção de features:\n",
        "    - Quanto mais acima na árvore, mais importante\n",
        "    - O caminho da raíz à folha também pode ser utilizado como indicativo de importância\n",
        "- Interpretabilidade\n",
        "\n"
      ]
    },
    {
      "cell_type": "code",
      "execution_count": 1,
      "metadata": {
        "id": "hluRNxzQcTzU"
      },
      "outputs": [],
      "source": [
        "from sklearn.tree import DecisionTreeClassifier, DecisionTreeRegressor"
      ]
    },
    {
      "cell_type": "markdown",
      "metadata": {
        "id": "lOr1Dxp5vV9I"
      },
      "source": [
        "## 1.1. Split na prática\n",
        "\n",
        "Vamos relembrar como os splits em uma árvore de decisão ocorrem na prática.\n",
        "\n",
        "Primeiro, vou escolher uma heurística de classificação para fazermos o teste.\n",
        "\n",
        "Por simplicidade, utilizarei a entropia e o ganho de informação:\n",
        "\n",
        "$E = -\\sum_i^C p_i\\log_2 p_i$\n",
        "\n",
        "(caso com splits binários)\n",
        "\n",
        "$IG = E(y) - \\dfrac{|y_L|}{|y|}E(y_L) - \\dfrac{|y_R|}{|y|}E(y_R)$"
      ]
    },
    {
      "cell_type": "code",
      "execution_count": 2,
      "metadata": {
        "id": "oVTkWbQGxuI4"
      },
      "outputs": [],
      "source": [
        "import numpy as np\n",
        "\n",
        "\n",
        "def entropy(y):\n",
        "    n = len(y)\n",
        "    _, cnts = np.unique(y, return_counts=True)\n",
        "\n",
        "    entropy = 0\n",
        "    for c in cnts:\n",
        "        p_i = c / n\n",
        "        entropy += (p_i * np.log2(p_i))\n",
        "    return -entropy\n",
        "\n",
        "def info_gain(x, y, limiar):\n",
        "    n = len(y)\n",
        "    y_l = y[x <= limiar]\n",
        "    y_r = y[x > limiar]\n",
        "\n",
        "    return entropy(y) - (len(y_l) / n) * entropy(y_l) - (len(y_r) / n) * entropy(y_r)"
      ]
    },
    {
      "cell_type": "markdown",
      "metadata": {
        "id": "9C_vyr-m0z_z"
      },
      "source": [
        "Hora de testar!"
      ]
    },
    {
      "cell_type": "code",
      "execution_count": 4,
      "metadata": {
        "colab": {
          "base_uri": "https://localhost:8080/"
        },
        "id": "M7lWrQaA02RX",
        "outputId": "beafd52a-f88a-40e2-cf58-88e1f910eee1"
      },
      "outputs": [
        {
          "data": {
            "text/plain": [
              "(array([0.7505728 , 2.38328281, 1.65411414]), array([1, 1, 1]))"
            ]
          },
          "execution_count": 4,
          "metadata": {},
          "output_type": "execute_result"
        }
      ],
      "source": [
        "rng = np.random.default_rng(7)\n",
        "\n",
        "x = rng.uniform(-3, 3, 100)\n",
        "y = np.array(\n",
        "    [0 if xi <= 0 else 1 for xi in x]\n",
        ")\n",
        "x[:3], y[:3]"
      ]
    },
    {
      "cell_type": "markdown",
      "metadata": {
        "id": "bntXONLl13C3"
      },
      "source": [
        "Para fazer um split numérico, a opção mais usual é testar todos os valores disponíveis:"
      ]
    },
    {
      "cell_type": "code",
      "execution_count": 5,
      "metadata": {
        "id": "VHvAjp5Q1wgu"
      },
      "outputs": [],
      "source": [
        "def testa_todos(x, y, heuristica):\n",
        "    ordenados = sorted(x)\n",
        "\n",
        "    candidatos = [\n",
        "        (limiar, heuristica(x, y, limiar)) for limiar in ordenados\n",
        "    ]\n",
        "\n",
        "    return candidatos"
      ]
    },
    {
      "cell_type": "markdown",
      "metadata": {
        "id": "n3-NF2d-2x5G"
      },
      "source": [
        "Vamos olhar nossos candidatos a split:"
      ]
    },
    {
      "cell_type": "code",
      "execution_count": 6,
      "metadata": {
        "colab": {
          "base_uri": "https://localhost:8080/"
        },
        "id": "MgCll9rn21zB",
        "outputId": "f47288f8-0de3-46f1-a112-84ffe5a4fb8e"
      },
      "outputs": [
        {
          "data": {
            "text/plain": [
              "[(-2.977594547687544, 0.010072864625000899),\n",
              " (-2.9684081726065514, 0.020294448000613308),\n",
              " (-2.929235846744965, 0.03066939825433801),\n",
              " (-2.8488187751894376, 0.041202593981278346),\n",
              " (-2.81789823369533, 0.051899160321315474),\n",
              " (-2.785918327358423, 0.06276448651079414),\n",
              " (-2.7716562798525652, 0.07380424507879524),\n",
              " (-2.7363479522317, 0.08502441288198981),\n",
              " (-2.6444901459269783, 0.09643129419996321),\n",
              " (-2.451026369621726, 0.10803154614559995),\n",
              " (-2.4197754364095263, 0.11983220668354522),\n",
              " (-2.262647386769944, 0.1318407255951034),\n",
              " (-2.210305105150166, 0.14406499878168022),\n",
              " (-2.1272402774344386, 0.15651340636279054),\n",
              " (-2.0988016255772886, 0.16919485510105414),\n",
              " (-2.0952718849897876, 0.18211882577831917),\n",
              " (-2.0732335136313607, 0.19529542625770457),\n",
              " (-2.0387277968529327, 0.20873545110053382),\n",
              " (-1.9166850093065302, 0.2224504487707475),\n",
              " (-1.8455871360881362, 0.2364527976600279),\n",
              " (-1.8452190301900058, 0.2507557924144469),\n",
              " (-1.7963596560780288, 0.2653737423509378),\n",
              " (-1.7099757758647198, 0.2803220841364248),\n",
              " (-1.7081478105864063, 0.2956175113869213),\n",
              " (-1.6487568600564488, 0.31127812445913283),\n",
              " (-1.5630647239089308, 0.32732360449501696),\n",
              " (-1.56261622902286, 0.34377541679806267),\n",
              " (-1.514910467836015, 0.36065704994910286),\n",
              " (-1.4707824740752524, 0.37799429882257785),\n",
              " (-1.3944041726172873, 0.3958156020033583),\n",
              " (-1.32944632739536, 0.414152447264707),\n",
              " (-1.1990022905326474, 0.4330398630967478),\n",
              " (-1.1974795111255783, 0.4525170202932125),\n",
              " (-1.1818054390841188, 0.472627976110783),\n",
              " (-1.0670201413186493, 0.49342260576014474),\n",
              " (-1.06178192245076, 0.5149577839754269),\n",
              " (-0.8324156459150545, 0.537298906440757),\n",
              " (-0.7827821363867598, 0.5605218825340383),\n",
              " (-0.7668883646087763, 0.5847157970241044),\n",
              " (-0.7422729832204791, 0.6099865470109875),\n",
              " (-0.723322970698125, 0.6364619458936841),\n",
              " (-0.6742091933356278, 0.6642991177133706),\n",
              " (-0.58501021137611, 0.6936956313574918),\n",
              " (-0.534268307057221, 0.7249070885783734),\n",
              " (-0.35811919687087457, 0.7582766571931676),\n",
              " (-0.32954216470412057, 0.7942888437190894),\n",
              " (-0.20276384804826542, 0.8336791289905015),\n",
              " (-0.19361869911542318, 0.8776994414539945),\n",
              " (-0.19239028293767557, 0.9289911704818996),\n",
              " (-0.018759387638974445, 1.0),\n",
              " (0.027289553747719797, 0.9289911704818996),\n",
              " (0.04663341780209951, 0.8776994414539945),\n",
              " (0.05874485921053907, 0.8336791289905015),\n",
              " (0.0847058795970832, 0.7942888437190894),\n",
              " (0.08933292162822148, 0.7582766571931676),\n",
              " (0.24686292825893252, 0.7249070885783734),\n",
              " (0.2858111952824114, 0.6936956313574918),\n",
              " (0.31395892600358266, 0.6642991177133706),\n",
              " (0.320984112446955, 0.6364619458936841),\n",
              " (0.41816564684284785, 0.6099865470109875),\n",
              " (0.41831488715566323, 0.5847157970241044),\n",
              " (0.5399501580636619, 0.5605218825340383),\n",
              " (0.5891044032432786, 0.537298906440757),\n",
              " (0.630337522979108, 0.5149577839754269),\n",
              " (0.6752376256381849, 0.49342260576014474),\n",
              " (0.7330753766469762, 0.472627976110783),\n",
              " (0.750572799628002, 0.4525170202932125),\n",
              " (0.7753575269460624, 0.4330398630967478),\n",
              " (0.827979484729993, 0.414152447264707),\n",
              " (0.8383030016551576, 0.3958156020033583),\n",
              " (0.8494302313348845, 0.37799429882257785),\n",
              " (0.9732884300307227, 0.36065704994910286),\n",
              " (1.0305909756677094, 0.34377541679806267),\n",
              " (1.05870146287673, 0.32732360449501696),\n",
              " (1.1521927252910356, 0.31127812445913283),\n",
              " (1.4506256841711425, 0.2956175113869213),\n",
              " (1.5079495191295678, 0.2803220841364248),\n",
              " (1.6541141414711609, 0.2653737423509378),\n",
              " (1.7559715152825186, 0.2507557924144469),\n",
              " (1.7824165725122771, 0.2364527976600279),\n",
              " (1.8980286229144543, 0.2224504487707475),\n",
              " (1.9273705102965977, 0.20873545110053382),\n",
              " (1.9802863788104732, 0.19529542625770457),\n",
              " (2.0704459252473173, 0.18211882577831917),\n",
              " (2.0829014781952164, 0.16919485510105414),\n",
              " (2.2280362601572836, 0.15651340636279054),\n",
              " (2.2413206723775714, 0.14406499878168022),\n",
              " (2.2444621568970264, 0.1318407255951034),\n",
              " (2.2573128486556264, 0.11983220668354522),\n",
              " (2.281992923884972, 0.10803154614559995),\n",
              " (2.3043413651788196, 0.09643129419996321),\n",
              " (2.383282805817453, 0.08502441288198981),\n",
              " (2.4235007291755606, 0.07380424507879524),\n",
              " (2.503006639157114, 0.06276448651079414),\n",
              " (2.567434108467147, 0.051899160321315474),\n",
              " (2.669689026869877, 0.041202593981278346),\n",
              " (2.8069683062929283, 0.03066939825433801),\n",
              " (2.8724873064673293, 0.020294448000613308),\n",
              " (2.933760886091309, 0.010072864625000899),\n",
              " (2.973001700606356, 0.0)]"
            ]
          },
          "execution_count": 6,
          "metadata": {},
          "output_type": "execute_result"
        }
      ],
      "source": [
        "candidatos_split = testa_todos(x, y, info_gain)\n",
        "candidatos_split"
      ]
    },
    {
      "cell_type": "code",
      "execution_count": 7,
      "metadata": {
        "id": "SPjuBH8n3fFn"
      },
      "outputs": [],
      "source": [
        "def melhor_split(candidatos):\n",
        "    return max(candidatos, key=lambda c: c[1])"
      ]
    },
    {
      "cell_type": "code",
      "execution_count": 8,
      "metadata": {
        "colab": {
          "base_uri": "https://localhost:8080/"
        },
        "id": "Sk2jXLLg2EVv",
        "outputId": "db79045c-8b33-40b4-ab61-43db02fdc845"
      },
      "outputs": [
        {
          "data": {
            "text/plain": [
              "(-0.018759387638974445, 1.0)"
            ]
          },
          "execution_count": 8,
          "metadata": {},
          "output_type": "execute_result"
        }
      ],
      "source": [
        "melhor_split(candidatos_split)"
      ]
    },
    {
      "cell_type": "markdown",
      "metadata": {
        "id": "NoZ8aJ7j2alM"
      },
      "source": [
        "Nossa implementação sempre selecionará o primeiro \"melhor candidato\", no caso de empates.\n",
        "\n",
        "Que tal olharmos um caso menos trivial?"
      ]
    },
    {
      "cell_type": "code",
      "execution_count": 10,
      "metadata": {
        "colab": {
          "base_uri": "https://localhost:8080/"
        },
        "id": "f5Lap-v02rsL",
        "outputId": "805c564e-bbf8-4f86-9432-29546f1c8e39"
      },
      "outputs": [
        {
          "data": {
            "text/plain": [
              "(1.4506256841711425, 0.2684479272261002)"
            ]
          },
          "execution_count": 10,
          "metadata": {},
          "output_type": "execute_result"
        }
      ],
      "source": [
        "y = np.array(\n",
        "    [0 if xi <= -2 or (xi > 0 and xi <= 0.5) or (xi > 1.5) else 1 for xi in x]\n",
        ")\n",
        "candidatos_split = testa_todos(x, y, info_gain)\n",
        "melhor_split(candidatos_split)"
      ]
    },
    {
      "cell_type": "markdown",
      "metadata": {
        "id": "PUn-YfAm7Zgh"
      },
      "source": [
        "Agora já sabemos como encontrar o melhor split, dada uma feature.\n",
        "\n",
        "Vamos fingir que nosso problema tivesse apenas uma feature. Vamos construir árvore com base em nossas ferramentas."
      ]
    },
    {
      "cell_type": "code",
      "execution_count": 12,
      "metadata": {
        "id": "Ui0DwL4J70_3"
      },
      "outputs": [],
      "source": [
        "import matplotlib.pyplot as plt\n",
        "\n",
        "\n",
        "def plot_1dtree(x, y, heuristica, min_sample_split):\n",
        "    queue = [(x, y, 1)]\n",
        "\n",
        "    markers = {\n",
        "        0: \"o\",\n",
        "        1: \"^\"\n",
        "    }\n",
        "\n",
        "    colors = {\n",
        "        0: \"blue\",\n",
        "        1: \"black\"\n",
        "    }\n",
        "    for c in np.unique(y):\n",
        "        x_aux = x[y == c]\n",
        "        plt.scatter(x_aux, [0 for _ in range(len(x_aux))], c=colors[c], marker=markers[c])\n",
        "\n",
        "\n",
        "    while len(queue) > 0:\n",
        "        x_aux, y_aux, alt = queue.pop(0)\n",
        "\n",
        "        # Número minimo de amostras\n",
        "        if len(x_aux) < min_sample_split:\n",
        "            continue\n",
        "        \n",
        "        # Partição homogênea\n",
        "        if len(np.unique(y_aux)) == 1:\n",
        "            continue\n",
        "\n",
        "        limiar, ig = melhor_split(testa_todos(x_aux, y_aux, heuristica))\n",
        "\n",
        "        plt.axvline(limiar, ymax=alt)\n",
        "\n",
        "        x_l, y_l = x_aux[x_aux <= limiar], y_aux[x_aux <= limiar]\n",
        "        queue.append((x_l, y_l, alt * 0.9))\n",
        "        x_r, y_r = x_aux[x_aux > limiar], y_aux[x_aux > limiar]\n",
        "        queue.append((x_r, y_r, alt * 0.9))\n",
        "    \n",
        "    plt.show()"
      ]
    },
    {
      "cell_type": "code",
      "execution_count": 13,
      "metadata": {
        "colab": {
          "base_uri": "https://localhost:8080/",
          "height": 265
        },
        "id": "Qsa1OwAD-_AS",
        "outputId": "793ccb39-9344-482a-b74f-fd7dd34e565f"
      },
      "outputs": [
        {
          "data": {
            "image/png": "[encoded data removed]",
            "text/plain": [
              "<Figure size 640x480 with 1 Axes>"
            ]
          },
          "metadata": {},
          "output_type": "display_data"
        }
      ],
      "source": [
        "plot_1dtree(x, y, info_gain, 2)"
      ]
    },
    {
      "cell_type": "code",
      "execution_count": 14,
      "metadata": {
        "id": "Lx8Wmj19BZeB"
      },
      "outputs": [],
      "source": [
        "y = rng.choice([0, 1], p=[0.5, 0.5], size=len(x))"
      ]
    },
    {
      "cell_type": "code",
      "execution_count": 15,
      "metadata": {
        "colab": {
          "base_uri": "https://localhost:8080/",
          "height": 265
        },
        "id": "imtUy9vQAz8T",
        "outputId": "3181db4b-9074-4692-bb68-b08121a9fc03"
      },
      "outputs": [
        {
          "data": {
            "image/png": "[encoded data removed]",
            "text/plain": [
              "<Figure size 640x480 with 1 Axes>"
            ]
          },
          "metadata": {},
          "output_type": "display_data"
        }
      ],
      "source": [
        "plot_1dtree(x, y, info_gain, 2)"
      ]
    },
    {
      "cell_type": "code",
      "execution_count": 16,
      "metadata": {
        "colab": {
          "base_uri": "https://localhost:8080/",
          "height": 265
        },
        "id": "M8bpmAhtBzQg",
        "outputId": "ff05a39e-a244-4eb9-fca9-8e4f47f3b087"
      },
      "outputs": [
        {
          "data": {
            "image/png": "[encoded data removed]",
            "text/plain": [
              "<Figure size 640x480 with 1 Axes>"
            ]
          },
          "metadata": {},
          "output_type": "display_data"
        }
      ],
      "source": [
        "plot_1dtree(x, y, info_gain, 10)"
      ]
    },
    {
      "cell_type": "code",
      "execution_count": 17,
      "metadata": {
        "colab": {
          "base_uri": "https://localhost:8080/",
          "height": 265
        },
        "id": "a9rgqyBPB355",
        "outputId": "119fe012-c0e6-4fe7-de3f-6be44ee55a09"
      },
      "outputs": [
        {
          "data": {
            "image/png": "[encoded data removed]",
            "text/plain": [
              "<Figure size 640x480 with 1 Axes>"
            ]
          },
          "metadata": {},
          "output_type": "display_data"
        }
      ],
      "source": [
        "plot_1dtree(x, y, info_gain, 20)"
      ]
    },
    {
      "cell_type": "markdown",
      "metadata": {
        "id": "LWbvLvQWCKvN"
      },
      "source": [
        "### 1.1.1. E regressão, como fica?\n",
        "\n",
        "Em regressão temos um target continuo. Logo, outros tipos de heurísticas devem ser utilizadas.\n",
        "\n",
        "Ilustrarei uma das heurísticas, que é equivalente à operação padrão utilizada no `sklearn`.\n",
        "\n",
        "Redução de variância:\n",
        "\n",
        "$VR = Var(y) - \\dfrac{|y_l|}{|y|}Var(y_l) - \\dfrac{|y_r|}{|y|}Var(y_r)$"
      ]
    },
    {
      "cell_type": "code",
      "execution_count": 18,
      "metadata": {
        "id": "wGz0IHoaDgEQ"
      },
      "outputs": [],
      "source": [
        "def vr(x, y, limiar, min_sample_split=5):\n",
        "    n = len(y)\n",
        "    vr = np.var(y, ddof=1)\n",
        "    y_l = y[x <= limiar]\n",
        "    y_r = y[x > limiar]\n",
        "\n",
        "    if len(y_l) < min_sample_split or len(y_r) < min_sample_split:\n",
        "        return 0\n",
        "\n",
        "    vr -= (len(y_l) / n) * np.var(y_l, ddof=1)\n",
        "    vr -= (len(y_r) / n) * np.var(y_r, ddof=1)\n",
        "\n",
        "    return vr\n"
      ]
    },
    {
      "cell_type": "code",
      "execution_count": 19,
      "metadata": {
        "id": "LydqZ_IpEH7z"
      },
      "outputs": [],
      "source": [
        "y = np.zeros(len(x))\n",
        "\n",
        "y[x <= 0] = rng.normal(-1, 0.1, size=len(np.where(x <= 0)[0]))\n",
        "y[x > 0] = rng.normal(1, 0.1, size=len(np.where(x > 0)[0]))"
      ]
    },
    {
      "cell_type": "code",
      "execution_count": 20,
      "metadata": {
        "id": "auoEFp7rFOZB"
      },
      "outputs": [],
      "source": [
        "split = melhor_split(testa_todos(x, y, vr))"
      ]
    },
    {
      "cell_type": "code",
      "execution_count": 21,
      "metadata": {
        "colab": {
          "base_uri": "https://localhost:8080/",
          "height": 282
        },
        "id": "lUIYr7C6FOlE",
        "outputId": "cd2f129e-77ce-44b6-9262-6c57f5d38607"
      },
      "outputs": [
        {
          "data": {
            "text/plain": [
              "<matplotlib.lines.Line2D at 0x182b9609820>"
            ]
          },
          "execution_count": 21,
          "metadata": {},
          "output_type": "execute_result"
        },
        {
          "data": {
            "image/png": "[encoded data removed]",
            "text/plain": [
              "<Figure size 640x480 with 1 Axes>"
            ]
          },
          "metadata": {},
          "output_type": "display_data"
        }
      ],
      "source": [
        "plt.scatter(x, y)\n",
        "plt.axvline(split[0], ymin=min(y), ymax=max(y), c=\"red\")"
      ]
    },
    {
      "cell_type": "markdown",
      "metadata": {
        "id": "3q4CpGcScd2Z"
      },
      "source": [
        "## 1.2. Notas sobre as árvores no sklearn\n",
        "\n",
        "Alguns insights que obtive com a experiência.\n",
        "\n",
        "### 1.2.1. As árvores não são determinísticas\n",
        "\n",
        "O sklearn implementa (de forma muito rápida e elegante) as suas estruturas de árvore. De fato, todos os algoritmos de ensemble compartilham do mesmo preditor base.\n",
        "\n",
        "Para usar a mesma árvore por si só, nas Random Forest e Extra Trees, além de todos os algorítmos de boosting, devem existir prós e contras.\n",
        "\n",
        "- Por padrão, o sklearn utiliza todas as features para avaliar splits\n",
        "    - No entanto, devido aos ensembles, subsets das features podem ser utilizadas\n",
        "- As features são sempre embaralhadas por padrão\n",
        "    - Se duas features são igualmente \"boas\" (de acordo com o critério de split) elas podem ser permutadas entre múltiplas execuções\n",
        "- **Solução:** Sempre fixar a seed de geração de números aleatórios (`random_state`)"
      ]
    },
    {
      "cell_type": "code",
      "execution_count": 22,
      "metadata": {
        "id": "JUyeVzbrfkaH"
      },
      "outputs": [],
      "source": [
        "from sklearn.tree import export_text\n",
        "\n",
        "rng = np.random.default_rng(7)\n",
        "X = np.zeros((1000, 4))\n",
        "\n",
        "X[:, 0] = rng.normal(0, 1, 1000)\n",
        "X[:, 1] = rng.normal(1, 3, 1000)\n",
        "X[:, 2] = X[:, 0]\n",
        "X[:, 3] = X[:, 1]\n",
        "\n",
        "y = rng.choice([0, 1], size=1000, p=[0.3, 0.7])\n"
      ]
    },
    {
      "cell_type": "code",
      "execution_count": 23,
      "metadata": {
        "colab": {
          "base_uri": "https://localhost:8080/"
        },
        "id": "2Ht8RAW3iOl9",
        "outputId": "9044c47b-9c4c-456b-9853-7cc5f0039d79"
      },
      "outputs": [
        {
          "name": "stdout",
          "output_type": "stream",
          "text": [
            "|--- B <= 6.30\n",
            "|   |--- D <= 4.13\n",
            "|   |   |--- class: 1\n",
            "|   |--- D >  4.13\n",
            "|   |   |--- class: 1\n",
            "|--- B >  6.30\n",
            "|   |--- D <= 9.48\n",
            "|   |   |--- class: 1\n",
            "|   |--- D >  9.48\n",
            "|   |   |--- class: 0\n",
            "\n"
          ]
        }
      ],
      "source": [
        "dt = DecisionTreeClassifier(random_state=7, max_depth=2)\n",
        "dt.fit(X, y)\n",
        "\n",
        "r = export_text(dt, feature_names=[\"A\", \"B\", \"C\", \"D\"])\n",
        "print(r)"
      ]
    },
    {
      "cell_type": "code",
      "execution_count": 24,
      "metadata": {
        "colab": {
          "base_uri": "https://localhost:8080/"
        },
        "id": "iNimr0CZi1AF",
        "outputId": "41d25dd0-3007-4369-a298-938f79bed23d"
      },
      "outputs": [
        {
          "name": "stdout",
          "output_type": "stream",
          "text": [
            "|--- D <= 6.30\n",
            "|   |--- D <= 4.13\n",
            "|   |   |--- class: 1\n",
            "|   |--- D >  4.13\n",
            "|   |   |--- class: 1\n",
            "|--- D >  6.30\n",
            "|   |--- D <= 9.48\n",
            "|   |   |--- class: 1\n",
            "|   |--- D >  9.48\n",
            "|   |   |--- class: 0\n",
            "\n"
          ]
        }
      ],
      "source": [
        "dt = DecisionTreeClassifier(random_state=10001, max_depth=2)\n",
        "dt.fit(X, y)\n",
        "\n",
        "r = export_text(dt, feature_names=[\"A\", \"B\", \"C\", \"D\"])\n",
        "print(r)"
      ]
    },
    {
      "cell_type": "markdown",
      "metadata": {
        "id": "BI8EGsMerur9"
      },
      "source": [
        "### 1.2.2. A configuração padrão do sklearn tem grandes chances de gerar overfitting\n",
        "\n",
        "Por padrão, o `sklearn` não restringe em basicamente nada as suas árvores.\n",
        "Não tem problema algum nisso, mas devemos ficar \"espertos\" para utilizar as árvores.\n",
        "\n",
        "**Exemplo:**"
      ]
    },
    {
      "cell_type": "code",
      "execution_count": 25,
      "metadata": {
        "id": "Sr14r0iUsSz_"
      },
      "outputs": [],
      "source": [
        "from sklearn.datasets import load_digits\n",
        "from sklearn.metrics import accuracy_score\n",
        "from sklearn.model_selection import train_test_split\n",
        "\n",
        "data = load_digits()\n",
        "\n",
        "X_train, X_test, y_train, y_test = train_test_split(data.data, data.target, test_size=0.2, random_state=42, shuffle=True)"
      ]
    },
    {
      "cell_type": "code",
      "execution_count": 26,
      "metadata": {
        "colab": {
          "base_uri": "https://localhost:8080/"
        },
        "id": "GuDGwgQxtgng",
        "outputId": "b5b71ea9-5ad3-4ecd-fd25-af4a7f23cc3f"
      },
      "outputs": [
        {
          "data": {
            "text/plain": [
              "(1.0, 0.8416666666666667)"
            ]
          },
          "execution_count": 26,
          "metadata": {},
          "output_type": "execute_result"
        }
      ],
      "source": [
        "dt = DecisionTreeClassifier(random_state=42)\n",
        "\n",
        "dt.fit(X_train, y_train)\n",
        "\n",
        "accuracy_score(y_train, dt.predict(X_train)), accuracy_score(y_test, dt.predict(X_test))"
      ]
    },
    {
      "cell_type": "code",
      "execution_count": 27,
      "metadata": {
        "colab": {
          "base_uri": "https://localhost:8080/"
        },
        "id": "vA2x0Bztt8Nm",
        "outputId": "ccdd70a2-b7d6-42a1-afb9-f249aa23799b"
      },
      "outputs": [
        {
          "data": {
            "text/plain": [
              "15"
            ]
          },
          "execution_count": 27,
          "metadata": {},
          "output_type": "execute_result"
        }
      ],
      "source": [
        "dt.get_depth()"
      ]
    },
    {
      "cell_type": "code",
      "execution_count": 28,
      "metadata": {
        "colab": {
          "base_uri": "https://localhost:8080/"
        },
        "id": "expFWEzhuUbL",
        "outputId": "18335da3-cc67-49e1-daa9-e7c9b2bad89e"
      },
      "outputs": [
        {
          "data": {
            "text/plain": [
              "(0.9686847599164927, 0.85)"
            ]
          },
          "execution_count": 28,
          "metadata": {},
          "output_type": "execute_result"
        }
      ],
      "source": [
        "dt = DecisionTreeClassifier(random_state=42, max_depth=10)\n",
        "\n",
        "dt.fit(X_train, y_train)\n",
        "\n",
        "accuracy_score(y_train, dt.predict(X_train)), accuracy_score(y_test, dt.predict(X_test))"
      ]
    },
    {
      "cell_type": "code",
      "execution_count": 29,
      "metadata": {
        "colab": {
          "base_uri": "https://localhost:8080/"
        },
        "id": "RkAn2UOiu63H",
        "outputId": "d8f62983-3578-4467-f180-4172191557b9"
      },
      "outputs": [
        {
          "data": {
            "text/plain": [
              "10"
            ]
          },
          "execution_count": 29,
          "metadata": {},
          "output_type": "execute_result"
        }
      ],
      "source": [
        "dt.get_depth()"
      ]
    },
    {
      "cell_type": "markdown",
      "metadata": {
        "id": "NM72PoNQvdKt"
      },
      "source": [
        "## 1.3. Ajuste de hiper-parâmetros\n",
        "\n",
        "As árvores contam com vários parâmetros para ajuste. Mas quais são mais interessantes de focar?\n",
        "\n",
        ">  Em geral, queremos restringir as árvores (especialmente de uma forma \"esperta\") para que possamos evitar overfitting.\n",
        "\n",
        "Dentre os parâmetros que valem a pena checar:\n",
        "\n",
        "- `max_depth`\n",
        "- `min_samples_split`\n",
        "- `min_samples_leaf`\n",
        "- `min_weight_fraction_leaf`\n",
        "- `max_leaf_nodes`\n",
        "- `min_impurity_decrease`\n",
        "- `ccp_alpha`\n",
        "\n",
        "Várias possibilidades!\n",
        "\n",
        "Na minha humilde opinião, nem todos precisam ser ajustados ao mesmo tempo. Em minha visão, esses hiper-parâmetros poderiam ser agrupados. Uma possibilidade seria ajustar um grupo de parâmetros, ou até mesmo uma combinação de grupos.\n",
        "\n",
        "Eis aqui a minha visão pessoal:\n",
        "\n",
        "1. Pré-poda:\n",
        "    - **A:** limitação \"cega\" - não leva em conta as heurísticas de split\n",
        "        - `max_depth`, `max_leaf_nodes`\n",
        "    - **B:** limitação que não leva as heurísticas de split diretamente em conta\n",
        "        - `min_samples_leaf`, `min_samples_split`, `min_weight_fraction_leaf`\n",
        "    - **C:** limitação que considera as heurísticas de split\n",
        "        - `min_impurity_decrease`\n",
        "2. Pós-poda:\n",
        "    - `ccp_alpha`\n",
        "\n",
        "---\n",
        "\n",
        "Questão para reflexão:\n",
        "\n",
        "> Qual a diferença prática entre as estruturas geradas por uma árvore restringida via altura máxima e as outras estratégias?\n",
        "\n",
        "---\n",
        "\n",
        "De resto, as técnicas de ajuste de hiper-parâmetro se aplicam como usual.\n",
        "\n",
        "**Obs:**\n",
        "\n",
        "> É possível dar pesos diferentes para as classes -> cenários com desbalanceamento, por exemplo."
      ]
    },
    {
      "attachments": {},
      "cell_type": "markdown",
      "metadata": {},
      "source": [
        "# 2. Receita de ensemble feito em casa\n",
        "\n",
        "- Motivação: a união faz a força\n",
        "- Precisamos de modelos adequados para a tarefa"
      ]
    },
    {
      "cell_type": "code",
      "execution_count": 111,
      "metadata": {},
      "outputs": [
        {
          "data": {
            "text/plain": [
              "fit_time       0.001399\n",
              "score_time     0.001252\n",
              "test_RMSE     61.454312\n",
              "test_R2        0.343593\n",
              "dtype: float64"
            ]
          },
          "execution_count": 111,
          "metadata": {},
          "output_type": "execute_result"
        }
      ],
      "source": [
        "import pandas as pd\n",
        "\n",
        "from sklearn.neighbors import KNeighborsRegressor\n",
        "from sklearn.datasets import load_diabetes\n",
        "from sklearn.metrics import make_scorer, mean_squared_error, r2_score\n",
        "from sklearn.model_selection import cross_validate, KFold\n",
        "\n",
        "X, y = load_diabetes(as_frame=True, return_X_y=True)\n",
        "\n",
        "res = cross_validate(\n",
        "    KNeighborsRegressor(),\n",
        "    X=X,\n",
        "    y=y,\n",
        "    cv=KFold(n_splits=10, shuffle=True, random_state=3),\n",
        "    scoring={\n",
        "        \"RMSE\": make_scorer(mean_squared_error, squared=False),\n",
        "        \"R2\": make_scorer(r2_score)\n",
        "    }\n",
        ")\n",
        "\n",
        "res = pd.DataFrame(res)\n",
        "res.mean(axis=0)\n"
      ]
    },
    {
      "cell_type": "code",
      "execution_count": null,
      "metadata": {},
      "outputs": [],
      "source": []
    },
    {
      "cell_type": "code",
      "execution_count": 114,
      "metadata": {},
      "outputs": [
        {
          "data": {
            "text/plain": [
              "fit_time       0.096667\n",
              "score_time     0.037406\n",
              "test_RMSE     57.477487\n",
              "test_R2        0.425524\n",
              "dtype: float64"
            ]
          },
          "execution_count": 114,
          "metadata": {},
          "output_type": "execute_result"
        }
      ],
      "source": [
        "# import pandas as pd\n",
        "\n",
        "# from sklearn.neighbors import KNeighborsRegressor\n",
        "# from sklearn.datasets import load_diabetes\n",
        "# from sklearn.metrics import make_scorer, mean_squared_error, r2_score\n",
        "# from sklearn.model_selection import cross_validate, KFold\n",
        "# from sklearn.ensemble import BaggingRegressor\n",
        "\n",
        "# X, y = load_diabetes(as_frame=True, return_X_y=True)\n",
        "\n",
        "# res = cross_validate(\n",
        "#     BaggingRegressor(\n",
        "#         estimator=KNeighborsRegressor(n_neighbors=1),\n",
        "#         bootstrap=False,\n",
        "#         n_estimators=100,\n",
        "#         max_samples=0.1\n",
        "#     ),\n",
        "#     X=X,\n",
        "#     y=y,\n",
        "#     cv=KFold(n_splits=10, shuffle=True, random_state=3),\n",
        "#     scoring={\n",
        "#         \"RMSE\": make_scorer(mean_squared_error, squared=False),\n",
        "#         \"R2\": make_scorer(r2_score)\n",
        "#     }\n",
        "# )\n",
        "\n",
        "# res = pd.DataFrame(res)\n",
        "# res.mean(axis=0)\n"
      ]
    },
    {
      "attachments": {},
      "cell_type": "markdown",
      "metadata": {
        "id": "6HnmTzkOvsZQ"
      },
      "source": [
        "# 3. Viés e variância revisitados: ensembles baseados em Bagging\n",
        "\n",
        "- Bagging => Amostragem com reposição\n",
        "    - Exemplo: sorteio de itens de uma caixa, após a retirada de um item, este é devolvido\n",
        "\n",
        "- Redução da variância\n",
        "- Vimos no começo do curso que a variância e o viés se contrapoem:\n",
        "    - Se aumentamos o viés, diminuímos a variância. E vice-versa.\n",
        "\n",
        "- Viés alto -> underfitting\n",
        "- Variância alta -> overfitting\n",
        "\n",
        "- A princípio, overffiting parece algo sempre \"maléfico\", mas no quesito dos ensembles baseados em bagging, esse sobreajuste pode vir a calhar.\n",
        "\n",
        "- Combinação de preditores com alta variância\n",
        "    - Individualmente, razoavelmente fortes\n",
        "    - Mas não o suficiente para que possa haver diversidade em suas respostas\n",
        "    - Consenso nem sempre é bom!\n",
        "\n",
        "Por que as árvores de decisão são tão populares em ensembles?"
      ]
    },
    {
      "cell_type": "code",
      "execution_count": 31,
      "metadata": {
        "colab": {
          "base_uri": "https://localhost:8080/"
        },
        "id": "LpCL_bKovxSv",
        "outputId": "6e167119-a28e-4fbf-95b6-01338dd2d8aa"
      },
      "outputs": [
        {
          "data": {
            "text/plain": [
              "(0.8416666666666667, 15, 145)"
            ]
          },
          "execution_count": 31,
          "metadata": {},
          "output_type": "execute_result"
        }
      ],
      "source": [
        "data = load_digits()\n",
        "\n",
        "X_train, X_test, y_train, y_test = train_test_split(data.data, data.target, test_size=0.2, random_state=42, shuffle=True)\n",
        "\n",
        "dt = DecisionTreeClassifier(random_state=42)\n",
        "dt.fit(X_train, y_train)\n",
        "\n",
        "accuracy_score(y_test, dt.predict(X_test)), dt.get_depth(), dt.get_n_leaves()"
      ]
    },
    {
      "cell_type": "code",
      "execution_count": 32,
      "metadata": {
        "colab": {
          "base_uri": "https://localhost:8080/"
        },
        "id": "GPwLwb8-vOvE",
        "outputId": "a237f952-be12-43ba-c64f-e04e2042af57"
      },
      "outputs": [
        {
          "data": {
            "text/plain": [
              "(0.8361111111111111, 14, 154)"
            ]
          },
          "execution_count": 32,
          "metadata": {},
          "output_type": "execute_result"
        }
      ],
      "source": [
        "data = load_digits()\n",
        "\n",
        "X_train, X_test, y_train, y_test = train_test_split(data.data, data.target, test_size=0.2, random_state=43, shuffle=True)\n",
        "\n",
        "dt = DecisionTreeClassifier(random_state=42)\n",
        "dt.fit(X_train, y_train)\n",
        "\n",
        "accuracy_score(y_test, dt.predict(X_test)), dt.get_depth(), dt.get_n_leaves()"
      ]
    },
    {
      "cell_type": "code",
      "execution_count": 33,
      "metadata": {
        "colab": {
          "base_uri": "https://localhost:8080/"
        },
        "id": "Ct1godTSveKb",
        "outputId": "b71277a3-76e0-4010-ce48-c2c912b7e41b"
      },
      "outputs": [
        {
          "data": {
            "text/plain": [
              "(0.8444444444444444, 13, 148)"
            ]
          },
          "execution_count": 33,
          "metadata": {},
          "output_type": "execute_result"
        }
      ],
      "source": [
        "data = load_digits()\n",
        "\n",
        "X_train, X_test, y_train, y_test = train_test_split(data.data, data.target, test_size=0.2, random_state=44, shuffle=True)\n",
        "\n",
        "dt = DecisionTreeClassifier(random_state=42)\n",
        "dt.fit(X_train, y_train)\n",
        "\n",
        "accuracy_score(y_test, dt.predict(X_test)), dt.get_depth(), dt.get_n_leaves()"
      ]
    },
    {
      "attachments": {},
      "cell_type": "markdown",
      "metadata": {
        "id": "FinTlaibvngp"
      },
      "source": [
        "Por que isso acontece? Vamos voltar ao nosso exemplo lá do início:"
      ]
    },
    {
      "cell_type": "code",
      "execution_count": 34,
      "metadata": {
        "id": "IZQUO8PHvi3j"
      },
      "outputs": [],
      "source": [
        "rng = np.random.default_rng(7)\n",
        "\n",
        "x = rng.uniform(-3, 3, 100)\n",
        "y = np.array(\n",
        "    [0 if xi <= 0 else 1 for xi in x]\n",
        ")"
      ]
    },
    {
      "cell_type": "code",
      "execution_count": 35,
      "metadata": {
        "colab": {
          "base_uri": "https://localhost:8080/",
          "height": 265
        },
        "id": "foppBL7-IjFC",
        "outputId": "2e4a46f2-811b-41ff-b53c-038b9c2e044f"
      },
      "outputs": [
        {
          "data": {
            "image/png": "[encoded data removed]",
            "text/plain": [
              "<Figure size 640x480 with 1 Axes>"
            ]
          },
          "metadata": {},
          "output_type": "display_data"
        }
      ],
      "source": [
        "plot_1dtree(x, y, info_gain, 2)"
      ]
    },
    {
      "cell_type": "markdown",
      "metadata": {
        "id": "7Cc_StRJIz0g"
      },
      "source": [
        "Deixa eu bagunçar um pouco esses dados:"
      ]
    },
    {
      "cell_type": "code",
      "execution_count": 36,
      "metadata": {
        "colab": {
          "base_uri": "https://localhost:8080/"
        },
        "id": "jY73GeQYI9Qx",
        "outputId": "11310774-a36e-4e80-dad8-c71e06e2c255"
      },
      "outputs": [
        {
          "data": {
            "text/plain": [
              "(array([ 3,  4,  6,  9, 10, 11, 12, 13, 20, 21, 23, 24, 26, 30, 31, 32, 33,\n",
              "        35, 36, 37, 39, 40, 46, 50, 52, 53, 54, 55, 57, 63, 64, 65, 66, 67,\n",
              "        69, 71, 74, 79, 80, 83, 87, 88, 89, 90, 92, 94, 96, 97, 98, 99],\n",
              "       dtype=int64),)"
            ]
          },
          "execution_count": 36,
          "metadata": {},
          "output_type": "execute_result"
        }
      ],
      "source": [
        "np.where(y==0)"
      ]
    },
    {
      "cell_type": "code",
      "execution_count": 37,
      "metadata": {
        "id": "qdxoeCPYJe23"
      },
      "outputs": [],
      "source": [
        "# Selecionei 3 posições arbitrárias para permutar as labels\n",
        "y[np.array([9, 87, 94])] = 1"
      ]
    },
    {
      "cell_type": "code",
      "execution_count": 38,
      "metadata": {
        "colab": {
          "base_uri": "https://localhost:8080/",
          "height": 265
        },
        "id": "AlMdPqxcJ2_I",
        "outputId": "da39e033-0ad9-4cfa-aba1-5e277a79b6e6"
      },
      "outputs": [
        {
          "data": {
            "image/png": "[encoded data removed]",
            "text/plain": [
              "<Figure size 640x480 with 1 Axes>"
            ]
          },
          "metadata": {},
          "output_type": "display_data"
        }
      ],
      "source": [
        "plot_1dtree(x, y, info_gain, 2)"
      ]
    },
    {
      "cell_type": "markdown",
      "metadata": {
        "id": "b3JnZl2nJ5s9"
      },
      "source": [
        "Desafio:\n",
        "\n",
        "> O que está acontecendo?\n",
        "\n",
        "E se restringirmos as coisas (nesse caso, restringirmos bastante)?"
      ]
    },
    {
      "cell_type": "code",
      "execution_count": 39,
      "metadata": {
        "colab": {
          "base_uri": "https://localhost:8080/",
          "height": 265
        },
        "id": "t-mAE2jiKPfA",
        "outputId": "ebbd90ef-4d87-4dd7-e593-05a044242f02"
      },
      "outputs": [
        {
          "data": {
            "image/png": "[encoded data removed]",
            "text/plain": [
              "<Figure size 640x480 with 1 Axes>"
            ]
          },
          "metadata": {},
          "output_type": "display_data"
        }
      ],
      "source": [
        "plot_1dtree(x, y, info_gain, 10)"
      ]
    },
    {
      "cell_type": "code",
      "execution_count": 40,
      "metadata": {
        "colab": {
          "base_uri": "https://localhost:8080/",
          "height": 265
        },
        "id": "Cz5KbN8SKjCj",
        "outputId": "cc713628-8a6d-472d-d429-374095b456e2"
      },
      "outputs": [
        {
          "data": {
            "image/png": "[encoded data removed]",
            "text/plain": [
              "<Figure size 640x480 with 1 Axes>"
            ]
          },
          "metadata": {},
          "output_type": "display_data"
        }
      ],
      "source": [
        "plot_1dtree(x, y, info_gain, 20)"
      ]
    },
    {
      "cell_type": "code",
      "execution_count": 41,
      "metadata": {
        "colab": {
          "base_uri": "https://localhost:8080/",
          "height": 265
        },
        "id": "lxUdw8K9Kk-Z",
        "outputId": "64382623-699c-4b8b-dc5d-2461629553fb"
      },
      "outputs": [
        {
          "data": {
            "image/png": "[encoded data removed]",
            "text/plain": [
              "<Figure size 640x480 with 1 Axes>"
            ]
          },
          "metadata": {},
          "output_type": "display_data"
        }
      ],
      "source": [
        "plot_1dtree(x, y, info_gain, 60)"
      ]
    },
    {
      "cell_type": "markdown",
      "metadata": {
        "id": "OX_vtK9eKI0z"
      },
      "source": [
        "Uma pequena mudança nos dados acarreta grandes mudanças no modelo gerado!\n",
        "\n",
        "Alta variância! :)\n",
        "\n",
        "---\n",
        "\n",
        "Que lições podemos tomar disso já de antemão se formos pensar em ensembles com bagging?\n",
        "\n",
        "> Pode ser uma boa ideia deixar as árvores em um ensemble baseado em bagging \"voarem livres\" ou com pouca restrição.\n",
        "\n",
        "**Por quê?**\n",
        "\n",
        "---\n",
        "\n",
        "Note que a Random Forest e outros ensembles similares utilizam mais de uma estratégia para induzir diversidade entre seus membros."
      ]
    },
    {
      "attachments": {},
      "cell_type": "markdown",
      "metadata": {
        "id": "PsKuTBq_wELB"
      },
      "source": [
        "# 4. Comparando o efeito de bagging em algoritmos de AM"
      ]
    },
    {
      "cell_type": "code",
      "execution_count": 42,
      "metadata": {
        "id": "2Lx5bEK1wKgE"
      },
      "outputs": [],
      "source": [
        "from sklearn.ensemble import BaggingClassifier\n",
        "from sklearn.model_selection import KFold, cross_val_score"
      ]
    },
    {
      "cell_type": "code",
      "execution_count": 43,
      "metadata": {
        "id": "XXzsKHTINC0q"
      },
      "outputs": [],
      "source": [
        "dataset = load_digits()\n",
        "\n",
        "kf = KFold(10, random_state=42, shuffle=True)"
      ]
    },
    {
      "attachments": {},
      "cell_type": "markdown",
      "metadata": {
        "id": "maCSloNLOYrM"
      },
      "source": [
        "## 4.1. Árvores de decisão\n",
        "\n",
        "Vamos avaliar o efeito do bagging em algumas famílias de algoritmos preditivos.\n",
        "\n",
        "### 4.1.1. Individualmente"
      ]
    },
    {
      "cell_type": "code",
      "execution_count": 44,
      "metadata": {
        "colab": {
          "base_uri": "https://localhost:8080/"
        },
        "id": "7pAEdXk7NVWA",
        "outputId": "2ff3e308-6e9b-41e9-c4ff-eab275e58de3"
      },
      "outputs": [
        {
          "data": {
            "text/plain": [
              "(0.8530881440099316, 0.01944492992746197)"
            ]
          },
          "execution_count": 44,
          "metadata": {},
          "output_type": "execute_result"
        }
      ],
      "source": [
        "accs = cross_val_score(\n",
        "    DecisionTreeClassifier(random_state=7),\n",
        "    X=dataset.data,\n",
        "    y=dataset.target,\n",
        "    cv=kf,\n",
        "    scoring=\"accuracy\"\n",
        ")\n",
        "np.mean(accs), np.std(accs)"
      ]
    },
    {
      "cell_type": "code",
      "execution_count": 45,
      "metadata": {
        "colab": {
          "base_uri": "https://localhost:8080/"
        },
        "id": "gNgzVIi5nfTj",
        "outputId": "a1c1a104-32f2-4738-968e-58a5ab5f4233"
      },
      "outputs": [
        {
          "data": {
            "text/plain": [
              "15"
            ]
          },
          "execution_count": 45,
          "metadata": {},
          "output_type": "execute_result"
        }
      ],
      "source": [
        "dt = DecisionTreeClassifier(random_state=7)\n",
        "dt.fit(dataset.data, dataset.target)\n",
        "dt.get_depth()"
      ]
    },
    {
      "cell_type": "code",
      "execution_count": 49,
      "metadata": {
        "colab": {
          "base_uri": "https://localhost:8080/"
        },
        "id": "ekVmwxGBODW2",
        "outputId": "9c40718c-6513-412e-b353-362cf77ff832"
      },
      "outputs": [
        {
          "data": {
            "text/plain": [
              "(0.8536499068901303, 0.026638844899314937)"
            ]
          },
          "execution_count": 49,
          "metadata": {},
          "output_type": "execute_result"
        }
      ],
      "source": [
        "accs = cross_val_score(\n",
        "    DecisionTreeClassifier(random_state=7, min_impurity_decrease=0.001),\n",
        "    X=dataset.data,\n",
        "    y=dataset.target,\n",
        "    cv=kf,\n",
        "    scoring=\"accuracy\"\n",
        ")\n",
        "np.mean(accs), np.std(accs)"
      ]
    },
    {
      "attachments": {},
      "cell_type": "markdown",
      "metadata": {
        "id": "Pgh_Ys82Oe87"
      },
      "source": [
        "### 4.1.2. Bagging\n",
        "\n",
        "Sem restrições"
      ]
    },
    {
      "cell_type": "code",
      "execution_count": 50,
      "metadata": {
        "colab": {
          "base_uri": "https://localhost:8080/"
        },
        "id": "hFrG9OKCN8VF",
        "outputId": "1069306a-b488-4a2c-a108-c3dea5325972"
      },
      "outputs": [
        {
          "data": {
            "text/plain": [
              "(0.9426722532588453, 0.024417959316653266)"
            ]
          },
          "execution_count": 50,
          "metadata": {},
          "output_type": "execute_result"
        }
      ],
      "source": [
        "accs = cross_val_score(\n",
        "    BaggingClassifier(\n",
        "        DecisionTreeClassifier(random_state=7),\n",
        "        random_state=42\n",
        "    ),\n",
        "    X=dataset.data,\n",
        "    y=dataset.target,\n",
        "    cv=kf,\n",
        "    scoring=\"accuracy\"\n",
        ")\n",
        "np.mean(accs), np.std(accs)"
      ]
    },
    {
      "cell_type": "markdown",
      "metadata": {
        "id": "K25a5gm0PDwt"
      },
      "source": [
        "Restringindo a profundidade máxima da árvore"
      ]
    },
    {
      "cell_type": "code",
      "execution_count": 51,
      "metadata": {
        "colab": {
          "base_uri": "https://localhost:8080/"
        },
        "id": "aatBRjZRPGzP",
        "outputId": "538ab0b7-053c-44fb-cb3e-78f3091d8222"
      },
      "outputs": [
        {
          "data": {
            "text/plain": [
              "(0.8447206703910615, 0.03160038400933399)"
            ]
          },
          "execution_count": 51,
          "metadata": {},
          "output_type": "execute_result"
        }
      ],
      "source": [
        "accs = cross_val_score(\n",
        "    BaggingClassifier(\n",
        "        DecisionTreeClassifier(random_state=7, max_depth=5),\n",
        "        random_state=42\n",
        "    ),\n",
        "    X=dataset.data,\n",
        "    y=dataset.target,\n",
        "    cv=kf,\n",
        "    scoring=\"accuracy\"\n",
        ")\n",
        "np.mean(accs), np.std(accs)"
      ]
    },
    {
      "cell_type": "markdown",
      "metadata": {
        "id": "TDr73EKqPXKe"
      },
      "source": [
        "**Desafio:**\n",
        "\n",
        "> O que está acontecendo?"
      ]
    },
    {
      "attachments": {},
      "cell_type": "markdown",
      "metadata": {
        "id": "iQAHPzVMUV7u"
      },
      "source": [
        "## 4.2 Redes Neurais\n",
        "\n",
        "Não irei me aprofundar nas configurações das redes de forma alguma. O objetivo aqui é apenas ilustrativo."
      ]
    },
    {
      "cell_type": "code",
      "execution_count": 52,
      "metadata": {
        "id": "jPbvVTU_Pb6U"
      },
      "outputs": [],
      "source": [
        "from sklearn.neural_network import MLPClassifier"
      ]
    },
    {
      "attachments": {},
      "cell_type": "markdown",
      "metadata": {
        "id": "WXYozwKmUvMu"
      },
      "source": [
        "### 4.2.1. Individualmente"
      ]
    },
    {
      "cell_type": "code",
      "execution_count": 46,
      "metadata": {
        "colab": {
          "base_uri": "https://localhost:8080/"
        },
        "id": "nGtpVJ-IVGf2",
        "outputId": "242a5dc7-48cb-4e97-ebc9-c947aa138ef3"
      },
      "outputs": [
        {
          "data": {
            "text/plain": [
              "(0.9749472377405338, 0.010673384168204585)"
            ]
          },
          "execution_count": 46,
          "metadata": {},
          "output_type": "execute_result"
        }
      ],
      "source": [
        "accs = cross_val_score(\n",
        "    MLPClassifier(random_state=1),\n",
        "    X=dataset.data,\n",
        "    y=dataset.target,\n",
        "    cv=kf,\n",
        "    scoring=\"accuracy\"\n",
        ")\n",
        "np.mean(accs), np.std(accs)"
      ]
    },
    {
      "cell_type": "code",
      "execution_count": 47,
      "metadata": {
        "colab": {
          "base_uri": "https://localhost:8080/"
        },
        "id": "s5rlP2qJVztO",
        "outputId": "392e6131-fb1f-42c2-ecf9-df7ed3f707c8"
      },
      "outputs": [
        {
          "data": {
            "text/plain": [
              "(0.9766263190564868, 0.008917059509584855)"
            ]
          },
          "execution_count": 47,
          "metadata": {},
          "output_type": "execute_result"
        }
      ],
      "source": [
        "accs = cross_val_score(\n",
        "    MLPClassifier(random_state=2),\n",
        "    X=dataset.data,\n",
        "    y=dataset.target,\n",
        "    cv=kf,\n",
        "    scoring=\"accuracy\"\n",
        ")\n",
        "np.mean(accs), np.std(accs)"
      ]
    },
    {
      "attachments": {},
      "cell_type": "markdown",
      "metadata": {
        "id": "PseRulEfV_AT"
      },
      "source": [
        "### 4.2.2. Bagging"
      ]
    },
    {
      "cell_type": "code",
      "execution_count": 48,
      "metadata": {
        "colab": {
          "base_uri": "https://localhost:8080/"
        },
        "id": "3_5-fvfVVZLy",
        "outputId": "d11d896c-11ec-4948-f68a-8f99a0593240"
      },
      "outputs": [
        {
          "data": {
            "text/plain": [
              "(0.9821942892613285, 0.008173977170808814)"
            ]
          },
          "execution_count": 48,
          "metadata": {},
          "output_type": "execute_result"
        }
      ],
      "source": [
        "accs = cross_val_score(\n",
        "    BaggingClassifier(\n",
        "        MLPClassifier(random_state=1),\n",
        "        random_state=42\n",
        "    ),\n",
        "    X=dataset.data,\n",
        "    y=dataset.target,\n",
        "    cv=kf,\n",
        "    scoring=\"accuracy\"\n",
        ")\n",
        "np.mean(accs), np.std(accs)"
      ]
    },
    {
      "attachments": {},
      "cell_type": "markdown",
      "metadata": {
        "id": "dDNxLiTJWsjj"
      },
      "source": [
        "## 4.3. k-NN\n",
        "\n",
        "Quais são as apostas para o k-NN?\n",
        "\n",
        "### 4.3.1. Individualmente"
      ]
    },
    {
      "cell_type": "code",
      "execution_count": 58,
      "metadata": {
        "colab": {
          "base_uri": "https://localhost:8080/"
        },
        "id": "bxSLSFQWXW1T",
        "outputId": "fa8d3c39-922a-4da1-d2fe-2663a099d588"
      },
      "outputs": [
        {
          "data": {
            "text/plain": [
              "(0.9883147113594042, 0.010417587176862671)"
            ]
          },
          "execution_count": 58,
          "metadata": {},
          "output_type": "execute_result"
        }
      ],
      "source": [
        "from sklearn.neighbors import KNeighborsClassifier\n",
        "\n",
        "accs = cross_val_score(\n",
        "    KNeighborsClassifier(),\n",
        "    X=dataset.data,\n",
        "    y=dataset.target,\n",
        "    cv=kf,\n",
        "    scoring=\"accuracy\"\n",
        ")\n",
        "np.mean(accs), np.std(accs)"
      ]
    },
    {
      "attachments": {},
      "cell_type": "markdown",
      "metadata": {
        "id": "H1t4ejITWtRV"
      },
      "source": [
        "### 4.3.2. Bagging"
      ]
    },
    {
      "cell_type": "code",
      "execution_count": 59,
      "metadata": {
        "colab": {
          "base_uri": "https://localhost:8080/"
        },
        "id": "MrwG3jz6Xy-8",
        "outputId": "4596478c-5d30-42b2-9d8a-53f89e42df14"
      },
      "outputs": [
        {
          "data": {
            "text/plain": [
              "(0.9849720670391061, 0.011424418696637679)"
            ]
          },
          "execution_count": 59,
          "metadata": {},
          "output_type": "execute_result"
        }
      ],
      "source": [
        "accs = cross_val_score(\n",
        "    BaggingClassifier(\n",
        "        KNeighborsClassifier(),\n",
        "        random_state=42\n",
        "    ),\n",
        "    X=dataset.data,\n",
        "    y=dataset.target,\n",
        "    cv=kf,\n",
        "    scoring=\"accuracy\"\n",
        ")\n",
        "np.mean(accs), np.std(accs)"
      ]
    },
    {
      "attachments": {},
      "cell_type": "markdown",
      "metadata": {
        "id": "AZ-tZBDdWs_D"
      },
      "source": [
        "## 4.4. Naive Bayes\n",
        "\n",
        "### 4.4.1. Individualmente"
      ]
    },
    {
      "cell_type": "code",
      "execution_count": 60,
      "metadata": {
        "colab": {
          "base_uri": "https://localhost:8080/"
        },
        "id": "egBpJ19rYCFl",
        "outputId": "c83498f1-3c45-4b9c-c1e6-9b1d3885c974"
      },
      "outputs": [
        {
          "data": {
            "text/plain": [
              "(0.8430757293606457, 0.030080295731662536)"
            ]
          },
          "execution_count": 60,
          "metadata": {},
          "output_type": "execute_result"
        }
      ],
      "source": [
        "from sklearn.naive_bayes import GaussianNB\n",
        "\n",
        "\n",
        "accs = cross_val_score(\n",
        "    GaussianNB(),\n",
        "    X=dataset.data,\n",
        "    y=dataset.target,\n",
        "    cv=kf,\n",
        "    scoring=\"accuracy\"\n",
        ")\n",
        "np.mean(accs), np.std(accs)"
      ]
    },
    {
      "attachments": {},
      "cell_type": "markdown",
      "metadata": {
        "id": "ng--MjYdW9Hx"
      },
      "source": [
        "### 4.4.2. Bagging"
      ]
    },
    {
      "cell_type": "code",
      "execution_count": 61,
      "metadata": {
        "colab": {
          "base_uri": "https://localhost:8080/"
        },
        "id": "k4OJXwDfYMkV",
        "outputId": "9a5e7c09-0743-48ac-baba-25c7f7fc3805"
      },
      "outputs": [
        {
          "data": {
            "text/plain": [
              "(0.8603320918684046, 0.02546603049645491)"
            ]
          },
          "execution_count": 61,
          "metadata": {},
          "output_type": "execute_result"
        }
      ],
      "source": [
        "accs = cross_val_score(\n",
        "    BaggingClassifier(\n",
        "        GaussianNB(),\n",
        "        random_state=42\n",
        "    ),\n",
        "    X=dataset.data,\n",
        "    y=dataset.target,\n",
        "    cv=kf,\n",
        "    scoring=\"accuracy\"\n",
        ")\n",
        "np.mean(accs), np.std(accs)"
      ]
    },
    {
      "attachments": {},
      "cell_type": "markdown",
      "metadata": {
        "id": "BOWKFaBRXBUJ"
      },
      "source": [
        "## 4.5. Regressão Logistica\n",
        "\n",
        "Façam suas apostas!\n",
        "\n",
        "### 4.5.1. Individualmente\n"
      ]
    },
    {
      "cell_type": "code",
      "execution_count": 62,
      "metadata": {
        "colab": {
          "base_uri": "https://localhost:8080/"
        },
        "id": "btVocHZJYb5m",
        "outputId": "f37533cd-45f2-4981-fd9a-1c2c866aa3bf"
      },
      "outputs": [
        {
          "data": {
            "text/plain": [
              "(0.96548417132216, 0.012460053918938133)"
            ]
          },
          "execution_count": 62,
          "metadata": {},
          "output_type": "execute_result"
        }
      ],
      "source": [
        "from sklearn.linear_model import LogisticRegression\n",
        "from sklearn.pipeline import Pipeline\n",
        "from sklearn.preprocessing import StandardScaler\n",
        "\n",
        "\n",
        "accs = cross_val_score(\n",
        "    Pipeline([\n",
        "        ('scaler', StandardScaler()),\n",
        "        ('model', LogisticRegression(random_state=1, max_iter=200))\n",
        "    ]),\n",
        "    X=dataset.data,\n",
        "    y=dataset.target,\n",
        "    cv=kf,\n",
        "    scoring=\"accuracy\"\n",
        ")\n",
        "np.mean(accs), np.std(accs)"
      ]
    },
    {
      "attachments": {},
      "cell_type": "markdown",
      "metadata": {
        "id": "CFC3J7MoXBmb"
      },
      "source": [
        "### 4.5.2. Bagging"
      ]
    },
    {
      "cell_type": "code",
      "execution_count": 63,
      "metadata": {
        "colab": {
          "base_uri": "https://localhost:8080/"
        },
        "id": "hAlOuREAXLxQ",
        "outputId": "40bb27a5-9690-4da9-ae4c-631ad4181ef2"
      },
      "outputs": [
        {
          "data": {
            "text/plain": [
              "(0.9671477343265051, 0.013821289949726047)"
            ]
          },
          "execution_count": 63,
          "metadata": {},
          "output_type": "execute_result"
        }
      ],
      "source": [
        "accs = cross_val_score(\n",
        "    Pipeline([\n",
        "        ('scaler', StandardScaler()),\n",
        "        ('model', BaggingClassifier(LogisticRegression(random_state=1, max_iter=200), random_state=42))\n",
        "    ]),\n",
        "    X=dataset.data,\n",
        "    y=dataset.target,\n",
        "    cv=kf,\n",
        "    scoring=\"accuracy\"\n",
        ")\n",
        "np.mean(accs), np.std(accs)"
      ]
    },
    {
      "attachments": {},
      "cell_type": "markdown",
      "metadata": {
        "id": "BEQJN2zRaQME"
      },
      "source": [
        "# 5. Random Patches\n",
        "\n",
        "Até o momento, nós focamos em apenas uma estratégia de perturbação nos dados:\n",
        "\n",
        "> Bagging\n",
        "\n",
        "Induzir diversidade.\n",
        "\n",
        "Existem mais formas de fazer isso. Outra forma muito popular é a utilização de sub-conjuntos de features para induzir cada preditor.\n",
        "\n",
        "**Atenção:**\n",
        "\n",
        "- Bagging: amostragem com reposição\n",
        "- Sub-conjuntos de features: amostragem sem reposição (abordagem mais usual)\n",
        "\n",
        "---\n",
        "Qual é o efeito de sub-amostrarmos features?\n",
        "\n",
        "- O que acontece em uma árvore de decisão?\n",
        "- O que acontece no k-NN?\n",
        "- Quando isso pode ser mais ou menos efetivo?\n",
        "\n",
        "---\n",
        "\n",
        "A combinação de bagging e sub-conjuntos de features por preditor base resulta no algorítmo chamado: *Random Patches*.\n",
        "\n",
        "**Atenção (de novo):**\n",
        "\n",
        "> A sub-amostragem de features por preditor base é **global** no Random Patches.\n",
        "\n",
        "Vamos ver na prática:\n",
        "\n",
        "## 5.1. Árvores de Decisão + Bagging\n"
      ]
    },
    {
      "cell_type": "code",
      "execution_count": 64,
      "metadata": {
        "colab": {
          "base_uri": "https://localhost:8080/"
        },
        "id": "sG-bJGCjeXIw",
        "outputId": "257ca76d-361a-4042-c6f7-232a2da6c29b"
      },
      "outputs": [
        {
          "data": {
            "text/plain": [
              "(0.9426722532588453, 0.024417959316653266)"
            ]
          },
          "execution_count": 64,
          "metadata": {},
          "output_type": "execute_result"
        }
      ],
      "source": [
        "accs = cross_val_score(\n",
        "    BaggingClassifier(\n",
        "        DecisionTreeClassifier(random_state=1),\n",
        "        random_state=42\n",
        "    ),\n",
        "    X=dataset.data,\n",
        "    y=dataset.target,\n",
        "    cv=kf,\n",
        "    scoring=\"accuracy\"\n",
        ")\n",
        "np.mean(accs), np.std(accs)"
      ]
    },
    {
      "attachments": {},
      "cell_type": "markdown",
      "metadata": {
        "id": "qu4J6HciekM7"
      },
      "source": [
        "## 5.2. Árvores de Decisão + Random Patches"
      ]
    },
    {
      "cell_type": "code",
      "execution_count": 65,
      "metadata": {
        "colab": {
          "base_uri": "https://localhost:8080/"
        },
        "id": "nGUUk7u8d2sj",
        "outputId": "10a91f36-eb80-4bf4-988c-4f6b897d2737"
      },
      "outputs": [
        {
          "data": {
            "text/plain": [
              "(0.9560397268777157, 0.013262056235052212)"
            ]
          },
          "execution_count": 65,
          "metadata": {},
          "output_type": "execute_result"
        }
      ],
      "source": [
        "accs = cross_val_score(\n",
        "    BaggingClassifier(\n",
        "        DecisionTreeClassifier(random_state=1),\n",
        "        random_state=42,\n",
        "        max_features=round(0.6 * dataset.data.shape[1])\n",
        "    ),\n",
        "    X=dataset.data,\n",
        "    y=dataset.target,\n",
        "    cv=kf,\n",
        "    scoring=\"accuracy\"\n",
        ")\n",
        "np.mean(accs), np.std(accs)"
      ]
    },
    {
      "attachments": {},
      "cell_type": "markdown",
      "metadata": {
        "id": "BoAGEIhBaTBd"
      },
      "source": [
        "# 6. Random Forest\n",
        "\n",
        "O Random Patches, por fazer sub-amostragem de features a nível global, pode ser aplicado a qualquer algoritmo.\n",
        "\n",
        "A Random Forest vai um passo além, no quesito indução de diversidade.\n",
        "\n",
        "Ao invés de subamostrar features globalmente, as RFs\n",
        "\n",
        "> Realização a sub-amostragem de features a nível **local**\n",
        "\n",
        "Mas como?\n",
        "\n",
        "Durante cada tentativa de split, em cada nó, um novo sub-conjunto de features é amostrado (sem reposição).\n",
        "\n",
        "---\n",
        "\n",
        "**Desafio:**\n",
        "\n",
        "> Qual a vantagem de se fazer isso?\n",
        "\n",
        "---\n",
        "\n",
        "Em contrapartida, agora estamos limitados a árvores de decisão."
      ]
    },
    {
      "cell_type": "code",
      "execution_count": 69,
      "metadata": {
        "colab": {
          "base_uri": "https://localhost:8080/"
        },
        "id": "HxLN6sbMaW_N",
        "outputId": "c5a8f1de-6389-4bac-86d0-8d416f0f4c1d"
      },
      "outputs": [
        {
          "data": {
            "text/plain": [
              "(0.9499348230912477, 0.019846912012364108)"
            ]
          },
          "execution_count": 69,
          "metadata": {},
          "output_type": "execute_result"
        }
      ],
      "source": [
        "from sklearn.ensemble import RandomForestClassifier\n",
        "\n",
        "accs = cross_val_score(\n",
        "    RandomForestClassifier(\n",
        "        random_state=42,\n",
        "        max_features=round(0.6 * dataset.data.shape[1]),\n",
        "        n_estimators=10\n",
        "    ),\n",
        "    X=dataset.data,\n",
        "    y=dataset.target,\n",
        "    cv=kf,\n",
        "    scoring=\"accuracy\"\n",
        ")\n",
        "np.mean(accs), np.std(accs)"
      ]
    },
    {
      "cell_type": "code",
      "execution_count": 70,
      "metadata": {
        "colab": {
          "base_uri": "https://localhost:8080/"
        },
        "id": "0tyTa8BUisCa",
        "outputId": "b8974777-97d5-43f9-f139-2f1e5ea36ede"
      },
      "outputs": [
        {
          "data": {
            "text/plain": [
              "(0.9794196151458723, 0.010835182102050938)"
            ]
          },
          "execution_count": 70,
          "metadata": {},
          "output_type": "execute_result"
        }
      ],
      "source": [
        "accs = cross_val_score(\n",
        "    RandomForestClassifier(\n",
        "        random_state=42,\n",
        "        max_features=\"sqrt\",\n",
        "        n_estimators=100\n",
        "    ),\n",
        "    X=dataset.data,\n",
        "    y=dataset.target,\n",
        "    cv=kf,\n",
        "    scoring=\"accuracy\"\n",
        ")\n",
        "np.mean(accs), np.std(accs)"
      ]
    },
    {
      "attachments": {},
      "cell_type": "markdown",
      "metadata": {
        "id": "-qNWPUGBjK9X"
      },
      "source": [
        "## 6.1. E agora? E para tunar?\n",
        "\n",
        "As RFs contam com vários parâmetros por si só, e ainda trazem os parâmetros dos modelos base (árvores). E agora?\n",
        "\n",
        "Aqui vai uma pitada da minha experiência pessoal. O que focar?\n",
        "\n",
        "- `n_estimators`: no entanto, existe um ponto de saturação\n",
        "    - mais árvores != mais acurácia. Isso é até bom!\n",
        "- `max_features`: eu diria que esse é o parâmetro mais sensível\n",
        "\n",
        "O paper do Breiman introduzindo as RFs foca nesses dois parâmetros.\n",
        "\n",
        "Desconheço a existência de consenso quanto as vantagens (ou desvantagens) de se podar as árvores na floresta. O que eu faço normalmente? Deixo as árvores crescerem sem restrições.\n",
        "\n",
        "Um coisa incrível sobre as RFs? O desempenho delas normalmente não varia muito após o ajuste de hiper-parâmetros.\n",
        "\n",
        "**Dica:**\n",
        "\n",
        "Ao se deparar com um novo problema eu costumo:\n",
        "\n",
        "1. Testar um baseline simples\n",
        "2. Testar um modelo linear\n",
        "3. Testar uma RF com os hiper-parâmetros padrão"
      ]
    },
    {
      "attachments": {},
      "cell_type": "markdown",
      "metadata": {
        "id": "9EZKISlzkx8M"
      },
      "source": [
        "## 6.2. Feature importance\n",
        "\n",
        "Existem algumas maneiras de se estimar a importância das features a partir de uma floresta de árvores. Por padrão, o `sklearn` utiliza um algoritmo de calculo de importância baseado na soma do decréscimo médio na impureza de cada árvore.\n",
        "\n",
        "Para utilizá-lo:\n",
        "\n"
      ]
    },
    {
      "cell_type": "code",
      "execution_count": 71,
      "metadata": {
        "colab": {
          "base_uri": "https://localhost:8080/"
        },
        "id": "jFPcNXpUpt7M",
        "outputId": "d8f5d044-f6ad-4ad8-8208-9b12fa5450ea"
      },
      "outputs": [
        {
          "data": {
            "text/html": [
              "<style>#sk-container-id-1 {color: black;background-color: white;}#sk-container-id-1 pre{padding: 0;}#sk-container-id-1 div.sk-toggleable {background-color: white;}#sk-container-id-1 label.sk-toggleable__label {cursor: pointer;display: block;width: 100%;margin-bottom: 0;padding: 0.3em;box-sizing: border-box;text-align: center;}#sk-container-id-1 label.sk-toggleable__label-arrow:before {content: \"▸\";float: left;margin-right: 0.25em;color: #696969;}#sk-container-id-1 label.sk-toggleable__label-arrow:hover:before {color: black;}#sk-container-id-1 div.sk-estimator:hover label.sk-toggleable__label-arrow:before {color: black;}#sk-container-id-1 div.sk-toggleable__content {max-height: 0;max-width: 0;overflow: hidden;text-align: left;background-color: #f0f8ff;}#sk-container-id-1 div.sk-toggleable__content pre {margin: 0.2em;color: black;border-radius: 0.25em;background-color: #f0f8ff;}#sk-container-id-1 input.sk-toggleable__control:checked~div.sk-toggleable__content {max-height: 200px;max-width: 100%;overflow: auto;}#sk-container-id-1 input.sk-toggleable__control:checked~label.sk-toggleable__label-arrow:before {content: \"▾\";}#sk-container-id-1 div.sk-estimator input.sk-toggleable__control:checked~label.sk-toggleable__label {background-color: #d4ebff;}#sk-container-id-1 div.sk-label input.sk-toggleable__control:checked~label.sk-toggleable__label {background-color: #d4ebff;}#sk-container-id-1 input.sk-hidden--visually {border: 0;clip: rect(1px 1px 1px 1px);clip: rect(1px, 1px, 1px, 1px);height: 1px;margin: -1px;overflow: hidden;padding: 0;position: absolute;width: 1px;}#sk-container-id-1 div.sk-estimator {font-family: monospace;background-color: #f0f8ff;border: 1px dotted black;border-radius: 0.25em;box-sizing: border-box;margin-bottom: 0.5em;}#sk-container-id-1 div.sk-estimator:hover {background-color: #d4ebff;}#sk-container-id-1 div.sk-parallel-item::after {content: \"\";width: 100%;border-bottom: 1px solid gray;flex-grow: 1;}#sk-container-id-1 div.sk-label:hover label.sk-toggleable__label {background-color: #d4ebff;}#sk-container-id-1 div.sk-serial::before {content: \"\";position: absolute;border-left: 1px solid gray;box-sizing: border-box;top: 0;bottom: 0;left: 50%;z-index: 0;}#sk-container-id-1 div.sk-serial {display: flex;flex-direction: column;align-items: center;background-color: white;padding-right: 0.2em;padding-left: 0.2em;position: relative;}#sk-container-id-1 div.sk-item {position: relative;z-index: 1;}#sk-container-id-1 div.sk-parallel {display: flex;align-items: stretch;justify-content: center;background-color: white;position: relative;}#sk-container-id-1 div.sk-item::before, #sk-container-id-1 div.sk-parallel-item::before {content: \"\";position: absolute;border-left: 1px solid gray;box-sizing: border-box;top: 0;bottom: 0;left: 50%;z-index: -1;}#sk-container-id-1 div.sk-parallel-item {display: flex;flex-direction: column;z-index: 1;position: relative;background-color: white;}#sk-container-id-1 div.sk-parallel-item:first-child::after {align-self: flex-end;width: 50%;}#sk-container-id-1 div.sk-parallel-item:last-child::after {align-self: flex-start;width: 50%;}#sk-container-id-1 div.sk-parallel-item:only-child::after {width: 0;}#sk-container-id-1 div.sk-dashed-wrapped {border: 1px dashed gray;margin: 0 0.4em 0.5em 0.4em;box-sizing: border-box;padding-bottom: 0.4em;background-color: white;}#sk-container-id-1 div.sk-label label {font-family: monospace;font-weight: bold;display: inline-block;line-height: 1.2em;}#sk-container-id-1 div.sk-label-container {text-align: center;}#sk-container-id-1 div.sk-container {/* jupyter's `normalize.less` sets `[hidden] { display: none; }` but bootstrap.min.css set `[hidden] { display: none !important; }` so we also need the `!important` here to be able to override the default hidden behavior on the sphinx rendered scikit-learn.org. See: https://github.com/scikit-learn/scikit-learn/issues/21755 */display: inline-block !important;position: relative;}#sk-container-id-1 div.sk-text-repr-fallback {display: none;}</style><div id=\"sk-container-id-1\" class=\"sk-top-container\"><div class=\"sk-text-repr-fallback\"><pre>RandomForestClassifier(random_state=42)</pre><b>In a Jupyter environment, please rerun this cell to show the HTML representation or trust the notebook. <br />On GitHub, the HTML representation is unable to render, please try loading this page with nbviewer.org.</b></div><div class=\"sk-container\" hidden><div class=\"sk-item\"><div class=\"sk-estimator sk-toggleable\"><input class=\"sk-toggleable__control sk-hidden--visually\" id=\"sk-estimator-id-1\" type=\"checkbox\" checked><label for=\"sk-estimator-id-1\" class=\"sk-toggleable__label sk-toggleable__label-arrow\">RandomForestClassifier</label><div class=\"sk-toggleable__content\"><pre>RandomForestClassifier(random_state=42)</pre></div></div></div></div></div>"
            ],
            "text/plain": [
              "RandomForestClassifier(random_state=42)"
            ]
          },
          "execution_count": 71,
          "metadata": {},
          "output_type": "execute_result"
        }
      ],
      "source": [
        "from sklearn.datasets import load_iris\n",
        "\n",
        "dataset = load_iris()\n",
        "\n",
        "# Não me julguem por usar o conjunto inteiro, o propósito é fazer algo didático\n",
        "rf = RandomForestClassifier(random_state=42)\n",
        "rf.fit(dataset.data, dataset.target)"
      ]
    },
    {
      "cell_type": "code",
      "execution_count": 72,
      "metadata": {
        "colab": {
          "base_uri": "https://localhost:8080/",
          "height": 297
        },
        "id": "pZAX0Gbfphve",
        "outputId": "6304efcd-9330-4c38-eaa0-f7dbf39d5ed4"
      },
      "outputs": [
        {
          "data": {
            "image/png": "[encoded data removed]",
            "text/plain": [
              "<Figure size 640x480 with 1 Axes>"
            ]
          },
          "metadata": {},
          "output_type": "display_data"
        }
      ],
      "source": [
        "import pandas as pd\n",
        "\n",
        "importances = rf.feature_importances_\n",
        "\n",
        "# Opcional, mas interessante\n",
        "std = np.std([tree.feature_importances_ for tree in rf.estimators_], axis=0)\n",
        "\n",
        "importances = pd.Series(importances, index=dataset.feature_names)\n",
        "\n",
        "fig, ax = plt.subplots()\n",
        "importances.plot.bar(yerr=std, ax=ax)\n",
        "ax.set_title(\"Feature importance\")\n",
        "ax.set_ylabel(\"Mean decrease in impurity\")\n",
        "fig.tight_layout()"
      ]
    },
    {
      "cell_type": "markdown",
      "metadata": {
        "id": "Diz7lxbEnPP2"
      },
      "source": [
        "Eu vou descrever uma alternativa mais custosa, porém mais confiável. Esse algoritmo para cálculo de importância das features é descrito no artigo do Breiman, onde as Random Forest (também) foram introduzidas.\n",
        "\n",
        "---\n",
        "\n",
        "O Bagging nos dá algo de brinde:\n",
        "\n",
        "- Cada árvore tem um conjunto de amostras que nunca foi utilizado para treino: amostras Out-of-Bag (OOB).\n",
        "- Com as amostras OOB podemos calcular OOBE (e essa estimativa não é enviesada, como treinar e testar com os mesmos dados!)\n",
        "\n",
        "Com esses ingredientes, podemos dar um passo além e estimarmos uma medida de importância de feature:\n",
        "\n",
        "**RF Feature Importance (Permutation):**\n",
        "\n",
        "1. Para cada feature:\n",
        "    1. Calcule o OOBE\n",
        "    2. Permute os valores da feature aleatoriamente\n",
        "    3. Recalcule o OOBE para os dados permutados\n",
        "    4. Calcule a diferença\n",
        "2. (Opcional) Normalize os valores obtidos\n",
        "\n",
        "O `sklearn` não implementa essa opção diretamente. A implementação padrão de RF no R tem essa opção.\n",
        "\n",
        "No entanto, podemos simular algo parecido essa estratégia utilizando a função `permutation_importance` ([link](https://scikit-learn.org/stable/modules/generated/sklearn.inspection.permutation_importance.html)), que está disponível no módulo `inspection` do `sklearn`. No entanto, precisamos passar um conjunto de testes para o cálculo das importâncias."
      ]
    },
    {
      "attachments": {},
      "cell_type": "markdown",
      "metadata": {
        "id": "KkCbtiLLrZuc"
      },
      "source": [
        "## 6.3. E dá para \"bagunçar\" mais?\n",
        "\n",
        "Até agora a nossa \"receita\" de ensemble inclui:\n",
        "\n",
        "- `n_estimators` preditores com alta variância (de preferência árvores de decisão)\n",
        "- bagging\n",
        "- sub-amostragem (local, no caso de árvores) de features\n",
        "\n",
        "No caso da RF, temos que em cada split um novo sub-conjunto de features é amostrado e o melhor ponto, dentre a melhor das features é selecionada para criar um nó de decisão.\n",
        "\n",
        "Como poderíamos deixar mais aleatório esse processo?\n",
        "\n",
        "> Extra Trees!\n",
        "\n",
        "- Usa sub-conjuntos de features assim como a RF, no entanto, os pontos de split também são aleatórios!\n",
        "- Escolhe o melhor ponto aleatório de split no sub-conjunto de features selecionadas "
      ]
    },
    {
      "cell_type": "code",
      "execution_count": 73,
      "metadata": {
        "colab": {
          "base_uri": "https://localhost:8080/"
        },
        "id": "Kp3CZHCepdkb",
        "outputId": "b8103512-6009-41d0-d187-105f411e6dc4"
      },
      "outputs": [
        {
          "data": {
            "text/plain": [
              "(0.9600000000000002, 0.05333333333333332)"
            ]
          },
          "execution_count": 73,
          "metadata": {},
          "output_type": "execute_result"
        }
      ],
      "source": [
        "from sklearn.ensemble import ExtraTreesClassifier\n",
        "\n",
        "accs = cross_val_score(\n",
        "    ExtraTreesClassifier(\n",
        "        random_state=42,\n",
        "        max_features=\"sqrt\",\n",
        "    ),\n",
        "    X=dataset.data,\n",
        "    y=dataset.target,\n",
        "    cv=kf,\n",
        "    scoring=\"accuracy\"\n",
        ")\n",
        "np.mean(accs), np.std(accs)"
      ]
    },
    {
      "cell_type": "markdown",
      "metadata": {
        "id": "rcJsAYkgmzb9"
      },
      "source": [
        "Por padrão, as Extra Trees não usam Bagging (bootstrap sampling). Mas esse padrão pode ser modificado:"
      ]
    },
    {
      "cell_type": "code",
      "execution_count": 76,
      "metadata": {
        "colab": {
          "base_uri": "https://localhost:8080/"
        },
        "id": "lVadKlmWm7Mo",
        "outputId": "680f57b6-873d-4060-b656-1742d42e4451"
      },
      "outputs": [
        {
          "data": {
            "text/plain": [
              "(0.9600000000000002, 0.05333333333333332)"
            ]
          },
          "execution_count": 76,
          "metadata": {},
          "output_type": "execute_result"
        }
      ],
      "source": [
        "accs = cross_val_score(\n",
        "    ExtraTreesClassifier(\n",
        "        random_state=42,\n",
        "        bootstrap=True,\n",
        "        max_features=\"sqrt\"\n",
        "        \n",
        "    ),\n",
        "    X=dataset.data,\n",
        "    y=dataset.target,\n",
        "    cv=kf,\n",
        "    scoring=\"accuracy\"\n",
        ")\n",
        "np.mean(accs), np.std(accs)"
      ]
    },
    {
      "cell_type": "markdown",
      "metadata": {
        "id": "GCRGdrhXn1CH"
      },
      "source": [
        "Qual é o impacto da mudança na estratégia de particionamento das árvores?"
      ]
    },
    {
      "cell_type": "code",
      "execution_count": 77,
      "metadata": {
        "id": "5220lXGbpbbf"
      },
      "outputs": [],
      "source": [
        "from sklearn.datasets import make_classification\n",
        "\n",
        "X, y = make_classification(\n",
        "    n_samples=5000, n_features=20, n_classes=5, n_informative=15,\n",
        "    random_state=8\n",
        ")"
      ]
    },
    {
      "cell_type": "code",
      "execution_count": 78,
      "metadata": {
        "colab": {
          "base_uri": "https://localhost:8080/"
        },
        "id": "zuoTsKopn8y8",
        "outputId": "e8a3f806-7ad8-493d-d9d4-cba1819ea0a9"
      },
      "outputs": [
        {
          "name": "stdout",
          "output_type": "stream",
          "text": [
            "1.9 s ± 21 ms per loop (mean ± std. dev. of 7 runs, 1 loop each)\n"
          ]
        }
      ],
      "source": [
        "%%timeit\n",
        "\n",
        "rf = RandomForestClassifier(random_state=42)\n",
        "rf.fit(X, y)"
      ]
    },
    {
      "cell_type": "code",
      "execution_count": 79,
      "metadata": {
        "colab": {
          "base_uri": "https://localhost:8080/"
        },
        "id": "rvnwiLNQoJxy",
        "outputId": "6ebb602a-a343-4cc6-c929-32693913ba9d"
      },
      "outputs": [
        {
          "name": "stdout",
          "output_type": "stream",
          "text": [
            "558 ms ± 16.8 ms per loop (mean ± std. dev. of 7 runs, 1 loop each)\n"
          ]
        }
      ],
      "source": [
        "%%timeit\n",
        "\n",
        "xt = ExtraTreesClassifier(random_state=42)\n",
        "xt.fit(X, y)"
      ]
    },
    {
      "attachments": {},
      "cell_type": "markdown",
      "metadata": {},
      "source": [
        "# Tarefa\n",
        "\n",
        "1. Descreva, com suas palavras, os \"ingredientes necessários\" para se compor um ensemble de forca eficaz. Considere formas de se perturbar os dados e as características dos modelos."
      ]
    },
    {
      "attachments": {},
      "cell_type": "markdown",
      "metadata": {},
      "source": [
        "**R:**"
      ]
    },
    {
      "attachments": {},
      "cell_type": "markdown",
      "metadata": {},
      "source": [
        "2. Por quais razões tanto a utilização de árvores muito rasas quanto adição de muitas árvores não é benéfica para a Random Forest?"
      ]
    },
    {
      "attachments": {},
      "cell_type": "markdown",
      "metadata": {},
      "source": [
        "R:"
      ]
    }
  ],
  "metadata": {
    "colab": {
      "provenance": [],
      "toc_visible": true
    },
    "kernelspec": {
      "display_name": "uel",
      "language": "python",
      "name": "python3"
    },
    "language_info": {
      "codemirror_mode": {
        "name": "ipython",
        "version": 3
      },
      "file_extension": ".py",
      "mimetype": "text/x-python",
      "name": "python",
      "nbconvert_exporter": "python",
      "pygments_lexer": "ipython3",
      "version": "3.9.16"
    },
    "vscode": {
      "interpreter": {
        "hash": "50aa852a78ef4844d3dce0a45110254dc20f9eb89368e7d8efa28a96e2a88a01"
      }
    }
  },
  "nbformat": 4,
  "nbformat_minor": 0
}
