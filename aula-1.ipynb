{
 "cells": [
  {
   "cell_type": "markdown",
   "metadata": {},
   "source": [
    "# Aula 1\n",
    "\n",
    "---\n",
    "\n",
    "**Saulo Martiello Mastelini**<br>\n",
    "Candidato a Ph.D. pelo ICMC-USP<br>\n",
    "Online Machine Learning\n",
    "\n",
    "Página pessoal: [smastelini](https://smastelini.github.io/)</br>\n",
    "e-mail: saulomastelini@gmail.com\n",
    "\n",
    "---\n",
    "\n",
    "## Sumário:\n",
    "\n",
    "- Introdução a data science\n",
    "- Python e bibliotecas úteis\n",
    "- O pipeline de data science\n",
    "- Tarefas preditivas\n",
    "- Exploratory Data Analysis (EDA)\n",
    "\n",
    "---\n",
    "\n",
    "# 1. Data Science\n",
    "\n",
    "- Muito se fala sobre isso\n",
    "- \"Todo mundo quer usar\"\n",
    "- Mas o que é?\n",
    "    - Várias definições\n",
    "    - Minha definição: _Aplicação de **técnicas multidisciplinares** para **extração de conhecimento** de **dados**._\n",
    "\n",
    "Vamos analisar alguns pontos dessa definição:\n",
    "\n",
    "## 1.1. Técnicas multidisciplinares\n",
    "\n",
    "- Matemática aplicada\n",
    "- Estatística\n",
    "- Inteligência Artificial (IA)\n",
    "- Banco de dados\n",
    "- ... e assim por diante\n",
    "\n",
    "<img title=\"Data science\" src=\"img/a1/ds.png\" height=\"500\">\n",
    "    <figcaption>Fonte: Michael Barber, via Towards Data Science</figcaption>\n",
    "</img>\n",
    "\n",
    "- Eu havia mencionado IA e não ML. E agora?\n",
    "- ML é uma subárea de IA\n",
    "- IA engloba múltiplas técnicas além de ML:\n",
    "    - Algoritmos de busca\n",
    "    - Algoritmos genéticos\n",
    "    - Para citar alguns\n",
    "\n",
    "<img title=\"IA, ML e deep learning\" src=\"img/a1/ai-ml.png\" height=\"500\">\n",
    "    <figcaption>Fonte: Singapure Computer Society</figcaption>\n",
    "</img>\n",
    "\n",
    "- Mas o que é ML?\n",
    "\n",
    "> _\"Machine Learning is a field of computer science that focuses on the development of algorithms and statistical models that enable computers to learn from data and make predictions or decisions without being explicitly programmed to do so. It involves using techniques such as supervised learning, unsupervised learning, and reinforcement learning to build models that can improve and adapt over time based on experience.\"_ ChatGPT\n"
   ]
  },
  {
   "cell_type": "markdown",
   "metadata": {},
   "source": [
    "## 1.2. Extração de conhecimento\n",
    "\n",
    "- O que pode ser conhecimento nesse caso?\n",
    "- Dados quantitativos e qualitativos\n",
    "    - Indicadores\n",
    "    - Previsões para apoio à decisão\n",
    "    - Automação\n",
    "    - Design\n",
    "    - O céu é o limite!"
   ]
  },
  {
   "cell_type": "markdown",
   "metadata": {},
   "source": [
    "## 1.3. Dados\n",
    "\n",
    "> \"O pretóleo do século XXI\"\n",
    "\n",
    "- Dado é um termo genérico\n",
    "- Categorização em dados estruturados e não-estruturados\n",
    "\n",
    "### 1.3.1. Dados estruturados\n",
    "\n",
    "- Dados com uma estrutura rígida e pré-definida\n",
    "- Ex: planilha de dados do _Excel_\n",
    "    - Linhas representam entradas individuais\n",
    "    - Colunas representam atributos das entradas\n",
    "        - _Features_\n",
    "\n",
    "<img src=\"img/a1/planilha.png\" height=\"300\">\n",
    "    <figcaption>Uma planilha (vazia)</figcaption>\n",
    "</img>\n",
    "\n",
    "#### 1.3.1.1. Tipo\n",
    "\n",
    "- Diz respeito a quantização dos dados\n",
    "- Os dados podem ser:\n",
    "    - Qualitativos (simbólicos):\n",
    "        - Relacionado a uma categoria\n",
    "        - Sem ordenação\n",
    "            - Ex: verde, azul, amarelo\n",
    "        - Com ordenação:\n",
    "            - Frio, Morno, Quente\n",
    "    - Quantitivos ou numéricos\n",
    "        - Contínuos ou discretos\n",
    "        - Ex: temperatura, altitude, idade, etc.\n",
    "\n",
    "#### 1.3.1.2. Escala\n",
    "\n",
    "- Diz respeito a significância dos valores\n",
    "- Tipos de escala:\n",
    "    - Nominal: não possuem ordenação, nem outra forma de comparação. Por ex: CPF ou comida favorita\n",
    "    - Ordinal: possuem ordenação implícita, mas não valores absolutos. Ex: frio, morno ou quente.\n",
    "    - Intervalar: possuem uma escala pré-definida e a ordem indica a magnitude. Ex: temperatura.\n",
    "    - Racional: o seu valor em si mesmo possui significado. Ex: saldo no banco.\n",
    "\n",
    "#### 1.3.1.3. Na prática\n",
    "\n",
    "- Dados nominais (categóricos)\n",
    "- Dados numéricos\n",
    "\n",
    "### 1.3.2. Dados não-estruturados\n",
    "\n",
    "- Não possuem uma estrutura definida e rígida\n",
    "- Exemplos:\n",
    "    - Texto\n",
    "    - Imagens\n",
    "    - Vídeo\n",
    "- Para aplicar ML em dados não-estruturados é comum que seja necessário primeiramente estruturá-los\n",
    "- Processo também chamado de extração de features (mais sobre isso no futuro)\n",
    "- Exemplo:\n",
    "\n",
    "<img src=\"img/a1/bag.png\" width=\"700\">\n",
    "    <figcaption>Fonte: vitalflux.com</figcaption>\n",
    "</img>\n",
    "\n",
    "\n",
    "- O grande trunfo de deep learning é automatizar a extração de features\n",
    "    - Não requer intervenção humana\n",
    "    - Requer grandes quantidades de dados\n",
    "    - Alto custo computacional"
   ]
  },
  {
   "cell_type": "markdown",
   "metadata": {},
   "source": [
    "# 2. O pipeline típico de data science\n",
    "\n",
    "Tudo em computação é sobre algoritmos. Sejam eles programados ou procedimentos metodológicos seguidos para a resolução de um problema.\n",
    "\n",
    "Em data science isso não é diferente. Essa figura exemplifica passos corriqueiros no desenvolvimento de uma aplicação de data science:\n",
    "\n",
    "<img src=\"img/a1/pipeline.png\" height=\"550\">\n",
    "    <figcaption>Um pipeline usual de data science. Fonte: Sudeep Agarwal</figcaption>\n",
    "</img>\n",
    "\n",
    "- Nessa disciplina nós focaremos nos passos 3-7, com especial enfoque no passo 6.\n",
    "- Na parte prática de hoje, nós focaremos, de forma introdutória nos passos 3 e 4.\n",
    "\n",
    "#### Na prática\n",
    "\n",
    "- A figura acima é muito bonita e vende bem, mas na prática, gosto de pensar no pipeline, ou seja, o conjunto de passos, da seguinte forma:\n",
    "\n",
    "\n",
    "<img src=\"img/a1/pipeline-custom.png\" width=\"1100\">\n",
    "    <figcaption>Minha visão pessoal sobre um pipeline de data science</figcaption>\n",
    "</img>"
   ]
  },
  {
   "cell_type": "markdown",
   "metadata": {},
   "source": [
    "# 3. Machine Learning e aprendizado preditivo\n",
    "\n",
    "- Objetivo: treinar um modelo computacional que desempenhará tarefas que requerem inteligência, pelo menos no quesito tomada de decisão.\n",
    "- Hollywood vs. vida real:\n",
    "    - Automatizar tarefas repetitivas e dispendiosas\n",
    "    - Substituir a atuação humana em tarefas de risco ou em locais de dificil acesso\n",
    "    - Aumentar a velocidade do processo de decisão\n",
    "\n",
    "- Desvantagens que o ser humano tem frente a uma IA:\n",
    "    - O ser humano se cansa\n",
    "    - Fica entediado\n",
    "    - Estressado e saturado\n",
    "    - Seu estado de humor e mental pode influenciar no resultado de uma ação\n",
    "- No fim das contas, o que queremos é permitir que o especialista fique focado em tarefas que realmente requerem sua expertise\n",
    "\n",
    "- Algoritmo vs. modelo:\n",
    "    - Um algoritmo de ML gera um modelo treinado\n",
    "\n",
    "\n",
    "## 3.1. Tarefas preditivas\n",
    "\n",
    "- Treinar modelo de ML para desempenhar uma tarefa\n",
    "    - Onde esperamos que a máquina nos dê algum tipo de resposta, feedback, ou saída para os dados de entrada\n",
    "- Temos três tipos principais de tarefas preditivas. São as tarefas de:\n",
    "    1. Aprendizado supervisionado\n",
    "    2. Aprendizado semi-supervisionado\n",
    "    3. Aprendizado não-supervisionado\n",
    "\n",
    "### 3.1.2. Aprendizado supervisionado\n",
    "\n",
    "- Considere:\n",
    "    - $\\mathbf{X}$: Conjunto de atributos (ou _features_)\n",
    "    - $\\mathbf{y}$: conjunto de labels\n",
    "    - $\\mathbf{x} \\in \\mathbf{X}$: uma entrada no conjunto de instâncias do problema\n",
    "    - $x_j$: o valor do $j$-ésimo atributo na instância $\\mathbf{x}$\n",
    "    - $y \\in \\mathbf{y}$: uma observação no conjunto de rótulos (ou _labels_)\n",
    "- Queremos encontrar uma função: $f(x) \\rightarrow y$\n",
    "    - Por exemplo: prever o movimento dos mecanismos de controle de um veículo voador\n",
    "- Supervisor, ou professor, que passa a saída esperada ($\\mathbf{y}$) para a entrada ($\\mathbf{X}$)\n",
    "- ML supervisionado:\n",
    "    - Classificação: label é categoria\n",
    "    - Regressão: label assume valor numérico\n",
    "\n",
    "### 3.1.2. Aprendizado semi-supervisionado\n",
    "\n",
    "- Parte dos dados tem label\n",
    "- Objetivo: desenvolver algoritmos ou técnicas para aproveitar tanto os dados com label, quanto os sem label\n",
    "\n",
    "### 3.1.3. Aprendizado não-supervisionado\n",
    "\n",
    "- Não existe o conceito de label\n",
    "- Foco em extrair conhecimento dos dados\n",
    "- Por exemplo: agrupamento (clusterização), extração de tópicos, entre outros"
   ]
  },
  {
   "cell_type": "markdown",
   "metadata": {},
   "source": [
    "# 4. Preparação\n",
    "\n",
    "Utilizaremos o jupyter notebook para criar arquivos interativos que podem combinar código e texto. Esses arquivos serão compartilhados (em geral) no começo das aulas, para que possam acompanhar a execução dos códigos e melhor entender o conteúdo apresentado.\n",
    "\n",
    "Passos (ler observação no final):\n",
    "\n",
    "1. Instalar o miniconda: [website](https://docs.conda.io/en/latest/miniconda.html)\n",
    "2. Criar uma pasta para as aulas da disciplina\n",
    "3. Salvar o conteúdo a seguir como um arquivo chamado `environment.yml`, dentro da pasta criada\n",
    "  - Atenção na extensão do arquivo"
   ]
  },
  {
   "cell_type": "markdown",
   "metadata": {},
   "source": [
    "```yml\n",
    "\n",
    "name: uel\n",
    "channels:\n",
    "  - defaults\n",
    "dependencies:\n",
    "  - ca-certificates=2023.01.10=haa95532_0\n",
    "  - certifi=2022.12.7=py39haa95532_0\n",
    "  - openssl=1.1.1t=h2bbff1b_0\n",
    "  - pip=22.3.1=py39haa95532_0\n",
    "  - python=3.9.16=h6244533_0\n",
    "  - setuptools=65.6.3=py39haa95532_0\n",
    "  - sqlite=3.40.1=h2bbff1b_0\n",
    "  - vc=14.2=h21ff451_1\n",
    "  - vs2015_runtime=14.27.29016=h5e58377_2\n",
    "  - wheel=0.38.4=py39haa95532_0\n",
    "  - wincertstore=0.2=py39haa95532_2\n",
    "  - pip:\n",
    "      - altair==4.2.2\n",
    "      - anyio==3.6.2\n",
    "      - argon2-cffi==21.3.0\n",
    "      - argon2-cffi-bindings==21.2.0\n",
    "      - arrow==1.2.3\n",
    "      - asttokens==2.2.1\n",
    "      - attrs==22.2.0\n",
    "      - backcall==0.2.0\n",
    "      - beautifulsoup4==4.11.2\n",
    "      - bleach==6.0.0\n",
    "      - blinker==1.5\n",
    "      - cachetools==5.3.0\n",
    "      - cffi==1.15.1\n",
    "      - charset-normalizer==3.0.1\n",
    "      - click==8.1.3\n",
    "      - colorama==0.4.6\n",
    "      - comm==0.1.2\n",
    "      - contourpy==1.0.7\n",
    "      - cycler==0.11.0\n",
    "      - debugpy==1.6.6\n",
    "      - decorator==5.1.1\n",
    "      - defusedxml==0.7.1\n",
    "      - entrypoints==0.4\n",
    "      - executing==1.2.0\n",
    "      - fastjsonschema==2.16.3\n",
    "      - fonttools==4.38.0\n",
    "      - fqdn==1.5.1\n",
    "      - gitdb==4.0.10\n",
    "      - gitpython==3.1.31\n",
    "      - idna==3.4\n",
    "      - importlib-metadata==6.0.0\n",
    "      - importlib-resources==5.12.0\n",
    "      - ipykernel==6.21.2\n",
    "      - ipython==8.10.0\n",
    "      - ipython-genutils==0.2.0\n",
    "      - ipywidgets==8.0.4\n",
    "      - isoduration==20.11.0\n",
    "      - jedi==0.18.2\n",
    "      - jinja2==3.1.2\n",
    "      - joblib==1.2.0\n",
    "      - jsonpointer==2.3\n",
    "      - jsonschema==4.17.3\n",
    "      - jupyter==1.0.0\n",
    "      - jupyter-client==8.0.3\n",
    "      - jupyter-console==6.6.1\n",
    "      - jupyter-core==5.2.0\n",
    "      - jupyter-events==0.6.3\n",
    "      - jupyter-server==2.3.0\n",
    "      - jupyter-server-terminals==0.4.4\n",
    "      - jupyterlab-pygments==0.2.2\n",
    "      - jupyterlab-widgets==3.0.5\n",
    "      - kiwisolver==1.4.4\n",
    "      - lightgbm==3.3.5\n",
    "      - markdown-it-py==2.2.0\n",
    "      - markupsafe==2.1.2\n",
    "      - matplotlib==3.7.0\n",
    "      - matplotlib-inline==0.1.6\n",
    "      - mdurl==0.1.2\n",
    "      - mistune==2.0.5\n",
    "      - nbclassic==0.5.2\n",
    "      - nbclient==0.7.2\n",
    "      - nbconvert==7.2.9\n",
    "      - nbformat==5.7.3\n",
    "      - nest-asyncio==1.5.6\n",
    "      - notebook==6.5.2\n",
    "      - notebook-shim==0.2.2\n",
    "      - numpy==1.24.2\n",
    "      - packaging==23.0\n",
    "      - pandas==1.5.3\n",
    "      - pandocfilters==1.5.0\n",
    "      - parso==0.8.3\n",
    "      - pickleshare==0.7.5\n",
    "      - pillow==9.4.0\n",
    "      - platformdirs==3.0.0\n",
    "      - plotly==5.13.1\n",
    "      - prometheus-client==0.16.0\n",
    "      - prompt-toolkit==3.0.37\n",
    "      - protobuf==3.20.3\n",
    "      - psutil==5.9.4\n",
    "      - pure-eval==0.2.2\n",
    "      - pyarrow==11.0.0\n",
    "      - pycparser==2.21\n",
    "      - pydeck==0.8.0\n",
    "      - pygments==2.14.0\n",
    "      - pympler==1.0.1\n",
    "      - pyparsing==3.0.9\n",
    "      - pyrsistent==0.19.3\n",
    "      - python-dateutil==2.8.2\n",
    "      - python-json-logger==2.0.7\n",
    "      - pytz==2022.7.1\n",
    "      - pytz-deprecation-shim==0.1.0.post0\n",
    "      - pywin32==305\n",
    "      - pywinpty==2.0.10\n",
    "      - pyyaml==6.0\n",
    "      - pyzmq==25.0.0\n",
    "      - qtconsole==5.4.0\n",
    "      - qtpy==2.3.0\n",
    "      - requests==2.28.2\n",
    "      - rfc3339-validator==0.1.4\n",
    "      - rfc3986-validator==0.1.1\n",
    "      - rich==13.3.1\n",
    "      - scikit-learn==1.2.1\n",
    "      - scipy==1.10.1\n",
    "      - seaborn==0.12.2\n",
    "      - semver==2.13.0\n",
    "      - send2trash==1.8.0\n",
    "      - six==1.16.0\n",
    "      - smmap==5.0.0\n",
    "      - sniffio==1.3.0\n",
    "      - soupsieve==2.4\n",
    "      - stack-data==0.6.2\n",
    "      - streamlit==1.19.0\n",
    "      - tenacity==8.2.1\n",
    "      - terminado==0.17.1\n",
    "      - threadpoolctl==3.1.0\n",
    "      - tinycss2==1.2.1\n",
    "      - toml==0.10.2\n",
    "      - toolz==0.12.0\n",
    "      - tornado==6.2\n",
    "      - traitlets==5.9.0\n",
    "      - typing-extensions==4.5.0\n",
    "      - tzdata==2022.7\n",
    "      - tzlocal==4.2\n",
    "      - uri-template==1.2.0\n",
    "      - urllib3==1.26.14\n",
    "      - validators==0.20.0\n",
    "      - watchdog==2.3.0\n",
    "      - wcwidth==0.2.6\n",
    "      - webcolors==1.12\n",
    "      - webencodings==0.5.1\n",
    "      - websocket-client==1.5.1\n",
    "      - widgetsnbextension==4.0.5\n",
    "      - zipp==3.15.0\n",
    "\n",
    "```"
   ]
  },
  {
   "cell_type": "markdown",
   "metadata": {},
   "source": [
    "4. Abrir um terminal adequado para manipular o anaconda/miniconda:\n",
    "  - No Windows: anaconda powershell\n",
    "  - No Linux e Mac: o terminal padrão do sistema\n",
    "5. Navegar no terminal até a pasta criada (alternativamente, o terminal pode ser aberto diretamente na pasta)\n",
    "6. Executar o seguinte comando: `conda env create -f environment.yml`\n",
    "\n",
    "A partir daqui, os passos serão utilizados toda vez que formos utilizar os notebooks jupyter:\n",
    "\n",
    "7. Com o terminal aberto na pasta das aulas, rodar o seguinte comando para ativar o ambiente de programação criado: `conda activate uel`\n",
    "8. Abrir o ambiente do jupyter notebook, rodando o seguinte comando: `jupyter notebook`\n",
    "\n",
    "> **Obs:** pode ser que seja necessário fechar e reabrir o terminal após a execução do passo 1, para que os passos posteriores funcionem corretamente\n",
    "\n",
    "Vamos iniciar a parte prática de hoje.\n"
   ]
  },
  {
   "cell_type": "markdown",
   "metadata": {},
   "source": [
    "# 5. Exploratory Data Analysis\n",
    "\n"
   ]
  },
  {
   "cell_type": "code",
   "execution_count": null,
   "metadata": {},
   "outputs": [],
   "source": [
    "import pandas as pd"
   ]
  },
  {
   "cell_type": "code",
   "execution_count": null,
   "metadata": {},
   "outputs": [],
   "source": [
    "# Leitura dos dados\n",
    "df = pd.read_csv(\"data/a1/iris.csv\")\n",
    "\n",
    "# Retorna os primeiros elementos do Data Frame, com a \n",
    "# opção de especificar a quantidade de linhas desejadas\n",
    "df.head()\n",
    "\n",
    "# df.tail(n_linhas) retorna os últimos elementos"
   ]
  },
  {
   "cell_type": "markdown",
   "metadata": {},
   "source": [
    "---\n",
    "\n",
    "#### Interlúdio: Acesso a dados no pandas"
   ]
  },
  {
   "cell_type": "code",
   "execution_count": null,
   "metadata": {},
   "outputs": [],
   "source": [
    "df.columns"
   ]
  },
  {
   "cell_type": "code",
   "execution_count": null,
   "metadata": {},
   "outputs": [],
   "source": [
    "# Acesso via índice\n",
    "df.iloc[0, 1]"
   ]
  },
  {
   "cell_type": "code",
   "execution_count": null,
   "metadata": {},
   "outputs": [],
   "source": [
    "df.iloc[:, 2]"
   ]
  },
  {
   "cell_type": "code",
   "execution_count": null,
   "metadata": {},
   "outputs": [],
   "source": [
    "df.iloc[1, :]"
   ]
  },
  {
   "cell_type": "code",
   "execution_count": null,
   "metadata": {},
   "outputs": [],
   "source": [
    "df[\"petal.length\"]"
   ]
  },
  {
   "cell_type": "code",
   "execution_count": null,
   "metadata": {},
   "outputs": [],
   "source": [
    "df.loc[10, \"petal.length\"]"
   ]
  },
  {
   "cell_type": "markdown",
   "metadata": {},
   "source": [
    "#### Fim do interlúdio\n",
    "\n",
    "---"
   ]
  },
  {
   "cell_type": "code",
   "execution_count": null,
   "metadata": {},
   "outputs": [],
   "source": [
    "df.info()"
   ]
  },
  {
   "cell_type": "code",
   "execution_count": null,
   "metadata": {},
   "outputs": [],
   "source": [
    "df.describe()"
   ]
  },
  {
   "cell_type": "code",
   "execution_count": null,
   "metadata": {},
   "outputs": [],
   "source": [
    "# Converte para categoria\n",
    "df[\"variety\"] = df[\"variety\"].astype(\"category\")\n",
    "df.variety"
   ]
  },
  {
   "cell_type": "code",
   "execution_count": null,
   "metadata": {},
   "outputs": [],
   "source": [
    "df.variety.value_counts().plot.bar()"
   ]
  },
  {
   "cell_type": "code",
   "execution_count": null,
   "metadata": {},
   "outputs": [],
   "source": [
    "# Soma por linha\n",
    "df.isna().sum(axis=0)"
   ]
  },
  {
   "cell_type": "code",
   "execution_count": null,
   "metadata": {},
   "outputs": [],
   "source": [
    "# Soma por coluna\n",
    "df.isna().sum(axis=1)"
   ]
  },
  {
   "cell_type": "code",
   "execution_count": null,
   "metadata": {},
   "outputs": [],
   "source": [
    "# Número de linhas com valores ausentes\n",
    "df.isna().sum().sum()"
   ]
  },
  {
   "cell_type": "markdown",
   "metadata": {},
   "source": [
    "## 5.1 Estatística\n",
    "\n",
    "Momentos centrais estatística:\n",
    "\n",
    "1º: média - centralidade\n",
    "\n",
    "2º: variância -  espalhamento dos dados\n",
    "\n",
    "    - Desvio padrão é a raiz quadrada da variância\n",
    "\n",
    "Medidas de forma:\n",
    "\n",
    "3º skewness ou obliquidade - assimetria\n",
    "\n",
    "<img src=\"img/a1/skew.png\" width=\"700\">\n",
    "    <figcaption>Fonte: Ashish Kumar Singh, via medium</figcaption>\n",
    "</img>\n",
    "\n",
    "4º curtose - mede o \"tamanho da cauda\" da distribuição\n",
    "\n",
    "    - Quão achatada é a distribuição\n",
    "    - Quanto menor, mais achatado\n",
    "\n",
    "Exemplos:"
   ]
  },
  {
   "cell_type": "code",
   "execution_count": null,
   "metadata": {},
   "outputs": [],
   "source": [
    "df[\"sepal.length\"].hist()"
   ]
  },
  {
   "cell_type": "code",
   "execution_count": null,
   "metadata": {},
   "outputs": [],
   "source": [
    "df[\"sepal.length\"].mean()"
   ]
  },
  {
   "cell_type": "code",
   "execution_count": null,
   "metadata": {},
   "outputs": [],
   "source": [
    "df[\"sepal.length\"].var(), df[\"sepal.length\"].std()"
   ]
  },
  {
   "cell_type": "code",
   "execution_count": null,
   "metadata": {},
   "outputs": [],
   "source": [
    "df[\"sepal.length\"].skew()"
   ]
  },
  {
   "cell_type": "code",
   "execution_count": null,
   "metadata": {},
   "outputs": [],
   "source": [
    "df[\"sepal.length\"].kurt()"
   ]
  },
  {
   "cell_type": "code",
   "execution_count": null,
   "metadata": {},
   "outputs": [],
   "source": [
    "df[\"sepal.width\"].hist()"
   ]
  },
  {
   "cell_type": "code",
   "execution_count": null,
   "metadata": {},
   "outputs": [],
   "source": [
    "spw = df[\"sepal.width\"]\n",
    "\n",
    "spw.mean(), spw.var(), spw.skew(), spw.kurt()"
   ]
  },
  {
   "cell_type": "code",
   "execution_count": null,
   "metadata": {},
   "outputs": [],
   "source": [
    "spw.mean() + 3 * spw.std()"
   ]
  },
  {
   "cell_type": "code",
   "execution_count": null,
   "metadata": {},
   "outputs": [],
   "source": [
    "spw.mean() - 3 * spw.std()"
   ]
  },
  {
   "cell_type": "markdown",
   "metadata": {},
   "source": [
    "## 5.2. Visualização de dados"
   ]
  },
  {
   "cell_type": "code",
   "execution_count": null,
   "metadata": {},
   "outputs": [],
   "source": [
    "import plotly.express as px"
   ]
  },
  {
   "cell_type": "code",
   "execution_count": null,
   "metadata": {},
   "outputs": [],
   "source": [
    "combs = set()\n",
    "features = [feature for feature in df.columns if feature != \"variety\"]\n",
    "for f1 in features:\n",
    "    for f2 in features:\n",
    "        if f1 == f2:\n",
    "            continue\n",
    "    \n",
    "        combs.add(tuple(sorted([f1, f2])))\n",
    "\n",
    "figs = []\n",
    "for f1, f2 in combs:\n",
    "    figs.append(px.scatter(df, x=f1, y=f2, color=\"variety\"))"
   ]
  },
  {
   "cell_type": "code",
   "execution_count": null,
   "metadata": {},
   "outputs": [],
   "source": [
    "figs[0].show()"
   ]
  },
  {
   "cell_type": "code",
   "execution_count": null,
   "metadata": {},
   "outputs": [],
   "source": [
    "figs[1].show()"
   ]
  },
  {
   "cell_type": "code",
   "execution_count": null,
   "metadata": {},
   "outputs": [],
   "source": [
    "figs[2].show()"
   ]
  },
  {
   "cell_type": "code",
   "execution_count": null,
   "metadata": {},
   "outputs": [],
   "source": [
    "figs[3].show()"
   ]
  },
  {
   "cell_type": "code",
   "execution_count": null,
   "metadata": {},
   "outputs": [],
   "source": [
    "figs[4].show()"
   ]
  },
  {
   "cell_type": "code",
   "execution_count": null,
   "metadata": {},
   "outputs": [],
   "source": [
    "figs[5].show()"
   ]
  },
  {
   "cell_type": "markdown",
   "metadata": {},
   "source": [
    "## 5.3. Pré-processamento: hora de lidar com a bagunça\n",
    "\n",
    "- Modifiquei o conjunto iris para adicionar alguns problemas"
   ]
  },
  {
   "cell_type": "code",
   "execution_count": null,
   "metadata": {},
   "outputs": [],
   "source": [
    "df_b = pd.read_csv(\"data/a1/iris-bagunca.csv\")"
   ]
  },
  {
   "cell_type": "code",
   "execution_count": null,
   "metadata": {},
   "outputs": [],
   "source": [
    "df_b.info()"
   ]
  },
  {
   "cell_type": "code",
   "execution_count": null,
   "metadata": {},
   "outputs": [],
   "source": [
    "df_b.describe()"
   ]
  },
  {
   "cell_type": "code",
   "execution_count": null,
   "metadata": {},
   "outputs": [],
   "source": [
    "df_b[\"sepal.width\"].values"
   ]
  },
  {
   "cell_type": "code",
   "execution_count": null,
   "metadata": {},
   "outputs": [],
   "source": [
    "# Converte valores para dados numérico\n",
    "\n",
    "df_b[\"sepal.width\"] = pd.to_numeric(df_b[\"sepal.width\"], errors=\"coerce\")\n",
    "df_b[\"sepal.width\"].values"
   ]
  },
  {
   "cell_type": "code",
   "execution_count": null,
   "metadata": {},
   "outputs": [],
   "source": [
    "df_b.describe()"
   ]
  },
  {
   "cell_type": "code",
   "execution_count": null,
   "metadata": {},
   "outputs": [],
   "source": [
    "df_b.isna().sum()"
   ]
  },
  {
   "cell_type": "markdown",
   "metadata": {},
   "source": [
    "### 5.3.1. Opção A: remover todos as linhas com valores faltantes"
   ]
  },
  {
   "cell_type": "code",
   "execution_count": null,
   "metadata": {},
   "outputs": [],
   "source": [
    "df_b.dropna()"
   ]
  },
  {
   "cell_type": "markdown",
   "metadata": {},
   "source": [
    "### 5.3.2. Opção B: preencher os valores faltantes (data imputation)"
   ]
  },
  {
   "cell_type": "code",
   "execution_count": null,
   "metadata": {},
   "outputs": [],
   "source": [
    "# Substituir com valor\n",
    "\n",
    "df_b.fillna(0).isna().sum().sum()"
   ]
  },
  {
   "cell_type": "code",
   "execution_count": null,
   "metadata": {},
   "outputs": [],
   "source": [
    "# Média de cada coluna numérica\n",
    "media_cols = df_b.mean(axis=0, skipna=True, numeric_only=True)\n",
    "media_cols"
   ]
  },
  {
   "cell_type": "code",
   "execution_count": null,
   "metadata": {},
   "outputs": [],
   "source": [
    "df_ok = df_b.fillna(media_cols)"
   ]
  },
  {
   "cell_type": "markdown",
   "metadata": {},
   "source": [
    "Vamos verificar?\n",
    "\n",
    "Seleciona linhas problemáticas:"
   ]
  },
  {
   "cell_type": "code",
   "execution_count": null,
   "metadata": {},
   "outputs": [],
   "source": [
    "problemas = df_b.isna().any(axis=1)\n",
    "problemas\n"
   ]
  },
  {
   "cell_type": "code",
   "execution_count": null,
   "metadata": {},
   "outputs": [],
   "source": [
    "df_b[problemas]"
   ]
  },
  {
   "cell_type": "code",
   "execution_count": null,
   "metadata": {},
   "outputs": [],
   "source": [
    "df_ok[problemas]"
   ]
  },
  {
   "cell_type": "code",
   "execution_count": null,
   "metadata": {},
   "outputs": [],
   "source": [
    "media_cols"
   ]
  },
  {
   "cell_type": "markdown",
   "metadata": {},
   "source": [
    "- Existem outras estratégias para preenchimento de valores faltantes\n",
    "- Por exemplo:\n",
    "    - Interpolação\n",
    "    - Repetir o valor imediatamente anterior ou posterior\n",
    "    - Entre outras\n",
    "- O método `interpolate` do pandas é muito útil para esse tipo de tarefa"
   ]
  },
  {
   "cell_type": "markdown",
   "metadata": {},
   "source": [
    "# Tarefa:\n",
    "\n",
    "---\n",
    "\n",
    "**Requisitos:**\n",
    "\n",
    "- O código deve ser auto-contido. Ou seja, todas as funções, variáveis ou importações de bibliotecas que forem necessárias para a execução do código devem estar contidas nas células a seguir.\n",
    "- A ideia é que eu seja capaz de copiar e colar o conteúdo da célula para testar o seu código.\n",
    "- A nota da atividade levará isso em conta.\n",
    "\n",
    "---\n",
    "\n",
    "1. Preencher as linhas faltantes com a mediana, ao inves da média\n",
    "2. Deixei mais uma inconsistência na base de dados modificada.\n",
    "    - Você consegue identificar?\n",
    "    - [Extra] Como corrigir? Recomendo implementar uma correção utilizando a mesma estratégia que utilizamos até aqui."
   ]
  },
  {
   "cell_type": "code",
   "execution_count": null,
   "metadata": {},
   "outputs": [],
   "source": [
    "# Tarefa 1 aqui"
   ]
  },
  {
   "cell_type": "code",
   "execution_count": null,
   "metadata": {},
   "outputs": [],
   "source": [
    "# Tarefa 2 aqui"
   ]
  }
 ],
 "metadata": {
  "kernelspec": {
   "display_name": "Python 3 (ipykernel)",
   "language": "python",
   "name": "python3"
  },
  "language_info": {
   "codemirror_mode": {
    "name": "ipython",
    "version": 3
   },
   "file_extension": ".py",
   "mimetype": "text/x-python",
   "name": "python",
   "nbconvert_exporter": "python",
   "pygments_lexer": "ipython3",
   "version": "3.9.16"
  },
  "vscode": {
   "interpreter": {
    "hash": "ecc03869faa965a79c0f9cb0e2d41545d4cdd523e34946938b45eb81f66572dd"
   }
  }
 },
 "nbformat": 4,
 "nbformat_minor": 2
}
