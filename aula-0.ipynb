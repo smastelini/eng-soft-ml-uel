{
 "cells": [
  {
   "attachments": {},
   "cell_type": "markdown",
   "metadata": {},
   "source": [
    "# Data Science aplicada a Engenharia de Software\n",
    "\n",
    "---\n",
    "\n",
    "**Saulo Martiello Mastelini**<br>\n",
    "Candidato a Ph.D. pelo ICMC-USP<br>\n",
    "Online Machine Learning\n",
    "\n",
    "Página pessoal: smastelini@github.io</br>\n",
    "e-mail: saulo.mastelini@voltrobotics.com.br\n",
    "\n",
    "---\n",
    "\n",
    "## Objetivos gerais para a diciplina e _overview_ do conteúdo\n",
    "\n",
    "- Providenciar um panorama geral de aplicações e ferramentas de Data Science\n",
    "    - Enfoque em Machine Learning (ML) ou Aprendizado de Máquina\n",
    "- Oferecer embasamento teórico para a escolha e utilização de ferramentas e soluções em ML\n",
    "- Introduzir de forma prática os algoritmos de ML mais populares\n",
    "- Oferecer subsídios teóricos para pautar a escolha das soluções mais adequadas para problemas práticos\n",
    "- Introduzir boas práticas de utilização, comparação e avaliação de algoritmos de ML\n",
    "\n",
    "## Panorama geral da disciplina\n",
    "\n",
    "Serão 9 encontros ao todo, cuja temática está planejada como se segue:\n",
    "\n",
    "- Aula 1:\n",
    "    - Introdução a data science\n",
    "    - Python e bibliotecas úteis\n",
    "    - O pipeline de data science\n",
    "    - Tarefas preditivas\n",
    "    - Exploratory Data Analysis (EDA)\n",
    "- Aula 2:\n",
    "    - k-Nearest Neighbors\n",
    "    - Padronização de variáveis\n",
    "    - Métricas de avaliação: classificação\n",
    "    - Metodologia de avaliação: holdout\n",
    "- Aula 3:\n",
    "    - Naive Bayes\n",
    "    - Validação cruzada\n",
    "    - Processamento de texto\n",
    "- Aula 4:\n",
    "- Aula 5:\n",
    "- Aula 6:\n",
    "- Aula 7:\n",
    "- Aula 8:\n",
    "- Aula 9: \n",
    "\n",
    "## Estilo das aulas:\n",
    "\n",
    "- \n",
    "\n",
    "## Ferramentas:\n",
    "\n",
    "- Python\n",
    "    - Jupyter notebook\n",
    "    - numpy: operações matemáticas e estatísticas\n",
    "    - pandas: manipulação de dados\n",
    "    - scikit-learn: Machine Learning\n",
    "    - matplotlib e plotly: visualização de dados\n",
    "\n",
    "\n",
    "## Bibliografia base e complementar:\n",
    "\n",
    "\n"
   ]
  }
 ],
 "metadata": {
  "kernelspec": {
   "display_name": "river",
   "language": "python",
   "name": "python3"
  },
  "language_info": {
   "name": "python",
   "version": "3.10.8 (main, Nov 24 2022, 08:08:27) [Clang 14.0.6 ]"
  },
  "orig_nbformat": 4,
  "vscode": {
   "interpreter": {
    "hash": "b27b2a9f272874e098660428b28f5afa65c7850d82ff592660d49a141d883cd1"
   }
  }
 },
 "nbformat": 4,
 "nbformat_minor": 2
}
